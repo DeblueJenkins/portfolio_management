{
 "cells": [
  {
   "cell_type": "code",
   "execution_count": 106,
   "id": "3933fb11",
   "metadata": {},
   "outputs": [],
   "source": [
    "from scipy import stats\n",
    "import seaborn as sns\n",
    "import matplotlib.pyplot as plt\n",
    "from scipy.linalg import svd\n",
    "import numpy as np\n",
    "from sklearn.linear_model import LinearRegression\n",
    "from sklearn.covariance import LedoitWolf, EmpiricalCovariance, MinCovDet\n",
    "import time\n",
    "import pandas as pd"
   ]
  },
  {
   "cell_type": "code",
   "execution_count": 159,
   "id": "2e9bd252",
   "metadata": {},
   "outputs": [],
   "source": [
    "corr = np.array([\n",
    "    [1, 0.62, 0.76],\n",
    "    [0.62, 1, 0.87],\n",
    "    [0.76, 0.87, 1]\n",
    "])\n",
    "vol = np.array([0.15, 0.18, 0.21])\n",
    "var = vol ** 2\n",
    "mu = np.array([0.2, 0.5, -0.07])\n",
    "df = 25\n",
    "n_data = 2000"
   ]
  },
  {
   "cell_type": "code",
   "execution_count": 5,
   "id": "b659a20e",
   "metadata": {},
   "outputs": [
    {
     "data": {
      "text/plain": [
       "array([0.0225, 0.0324, 0.0441])"
      ]
     },
     "execution_count": 5,
     "metadata": {},
     "output_type": "execute_result"
    }
   ],
   "source": [
    "var"
   ]
  },
  {
   "cell_type": "code",
   "execution_count": 6,
   "id": "6621f53e",
   "metadata": {},
   "outputs": [],
   "source": [
    "s = np.outer(var, var) * corr"
   ]
  },
  {
   "cell_type": "code",
   "execution_count": 7,
   "id": "e7b377ba",
   "metadata": {},
   "outputs": [
    {
     "data": {
      "text/plain": [
       "array([[0.00050625, 0.00045198, 0.00075411],\n",
       "       [0.00045198, 0.00104976, 0.00124309],\n",
       "       [0.00075411, 0.00124309, 0.00194481]])"
      ]
     },
     "execution_count": 7,
     "metadata": {},
     "output_type": "execute_result"
    }
   ],
   "source": [
    "s"
   ]
  },
  {
   "cell_type": "code",
   "execution_count": 8,
   "id": "5d1ffcf3",
   "metadata": {},
   "outputs": [],
   "source": [
    "# This is an experiment for how precise the MLE covariance is\n",
    "# Conclusion: there's quite variability in sampling"
   ]
  },
  {
   "cell_type": "code",
   "execution_count": 9,
   "id": "98497051",
   "metadata": {},
   "outputs": [],
   "source": [
    "def get_sampling_error(estimator, mu, s, n_trials=1000, n_data=5000, dist='normal', df=None):\n",
    "\n",
    "    distance = []\n",
    "    cov_gen = []\n",
    "    \n",
    "    \n",
    "    for i in range(n_trials):\n",
    "#         if i % 100 == 0:\n",
    "#             print(np.round(i/n_trials,3))\n",
    "        if dist == 'normal':\n",
    "            data = stats.multivariate_normal.rvs(mean=mu, cov=s, size=n_data)\n",
    "        elif dist == 't':\n",
    "            data = stats.multivariate_t.rvs(loc=mu, shape=s, size=n_data, df=df)\n",
    "        else:\n",
    "            raise Exception('method can be either normal or t')\n",
    "        cov = estimator(data)\n",
    "        cov_gen.append(cov)\n",
    "        mae = np.sum(np.abs((cov - s) / s))\n",
    "        distance.append(mae)\n",
    "        \n",
    "    return distance, cov_gen"
   ]
  },
  {
   "cell_type": "code",
   "execution_count": 11,
   "id": "d85ddd14",
   "metadata": {
    "scrolled": true
   },
   "outputs": [],
   "source": [
    "mle = lambda x: np.cov(x.T)\n",
    "distance_mle, cov_gen_mle = get_sampling_error(mle, mu, s, dist='t', df=20)\n",
    "ledoit_wolf = lambda x: LedoitWolf().fit(x).covariance_\n",
    "distance_lw, cov_gen_lw = get_sampling_error(ledoit_wolf, mu, s, dist='t', df=20)\n",
    "min_cov_det = lambda x: MinCovDet().fit(x).covariance_\n",
    "distance_mcd, cov_gen_mcd = get_sampling_error(ledoit_wolf, mu, s, dist='t', df=20)\n"
   ]
  },
  {
   "cell_type": "code",
   "execution_count": 41,
   "id": "0d26374a",
   "metadata": {},
   "outputs": [
    {
     "data": {
      "text/plain": [
       "array([[0.00050625, 0.00045198, 0.00075411],\n",
       "       [0.00045198, 0.00104976, 0.00124309],\n",
       "       [0.00075411, 0.00124309, 0.00194481]])"
      ]
     },
     "execution_count": 41,
     "metadata": {},
     "output_type": "execute_result"
    }
   ],
   "source": [
    "s"
   ]
  },
  {
   "cell_type": "code",
   "execution_count": 42,
   "id": "c4396ba9",
   "metadata": {},
   "outputs": [
    {
     "data": {
      "text/plain": [
       "array([[0.00053302, 0.00045941, 0.0007761 ],\n",
       "       [0.00045941, 0.00111074, 0.00129843],\n",
       "       [0.0007761 , 0.00129843, 0.00204103]])"
      ]
     },
     "execution_count": 42,
     "metadata": {},
     "output_type": "execute_result"
    }
   ],
   "source": [
    "cov_gen_mle[np.argmin(distance_mle)]"
   ]
  },
  {
   "cell_type": "code",
   "execution_count": 43,
   "id": "bd813b4f",
   "metadata": {},
   "outputs": [
    {
     "data": {
      "text/plain": [
       "array([[0.00053179, 0.00045862, 0.00077082],\n",
       "       [0.00045862, 0.00108848, 0.00127655],\n",
       "       [0.00077082, 0.00127655, 0.00202248]])"
      ]
     },
     "execution_count": 43,
     "metadata": {},
     "output_type": "execute_result"
    }
   ],
   "source": [
    "cov_gen_lw[np.argmin(distance_lw)]"
   ]
  },
  {
   "cell_type": "code",
   "execution_count": 12,
   "id": "c6e68175",
   "metadata": {},
   "outputs": [
    {
     "data": {
      "image/png": "[encoded data removed]",
      "text/plain": [
       "<Figure size 640x480 with 1 Axes>"
      ]
     },
     "metadata": {},
     "output_type": "display_data"
    }
   ],
   "source": [
    "plt.plot(np.sort(distance_mle), label='mle')\n",
    "plt.plot(np.sort(distance_lw), label='lw')\n",
    "plt.plot(np.sort(distance_mcd), label='mincov')\n",
    "plt.legend()\n",
    "plt.show()"
   ]
  },
  {
   "cell_type": "code",
   "execution_count": 13,
   "id": "327c89e1",
   "metadata": {},
   "outputs": [
    {
     "data": {
      "image/png": "[encoded data removed]",
      "text/plain": [
       "<Figure size 640x480 with 1 Axes>"
      ]
     },
     "metadata": {},
     "output_type": "display_data"
    }
   ],
   "source": [
    "plt.hist(distance_mle,cumulative=True, label='mle',\n",
    "         histtype='step', alpha=0.8)\n",
    "plt.hist(distance_lw,cumulative=True, label='lw',\n",
    "         histtype='step', alpha=0.8)\n",
    "plt.hist(distance_mcd,cumulative=True, label='lw',\n",
    "         histtype='step', alpha=0.8)\n",
    "plt.legend()\n",
    "plt.show()"
   ]
  },
  {
   "cell_type": "code",
   "execution_count": 20,
   "id": "b723414e",
   "metadata": {},
   "outputs": [],
   "source": [
    "\n",
    "data = stats.multivariate_normal.rvs(mean=mu, cov=s, size=n_data)"
   ]
  },
  {
   "cell_type": "code",
   "execution_count": null,
   "id": "c3f1cc95",
   "metadata": {},
   "outputs": [],
   "source": [
    "plt.plot(np.sort(distance_mle))"
   ]
  },
  {
   "cell_type": "code",
   "execution_count": null,
   "id": "18d9c00f",
   "metadata": {
    "scrolled": true
   },
   "outputs": [],
   "source": [
    "plt.hist(distance_mle,cumulative=True, label='CDF',\n",
    "         histtype='step', alpha=0.8, color='k')"
   ]
  },
  {
   "cell_type": "code",
   "execution_count": null,
   "id": "7a866b9f",
   "metadata": {},
   "outputs": [],
   "source": [
    "cov_mle"
   ]
  },
  {
   "cell_type": "code",
   "execution_count": 97,
   "id": "d1a5aa8d",
   "metadata": {},
   "outputs": [],
   "source": [
    "def get_principal_components(X):\n",
    "    if X.shape[0] == X.shape[1]:\n",
    "        # this is covariance method\n",
    "        method = 'pca'\n",
    "    else:\n",
    "        # this is data method\n",
    "        method = 'svd'\n",
    "    if method == 'svd':\n",
    "        n_data = X.shape[0]\n",
    "        u, s, v = svd(X-X.mean(axis=0))\n",
    "        s = np.power(s, 2) / (n_data-1)\n",
    "        cov = np.linalg.multi_dot([v.T, np.diag(s), v])\n",
    "        pc = data @ v\n",
    "        d = np.diag(1 / np.sqrt(np.diag(cov)))\n",
    "        corr = d @ cov @ d\n",
    "    else:\n",
    "        _, s, v = svd(X)\n",
    "        cov = np.linalg.multi_dot([v.T, np.diag(s), v])\n",
    "        pc = data @ v\n",
    "        d = np.diag(1 / np.sqrt(np.diag(cov)))\n",
    "        corr = d @ cov @ d\n",
    "    \n",
    "    power = np.round(s/sum(s), 3)\n",
    "    \n",
    "    return pc, cov, corr, s, v, power\n"
   ]
  },
  {
   "cell_type": "code",
   "execution_count": 112,
   "id": "324fec58",
   "metadata": {},
   "outputs": [],
   "source": [
    "pc0, cov0, corr0, s0, v0, power0 = get_principal_components(data)"
   ]
  },
  {
   "cell_type": "code",
   "execution_count": 113,
   "id": "88148fea",
   "metadata": {},
   "outputs": [],
   "source": [
    "pc1, cov1, corr1, s1, v1, power1 = get_principal_components(np.cov(data.T))\n",
    "# pc1, cov1, corr1, s1, v1, power1 = get_principal_components(ledoit_wolf(data))"
   ]
  },
  {
   "cell_type": "code",
   "execution_count": 114,
   "id": "83166098",
   "metadata": {},
   "outputs": [
    {
     "data": {
      "text/plain": [
       "(array([[0.00050299, 0.00047206, 0.00077501],\n",
       "        [0.00047206, 0.00110015, 0.00131014],\n",
       "        [0.00077501, 0.00131014, 0.00203854]]),\n",
       " array([[0.00050299, 0.00047206, 0.00077501],\n",
       "        [0.00047206, 0.00110015, 0.00131014],\n",
       "        [0.00077501, 0.00131014, 0.00203854]]))"
      ]
     },
     "execution_count": 114,
     "metadata": {},
     "output_type": "execute_result"
    }
   ],
   "source": [
    "cov0, cov1"
   ]
  },
  {
   "cell_type": "code",
   "execution_count": 115,
   "id": "1663c7f9",
   "metadata": {},
   "outputs": [
    {
     "data": {
      "text/plain": [
       "(array([[1.        , 0.63458795, 0.76535992],\n",
       "        [0.63458795, 1.        , 0.87484567],\n",
       "        [0.76535992, 0.87484567, 1.        ]]),\n",
       " array([[1.        , 0.63458795, 0.76535992],\n",
       "        [0.63458795, 1.        , 0.87484567],\n",
       "        [0.76535992, 0.87484567, 1.        ]]))"
      ]
     },
     "execution_count": 115,
     "metadata": {},
     "output_type": "execute_result"
    }
   ],
   "source": [
    "corr0, corr1"
   ]
  },
  {
   "cell_type": "code",
   "execution_count": 116,
   "id": "b2b2f6b7",
   "metadata": {},
   "outputs": [
    {
     "data": {
      "text/plain": [
       "(array([[ 0.31227971,  0.54190414,  0.78027   ],\n",
       "        [-0.74582716,  0.64857817, -0.15194805],\n",
       "        [-0.58840737, -0.53449626,  0.60670463]]),\n",
       " array([[-0.31227971, -0.54190414, -0.78027   ],\n",
       "        [ 0.74582716, -0.64857817,  0.15194805],\n",
       "        [-0.58840737, -0.53449626,  0.60670463]]))"
      ]
     },
     "execution_count": 116,
     "metadata": {},
     "output_type": "execute_result"
    }
   ],
   "source": [
    "v0, v1"
   ]
  },
  {
   "cell_type": "code",
   "execution_count": 117,
   "id": "397a90cf",
   "metadata": {},
   "outputs": [
    {
     "data": {
      "text/plain": [
       "(array([0.00325861, 0.00025037, 0.00013269]),\n",
       " array([0.00325861, 0.00025037, 0.00013269]))"
      ]
     },
     "execution_count": 117,
     "metadata": {},
     "output_type": "execute_result"
    }
   ],
   "source": [
    "s0, s1"
   ]
  },
  {
   "cell_type": "code",
   "execution_count": 118,
   "id": "8b76d410",
   "metadata": {
    "scrolled": true
   },
   "outputs": [
    {
     "data": {
      "text/plain": [
       "(array([0.895, 0.069, 0.036]), array([0.895, 0.069, 0.036]))"
      ]
     },
     "execution_count": 118,
     "metadata": {},
     "output_type": "execute_result"
    }
   ],
   "source": [
    "power0, power1"
   ]
  },
  {
   "cell_type": "code",
   "execution_count": 119,
   "id": "6d8fa164",
   "metadata": {},
   "outputs": [
    {
     "data": {
      "text/plain": [
       "(array([[-0.27326048,  0.47179017,  0.01476565],\n",
       "        [-0.29739477,  0.47612292,  0.06342733],\n",
       "        [-0.28340558,  0.48277118,  0.03965576],\n",
       "        ...,\n",
       "        [-0.29969507,  0.48622552,  0.07574991],\n",
       "        [-0.26495737,  0.48106405,  0.0295426 ],\n",
       "        [-0.26539465,  0.47647759,  0.0269697 ]]),\n",
       " array([[ 0.37025733, -0.38368037, -0.11477874],\n",
       "        [ 0.34566182, -0.4322782 , -0.1131953 ],\n",
       "        [ 0.36251357, -0.41091123, -0.12122371],\n",
       "        ...,\n",
       "        [ 0.34392578, -0.44604731, -0.12135604],\n",
       "        [ 0.36298655, -0.39201651, -0.13062012],\n",
       "        [ 0.36207313, -0.38865699, -0.12665453]]))"
      ]
     },
     "execution_count": 119,
     "metadata": {},
     "output_type": "execute_result"
    }
   ],
   "source": [
    "pc0, pc1"
   ]
  },
  {
   "cell_type": "code",
   "execution_count": 96,
   "id": "f4b96453",
   "metadata": {
    "scrolled": true
   },
   "outputs": [
    {
     "data": {
      "text/plain": [
       "array([[ 0.18185254,  0.50755428, -0.08242321],\n",
       "       [ 0.21463307,  0.52097037, -0.041015  ],\n",
       "       [ 0.20405609,  0.51846081, -0.06722213],\n",
       "       ...,\n",
       "       [ 0.14800295,  0.44696381, -0.13454343],\n",
       "       [ 0.2480024 ,  0.51588296, -0.0418946 ],\n",
       "       [ 0.17528631,  0.4500872 , -0.14054986]])"
      ]
     },
     "execution_count": 96,
     "metadata": {},
     "output_type": "execute_result"
    }
   ],
   "source": [
    "new_data = stats.multivariate_normal.rvs(mean=mu, cov=s, size=1).reshape(1, s.shape[0])\n",
    "new_data = np.concatenate([data, new_data])\n",
    "new_data"
   ]
  },
  {
   "cell_type": "code",
   "execution_count": 156,
   "id": "0408a670",
   "metadata": {},
   "outputs": [
    {
     "data": {
      "text/plain": [
       "array([[0.00051634, 0.00045531, 0.00078693],\n",
       "       [0.00045038, 0.00101966, 0.00125147],\n",
       "       [0.00078163, 0.0011824 , 0.00203182]])"
      ]
     },
     "execution_count": 156,
     "metadata": {},
     "output_type": "execute_result"
    }
   ],
   "source": []
  },
  {
   "cell_type": "code",
   "execution_count": 160,
   "id": "77c74433",
   "metadata": {},
   "outputs": [
    {
     "name": "stderr",
     "output_type": "stream",
     "text": [
      "C:\\Users\\serge\\anaconda3\\envs\\volatilityModels\\lib\\site-packages\\scipy\\stats\\_multivariate.py:653: RuntimeWarning: covariance is not positive-semidefinite.\n",
      "  out = random_state.multivariate_normal(mean, cov, size)\n",
      "C:\\Users\\serge\\anaconda3\\envs\\volatilityModels\\lib\\site-packages\\scipy\\stats\\_multivariate.py:653: RuntimeWarning: covariance is not positive-semidefinite.\n",
      "  out = random_state.multivariate_normal(mean, cov, size)\n",
      "C:\\Users\\serge\\anaconda3\\envs\\volatilityModels\\lib\\site-packages\\scipy\\stats\\_multivariate.py:653: RuntimeWarning: covariance is not positive-semidefinite.\n",
      "  out = random_state.multivariate_normal(mean, cov, size)\n",
      "C:\\Users\\serge\\anaconda3\\envs\\volatilityModels\\lib\\site-packages\\scipy\\stats\\_multivariate.py:653: RuntimeWarning: covariance is not positive-semidefinite.\n",
      "  out = random_state.multivariate_normal(mean, cov, size)\n",
      "C:\\Users\\serge\\anaconda3\\envs\\volatilityModels\\lib\\site-packages\\scipy\\stats\\_multivariate.py:653: RuntimeWarning: covariance is not positive-semidefinite.\n",
      "  out = random_state.multivariate_normal(mean, cov, size)\n",
      "C:\\Users\\serge\\anaconda3\\envs\\volatilityModels\\lib\\site-packages\\scipy\\stats\\_multivariate.py:653: RuntimeWarning: covariance is not positive-semidefinite.\n",
      "  out = random_state.multivariate_normal(mean, cov, size)\n",
      "C:\\Users\\serge\\anaconda3\\envs\\volatilityModels\\lib\\site-packages\\scipy\\stats\\_multivariate.py:653: RuntimeWarning: covariance is not positive-semidefinite.\n",
      "  out = random_state.multivariate_normal(mean, cov, size)\n",
      "C:\\Users\\serge\\anaconda3\\envs\\volatilityModels\\lib\\site-packages\\scipy\\stats\\_multivariate.py:653: RuntimeWarning: covariance is not positive-semidefinite.\n",
      "  out = random_state.multivariate_normal(mean, cov, size)\n",
      "C:\\Users\\serge\\anaconda3\\envs\\volatilityModels\\lib\\site-packages\\scipy\\stats\\_multivariate.py:653: RuntimeWarning: covariance is not positive-semidefinite.\n",
      "  out = random_state.multivariate_normal(mean, cov, size)\n",
      "C:\\Users\\serge\\anaconda3\\envs\\volatilityModels\\lib\\site-packages\\scipy\\stats\\_multivariate.py:653: RuntimeWarning: covariance is not positive-semidefinite.\n",
      "  out = random_state.multivariate_normal(mean, cov, size)\n",
      "C:\\Users\\serge\\anaconda3\\envs\\volatilityModels\\lib\\site-packages\\scipy\\stats\\_multivariate.py:653: RuntimeWarning: covariance is not positive-semidefinite.\n",
      "  out = random_state.multivariate_normal(mean, cov, size)\n",
      "C:\\Users\\serge\\anaconda3\\envs\\volatilityModels\\lib\\site-packages\\scipy\\stats\\_multivariate.py:653: RuntimeWarning: covariance is not positive-semidefinite.\n",
      "  out = random_state.multivariate_normal(mean, cov, size)\n",
      "C:\\Users\\serge\\anaconda3\\envs\\volatilityModels\\lib\\site-packages\\scipy\\stats\\_multivariate.py:653: RuntimeWarning: covariance is not positive-semidefinite.\n",
      "  out = random_state.multivariate_normal(mean, cov, size)\n",
      "C:\\Users\\serge\\anaconda3\\envs\\volatilityModels\\lib\\site-packages\\scipy\\stats\\_multivariate.py:653: RuntimeWarning: covariance is not positive-semidefinite.\n",
      "  out = random_state.multivariate_normal(mean, cov, size)\n",
      "C:\\Users\\serge\\anaconda3\\envs\\volatilityModels\\lib\\site-packages\\scipy\\stats\\_multivariate.py:653: RuntimeWarning: covariance is not positive-semidefinite.\n",
      "  out = random_state.multivariate_normal(mean, cov, size)\n",
      "C:\\Users\\serge\\anaconda3\\envs\\volatilityModels\\lib\\site-packages\\scipy\\stats\\_multivariate.py:653: RuntimeWarning: covariance is not positive-semidefinite.\n",
      "  out = random_state.multivariate_normal(mean, cov, size)\n",
      "C:\\Users\\serge\\anaconda3\\envs\\volatilityModels\\lib\\site-packages\\scipy\\stats\\_multivariate.py:653: RuntimeWarning: covariance is not positive-semidefinite.\n",
      "  out = random_state.multivariate_normal(mean, cov, size)\n",
      "C:\\Users\\serge\\anaconda3\\envs\\volatilityModels\\lib\\site-packages\\scipy\\stats\\_multivariate.py:653: RuntimeWarning: covariance is not positive-semidefinite.\n",
      "  out = random_state.multivariate_normal(mean, cov, size)\n",
      "C:\\Users\\serge\\anaconda3\\envs\\volatilityModels\\lib\\site-packages\\scipy\\stats\\_multivariate.py:653: RuntimeWarning: covariance is not positive-semidefinite.\n",
      "  out = random_state.multivariate_normal(mean, cov, size)\n",
      "C:\\Users\\serge\\anaconda3\\envs\\volatilityModels\\lib\\site-packages\\scipy\\stats\\_multivariate.py:653: RuntimeWarning: covariance is not positive-semidefinite.\n",
      "  out = random_state.multivariate_normal(mean, cov, size)\n",
      "C:\\Users\\serge\\anaconda3\\envs\\volatilityModels\\lib\\site-packages\\scipy\\stats\\_multivariate.py:653: RuntimeWarning: covariance is not positive-semidefinite.\n",
      "  out = random_state.multivariate_normal(mean, cov, size)\n",
      "C:\\Users\\serge\\anaconda3\\envs\\volatilityModels\\lib\\site-packages\\scipy\\stats\\_multivariate.py:653: RuntimeWarning: covariance is not positive-semidefinite.\n",
      "  out = random_state.multivariate_normal(mean, cov, size)\n",
      "C:\\Users\\serge\\anaconda3\\envs\\volatilityModels\\lib\\site-packages\\scipy\\stats\\_multivariate.py:653: RuntimeWarning: covariance is not positive-semidefinite.\n",
      "  out = random_state.multivariate_normal(mean, cov, size)\n",
      "C:\\Users\\serge\\anaconda3\\envs\\volatilityModels\\lib\\site-packages\\scipy\\stats\\_multivariate.py:653: RuntimeWarning: covariance is not positive-semidefinite.\n",
      "  out = random_state.multivariate_normal(mean, cov, size)\n",
      "C:\\Users\\serge\\anaconda3\\envs\\volatilityModels\\lib\\site-packages\\scipy\\stats\\_multivariate.py:653: RuntimeWarning: covariance is not positive-semidefinite.\n",
      "  out = random_state.multivariate_normal(mean, cov, size)\n",
      "C:\\Users\\serge\\anaconda3\\envs\\volatilityModels\\lib\\site-packages\\scipy\\stats\\_multivariate.py:653: RuntimeWarning: covariance is not positive-semidefinite.\n",
      "  out = random_state.multivariate_normal(mean, cov, size)\n",
      "C:\\Users\\serge\\anaconda3\\envs\\volatilityModels\\lib\\site-packages\\scipy\\stats\\_multivariate.py:653: RuntimeWarning: covariance is not positive-semidefinite.\n",
      "  out = random_state.multivariate_normal(mean, cov, size)\n",
      "C:\\Users\\serge\\anaconda3\\envs\\volatilityModels\\lib\\site-packages\\scipy\\stats\\_multivariate.py:653: RuntimeWarning: covariance is not positive-semidefinite.\n",
      "  out = random_state.multivariate_normal(mean, cov, size)\n",
      "C:\\Users\\serge\\anaconda3\\envs\\volatilityModels\\lib\\site-packages\\scipy\\stats\\_multivariate.py:653: RuntimeWarning: covariance is not positive-semidefinite.\n",
      "  out = random_state.multivariate_normal(mean, cov, size)\n",
      "C:\\Users\\serge\\anaconda3\\envs\\volatilityModels\\lib\\site-packages\\scipy\\stats\\_multivariate.py:653: RuntimeWarning: covariance is not positive-semidefinite.\n",
      "  out = random_state.multivariate_normal(mean, cov, size)\n",
      "C:\\Users\\serge\\anaconda3\\envs\\volatilityModels\\lib\\site-packages\\scipy\\stats\\_multivariate.py:653: RuntimeWarning: covariance is not positive-semidefinite.\n",
      "  out = random_state.multivariate_normal(mean, cov, size)\n",
      "C:\\Users\\serge\\anaconda3\\envs\\volatilityModels\\lib\\site-packages\\scipy\\stats\\_multivariate.py:653: RuntimeWarning: covariance is not positive-semidefinite.\n",
      "  out = random_state.multivariate_normal(mean, cov, size)\n",
      "C:\\Users\\serge\\anaconda3\\envs\\volatilityModels\\lib\\site-packages\\scipy\\stats\\_multivariate.py:653: RuntimeWarning: covariance is not positive-semidefinite.\n",
      "  out = random_state.multivariate_normal(mean, cov, size)\n",
      "C:\\Users\\serge\\anaconda3\\envs\\volatilityModels\\lib\\site-packages\\scipy\\stats\\_multivariate.py:653: RuntimeWarning: covariance is not positive-semidefinite.\n",
      "  out = random_state.multivariate_normal(mean, cov, size)\n",
      "C:\\Users\\serge\\anaconda3\\envs\\volatilityModels\\lib\\site-packages\\scipy\\stats\\_multivariate.py:653: RuntimeWarning: covariance is not positive-semidefinite.\n",
      "  out = random_state.multivariate_normal(mean, cov, size)\n",
      "C:\\Users\\serge\\anaconda3\\envs\\volatilityModels\\lib\\site-packages\\scipy\\stats\\_multivariate.py:653: RuntimeWarning: covariance is not positive-semidefinite.\n",
      "  out = random_state.multivariate_normal(mean, cov, size)\n",
      "C:\\Users\\serge\\anaconda3\\envs\\volatilityModels\\lib\\site-packages\\scipy\\stats\\_multivariate.py:653: RuntimeWarning: covariance is not positive-semidefinite.\n",
      "  out = random_state.multivariate_normal(mean, cov, size)\n",
      "C:\\Users\\serge\\anaconda3\\envs\\volatilityModels\\lib\\site-packages\\scipy\\stats\\_multivariate.py:653: RuntimeWarning: covariance is not positive-semidefinite.\n",
      "  out = random_state.multivariate_normal(mean, cov, size)\n",
      "C:\\Users\\serge\\anaconda3\\envs\\volatilityModels\\lib\\site-packages\\scipy\\stats\\_multivariate.py:653: RuntimeWarning: covariance is not positive-semidefinite.\n",
      "  out = random_state.multivariate_normal(mean, cov, size)\n"
     ]
    },
    {
     "name": "stderr",
     "output_type": "stream",
     "text": [
      "C:\\Users\\serge\\anaconda3\\envs\\volatilityModels\\lib\\site-packages\\scipy\\stats\\_multivariate.py:653: RuntimeWarning: covariance is not positive-semidefinite.\n",
      "  out = random_state.multivariate_normal(mean, cov, size)\n",
      "C:\\Users\\serge\\anaconda3\\envs\\volatilityModels\\lib\\site-packages\\scipy\\stats\\_multivariate.py:653: RuntimeWarning: covariance is not positive-semidefinite.\n",
      "  out = random_state.multivariate_normal(mean, cov, size)\n",
      "C:\\Users\\serge\\anaconda3\\envs\\volatilityModels\\lib\\site-packages\\scipy\\stats\\_multivariate.py:653: RuntimeWarning: covariance is not positive-semidefinite.\n",
      "  out = random_state.multivariate_normal(mean, cov, size)\n",
      "C:\\Users\\serge\\anaconda3\\envs\\volatilityModels\\lib\\site-packages\\scipy\\stats\\_multivariate.py:653: RuntimeWarning: covariance is not positive-semidefinite.\n",
      "  out = random_state.multivariate_normal(mean, cov, size)\n",
      "C:\\Users\\serge\\anaconda3\\envs\\volatilityModels\\lib\\site-packages\\scipy\\stats\\_multivariate.py:653: RuntimeWarning: covariance is not positive-semidefinite.\n",
      "  out = random_state.multivariate_normal(mean, cov, size)\n",
      "C:\\Users\\serge\\anaconda3\\envs\\volatilityModels\\lib\\site-packages\\scipy\\stats\\_multivariate.py:653: RuntimeWarning: covariance is not positive-semidefinite.\n",
      "  out = random_state.multivariate_normal(mean, cov, size)\n",
      "C:\\Users\\serge\\anaconda3\\envs\\volatilityModels\\lib\\site-packages\\scipy\\stats\\_multivariate.py:653: RuntimeWarning: covariance is not positive-semidefinite.\n",
      "  out = random_state.multivariate_normal(mean, cov, size)\n",
      "C:\\Users\\serge\\anaconda3\\envs\\volatilityModels\\lib\\site-packages\\scipy\\stats\\_multivariate.py:653: RuntimeWarning: covariance is not positive-semidefinite.\n",
      "  out = random_state.multivariate_normal(mean, cov, size)\n",
      "C:\\Users\\serge\\anaconda3\\envs\\volatilityModels\\lib\\site-packages\\scipy\\stats\\_multivariate.py:653: RuntimeWarning: covariance is not positive-semidefinite.\n",
      "  out = random_state.multivariate_normal(mean, cov, size)\n",
      "C:\\Users\\serge\\anaconda3\\envs\\volatilityModels\\lib\\site-packages\\scipy\\stats\\_multivariate.py:653: RuntimeWarning: covariance is not positive-semidefinite.\n",
      "  out = random_state.multivariate_normal(mean, cov, size)\n",
      "C:\\Users\\serge\\anaconda3\\envs\\volatilityModels\\lib\\site-packages\\scipy\\stats\\_multivariate.py:653: RuntimeWarning: covariance is not positive-semidefinite.\n",
      "  out = random_state.multivariate_normal(mean, cov, size)\n",
      "C:\\Users\\serge\\anaconda3\\envs\\volatilityModels\\lib\\site-packages\\scipy\\stats\\_multivariate.py:653: RuntimeWarning: covariance is not positive-semidefinite.\n",
      "  out = random_state.multivariate_normal(mean, cov, size)\n",
      "C:\\Users\\serge\\anaconda3\\envs\\volatilityModels\\lib\\site-packages\\scipy\\stats\\_multivariate.py:653: RuntimeWarning: covariance is not positive-semidefinite.\n",
      "  out = random_state.multivariate_normal(mean, cov, size)\n",
      "C:\\Users\\serge\\anaconda3\\envs\\volatilityModels\\lib\\site-packages\\scipy\\stats\\_multivariate.py:653: RuntimeWarning: covariance is not positive-semidefinite.\n",
      "  out = random_state.multivariate_normal(mean, cov, size)\n",
      "C:\\Users\\serge\\anaconda3\\envs\\volatilityModels\\lib\\site-packages\\scipy\\stats\\_multivariate.py:653: RuntimeWarning: covariance is not positive-semidefinite.\n",
      "  out = random_state.multivariate_normal(mean, cov, size)\n",
      "C:\\Users\\serge\\anaconda3\\envs\\volatilityModels\\lib\\site-packages\\scipy\\stats\\_multivariate.py:653: RuntimeWarning: covariance is not positive-semidefinite.\n",
      "  out = random_state.multivariate_normal(mean, cov, size)\n",
      "C:\\Users\\serge\\anaconda3\\envs\\volatilityModels\\lib\\site-packages\\scipy\\stats\\_multivariate.py:653: RuntimeWarning: covariance is not positive-semidefinite.\n",
      "  out = random_state.multivariate_normal(mean, cov, size)\n",
      "C:\\Users\\serge\\anaconda3\\envs\\volatilityModels\\lib\\site-packages\\scipy\\stats\\_multivariate.py:653: RuntimeWarning: covariance is not positive-semidefinite.\n",
      "  out = random_state.multivariate_normal(mean, cov, size)\n",
      "C:\\Users\\serge\\anaconda3\\envs\\volatilityModels\\lib\\site-packages\\scipy\\stats\\_multivariate.py:653: RuntimeWarning: covariance is not positive-semidefinite.\n",
      "  out = random_state.multivariate_normal(mean, cov, size)\n",
      "C:\\Users\\serge\\anaconda3\\envs\\volatilityModels\\lib\\site-packages\\scipy\\stats\\_multivariate.py:653: RuntimeWarning: covariance is not positive-semidefinite.\n",
      "  out = random_state.multivariate_normal(mean, cov, size)\n",
      "C:\\Users\\serge\\anaconda3\\envs\\volatilityModels\\lib\\site-packages\\scipy\\stats\\_multivariate.py:653: RuntimeWarning: covariance is not positive-semidefinite.\n",
      "  out = random_state.multivariate_normal(mean, cov, size)\n",
      "C:\\Users\\serge\\anaconda3\\envs\\volatilityModels\\lib\\site-packages\\scipy\\stats\\_multivariate.py:653: RuntimeWarning: covariance is not positive-semidefinite.\n",
      "  out = random_state.multivariate_normal(mean, cov, size)\n",
      "C:\\Users\\serge\\anaconda3\\envs\\volatilityModels\\lib\\site-packages\\scipy\\stats\\_multivariate.py:653: RuntimeWarning: covariance is not positive-semidefinite.\n",
      "  out = random_state.multivariate_normal(mean, cov, size)\n",
      "C:\\Users\\serge\\anaconda3\\envs\\volatilityModels\\lib\\site-packages\\scipy\\stats\\_multivariate.py:653: RuntimeWarning: covariance is not positive-semidefinite.\n",
      "  out = random_state.multivariate_normal(mean, cov, size)\n",
      "C:\\Users\\serge\\anaconda3\\envs\\volatilityModels\\lib\\site-packages\\scipy\\stats\\_multivariate.py:653: RuntimeWarning: covariance is not positive-semidefinite.\n",
      "  out = random_state.multivariate_normal(mean, cov, size)\n",
      "C:\\Users\\serge\\anaconda3\\envs\\volatilityModels\\lib\\site-packages\\scipy\\stats\\_multivariate.py:653: RuntimeWarning: covariance is not positive-semidefinite.\n",
      "  out = random_state.multivariate_normal(mean, cov, size)\n",
      "C:\\Users\\serge\\anaconda3\\envs\\volatilityModels\\lib\\site-packages\\scipy\\stats\\_multivariate.py:653: RuntimeWarning: covariance is not positive-semidefinite.\n",
      "  out = random_state.multivariate_normal(mean, cov, size)\n",
      "C:\\Users\\serge\\anaconda3\\envs\\volatilityModels\\lib\\site-packages\\scipy\\stats\\_multivariate.py:653: RuntimeWarning: covariance is not positive-semidefinite.\n",
      "  out = random_state.multivariate_normal(mean, cov, size)\n",
      "C:\\Users\\serge\\anaconda3\\envs\\volatilityModels\\lib\\site-packages\\scipy\\stats\\_multivariate.py:653: RuntimeWarning: covariance is not positive-semidefinite.\n",
      "  out = random_state.multivariate_normal(mean, cov, size)\n",
      "C:\\Users\\serge\\anaconda3\\envs\\volatilityModels\\lib\\site-packages\\scipy\\stats\\_multivariate.py:653: RuntimeWarning: covariance is not positive-semidefinite.\n",
      "  out = random_state.multivariate_normal(mean, cov, size)\n",
      "C:\\Users\\serge\\anaconda3\\envs\\volatilityModels\\lib\\site-packages\\scipy\\stats\\_multivariate.py:653: RuntimeWarning: covariance is not positive-semidefinite.\n",
      "  out = random_state.multivariate_normal(mean, cov, size)\n",
      "C:\\Users\\serge\\anaconda3\\envs\\volatilityModels\\lib\\site-packages\\scipy\\stats\\_multivariate.py:653: RuntimeWarning: covariance is not positive-semidefinite.\n",
      "  out = random_state.multivariate_normal(mean, cov, size)\n",
      "C:\\Users\\serge\\anaconda3\\envs\\volatilityModels\\lib\\site-packages\\scipy\\stats\\_multivariate.py:653: RuntimeWarning: covariance is not positive-semidefinite.\n",
      "  out = random_state.multivariate_normal(mean, cov, size)\n",
      "C:\\Users\\serge\\anaconda3\\envs\\volatilityModels\\lib\\site-packages\\scipy\\stats\\_multivariate.py:653: RuntimeWarning: covariance is not positive-semidefinite.\n",
      "  out = random_state.multivariate_normal(mean, cov, size)\n",
      "C:\\Users\\serge\\anaconda3\\envs\\volatilityModels\\lib\\site-packages\\scipy\\stats\\_multivariate.py:653: RuntimeWarning: covariance is not positive-semidefinite.\n",
      "  out = random_state.multivariate_normal(mean, cov, size)\n",
      "C:\\Users\\serge\\anaconda3\\envs\\volatilityModels\\lib\\site-packages\\scipy\\stats\\_multivariate.py:653: RuntimeWarning: covariance is not positive-semidefinite.\n",
      "  out = random_state.multivariate_normal(mean, cov, size)\n",
      "C:\\Users\\serge\\anaconda3\\envs\\volatilityModels\\lib\\site-packages\\scipy\\stats\\_multivariate.py:653: RuntimeWarning: covariance is not positive-semidefinite.\n",
      "  out = random_state.multivariate_normal(mean, cov, size)\n",
      "C:\\Users\\serge\\anaconda3\\envs\\volatilityModels\\lib\\site-packages\\scipy\\stats\\_multivariate.py:653: RuntimeWarning: covariance is not positive-semidefinite.\n",
      "  out = random_state.multivariate_normal(mean, cov, size)\n",
      "C:\\Users\\serge\\anaconda3\\envs\\volatilityModels\\lib\\site-packages\\scipy\\stats\\_multivariate.py:653: RuntimeWarning: covariance is not positive-semidefinite.\n",
      "  out = random_state.multivariate_normal(mean, cov, size)\n"
     ]
    },
    {
     "name": "stderr",
     "output_type": "stream",
     "text": [
      "C:\\Users\\serge\\anaconda3\\envs\\volatilityModels\\lib\\site-packages\\scipy\\stats\\_multivariate.py:653: RuntimeWarning: covariance is not positive-semidefinite.\n",
      "  out = random_state.multivariate_normal(mean, cov, size)\n",
      "C:\\Users\\serge\\anaconda3\\envs\\volatilityModels\\lib\\site-packages\\scipy\\stats\\_multivariate.py:653: RuntimeWarning: covariance is not positive-semidefinite.\n",
      "  out = random_state.multivariate_normal(mean, cov, size)\n",
      "C:\\Users\\serge\\anaconda3\\envs\\volatilityModels\\lib\\site-packages\\scipy\\stats\\_multivariate.py:653: RuntimeWarning: covariance is not positive-semidefinite.\n",
      "  out = random_state.multivariate_normal(mean, cov, size)\n",
      "C:\\Users\\serge\\anaconda3\\envs\\volatilityModels\\lib\\site-packages\\scipy\\stats\\_multivariate.py:653: RuntimeWarning: covariance is not positive-semidefinite.\n",
      "  out = random_state.multivariate_normal(mean, cov, size)\n",
      "C:\\Users\\serge\\anaconda3\\envs\\volatilityModels\\lib\\site-packages\\scipy\\stats\\_multivariate.py:653: RuntimeWarning: covariance is not positive-semidefinite.\n",
      "  out = random_state.multivariate_normal(mean, cov, size)\n",
      "C:\\Users\\serge\\anaconda3\\envs\\volatilityModels\\lib\\site-packages\\scipy\\stats\\_multivariate.py:653: RuntimeWarning: covariance is not positive-semidefinite.\n",
      "  out = random_state.multivariate_normal(mean, cov, size)\n",
      "C:\\Users\\serge\\anaconda3\\envs\\volatilityModels\\lib\\site-packages\\scipy\\stats\\_multivariate.py:653: RuntimeWarning: covariance is not positive-semidefinite.\n",
      "  out = random_state.multivariate_normal(mean, cov, size)\n",
      "C:\\Users\\serge\\anaconda3\\envs\\volatilityModels\\lib\\site-packages\\scipy\\stats\\_multivariate.py:653: RuntimeWarning: covariance is not positive-semidefinite.\n",
      "  out = random_state.multivariate_normal(mean, cov, size)\n",
      "C:\\Users\\serge\\anaconda3\\envs\\volatilityModels\\lib\\site-packages\\scipy\\stats\\_multivariate.py:653: RuntimeWarning: covariance is not positive-semidefinite.\n",
      "  out = random_state.multivariate_normal(mean, cov, size)\n",
      "C:\\Users\\serge\\anaconda3\\envs\\volatilityModels\\lib\\site-packages\\scipy\\stats\\_multivariate.py:653: RuntimeWarning: covariance is not positive-semidefinite.\n",
      "  out = random_state.multivariate_normal(mean, cov, size)\n",
      "C:\\Users\\serge\\anaconda3\\envs\\volatilityModels\\lib\\site-packages\\scipy\\stats\\_multivariate.py:653: RuntimeWarning: covariance is not positive-semidefinite.\n",
      "  out = random_state.multivariate_normal(mean, cov, size)\n",
      "C:\\Users\\serge\\anaconda3\\envs\\volatilityModels\\lib\\site-packages\\scipy\\stats\\_multivariate.py:653: RuntimeWarning: covariance is not positive-semidefinite.\n",
      "  out = random_state.multivariate_normal(mean, cov, size)\n",
      "C:\\Users\\serge\\anaconda3\\envs\\volatilityModels\\lib\\site-packages\\scipy\\stats\\_multivariate.py:653: RuntimeWarning: covariance is not positive-semidefinite.\n",
      "  out = random_state.multivariate_normal(mean, cov, size)\n",
      "C:\\Users\\serge\\anaconda3\\envs\\volatilityModels\\lib\\site-packages\\scipy\\stats\\_multivariate.py:653: RuntimeWarning: covariance is not positive-semidefinite.\n",
      "  out = random_state.multivariate_normal(mean, cov, size)\n",
      "C:\\Users\\serge\\anaconda3\\envs\\volatilityModels\\lib\\site-packages\\scipy\\stats\\_multivariate.py:653: RuntimeWarning: covariance is not positive-semidefinite.\n",
      "  out = random_state.multivariate_normal(mean, cov, size)\n",
      "C:\\Users\\serge\\anaconda3\\envs\\volatilityModels\\lib\\site-packages\\scipy\\stats\\_multivariate.py:653: RuntimeWarning: covariance is not positive-semidefinite.\n",
      "  out = random_state.multivariate_normal(mean, cov, size)\n",
      "C:\\Users\\serge\\anaconda3\\envs\\volatilityModels\\lib\\site-packages\\scipy\\stats\\_multivariate.py:653: RuntimeWarning: covariance is not positive-semidefinite.\n",
      "  out = random_state.multivariate_normal(mean, cov, size)\n",
      "C:\\Users\\serge\\anaconda3\\envs\\volatilityModels\\lib\\site-packages\\scipy\\stats\\_multivariate.py:653: RuntimeWarning: covariance is not positive-semidefinite.\n",
      "  out = random_state.multivariate_normal(mean, cov, size)\n",
      "C:\\Users\\serge\\anaconda3\\envs\\volatilityModels\\lib\\site-packages\\scipy\\stats\\_multivariate.py:653: RuntimeWarning: covariance is not positive-semidefinite.\n",
      "  out = random_state.multivariate_normal(mean, cov, size)\n",
      "C:\\Users\\serge\\anaconda3\\envs\\volatilityModels\\lib\\site-packages\\scipy\\stats\\_multivariate.py:653: RuntimeWarning: covariance is not positive-semidefinite.\n",
      "  out = random_state.multivariate_normal(mean, cov, size)\n",
      "C:\\Users\\serge\\anaconda3\\envs\\volatilityModels\\lib\\site-packages\\scipy\\stats\\_multivariate.py:653: RuntimeWarning: covariance is not positive-semidefinite.\n",
      "  out = random_state.multivariate_normal(mean, cov, size)\n",
      "C:\\Users\\serge\\anaconda3\\envs\\volatilityModels\\lib\\site-packages\\scipy\\stats\\_multivariate.py:653: RuntimeWarning: covariance is not positive-semidefinite.\n",
      "  out = random_state.multivariate_normal(mean, cov, size)\n"
     ]
    }
   ],
   "source": [
    "betas_svd = np.zeros((100,3))\n",
    "betas_pca = np.zeros((100,3))\n",
    "for i in range(100):\n",
    "    mu_new = np.random.uniform(-0.05, 0.05, size=mu.shape[0]) * mu + mu\n",
    "    s_new = s * np.random.uniform(0, 0.05, size=s.shape) + s\n",
    "    new_data = stats.multivariate_normal.rvs(mean=mu_new, cov=s_new, size=1).reshape(1, s.shape[0])\n",
    "    data = np.concatenate([data, new_data])\n",
    "    pc_svd = get_principal_components(data)\n",
    "    pc_pca = get_principal_components(np.cov(data.T))\n",
    "    model0 = LinearRegression(fit_intercept=True).fit(pc_svd[0], data)\n",
    "    model1 = LinearRegression(fit_intercept=True).fit(pc_pca[0], data)\n",
    "    # this is for one variable betas\n",
    "    betas_svd[i, :] = model0.coef_[:,0]\n",
    "    betas_pca[i, :] = model1.coef_[:,0]"
   ]
  },
  {
   "cell_type": "code",
   "execution_count": 147,
   "id": "dca4c54a",
   "metadata": {},
   "outputs": [
    {
     "data": {
      "text/plain": [
       "<AxesSubplot:>"
      ]
     },
     "execution_count": 147,
     "metadata": {},
     "output_type": "execute_result"
    },
    {
     "data": {
      "image/png": "[encoded data removed]",
      "text/plain": [
       "<Figure size 640x480 with 1 Axes>"
      ]
     },
     "metadata": {},
     "output_type": "display_data"
    }
   ],
   "source": [
    "pd.DataFrame(betas_pca).plot()"
   ]
  },
  {
   "cell_type": "code",
   "execution_count": 139,
   "id": "1d3c3d5b",
   "metadata": {},
   "outputs": [
    {
     "data": {
      "text/plain": [
       "{0: array([[-0.31466727, -0.54142962, -0.77963996],\n",
       "        [ 0.74947591, -0.6457432 ,  0.14595065],\n",
       "        [-0.5824692 , -0.53839548,  0.60898271]]),\n",
       " 1: array([[-0.31465944, -0.54143591, -0.77963876],\n",
       "        [ 0.74948888, -0.64572867,  0.14594829],\n",
       "        [-0.58245674, -0.53840657,  0.60898482]]),\n",
       " 2: array([[-0.31468473, -0.54145988, -0.7796119 ],\n",
       "        [ 0.74948753, -0.64572981,  0.14595019],\n",
       "        [-0.58244482, -0.5383811 ,  0.60901874]]),\n",
       " 3: array([[-0.31463132, -0.54158023, -0.77954986],\n",
       "        [ 0.74914955, -0.64601014,  0.146444  ],\n",
       "        [-0.58290829, -0.53792356,  0.60897961]]),\n",
       " 4: array([[-0.31461333, -0.54160819, -0.7795377 ],\n",
       "        [ 0.74907937, -0.64606652,  0.14655425],\n",
       "        [-0.58300819, -0.53782769,  0.60896866]]),\n",
       " 5: array([[-0.31471581, -0.54153865, -0.77954464],\n",
       "        [ 0.74911672, -0.64606289,  0.14637924],\n",
       "        [-0.58290488, -0.53790206,  0.60900187]]),\n",
       " 6: array([[-0.31469358, -0.54156423, -0.77953584],\n",
       "        [ 0.74908238, -0.64608592,  0.14645333],\n",
       "        [-0.58296102, -0.53784864,  0.60899531]]),\n",
       " 7: array([[-0.31469543, -0.54155862, -0.77953899],\n",
       "        [ 0.74898179, -0.64618008,  0.14655232],\n",
       "        [-0.58308924, -0.53774117,  0.60896747]]),\n",
       " 8: array([[-0.31471649, -0.54153821, -0.77954467],\n",
       "        [ 0.7489671 , -0.64620112,  0.14653464],\n",
       "        [-0.58309674, -0.53773645,  0.60896445]]),\n",
       " 9: array([[-0.31469624, -0.54150419, -0.77957648],\n",
       "        [ 0.74889292, -0.64627241,  0.14659938],\n",
       "        [-0.58320294, -0.53768503,  0.60890815]]),\n",
       " 10: array([[-0.31467657, -0.54151249, -0.77957866],\n",
       "        [ 0.7489205 , -0.646242  ,  0.1465925 ],\n",
       "        [-0.58317814, -0.53771321,  0.60890702]]),\n",
       " 11: array([[-0.31455591, -0.54148913, -0.77964357],\n",
       "        [ 0.74908825, -0.64607075,  0.1464902 ],\n",
       "        [-0.58302776, -0.53794248,  0.60884852]]),\n",
       " 12: array([[-0.31461107, -0.54147234, -0.77963298],\n",
       "        [ 0.74924874, -0.64593532,  0.14626648],\n",
       "        [-0.58279173, -0.53812197,  0.60891587]]),\n",
       " 13: array([[-0.31457555, -0.54149951, -0.77962844],\n",
       "        [ 0.74927816, -0.64589691,  0.14628542],\n",
       "        [-0.58277309, -0.53814074,  0.60891713]]),\n",
       " 14: array([[-0.31457437, -0.54150012, -0.77962849],\n",
       "        [ 0.74927887, -0.64589594,  0.14628609],\n",
       "        [-0.58277281, -0.5381413 ,  0.6089169 ]]),\n",
       " 15: array([[-0.31457889, -0.54149975, -0.77962693],\n",
       "        [ 0.74950033, -0.64569219,  0.14605085],\n",
       "        [-0.58248552, -0.53838613,  0.60897537]]),\n",
       " 16: array([[-0.31461676, -0.54147809, -0.77962669],\n",
       "        [ 0.74953722, -0.6456687 ,  0.14596535],\n",
       "        [-0.58241759, -0.53843608,  0.60899618]]),\n",
       " 17: array([[-0.31442389, -0.54170367, -0.77954779],\n",
       "        [ 0.74946252, -0.64566202,  0.1463779 ],\n",
       "        [-0.58261784, -0.53821714,  0.60899816]]),\n",
       " 18: array([[-0.3144271 , -0.54173882, -0.77952206],\n",
       "        [ 0.74939905, -0.6457146 ,  0.14647089],\n",
       "        [-0.58269774, -0.53811867,  0.60900873]]),\n",
       " 19: array([[-0.31446908, -0.54174115, -0.77950352],\n",
       "        [ 0.74956625, -0.64556698,  0.14626591],\n",
       "        [-0.58245999, -0.53829342,  0.60908173]]),\n",
       " 20: array([[-0.31449316, -0.54173447, -0.77949844],\n",
       "        [ 0.74958416, -0.64555585,  0.14622321],\n",
       "        [-0.58242393, -0.53831349,  0.60909847]]),\n",
       " 21: array([[-0.31450499, -0.541677  , -0.77953361],\n",
       "        [ 0.74944504, -0.64569724,  0.14631202],\n",
       "        [-0.58259656, -0.53820173,  0.60903214]]),\n",
       " 22: array([[-0.31451102, -0.54167297, -0.77953397],\n",
       "        [ 0.74946529, -0.64568033,  0.1462829 ],\n",
       "        [-0.58256725, -0.53822607,  0.60903867]]),\n",
       " 23: array([[-0.31448421, -0.54168429, -0.77953692],\n",
       "        [ 0.74948118, -0.64565888,  0.14629618],\n",
       "        [-0.58256128, -0.53824041,  0.60903171]]),\n",
       " 24: array([[-0.31443468, -0.54171589, -0.77953494],\n",
       "        [ 0.74954214, -0.64558803,  0.14629652],\n",
       "        [-0.58250958, -0.53829359,  0.60903415]]),\n",
       " 25: array([[-0.31442372, -0.54174099, -0.77952192],\n",
       "        [ 0.74949609, -0.64562397,  0.14637385],\n",
       "        [-0.58257475, -0.53822522,  0.60903224]]),\n",
       " 26: array([[-0.31438444, -0.54176909, -0.77951824],\n",
       "        [ 0.74952512, -0.64558506,  0.14639683],\n",
       "        [-0.5825586 , -0.53824361,  0.60903143]]),\n",
       " 27: array([[-0.31442656, -0.54177734, -0.77949551],\n",
       "        [ 0.74954615, -0.64557138,  0.14634943],\n",
       "        [-0.5825088 , -0.53825171,  0.60907192]]),\n",
       " 28: array([[-0.31440368, -0.54177624, -0.7795055 ],\n",
       "        [ 0.74956609, -0.6455492 ,  0.14634519],\n",
       "        [-0.5824955 , -0.53827943,  0.60906014]]),\n",
       " 29: array([[-0.31440302, -0.54177594, -0.77950598],\n",
       "        [ 0.74964464, -0.64547654,  0.1462633 ],\n",
       "        [-0.58239476, -0.53836686,  0.6090792 ]]),\n",
       " 30: array([[-0.31440686, -0.54176289, -0.7795135 ],\n",
       "        [ 0.74953824, -0.64557799,  0.14636082],\n",
       "        [-0.58252962, -0.53825833,  0.60904615]]),\n",
       " 31: array([[-0.31440963, -0.54186067, -0.77944442],\n",
       "        [ 0.74874259, -0.64629393,  0.14727077],\n",
       "        [-0.58355044, -0.53729989,  0.6089152 ]]),\n",
       " 32: array([[-0.31440521, -0.54186479, -0.77944333],\n",
       "        [ 0.748744  , -0.64629109,  0.14727609],\n",
       "        [-0.58355101, -0.53729915,  0.6089153 ]]),\n",
       " 33: array([[-0.31439176, -0.54188805, -0.77943259],\n",
       "        [ 0.74865113, -0.64636984,  0.14740254],\n",
       "        [-0.5836774 , -0.53718095,  0.60889845]]),\n",
       " 34: array([[-0.31445394, -0.54184891, -0.77943471],\n",
       "        [ 0.7487249 , -0.64632015,  0.14724566],\n",
       "        [-0.58354927, -0.5372802 ,  0.60893369]]),\n",
       " 35: array([[-0.31446854, -0.5418582 , -0.77942237],\n",
       "        [ 0.74873244, -0.646314  ,  0.14723434],\n",
       "        [-0.58353172, -0.53727824,  0.60895223]]),\n",
       " 36: array([[-0.31444156, -0.54188585, -0.77941403],\n",
       "        [ 0.7487055 , -0.64632888,  0.14730598],\n",
       "        [-0.58358082, -0.53723245,  0.60894558]]),\n",
       " 37: array([[-0.31438622, -0.54192798, -0.77940706],\n",
       "        [ 0.74875489, -0.64626582,  0.14733163],\n",
       "        [-0.58354728, -0.53726581,  0.60894829]]),\n",
       " 38: array([[-0.31437386, -0.541931  , -0.77940995],\n",
       "        [ 0.74887499, -0.6461525 ,  0.14721822],\n",
       "        [-0.5833998 , -0.53739905,  0.60897203]]),\n",
       " 39: array([[-0.31435797, -0.5419353 , -0.77941337],\n",
       "        [ 0.74890363, -0.64612253,  0.14720403],\n",
       "        [-0.5833716 , -0.53743074,  0.60897108]]),\n",
       " 40: array([[-0.3143443 , -0.54192057, -0.77942912],\n",
       "        [ 0.74889889, -0.6461273 ,  0.1472072 ],\n",
       "        [-0.58338504, -0.53743986,  0.60895015]]),\n",
       " 41: array([[-0.31436249, -0.54195215, -0.77939983],\n",
       "        [ 0.74888648, -0.64613594,  0.14723245],\n",
       "        [-0.58339118, -0.53739763,  0.60898154]]),\n",
       " 42: array([[-0.31435971, -0.54197916, -0.77938217],\n",
       "        [ 0.74878152, -0.64622701,  0.14736651],\n",
       "        [-0.58352739, -0.53726087,  0.60897171]]),\n",
       " 43: array([[-0.31432446, -0.54199399, -0.77938607],\n",
       "        [ 0.74891113, -0.6460987 ,  0.14727044],\n",
       "        [-0.58338003, -0.53740021,  0.60898996]]),\n",
       " 44: array([[-0.31432234, -0.54199025, -0.77938952],\n",
       "        [ 0.74890312, -0.64610642,  0.14727732],\n",
       "        [-0.58339145, -0.53739469,  0.60898388]]),\n",
       " 45: array([[-0.31432247, -0.54199582, -0.7793856 ],\n",
       "        [ 0.74885172, -0.64615274,  0.14733548],\n",
       "        [-0.58345736, -0.53733339,  0.60897482]]),\n",
       " 46: array([[-0.31434883, -0.5419982 , -0.77937331],\n",
       "        [ 0.74888475, -0.64612646,  0.14728286],\n",
       "        [-0.58340076, -0.53736259,  0.60900328]]),\n",
       " 47: array([[-0.31428279, -0.54200013, -0.7793986 ],\n",
       "        [ 0.74896134, -0.64604404,  0.14725494],\n",
       "        [-0.58333802, -0.53745973,  0.60897767]]),\n",
       " 48: array([[-0.31429635, -0.54202454, -0.77937616],\n",
       "        [ 0.74892735, -0.6460731 ,  0.1473003 ],\n",
       "        [-0.58337435, -0.53740018,  0.60899542]]),\n",
       " 49: array([[-0.31429415, -0.54204262, -0.77936448],\n",
       "        [ 0.74889144, -0.64610237,  0.14735444],\n",
       "        [-0.58342163, -0.53734675,  0.60899727]]),\n",
       " 50: array([[-0.31436238, -0.54202556, -0.77934882],\n",
       "        [ 0.74892174, -0.64608957,  0.14725657],\n",
       "        [-0.58334597, -0.53737935,  0.60904098]]),\n",
       " 51: array([[-0.31432164, -0.54207467, -0.7793311 ],\n",
       "        [ 0.7488127 , -0.64617361,  0.14744222],\n",
       "        [-0.58350788, -0.53722874,  0.60901875]]),\n",
       " 52: array([[-0.31425232, -0.5421478 , -0.77930818],\n",
       "        [ 0.74879276, -0.64616604,  0.14757658],\n",
       "        [-0.5835708 , -0.53716405,  0.60901553]]),\n",
       " 53: array([[-0.31426794, -0.54214161, -0.77930619],\n",
       "        [ 0.74886348, -0.64610483,  0.14748571],\n",
       "        [-0.58347163, -0.53724392,  0.60904008]]),\n",
       " 54: array([[-0.31427457, -0.54213728, -0.77930653],\n",
       "        [ 0.74892316, -0.64605185,  0.14741476],\n",
       "        [-0.58339146, -0.53731199,  0.60905683]]),\n",
       " 55: array([[-0.31436682, -0.54212095, -0.77928068],\n",
       "        [ 0.7490396 , -0.64596373,  0.14720918],\n",
       "        [-0.58319223, -0.53743441,  0.60913962]]),\n",
       " 56: array([[-0.31433316, -0.5420591 , -0.77933728],\n",
       "        [ 0.74898004, -0.64602443,  0.14724582],\n",
       "        [-0.58328686, -0.53742383,  0.60905834]]),\n",
       " 57: array([[-0.31432229, -0.54207999, -0.77932714],\n",
       "        [ 0.74898034, -0.64601832,  0.14727113],\n",
       "        [-0.58329234, -0.53741011,  0.60906521]]),\n",
       " 58: array([[-0.31420724, -0.54218673, -0.77929927],\n",
       "        [ 0.74898738, -0.64597161,  0.14744011],\n",
       "        [-0.58334528, -0.53735857,  0.60905998]]),\n",
       " 59: array([[-0.31420089, -0.54218762, -0.77930122],\n",
       "        [ 0.7489959 , -0.64596248,  0.1474368 ],\n",
       "        [-0.58333776, -0.53736864,  0.60905829]]),\n",
       " 60: array([[-0.31424272, -0.54214391, -0.77931476],\n",
       "        [ 0.74887491, -0.64608947,  0.14749495],\n",
       "        [-0.58347055, -0.53726006,  0.60902689]]),\n",
       " 61: array([[-0.31425103, -0.542139  , -0.77931482],\n",
       "        [ 0.74898732, -0.64598832,  0.14736718],\n",
       "        [-0.58332177, -0.53738663,  0.60905773]]),\n",
       " 62: array([[-0.31416706, -0.54210962, -0.77936911],\n",
       "        [ 0.74907584, -0.64589768,  0.14731452],\n",
       "        [-0.58325332, -0.5375252 ,  0.609001  ]]),\n",
       " 63: array([[-0.31421078, -0.54211687, -0.77934644],\n",
       "        [ 0.74921827, -0.64577262,  0.14713839],\n",
       "        [-0.5830468 , -0.53766813,  0.60907259]]),\n",
       " 64: array([[-0.31419794, -0.5421079 , -0.77935786],\n",
       "        [ 0.74922984, -0.64576141,  0.14712868],\n",
       "        [-0.58303885, -0.53769064,  0.60906032]]),\n",
       " 65: array([[-0.31424021, -0.54208449, -0.77935711],\n",
       "        [ 0.74927626, -0.64573037,  0.14702847],\n",
       "        [-0.58295641, -0.53775152,  0.60908549]]),\n",
       " 66: array([[-0.31425581, -0.54208584, -0.77934987],\n",
       "        [ 0.74928353, -0.64572612,  0.14701007],\n",
       "        [-0.58293865, -0.53775525,  0.60909918]]),\n",
       " 67: array([[-0.31426917, -0.54209263, -0.77933977],\n",
       "        [ 0.74928796, -0.64572308,  0.14700086],\n",
       "        [-0.58292575, -0.53775207,  0.60911434]]),\n",
       " 68: array([[-0.31430611, -0.54212049, -0.77930549],\n",
       "        [ 0.74929141, -0.64572107,  0.14699211],\n",
       "        [-0.58290141, -0.53772639,  0.60916031]]),\n",
       " 69: array([[-0.31437241, -0.54212696, -0.77927424],\n",
       "        [ 0.74941656, -0.6456159 ,  0.14681597],\n",
       "        [-0.58270474, -0.53784613,  0.60924275]]),\n",
       " 70: array([[-0.31437759, -0.54209412, -0.779295  ],\n",
       "        [ 0.74923947, -0.64578639,  0.1469699 ],\n",
       "        [-0.58292963, -0.53767453,  0.60917908]]),\n",
       " 71: array([[-0.31432676, -0.5421145 , -0.77930132],\n",
       "        [ 0.74936457, -0.64565829,  0.14689489],\n",
       "        [-0.58279621, -0.5378078 ,  0.60918908]]),\n",
       " 72: array([[-0.31432049, -0.54214804, -0.77928052],\n",
       "        [ 0.74929996, -0.64571049,  0.14699501],\n",
       "        [-0.58288266, -0.53771132,  0.60919155]]),\n",
       " 73: array([[-0.31433015, -0.54214536, -0.77927849],\n",
       "        [ 0.74936542, -0.64565228,  0.14691698],\n",
       "        [-0.58279329, -0.53778392,  0.60921296]]),\n",
       " 74: array([[-0.31434099, -0.54215775, -0.7792655 ],\n",
       "        [ 0.74936222, -0.64565479,  0.14692231],\n",
       "        [-0.58279157, -0.53776842,  0.6092283 ]]),\n",
       " 75: array([[-0.31434883, -0.54214753, -0.77926945],\n",
       "        [ 0.74934591, -0.64567312,  0.1469249 ],\n",
       "        [-0.58280831, -0.5377567 ,  0.60922262]]),\n",
       " 76: array([[-0.31426732, -0.54215937, -0.77929408],\n",
       "        [ 0.74969387, -0.64533542,  0.14663318],\n",
       "        [-0.58240463, -0.53814999,  0.60926139]]),\n",
       " 77: array([[-0.31430095, -0.54215242, -0.77928536],\n",
       "        [ 0.74974267, -0.64529748,  0.14655063],\n",
       "        [-0.58232365, -0.53820248,  0.60929242]]),\n",
       " 78: array([[-0.31425657, -0.54212185, -0.77932452],\n",
       "        [ 0.74980427, -0.64523857,  0.14649483],\n",
       "        [-0.58226829, -0.53830389,  0.60925574]]),\n",
       " 79: array([[-0.31426366, -0.54212687, -0.77931817],\n",
       "        [ 0.74980454, -0.64523862,  0.14649328],\n",
       "        [-0.58226412, -0.53829878,  0.60926424]]),\n",
       " 80: array([[-0.31426634, -0.54213567, -0.77931096],\n",
       "        [ 0.74977893, -0.6452611 ,  0.1465253 ],\n",
       "        [-0.58229564, -0.53826297,  0.60926575]]),\n",
       " 81: array([[-0.31430091, -0.54217225, -0.77927158],\n",
       "        [ 0.74975537, -0.64528201,  0.14655378],\n",
       "        [-0.58230732, -0.53820106,  0.60930928]]),\n",
       " 82: array([[-0.31423757, -0.54224056, -0.77924959],\n",
       "        [ 0.74970043, -0.64530891,  0.14671631],\n",
       "        [-0.58241224, -0.53809998,  0.60929828]]),\n",
       " 83: array([[-0.31424139, -0.5422401 , -0.77924837],\n",
       "        [ 0.75010138, -0.6449389 ,  0.14629332],\n",
       "        [-0.58189369, -0.53854386,  0.60940155]]),\n",
       " 84: array([[-0.31428874, -0.54222836, -0.77923744],\n",
       "        [ 0.75024807, -0.64481352,  0.14609367],\n",
       "        [-0.58167896, -0.53870579,  0.60946341]]),\n",
       " 85: array([[-0.31432873, -0.5422117 , -0.77923291],\n",
       "        [ 0.75052272, -0.64456906,  0.14576134],\n",
       "        [-0.58130293, -0.53901503,  0.60954877]]),\n",
       " 86: array([[-0.3142989 , -0.54222973, -0.77923239],\n",
       "        [ 0.75053725, -0.64454704,  0.1457839 ],\n",
       "        [-0.5813003 , -0.53902322,  0.60954404]]),\n",
       " 87: array([[-0.31431479, -0.54221787, -0.77923424],\n",
       "        [ 0.75054232, -0.64454732,  0.14575658],\n",
       "        [-0.58128516, -0.53903482,  0.60954822]]),\n",
       " 88: array([[-0.31422383, -0.54222344, -0.77926704],\n",
       "        [ 0.75132613, -0.64380248,  0.14500834],\n",
       "        [-0.58032098, -0.53991861,  0.60968472]]),\n",
       " 89: array([[-0.31426286, -0.54233314, -0.77917496],\n",
       "        [ 0.75128078, -0.643831  ,  0.14511663],\n",
       "        [-0.58035855, -0.5397744 ,  0.60977663]]),\n",
       " 90: array([[-0.3143215 , -0.54224572, -0.77921215],\n",
       "        [ 0.75115399, -0.64397534,  0.14513251],\n",
       "        [-0.58049089, -0.53969005,  0.60972533]]),\n",
       " 91: array([[-0.31432192, -0.54224989, -0.77920908],\n",
       "        [ 0.75115018, -0.64397817,  0.14513965],\n",
       "        [-0.58049559, -0.53968247,  0.60972756]]),\n",
       " 92: array([[-0.31434202, -0.54223321, -0.77921258],\n",
       "        [ 0.75117661, -0.64396019,  0.14508264],\n",
       "        [-0.5804505 , -0.53972069,  0.60973665]]),\n",
       " 93: array([[-0.3143428 , -0.54223338, -0.77921215],\n",
       "        [ 0.75118046, -0.64395672,  0.14507816],\n",
       "        [-0.58044511, -0.53972466,  0.60973827]]),\n",
       " 94: array([[-0.31437016, -0.54222203, -0.77920901],\n",
       "        [ 0.75120041, -0.64394501,  0.14502678],\n",
       "        [-0.58040446, -0.53975003,  0.60975451]]),\n",
       " 95: array([[-0.31443995, -0.54226539, -0.77915067],\n",
       "        [ 0.75131785, -0.64383978,  0.14488557],\n",
       "        [-0.58021462, -0.53983199,  0.60986262]]),\n",
       " 96: array([[-0.31444703, -0.54226757, -0.77914629],\n",
       "        [ 0.75132012, -0.64383848,  0.14487953],\n",
       "        [-0.58020784, -0.53983135,  0.60986964]]),\n",
       " 97: array([[-0.31445523, -0.54238588, -0.77906063],\n",
       "        [ 0.75106518, -0.64405493,  0.14523892],\n",
       "        [-0.58053338, -0.53945418,  0.60989359]]),\n",
       " 98: array([[-0.31438213, -0.5424451 , -0.7790489 ],\n",
       "        [ 0.75111833, -0.64398183,  0.14528819],\n",
       "        [-0.5805042 , -0.5394819 ,  0.60989684]]),\n",
       " 99: array([[-0.31437344, -0.54244987, -0.77904908],\n",
       "        [ 0.75124864, -0.6438583 ,  0.14516189],\n",
       "        [-0.58034027, -0.53962452,  0.60992668]])}"
      ]
     },
     "execution_count": 139,
     "metadata": {},
     "output_type": "execute_result"
    }
   ],
   "source": [
    "betas_pca"
   ]
  },
  {
   "cell_type": "code",
   "execution_count": null,
   "id": "4b3858f6",
   "metadata": {},
   "outputs": [],
   "source": []
  },
  {
   "cell_type": "code",
   "execution_count": 126,
   "id": "cea20952",
   "metadata": {},
   "outputs": [
    {
     "data": {
      "text/plain": [
       "(array([[-0.27324196,  0.47179896,  0.01482733],\n",
       "        [-0.29737161,  0.47612882,  0.06349155],\n",
       "        [-0.28338437,  0.48277842,  0.03971921],\n",
       "        ...,\n",
       "        [-0.26493715,  0.4810714 ,  0.02960423],\n",
       "        [-0.26537483,  0.47648515,  0.02703101],\n",
       "        [-0.31678352,  0.47765438,  0.1011124 ]]),\n",
       " array([[0.00050323, 0.00047224, 0.00077542],\n",
       "        [0.00047224, 0.00110012, 0.0013103 ],\n",
       "        [0.00077542, 0.0013103 , 0.00203902]]),\n",
       " array([[1.        , 0.63468737, 0.76548984],\n",
       "        [0.63468737, 1.        , 0.87486425],\n",
       "        [0.76548984, 0.87486425, 1.        ]]),\n",
       " array([0.00325932, 0.00025039, 0.00013266]),\n",
       " array([[ 0.31237119,  0.54183236,  0.78028324],\n",
       "        [-0.74581753,  0.64861706, -0.15182922],\n",
       "        [-0.58837101, -0.53452185,  0.60671736]]),\n",
       " array([0.895, 0.069, 0.036]))"
      ]
     },
     "execution_count": 126,
     "metadata": {},
     "output_type": "execute_result"
    }
   ],
   "source": [
    "pcs_by_svd[i]"
   ]
  },
  {
   "cell_type": "code",
   "execution_count": null,
   "id": "3c54b843",
   "metadata": {},
   "outputs": [],
   "source": []
  },
  {
   "cell_type": "code",
   "execution_count": 133,
   "id": "f99cef29",
   "metadata": {},
   "outputs": [
    {
     "ename": "ValueError",
     "evalue": "Found input variables with inconsistent numbers of samples: [4004, 6003]",
     "output_type": "error",
     "traceback": [
      "\u001b[1;31m---------------------------------------------------------------------------\u001b[0m",
      "\u001b[1;31mValueError\u001b[0m                                Traceback (most recent call last)",
      "Cell \u001b[1;32mIn[133], line 8\u001b[0m\n\u001b[0;32m      6\u001b[0m pc_svd \u001b[38;5;241m=\u001b[39m pcs_by_svd[i][\u001b[38;5;241m0\u001b[39m]\n\u001b[0;32m      7\u001b[0m pc_pca \u001b[38;5;241m=\u001b[39m pcs_by_pca[i][\u001b[38;5;241m0\u001b[39m]\n\u001b[1;32m----> 8\u001b[0m model0 \u001b[38;5;241m=\u001b[39m \u001b[43mLinearRegression\u001b[49m\u001b[43m(\u001b[49m\u001b[43mfit_intercept\u001b[49m\u001b[38;5;241;43m=\u001b[39;49m\u001b[38;5;28;43;01mTrue\u001b[39;49;00m\u001b[43m)\u001b[49m\u001b[38;5;241;43m.\u001b[39;49m\u001b[43mfit\u001b[49m\u001b[43m(\u001b[49m\u001b[43mpc_svd\u001b[49m\u001b[43m,\u001b[49m\u001b[43m \u001b[49m\u001b[43mdata\u001b[49m\u001b[43m)\u001b[49m\n\u001b[0;32m      9\u001b[0m model1 \u001b[38;5;241m=\u001b[39m LinearRegression(fit_intercept\u001b[38;5;241m=\u001b[39m\u001b[38;5;28;01mTrue\u001b[39;00m)\u001b[38;5;241m.\u001b[39mfit(pc_pca, data)\n\u001b[0;32m     10\u001b[0m betas_svd[i, :] \u001b[38;5;241m=\u001b[39m model0\u001b[38;5;241m.\u001b[39mcoef_\n",
      "File \u001b[1;32m~\\anaconda3\\envs\\volatilityModels\\lib\\site-packages\\sklearn\\linear_model\\_base.py:684\u001b[0m, in \u001b[0;36mLinearRegression.fit\u001b[1;34m(self, X, y, sample_weight)\u001b[0m\n\u001b[0;32m    680\u001b[0m n_jobs_ \u001b[38;5;241m=\u001b[39m \u001b[38;5;28mself\u001b[39m\u001b[38;5;241m.\u001b[39mn_jobs\n\u001b[0;32m    682\u001b[0m accept_sparse \u001b[38;5;241m=\u001b[39m \u001b[38;5;28;01mFalse\u001b[39;00m \u001b[38;5;28;01mif\u001b[39;00m \u001b[38;5;28mself\u001b[39m\u001b[38;5;241m.\u001b[39mpositive \u001b[38;5;28;01melse\u001b[39;00m [\u001b[38;5;124m\"\u001b[39m\u001b[38;5;124mcsr\u001b[39m\u001b[38;5;124m\"\u001b[39m, \u001b[38;5;124m\"\u001b[39m\u001b[38;5;124mcsc\u001b[39m\u001b[38;5;124m\"\u001b[39m, \u001b[38;5;124m\"\u001b[39m\u001b[38;5;124mcoo\u001b[39m\u001b[38;5;124m\"\u001b[39m]\n\u001b[1;32m--> 684\u001b[0m X, y \u001b[38;5;241m=\u001b[39m \u001b[38;5;28;43mself\u001b[39;49m\u001b[38;5;241;43m.\u001b[39;49m\u001b[43m_validate_data\u001b[49m\u001b[43m(\u001b[49m\n\u001b[0;32m    685\u001b[0m \u001b[43m    \u001b[49m\u001b[43mX\u001b[49m\u001b[43m,\u001b[49m\u001b[43m \u001b[49m\u001b[43my\u001b[49m\u001b[43m,\u001b[49m\u001b[43m \u001b[49m\u001b[43maccept_sparse\u001b[49m\u001b[38;5;241;43m=\u001b[39;49m\u001b[43maccept_sparse\u001b[49m\u001b[43m,\u001b[49m\u001b[43m \u001b[49m\u001b[43my_numeric\u001b[49m\u001b[38;5;241;43m=\u001b[39;49m\u001b[38;5;28;43;01mTrue\u001b[39;49;00m\u001b[43m,\u001b[49m\u001b[43m \u001b[49m\u001b[43mmulti_output\u001b[49m\u001b[38;5;241;43m=\u001b[39;49m\u001b[38;5;28;43;01mTrue\u001b[39;49;00m\n\u001b[0;32m    686\u001b[0m \u001b[43m\u001b[49m\u001b[43m)\u001b[49m\n\u001b[0;32m    688\u001b[0m sample_weight \u001b[38;5;241m=\u001b[39m _check_sample_weight(\n\u001b[0;32m    689\u001b[0m     sample_weight, X, dtype\u001b[38;5;241m=\u001b[39mX\u001b[38;5;241m.\u001b[39mdtype, only_non_negative\u001b[38;5;241m=\u001b[39m\u001b[38;5;28;01mTrue\u001b[39;00m\n\u001b[0;32m    690\u001b[0m )\n\u001b[0;32m    692\u001b[0m X, y, X_offset, y_offset, X_scale \u001b[38;5;241m=\u001b[39m _preprocess_data(\n\u001b[0;32m    693\u001b[0m     X,\n\u001b[0;32m    694\u001b[0m     y,\n\u001b[1;32m   (...)\u001b[0m\n\u001b[0;32m    698\u001b[0m     sample_weight\u001b[38;5;241m=\u001b[39msample_weight,\n\u001b[0;32m    699\u001b[0m )\n",
      "File \u001b[1;32m~\\anaconda3\\envs\\volatilityModels\\lib\\site-packages\\sklearn\\base.py:596\u001b[0m, in \u001b[0;36mBaseEstimator._validate_data\u001b[1;34m(self, X, y, reset, validate_separately, **check_params)\u001b[0m\n\u001b[0;32m    594\u001b[0m         y \u001b[38;5;241m=\u001b[39m check_array(y, input_name\u001b[38;5;241m=\u001b[39m\u001b[38;5;124m\"\u001b[39m\u001b[38;5;124my\u001b[39m\u001b[38;5;124m\"\u001b[39m, \u001b[38;5;241m*\u001b[39m\u001b[38;5;241m*\u001b[39mcheck_y_params)\n\u001b[0;32m    595\u001b[0m     \u001b[38;5;28;01melse\u001b[39;00m:\n\u001b[1;32m--> 596\u001b[0m         X, y \u001b[38;5;241m=\u001b[39m check_X_y(X, y, \u001b[38;5;241m*\u001b[39m\u001b[38;5;241m*\u001b[39mcheck_params)\n\u001b[0;32m    597\u001b[0m     out \u001b[38;5;241m=\u001b[39m X, y\n\u001b[0;32m    599\u001b[0m \u001b[38;5;28;01mif\u001b[39;00m \u001b[38;5;129;01mnot\u001b[39;00m no_val_X \u001b[38;5;129;01mand\u001b[39;00m check_params\u001b[38;5;241m.\u001b[39mget(\u001b[38;5;124m\"\u001b[39m\u001b[38;5;124mensure_2d\u001b[39m\u001b[38;5;124m\"\u001b[39m, \u001b[38;5;28;01mTrue\u001b[39;00m):\n",
      "File \u001b[1;32m~\\anaconda3\\envs\\volatilityModels\\lib\\site-packages\\sklearn\\utils\\validation.py:1092\u001b[0m, in \u001b[0;36mcheck_X_y\u001b[1;34m(X, y, accept_sparse, accept_large_sparse, dtype, order, copy, force_all_finite, ensure_2d, allow_nd, multi_output, ensure_min_samples, ensure_min_features, y_numeric, estimator)\u001b[0m\n\u001b[0;32m   1074\u001b[0m X \u001b[38;5;241m=\u001b[39m check_array(\n\u001b[0;32m   1075\u001b[0m     X,\n\u001b[0;32m   1076\u001b[0m     accept_sparse\u001b[38;5;241m=\u001b[39maccept_sparse,\n\u001b[1;32m   (...)\u001b[0m\n\u001b[0;32m   1087\u001b[0m     input_name\u001b[38;5;241m=\u001b[39m\u001b[38;5;124m\"\u001b[39m\u001b[38;5;124mX\u001b[39m\u001b[38;5;124m\"\u001b[39m,\n\u001b[0;32m   1088\u001b[0m )\n\u001b[0;32m   1090\u001b[0m y \u001b[38;5;241m=\u001b[39m _check_y(y, multi_output\u001b[38;5;241m=\u001b[39mmulti_output, y_numeric\u001b[38;5;241m=\u001b[39my_numeric, estimator\u001b[38;5;241m=\u001b[39mestimator)\n\u001b[1;32m-> 1092\u001b[0m \u001b[43mcheck_consistent_length\u001b[49m\u001b[43m(\u001b[49m\u001b[43mX\u001b[49m\u001b[43m,\u001b[49m\u001b[43m \u001b[49m\u001b[43my\u001b[49m\u001b[43m)\u001b[49m\n\u001b[0;32m   1094\u001b[0m \u001b[38;5;28;01mreturn\u001b[39;00m X, y\n",
      "File \u001b[1;32m~\\anaconda3\\envs\\volatilityModels\\lib\\site-packages\\sklearn\\utils\\validation.py:387\u001b[0m, in \u001b[0;36mcheck_consistent_length\u001b[1;34m(*arrays)\u001b[0m\n\u001b[0;32m    385\u001b[0m uniques \u001b[38;5;241m=\u001b[39m np\u001b[38;5;241m.\u001b[39munique(lengths)\n\u001b[0;32m    386\u001b[0m \u001b[38;5;28;01mif\u001b[39;00m \u001b[38;5;28mlen\u001b[39m(uniques) \u001b[38;5;241m>\u001b[39m \u001b[38;5;241m1\u001b[39m:\n\u001b[1;32m--> 387\u001b[0m     \u001b[38;5;28;01mraise\u001b[39;00m \u001b[38;5;167;01mValueError\u001b[39;00m(\n\u001b[0;32m    388\u001b[0m         \u001b[38;5;124m\"\u001b[39m\u001b[38;5;124mFound input variables with inconsistent numbers of samples: \u001b[39m\u001b[38;5;132;01m%r\u001b[39;00m\u001b[38;5;124m\"\u001b[39m\n\u001b[0;32m    389\u001b[0m         \u001b[38;5;241m%\u001b[39m [\u001b[38;5;28mint\u001b[39m(l) \u001b[38;5;28;01mfor\u001b[39;00m l \u001b[38;5;129;01min\u001b[39;00m lengths]\n\u001b[0;32m    390\u001b[0m     )\n",
      "\u001b[1;31mValueError\u001b[0m: Found input variables with inconsistent numbers of samples: [4004, 6003]"
     ]
    }
   ],
   "source": [
    "# plot only first components\n",
    "\n",
    "\n",
    "for i in np.arange(0, 100):\n",
    "    pc_svd = pcs_by_svd[i][0]\n",
    "    pc_pca = pcs_by_pca[i][0]\n",
    "    model0 = LinearRegression(fit_intercept=True).fit(pc_svd, data)\n",
    "    model1 = LinearRegression(fit_intercept=True).fit(pc_pca, data)\n",
    "    betas_svd[i, :] = model0.coef_\n",
    "    betas_pca[i, :] = model1.coef_\n",
    "    "
   ]
  },
  {
   "cell_type": "code",
   "execution_count": 111,
   "id": "f969a0de",
   "metadata": {},
   "outputs": [
    {
     "data": {
      "text/html": [
       "<div>\n",
       "<style scoped>\n",
       "    .dataframe tbody tr th:only-of-type {\n",
       "        vertical-align: middle;\n",
       "    }\n",
       "\n",
       "    .dataframe tbody tr th {\n",
       "        vertical-align: top;\n",
       "    }\n",
       "\n",
       "    .dataframe thead th {\n",
       "        text-align: right;\n",
       "    }\n",
       "</style>\n",
       "<table border=\"1\" class=\"dataframe\">\n",
       "  <thead>\n",
       "    <tr style=\"text-align: right;\">\n",
       "      <th></th>\n",
       "      <th>0</th>\n",
       "      <th>1</th>\n",
       "      <th>2</th>\n",
       "      <th>3</th>\n",
       "      <th>4</th>\n",
       "      <th>5</th>\n",
       "    </tr>\n",
       "  </thead>\n",
       "  <tbody>\n",
       "    <tr>\n",
       "      <th>0</th>\n",
       "      <td>[[-0.2796256133366959, 0.4679055836328581, 0.0...</td>\n",
       "      <td>[[0.0005043304415711911, 0.0004691681341790137...</td>\n",
       "      <td>[[1.0000000000000002, 0.6310312800208905, 0.76...</td>\n",
       "      <td>[0.0032093263373823362, 0.00025205412325322494...</td>\n",
       "      <td>[[0.31418570510691823, 0.5453807606156482, 0.7...</td>\n",
       "      <td>[0.893, 0.07, 0.037]</td>\n",
       "    </tr>\n",
       "    <tr>\n",
       "      <th>1</th>\n",
       "      <td>[[-0.27930272645574944, 0.4681083476230823, 0....</td>\n",
       "      <td>[[0.000504078789243597, 0.000468933316969009, ...</td>\n",
       "      <td>[[1.0, 0.6310155255952375, 0.7624857830703111]...</td>\n",
       "      <td>[0.0032078306277136415, 0.0002519808424730513,...</td>\n",
       "      <td>[[0.3141759779759591, 0.5453374152080245, 0.77...</td>\n",
       "      <td>[0.893, 0.07, 0.037]</td>\n",
       "    </tr>\n",
       "    <tr>\n",
       "      <th>2</th>\n",
       "      <td>[[-0.27933340958854813, 0.4680929210348736, 0....</td>\n",
       "      <td>[[0.0005039845643675103, 0.0004691543634049655...</td>\n",
       "      <td>[[0.9999999999999999, 0.6311501649652439, 0.76...</td>\n",
       "      <td>[0.0032094954996761756, 0.0002519123888328003,...</td>\n",
       "      <td>[[0.31407114944693615, 0.5454362261546468, 0.7...</td>\n",
       "      <td>[0.893, 0.07, 0.037]</td>\n",
       "    </tr>\n",
       "    <tr>\n",
       "      <th>3</th>\n",
       "      <td>[[-0.27926313520569873, 0.4681341824262132, 0....</td>\n",
       "      <td>[[0.0005040962197290979, 0.0004693230747824849...</td>\n",
       "      <td>[[1.0, 0.6313359719489684, 0.7627305929856519]...</td>\n",
       "      <td>[0.0032102544761729865, 0.0002518304628016519,...</td>\n",
       "      <td>[[0.31413423464663226, 0.5453489967649741, 0.7...</td>\n",
       "      <td>[0.893, 0.07, 0.037]</td>\n",
       "    </tr>\n",
       "    <tr>\n",
       "      <th>4</th>\n",
       "      <td>[[-0.2792749436341439, 0.4681267426190486, 0.0...</td>\n",
       "      <td>[[0.0005038524455085498, 0.0004690898119680291...</td>\n",
       "      <td>[[1.0000000000000002, 0.6313321068766867, 0.76...</td>\n",
       "      <td>[0.003208655000781238, 0.00025170816885361003,...</td>\n",
       "      <td>[[0.3141344377005794, 0.5453489998401321, 0.77...</td>\n",
       "      <td>[0.893, 0.07, 0.037]</td>\n",
       "    </tr>\n",
       "    <tr>\n",
       "      <th>...</th>\n",
       "      <td>...</td>\n",
       "      <td>...</td>\n",
       "      <td>...</td>\n",
       "      <td>...</td>\n",
       "      <td>...</td>\n",
       "      <td>...</td>\n",
       "    </tr>\n",
       "    <tr>\n",
       "      <th>1995</th>\n",
       "      <td>[[-0.2732566738258412, 0.4717914559704424, 0.0...</td>\n",
       "      <td>[[0.0005031641547591715, 0.0004720179916073823...</td>\n",
       "      <td>[[1.0000000000000002, 0.6344073141046523, 0.76...</td>\n",
       "      <td>[0.0032589979400899157, 0.000250559788388756, ...</td>\n",
       "      <td>[[0.31228740399689947, 0.5418554170376167, 0.7...</td>\n",
       "      <td>[0.895, 0.069, 0.036]</td>\n",
       "    </tr>\n",
       "    <tr>\n",
       "      <th>1996</th>\n",
       "      <td>[[-0.2732772155671306, 0.47178079926454974, 0....</td>\n",
       "      <td>[[0.000503156589528478, 0.0004722174933168093,...</td>\n",
       "      <td>[[1.0000000000000002, 0.6345137126824575, 0.76...</td>\n",
       "      <td>[0.0032604119613424474, 0.00025052603929914965...</td>\n",
       "      <td>[[0.31222663081810675, 0.5419120852893983, 0.7...</td>\n",
       "      <td>[0.895, 0.069, 0.036]</td>\n",
       "    </tr>\n",
       "    <tr>\n",
       "      <th>1997</th>\n",
       "      <td>[[-0.2733394213227964, 0.47174259796522927, 0....</td>\n",
       "      <td>[[0.0005032376569570841, 0.0004722995042290536...</td>\n",
       "      <td>[[0.9999999999999998, 0.6345963410666896, 0.76...</td>\n",
       "      <td>[0.003260213997464304, 0.000250481059482042, 0...</td>\n",
       "      <td>[[0.31228023691200135, 0.5419147967483502, 0.7...</td>\n",
       "      <td>[0.895, 0.069, 0.036]</td>\n",
       "    </tr>\n",
       "    <tr>\n",
       "      <th>1998</th>\n",
       "      <td>[[-0.2732960347925986, 0.4717687722887905, 0.0...</td>\n",
       "      <td>[[0.0005031120225951797, 0.00047218251633171, ...</td>\n",
       "      <td>[[1.0000000000000002, 0.6345954264531575, 0.76...</td>\n",
       "      <td>[0.003259410652553016, 0.0002504247269491333, ...</td>\n",
       "      <td>[[0.31227875605043964, 0.5419097066873567, 0.7...</td>\n",
       "      <td>[0.895, 0.069, 0.036]</td>\n",
       "    </tr>\n",
       "    <tr>\n",
       "      <th>1999</th>\n",
       "      <td>[[-0.27326047784525637, 0.47179016607060575, 0...</td>\n",
       "      <td>[[0.0005029900519936111, 0.0004720613154252228...</td>\n",
       "      <td>[[1.0, 0.6345879476346608, 0.7653599229546655]...</td>\n",
       "      <td>[0.0032586145006916504, 0.000250373786555645, ...</td>\n",
       "      <td>[[0.31227971240971153, 0.5419041441501683, 0.7...</td>\n",
       "      <td>[0.895, 0.069, 0.036]</td>\n",
       "    </tr>\n",
       "  </tbody>\n",
       "</table>\n",
       "<p>2000 rows × 6 columns</p>\n",
       "</div>"
      ],
      "text/plain": [
       "                                                      0  \\\n",
       "0     [[-0.2796256133366959, 0.4679055836328581, 0.0...   \n",
       "1     [[-0.27930272645574944, 0.4681083476230823, 0....   \n",
       "2     [[-0.27933340958854813, 0.4680929210348736, 0....   \n",
       "3     [[-0.27926313520569873, 0.4681341824262132, 0....   \n",
       "4     [[-0.2792749436341439, 0.4681267426190486, 0.0...   \n",
       "...                                                 ...   \n",
       "1995  [[-0.2732566738258412, 0.4717914559704424, 0.0...   \n",
       "1996  [[-0.2732772155671306, 0.47178079926454974, 0....   \n",
       "1997  [[-0.2733394213227964, 0.47174259796522927, 0....   \n",
       "1998  [[-0.2732960347925986, 0.4717687722887905, 0.0...   \n",
       "1999  [[-0.27326047784525637, 0.47179016607060575, 0...   \n",
       "\n",
       "                                                      1  \\\n",
       "0     [[0.0005043304415711911, 0.0004691681341790137...   \n",
       "1     [[0.000504078789243597, 0.000468933316969009, ...   \n",
       "2     [[0.0005039845643675103, 0.0004691543634049655...   \n",
       "3     [[0.0005040962197290979, 0.0004693230747824849...   \n",
       "4     [[0.0005038524455085498, 0.0004690898119680291...   \n",
       "...                                                 ...   \n",
       "1995  [[0.0005031641547591715, 0.0004720179916073823...   \n",
       "1996  [[0.000503156589528478, 0.0004722174933168093,...   \n",
       "1997  [[0.0005032376569570841, 0.0004722995042290536...   \n",
       "1998  [[0.0005031120225951797, 0.00047218251633171, ...   \n",
       "1999  [[0.0005029900519936111, 0.0004720613154252228...   \n",
       "\n",
       "                                                      2  \\\n",
       "0     [[1.0000000000000002, 0.6310312800208905, 0.76...   \n",
       "1     [[1.0, 0.6310155255952375, 0.7624857830703111]...   \n",
       "2     [[0.9999999999999999, 0.6311501649652439, 0.76...   \n",
       "3     [[1.0, 0.6313359719489684, 0.7627305929856519]...   \n",
       "4     [[1.0000000000000002, 0.6313321068766867, 0.76...   \n",
       "...                                                 ...   \n",
       "1995  [[1.0000000000000002, 0.6344073141046523, 0.76...   \n",
       "1996  [[1.0000000000000002, 0.6345137126824575, 0.76...   \n",
       "1997  [[0.9999999999999998, 0.6345963410666896, 0.76...   \n",
       "1998  [[1.0000000000000002, 0.6345954264531575, 0.76...   \n",
       "1999  [[1.0, 0.6345879476346608, 0.7653599229546655]...   \n",
       "\n",
       "                                                      3  \\\n",
       "0     [0.0032093263373823362, 0.00025205412325322494...   \n",
       "1     [0.0032078306277136415, 0.0002519808424730513,...   \n",
       "2     [0.0032094954996761756, 0.0002519123888328003,...   \n",
       "3     [0.0032102544761729865, 0.0002518304628016519,...   \n",
       "4     [0.003208655000781238, 0.00025170816885361003,...   \n",
       "...                                                 ...   \n",
       "1995  [0.0032589979400899157, 0.000250559788388756, ...   \n",
       "1996  [0.0032604119613424474, 0.00025052603929914965...   \n",
       "1997  [0.003260213997464304, 0.000250481059482042, 0...   \n",
       "1998  [0.003259410652553016, 0.0002504247269491333, ...   \n",
       "1999  [0.0032586145006916504, 0.000250373786555645, ...   \n",
       "\n",
       "                                                      4                      5  \n",
       "0     [[0.31418570510691823, 0.5453807606156482, 0.7...   [0.893, 0.07, 0.037]  \n",
       "1     [[0.3141759779759591, 0.5453374152080245, 0.77...   [0.893, 0.07, 0.037]  \n",
       "2     [[0.31407114944693615, 0.5454362261546468, 0.7...   [0.893, 0.07, 0.037]  \n",
       "3     [[0.31413423464663226, 0.5453489967649741, 0.7...   [0.893, 0.07, 0.037]  \n",
       "4     [[0.3141344377005794, 0.5453489998401321, 0.77...   [0.893, 0.07, 0.037]  \n",
       "...                                                 ...                    ...  \n",
       "1995  [[0.31228740399689947, 0.5418554170376167, 0.7...  [0.895, 0.069, 0.036]  \n",
       "1996  [[0.31222663081810675, 0.5419120852893983, 0.7...  [0.895, 0.069, 0.036]  \n",
       "1997  [[0.31228023691200135, 0.5419147967483502, 0.7...  [0.895, 0.069, 0.036]  \n",
       "1998  [[0.31227875605043964, 0.5419097066873567, 0.7...  [0.895, 0.069, 0.036]  \n",
       "1999  [[0.31227971240971153, 0.5419041441501683, 0.7...  [0.895, 0.069, 0.036]  \n",
       "\n",
       "[2000 rows x 6 columns]"
      ]
     },
     "execution_count": 111,
     "metadata": {},
     "output_type": "execute_result"
    }
   ],
   "source": [
    "pcs_by_svd"
   ]
  },
  {
   "cell_type": "code",
   "execution_count": null,
   "id": "b2d1ff3d",
   "metadata": {},
   "outputs": [],
   "source": [
    "model0 = LinearRegression(fit_intercept=True)\n",
    "res0 = model0.fit(X0, data)\n",
    "model1 = LinearRegression(fit_intercept=True).fit(X1, data)\n",
    "res1 = model1.fit(X1, data)"
   ]
  },
  {
   "cell_type": "code",
   "execution_count": null,
   "id": "3174d97a",
   "metadata": {},
   "outputs": [],
   "source": [
    "model0.score(X0, data)"
   ]
  },
  {
   "cell_type": "code",
   "execution_count": null,
   "id": "58b3665a",
   "metadata": {},
   "outputs": [],
   "source": [
    "model1.score(X1, data)"
   ]
  },
  {
   "cell_type": "code",
   "execution_count": null,
   "id": "b8e5ce05",
   "metadata": {},
   "outputs": [],
   "source": [
    "err0 = data - model0.predict(X0)\n",
    "err1 = data - model1.predict(X1)"
   ]
  },
  {
   "cell_type": "code",
   "execution_count": null,
   "id": "f87c774e",
   "metadata": {},
   "outputs": [],
   "source": [
    "err0"
   ]
  },
  {
   "cell_type": "code",
   "execution_count": null,
   "id": "9dbb28d9",
   "metadata": {},
   "outputs": [],
   "source": [
    "err1"
   ]
  },
  {
   "cell_type": "code",
   "execution_count": null,
   "id": "90d67ed1",
   "metadata": {},
   "outputs": [],
   "source": [
    "sns.displot(data=err0, kind=\"kde\", rug=True)"
   ]
  },
  {
   "cell_type": "code",
   "execution_count": null,
   "id": "eb5a1f1a",
   "metadata": {},
   "outputs": [],
   "source": [
    "sns.displot(data=err1, kind=\"kde\", rug=True)"
   ]
  },
  {
   "cell_type": "code",
   "execution_count": null,
   "id": "f8237cda",
   "metadata": {},
   "outputs": [],
   "source": [
    "# Comparison with Ledoit-Wolf\n",
    "cov_lw = LedoitWolf().fit(data).covariance_"
   ]
  },
  {
   "cell_type": "code",
   "execution_count": null,
   "id": "33b5fe0f",
   "metadata": {},
   "outputs": [],
   "source": [
    "_, s2, v2 = svd(cov_lw)\n",
    "cov2 = np.linalg.multi_dot([v2.T, np.diag(s2), v2])\n",
    "pc2 = data.dot(v2)\n",
    "d = np.diag(1 / np.sqrt(np.diag(cov2)))\n",
    "corr2 = d @ cov2 @ d\n",
    "X2 = pc2[:, :2]"
   ]
  },
  {
   "cell_type": "code",
   "execution_count": null,
   "id": "8fe310ca",
   "metadata": {},
   "outputs": [],
   "source": [
    "exp2 = np.round(s2/sum(s2), 3)\n",
    "exp2"
   ]
  },
  {
   "cell_type": "code",
   "execution_count": null,
   "id": "5fbbaeda",
   "metadata": {},
   "outputs": [],
   "source": [
    "model2 = LinearRegression(fit_intercept=True).fit(X2, data)\n",
    "res2 = model2.fit(X2, data)"
   ]
  },
  {
   "cell_type": "code",
   "execution_count": null,
   "id": "e7393308",
   "metadata": {},
   "outputs": [],
   "source": [
    "model2.score(X2, data)"
   ]
  },
  {
   "cell_type": "code",
   "execution_count": null,
   "id": "bde0e2b7",
   "metadata": {},
   "outputs": [],
   "source": [
    "n_trials = 5000\n",
    "n_data = 2000\n",
    "distance_lw = []\n",
    "cov_gen = []\n",
    "for i in range(trials):\n",
    "    #     data_tdist = stats.multivariate_t.rvs(loc=mu, shape=s, df=df, size=1000)\n",
    "    data = stats.multivariate_normal.rvs(mean=mu, cov=s, size=n_data)\n",
    "    cov_lw = LedoitWolf().fit(data).covariance_\n",
    "    cov_gen.append(cov_lw)\n",
    "    mae = np.sum(np.abs((cov_lw - s) / s))\n",
    "    distance_lw.append(mae)"
   ]
  },
  {
   "cell_type": "code",
   "execution_count": null,
   "id": "a44638ab",
   "metadata": {},
   "outputs": [],
   "source": [
    "plt.plot(np.sort(distance_mle), label='MLE')\n",
    "plt.plot(np.sort(distance_lw), label='LW')\n",
    "plt.legend()\n",
    "plt.grid()\n",
    "plt.show()"
   ]
  },
  {
   "cell_type": "code",
   "execution_count": null,
   "id": "5f30557a",
   "metadata": {},
   "outputs": [],
   "source": [
    "plt.hist(distance_mle,cumulative=True, label='mle',\n",
    "         histtype='step', alpha=0.8)\n",
    "plt.hist(distance_lw,cumulative=True, label='lw',\n",
    "         histtype='step', alpha=0.8)\n",
    "plt.legend()\n",
    "plt.grid()\n",
    "plt.show()"
   ]
  },
  {
   "cell_type": "code",
   "execution_count": null,
   "id": "469b0c1d",
   "metadata": {},
   "outputs": [],
   "source": [
    "# Stability of the two PCA approaches:\n"
   ]
  }
 ],
 "metadata": {
  "kernelspec": {
   "display_name": "Python [conda env:volatilityModels] *",
   "language": "python",
   "name": "conda-env-volatilityModels-py"
  },
  "language_info": {
   "codemirror_mode": {
    "name": "ipython",
    "version": 3
   },
   "file_extension": ".py",
   "mimetype": "text/x-python",
   "name": "python",
   "nbconvert_exporter": "python",
   "pygments_lexer": "ipython3",
   "version": "3.9.7"
  }
 },
 "nbformat": 4,
 "nbformat_minor": 5
}

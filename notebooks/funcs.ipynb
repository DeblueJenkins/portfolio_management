{
 "cells": [
  {
   "cell_type": "code",
   "execution_count": 3,
   "id": "36d9356b",
   "metadata": {},
   "outputs": [],
   "source": [
    "import pandas as pd\n",
    "import eikon as ek\n",
    "import numpy as np\n",
    "from IPython.display import display, HTML"
   ]
  },
  {
   "cell_type": "code",
   "execution_count": 4,
   "id": "c736c9ee",
   "metadata": {},
   "outputs": [
    {
     "data": {
      "text/html": [
       "<style>.container { width:100% !important; }</style>"
      ],
      "text/plain": [
       "<IPython.core.display.HTML object>"
      ]
     },
     "metadata": {},
     "output_type": "display_data"
    },
    {
     "data": {
      "text/html": [
       "<style>.output_result { max-width:100% !important; }</style>"
      ],
      "text/plain": [
       "<IPython.core.display.HTML object>"
      ]
     },
     "metadata": {},
     "output_type": "display_data"
    }
   ],
   "source": [
    "# display(HTML(\"<style>.container { width:100% !important; }</style>\"))\n",
    "# display(HTML(\"<style>.output_result { max-width:100% !important; }</style>\"))"
   ]
  },
  {
   "cell_type": "code",
   "execution_count": null,
   "id": "349a3556",
   "metadata": {},
   "outputs": [],
   "source": [
    "class Eikon:\n",
    "    \n",
    "    def __init__(self, path_api_key: str = r'C:\\Users\\serge\\OneDrive\\Documents'):\n",
    "        \n",
    "        ek_api_key = pd.read_csv(fr'{path_apikeys}\\apikeys.csv', names=['api', 'key'], index_col=0)\n",
    "        ek.set_app_key(ek_api_key.loc['reuters'].values[0])\n",
    "        \n",
    "        self.api = ek\n",
    "    \n",
    "    def get_timeseries(self, rics: list, field: str = 'TR.PriceClose', date_field: str = 'TR.PriceClose.calcdate', params: dict = None):\n",
    "        if not isinstance(rics, list):\n",
    "            raise AttributeError('rics parameter must be list, if it is single RIC, convert to list first')\n",
    "        data_dict = {}\n",
    "        for ric in indices_rics:\n",
    "            try:\n",
    "                print(ric)\n",
    "                data_dict[ric] = ek.get_data(ric, [field, date_field] , parameters=params)[0]\n",
    "                data_dict[ric].loc[:, 'Calc Date'] = data_dict[ric].loc[:, 'Calc Date'].apply(lambda x: dt.datetime.strptime(x, '%Y-%m-%d'))\n",
    "                data_dict[ric].loc[:, 'Month'] = data_dict[ric].loc[:, 'Calc Date'].apply(lambda x: x.month)\n",
    "                data_dict[ric].loc[:, 'Year'] = data_dict[ric].loc[:, 'Calc Date'].apply(lambda x: x.year)\n",
    "                data_dict[ric].loc[:, 'DailyLogReturns'] = np.log(data_dict[ric]['Price Close'] / data_dict[ric]['Price Close'].shift(1))\n",
    "                print('Done')\n",
    "            except Exception as e:\n",
    "                print(e)\n",
    "        \n",
    "#         self.data = pd.DataFrame.from_dict(data_dict, orient='index')\n",
    "          self.data = data_dict\n",
    "        \n",
    "    \n",
    "    def get_index_constituents(self, index: str = '.GDAXI', date: str = '20230321'):\n",
    "        \n",
    "        all_rics = []\n",
    "        t0 = time.time()\n",
    "        index = list(index)\n",
    "        for i in range(len(index)):\n",
    "            try:\n",
    "                temp_rics, err = self.api.get_data(index[i], ['TR.IndexConstituentRIC' , 'TR.IndexConstituentName'], {'SDate': date})\n",
    "            # all_rics, err = ek.get_data(indices_rics[2], ['TR.IndexConstituentRIC' , 'TR.IndexConstituentName'])\n",
    "                print(f'Retrieved {time.time() - t0}')\n",
    "            except Exception as e:\n",
    "                print(err)\n",
    "            if err is None:\n",
    "                all_rics.append(temp_rics['Constituent RIC'].to_list())\n",
    "                \n",
    "        return all_rics"
   ]
  },
  {
   "cell_type": "code",
   "execution_count": null,
   "id": "883eba32",
   "metadata": {},
   "outputs": [],
   "source": [
    "class FamaFrenchFactors:\n",
    "    \n",
    "    def __init__(self, path_data: str = r'C:\\Users\\serge\\IdeaProjects\\portfolio_manager\\data\\fama-french-factors'):\n",
    "        self.path = path_data\n",
    "        \n",
    "    def get_data(self, file: str):\n",
    "        header_row = 2\n",
    "        index_row = 0\n",
    "        df_factors = pd.read_csv(filepath_or_buffer=fr'{self.path}\\\\{file}',\n",
    "                                   header=header_row,\n",
    "                                   index_col=index_row,\n",
    "                                   parse_dates=True, \n",
    "                                   usecols=range(7))\n",
    "        #                            nrows=(end_row-8))\n",
    "\n",
    "        df_factors.replace({-99.99:np.nan}, inplace=True)\n",
    "        df_factors = df_factors / 100\n",
    "        return df_factors\n",
    "    \n",
    "    "
   ]
  },
  {
   "cell_type": "code",
   "execution_count": null,
   "id": "22e72b1e",
   "metadata": {},
   "outputs": [],
   "source": [
    "\n",
    "        \n",
    "        \n",
    "        "
   ]
  }
 ],
 "metadata": {
  "kernelspec": {
   "display_name": "Python 3 (ipykernel)",
   "language": "python",
   "name": "python3"
  },
  "language_info": {
   "codemirror_mode": {
    "name": "ipython",
    "version": 3
   },
   "file_extension": ".py",
   "mimetype": "text/x-python",
   "name": "python",
   "nbconvert_exporter": "python",
   "pygments_lexer": "ipython3",
   "version": "3.9.7"
  }
 },
 "nbformat": 4,
 "nbformat_minor": 5
}

{
 "cells": [
  {
   "cell_type": "code",
   "execution_count": 1,
   "id": "835117c9",
   "metadata": {
    "pycharm": {
     "name": "#%%\n"
    }
   },
   "outputs": [
    {
     "ename": "ImportError",
     "evalue": "cannot import name 'get_svd' from 'models.unsupervised.pca' (C:\\Users\\serge\\IdeaProjects\\portfolio_manager\\portfolio_management\\models\\unsupervised\\pca.py)",
     "output_type": "error",
     "traceback": [
      "\u001b[1;31m---------------------------------------------------------------------------\u001b[0m",
      "\u001b[1;31mImportError\u001b[0m                               Traceback (most recent call last)",
      "Cell \u001b[1;32mIn[1], line 6\u001b[0m\n\u001b[0;32m      4\u001b[0m prev_path \u001b[38;5;241m=\u001b[39m \u001b[38;5;124m\"\u001b[39m\u001b[38;5;130;01m\\\\\u001b[39;00m\u001b[38;5;124m\"\u001b[39m\u001b[38;5;241m.\u001b[39mjoin(\u001b[38;5;28mlist\u001b[39m(os\u001b[38;5;241m.\u001b[39mgetcwd()\u001b[38;5;241m.\u001b[39msplit(\u001b[38;5;124m'\u001b[39m\u001b[38;5;130;01m\\\\\u001b[39;00m\u001b[38;5;124m'\u001b[39m)[\u001b[38;5;241m0\u001b[39m:\u001b[38;5;241m-\u001b[39m\u001b[38;5;241m1\u001b[39m]))\n\u001b[0;32m      5\u001b[0m \u001b[38;5;28;01mif\u001b[39;00m module_path \u001b[38;5;129;01mnot\u001b[39;00m \u001b[38;5;129;01min\u001b[39;00m sys\u001b[38;5;241m.\u001b[39mpath: sys\u001b[38;5;241m.\u001b[39mpath\u001b[38;5;241m.\u001b[39mappend(prev_path)\n\u001b[1;32m----> 6\u001b[0m \u001b[38;5;28;01mfrom\u001b[39;00m \u001b[38;5;21;01mmodels\u001b[39;00m\u001b[38;5;21;01m.\u001b[39;00m\u001b[38;5;21;01mrolling\u001b[39;00m \u001b[38;5;28;01mimport\u001b[39;00m RollingModel\n\u001b[0;32m      7\u001b[0m \u001b[38;5;28;01mfrom\u001b[39;00m \u001b[38;5;21;01mmodels\u001b[39;00m\u001b[38;5;21;01m.\u001b[39;00m\u001b[38;5;21;01mdata\u001b[39;00m\u001b[38;5;21;01m.\u001b[39;00m\u001b[38;5;21;01mhandler\u001b[39;00m \u001b[38;5;28;01mimport\u001b[39;00m DataHandler\n\u001b[0;32m      8\u001b[0m \u001b[38;5;28;01mfrom\u001b[39;00m \u001b[38;5;21;01mmodels\u001b[39;00m\u001b[38;5;21;01m.\u001b[39;00m\u001b[38;5;21;01mdata\u001b[39;00m\u001b[38;5;21;01m.\u001b[39;00m\u001b[38;5;21;01msource\u001b[39;00m \u001b[38;5;28;01mimport\u001b[39;00m Eikon\n",
      "File \u001b[1;32m~\\IdeaProjects\\portfolio_manager\\portfolio_management\\models\\rolling.py:1\u001b[0m\n\u001b[1;32m----> 1\u001b[0m \u001b[38;5;28;01mfrom\u001b[39;00m \u001b[38;5;21;01mmodels\u001b[39;00m\u001b[38;5;21;01m.\u001b[39;00m\u001b[38;5;21;01munsupervised\u001b[39;00m\u001b[38;5;21;01m.\u001b[39;00m\u001b[38;5;21;01mpca\u001b[39;00m \u001b[38;5;28;01mimport\u001b[39;00m PcaHandler, get_svd\n\u001b[0;32m      2\u001b[0m \u001b[38;5;28;01mimport\u001b[39;00m \u001b[38;5;21;01mpandas\u001b[39;00m \u001b[38;5;28;01mas\u001b[39;00m \u001b[38;5;21;01mpd\u001b[39;00m\n\u001b[0;32m      3\u001b[0m \u001b[38;5;28;01mimport\u001b[39;00m \u001b[38;5;21;01mnumpy\u001b[39;00m \u001b[38;5;28;01mas\u001b[39;00m \u001b[38;5;21;01mnp\u001b[39;00m\n",
      "\u001b[1;31mImportError\u001b[0m: cannot import name 'get_svd' from 'models.unsupervised.pca' (C:\\Users\\serge\\IdeaProjects\\portfolio_manager\\portfolio_management\\models\\unsupervised\\pca.py)"
     ]
    }
   ],
   "source": [
    "import os\n",
    "import sys\n",
    "module_path = os.path.abspath(os.path.join('..'))\n",
    "prev_path = \"\\\\\".join(list(os.getcwd().split('\\\\')[0:-1]))\n",
    "if module_path not in sys.path: sys.path.append(prev_path)\n",
    "from models.rolling import RollingModel\n",
    "from models.data.handler import DataHandler\n",
    "from models.data.source import Eikon\n",
    "import numpy as np\n",
    "import matplotlib.pyplot as plt"
   ]
  },
  {
   "cell_type": "code",
   "execution_count": null,
   "id": "76fbf141",
   "metadata": {
    "pycharm": {
     "name": "#%%\n"
    }
   },
   "outputs": [],
   "source": [
    "data_path = r'C:\\Users\\serge\\IdeaProjects\\portfolio_manager\\data\\fama-french-factors'\n",
    "path_apikeys = r'C:\\Users\\serge\\OneDrive\\Documents\\apikeys.csv'\n",
    "\n",
    "rics_list = [\n",
    "    'LVMH.PA', 'ASML.AS', 'NESN.S', 'LIN',\n",
    "    'NOVOb.CO', 'AAPL.O', 'ROG.S', 'UNH',\n",
    "    'SAPG.DE', 'MSFT.O'\n",
    "]\n",
    "\n",
    "params = {\n",
    "    'rics': rics_list,\n",
    "    'field': ['TR.PriceClose', 'Price Close'],\n",
    "    'date_field': ['TR.PriceClose.calcdate', 'Calc Date'],\n",
    "    'load_path': r'C:\\Users\\serge\\IdeaProjects\\portfolio_manager\\portfolio_management\\models\\data\\csv'\n",
    "}\n",
    "\n",
    "config = {\n",
    "    'PCA': True,\n",
    "    'n_components': 5,\n",
    "    'OLS': True\n",
    "}\n",
    "\n",
    "HORIZON_IN_DAYS = 14"
   ]
  },
  {
   "cell_type": "code",
   "execution_count": null,
   "id": "3058dfb7",
   "metadata": {
    "pycharm": {
     "name": "#%%\n"
    }
   },
   "outputs": [],
   "source": [
    "eikon_api = Eikon(path_apikeys)\n",
    "data = eikon_api.load_timeseries(**params)"
   ]
  },
  {
   "cell_type": "code",
   "execution_count": null,
   "id": "502f0879",
   "metadata": {
    "pycharm": {
     "name": "#%%\n"
    }
   },
   "outputs": [],
   "source": [
    "data_handler = DataHandler(data=data, date_col=params['date_field'][1])\n",
    "returns = data_handler.get_returns(period=HORIZON_IN_DAYS, out=True)"
   ]
  },
  {
   "cell_type": "code",
   "execution_count": null,
   "id": "2d0f93b3",
   "metadata": {
    "pycharm": {
     "name": "#%%\n"
    }
   },
   "outputs": [],
   "source": [
    "returns.head(10)"
   ]
  },
  {
   "cell_type": "code",
   "execution_count": null,
   "id": "5a1d71dd",
   "metadata": {
    "pycharm": {
     "name": "#%%\n"
    }
   },
   "outputs": [],
   "source": [
    "rolling = RollingModel(rolling_window=200, data=returns, demean=True)\n",
    "rolling.estimate(config=config, RIC=rics_list[7])\n",
    "rolling.plot_resids()"
   ]
  },
  {
   "cell_type": "code",
   "execution_count": null,
   "id": "990240f6",
   "metadata": {
    "pycharm": {
     "name": "#%%\n"
    }
   },
   "outputs": [],
   "source": [
    "rolling.eig_vecs['2011-07-07']"
   ]
  },
  {
   "cell_type": "code",
   "execution_count": null,
   "id": "14c94b16",
   "metadata": {
    "pycharm": {
     "name": "#%%\n"
    }
   },
   "outputs": [],
   "source": [
    "origin = np.array([[0, 0, 0],[0, 0, 0]]) # origin point\n",
    "for date, vectors in rolling.eig_vecs.items():\n",
    "    plt.quiver(*origin, vectors[:,0], scale=21)\n",
    "\n",
    "plt.show()"
   ]
  },
  {
   "cell_type": "code",
   "execution_count": null,
   "id": "13e7a45f",
   "metadata": {},
   "outputs": [],
   "source": []
  }
 ],
 "metadata": {
  "kernelspec": {
   "display_name": "Python 3 (ipykernel)",
   "language": "python",
   "name": "python3"
  },
  "language_info": {
   "codemirror_mode": {
    "name": "ipython",
    "version": 3
   },
   "file_extension": ".py",
   "mimetype": "text/x-python",
   "name": "python",
   "nbconvert_exporter": "python",
   "pygments_lexer": "ipython3",
   "version": "3.9.7"
  }
 },
 "nbformat": 4,
 "nbformat_minor": 5
}

{
 "cells": [
  {
   "cell_type": "code",
   "execution_count": 1,
   "id": "34048004",
   "metadata": {
    "pycharm": {
     "name": "#%%\n"
    }
   },
   "outputs": [],
   "source": [
    "from pathlib import Path\n",
    "import os\n",
    "import sys\n"
   ]
  },
  {
   "cell_type": "code",
   "execution_count": 2,
   "id": "b6212d81",
   "metadata": {
    "pycharm": {
     "name": "#%%\n"
    }
   },
   "outputs": [],
   "source": [
    "__file__ = os.path.abspath('')"
   ]
  },
  {
   "cell_type": "code",
   "execution_count": 3,
   "id": "f43bad30",
   "metadata": {
    "pycharm": {
     "name": "#%%\n"
    }
   },
   "outputs": [],
   "source": [
    "sys.path.insert(0, f'{Path(__file__).parents[0]}')"
   ]
  },
  {
   "cell_type": "code",
   "execution_count": 4,
   "id": "1fd0aa7b",
   "metadata": {
    "pycharm": {
     "name": "#%%\n"
    }
   },
   "outputs": [
    {
     "data": {
      "text/plain": [
       "'C:\\\\Users\\\\serge\\\\IdeaProjects\\\\portfolio_manager\\\\portfolio_management\\\\models\\\\data'"
      ]
     },
     "execution_count": 4,
     "metadata": {},
     "output_type": "execute_result"
    }
   ],
   "source": [
    "path_data = fr'{Path(__file__).parents[0]}\\models\\data'\n",
    "# path_apikeys = r'C:\\Users\\HP\\IdeaProjects\\FinIgor\\data\\apikeys.csv'\n",
    "path_apikeys = r'C:\\Users\\serge\\OneDrive\\reuters\\apikeys.csv'\n",
    "path_data"
   ]
  },
  {
   "cell_type": "code",
   "execution_count": 5,
   "id": "674fc778",
   "metadata": {
    "pycharm": {
     "name": "#%%\n"
    }
   },
   "outputs": [],
   "source": [
    "from portfolios.equity import EquityPortfolio\n",
    "from models.data.source import Eikon\n",
    "from models.data.handler import DataHandler"
   ]
  },
  {
   "cell_type": "code",
   "execution_count": 6,
   "id": "6b43fe45",
   "metadata": {
    "pycharm": {
     "name": "#%%\n"
    }
   },
   "outputs": [
    {
     "name": "stderr",
     "output_type": "stream",
     "text": [
      "2023-08-28 13:18:44,622 P[26372] [MainThread 11112] Error: no proxy address identified.\n",
      "Check if Eikon Desktop or Eikon API Proxy is running.\n",
      "2023-08-28 13:18:44,630 P[26372] [MainThread 11112] Error on handshake url http://127.0.0.1:None/api/handshake : UnsupportedProtocol(\"Request URL is missing an 'http://' or 'https://' protocol.\")\n",
      "2023-08-28 13:18:44,634 P[26372] [MainThread 11112] Error on handshake url http://127.0.0.1:None/api/handshake : UnsupportedProtocol(\"Request URL is missing an 'http://' or 'https://' protocol.\")\n",
      "2023-08-28 13:18:44,638 P[26372] [MainThread 11112] Port number was not identified, cannot send any request\n",
      "2023-08-28 13:18:50,826 P[26372] [MainThread 11112] Error: no proxy address identified.\n",
      "Check if Eikon Desktop or Eikon API Proxy is running.\n",
      "2023-08-28 13:18:50,830 P[26372] [MainThread 11112] Error on handshake url http://127.0.0.1:None/api/handshake : UnsupportedProtocol(\"Request URL is missing an 'http://' or 'https://' protocol.\")\n",
      "2023-08-28 13:18:50,834 P[26372] [MainThread 11112] Error on handshake url http://127.0.0.1:None/api/handshake : UnsupportedProtocol(\"Request URL is missing an 'http://' or 'https://' protocol.\")\n",
      "2023-08-28 13:18:50,834 P[26372] [MainThread 11112] Port number was not identified, cannot send any request\n"
     ]
    },
    {
     "name": "stdout",
     "output_type": "stream",
     "text": [
      "Loaded: MAA.N\n",
      "Loaded: ESS.N\n",
      "Loaded: JBHT.OQ\n",
      "Loaded: DOV.N\n",
      "Loaded: VFC.N\n",
      "Loaded: PPL.N\n",
      "Loaded: CMCSA.OQ\n",
      "Loaded: PGR.N\n",
      "Loaded: CMA.N\n",
      "Loaded: MCD.N\n",
      "Loaded: APA.OQ\n",
      "Loaded: PPG.N\n",
      "Loaded: MS.N\n",
      "Loaded: ITW.N\n",
      "Loaded: FICO.N\n",
      "Loaded: FAST.OQ\n",
      "Loaded: UPS.N\n",
      "Loaded: HUM.N\n",
      "Loaded: XRAY.OQ\n",
      "Loaded: CPT.N\n",
      "Loaded: CPB.N\n",
      "Loaded: TJX.N\n",
      "Loaded: BAX.N\n",
      "Loaded: CAG.N\n",
      "Loaded: WEC.N\n",
      "Loaded: NTAP.OQ\n",
      "Loaded: MRO.N\n",
      "Loaded: CHRW.OQ\n",
      "Loaded: SPG.N\n",
      "Loaded: MTB.N\n",
      "Loaded: ADI.OQ\n",
      "Loaded: BLK.N\n",
      "Loaded: COP.N\n",
      "Loaded: BEN.N\n",
      "Loaded: HWM.N\n",
      "Loaded: NTRS.OQ\n",
      "Loaded: ETN.N\n",
      "Loaded: CLX.N\n",
      "Loaded: MSI.N\n",
      "Loaded: MO.N\n",
      "Loaded: CI.N\n",
      "Loaded: DRI.N\n",
      "Loaded: PHM.N\n",
      "Loaded: JKHY.OQ\n",
      "Loaded: GILD.OQ\n",
      "Loaded: TFX.N\n",
      "Loaded: AON.N\n",
      "Loaded: SNA.N\n",
      "Loaded: NVR.N\n",
      "Loaded: TXT.N\n",
      "Loaded: EMR.N\n",
      "Loaded: ADSK.OQ\n",
      "Loaded: PTC.OQ\n",
      "Loaded: WMT.N\n",
      "Loaded: MKC.N\n",
      "Loaded: CMS.N\n",
      "Loaded: ARE.N\n",
      "Loaded: ABT.N\n",
      "Loaded: K.N\n",
      "Loaded: DE.N\n",
      "Loaded: BIIB.OQ\n",
      "Loaded: HSIC.OQ\n",
      "Loaded: KLAC.OQ\n",
      "Loaded: AMAT.OQ\n",
      "Loaded: UNP.N\n",
      "Loaded: NEM.N\n",
      "Loaded: EA.OQ\n",
      "Loaded: RE.N\n"
     ]
    }
   ],
   "source": [
    "eikon_api = Eikon(path_apikeys)\n",
    "portfolio = EquityPortfolio(config_path=r'examples/config_example.yaml')\n",
    "\n",
    "params = {\n",
    "    'rics': portfolio.assets,\n",
    "    'field': ['TR.PriceClose', 'Price Close'],\n",
    "    'date_field': ['TR.PriceClose.calcdate', 'Calc Date'],\n",
    "    'load_path': os.path.join(path_data, 'csv')\n",
    "}\n",
    "\n",
    "\n",
    "eikon_api = Eikon(path_apikeys)\n",
    "data = eikon_api.load_timeseries(**params)\n",
    "\n",
    "preprocessor = DataHandler(data=data,\n",
    "                           date_col=params['date_field'][1])\n",
    "\n",
    "returns = preprocessor.get_returns(period=15)"
   ]
  },
  {
   "cell_type": "code",
   "execution_count": 7,
   "id": "a808719f",
   "metadata": {
    "pycharm": {
     "name": "#%%\n"
    }
   },
   "outputs": [
    {
     "data": {
      "text/html": [
       "<div>\n",
       "<style scoped>\n",
       "    .dataframe tbody tr th:only-of-type {\n",
       "        vertical-align: middle;\n",
       "    }\n",
       "\n",
       "    .dataframe tbody tr th {\n",
       "        vertical-align: top;\n",
       "    }\n",
       "\n",
       "    .dataframe thead th {\n",
       "        text-align: right;\n",
       "    }\n",
       "</style>\n",
       "<table border=\"1\" class=\"dataframe\">\n",
       "  <thead>\n",
       "    <tr style=\"text-align: right;\">\n",
       "      <th></th>\n",
       "      <th>MAA.N</th>\n",
       "      <th>ESS.N</th>\n",
       "      <th>JBHT.OQ</th>\n",
       "      <th>DOV.N</th>\n",
       "      <th>VFC.N</th>\n",
       "      <th>PPL.N</th>\n",
       "      <th>CMCSA.OQ</th>\n",
       "      <th>PGR.N</th>\n",
       "      <th>CMA.N</th>\n",
       "      <th>MCD.N</th>\n",
       "      <th>...</th>\n",
       "      <th>K.N</th>\n",
       "      <th>DE.N</th>\n",
       "      <th>BIIB.OQ</th>\n",
       "      <th>HSIC.OQ</th>\n",
       "      <th>KLAC.OQ</th>\n",
       "      <th>AMAT.OQ</th>\n",
       "      <th>UNP.N</th>\n",
       "      <th>NEM.N</th>\n",
       "      <th>EA.OQ</th>\n",
       "      <th>RE.N</th>\n",
       "    </tr>\n",
       "  </thead>\n",
       "  <tbody>\n",
       "    <tr>\n",
       "      <th>2000-01-21</th>\n",
       "      <td>-0.008322</td>\n",
       "      <td>0.001837</td>\n",
       "      <td>-0.117219</td>\n",
       "      <td>-0.022285</td>\n",
       "      <td>-0.018928</td>\n",
       "      <td>0.032261</td>\n",
       "      <td>0.035901</td>\n",
       "      <td>-0.110120</td>\n",
       "      <td>-0.134488</td>\n",
       "      <td>0.018434</td>\n",
       "      <td>...</td>\n",
       "      <td>-0.209045</td>\n",
       "      <td>0.018559</td>\n",
       "      <td>0.408006</td>\n",
       "      <td>0.089746</td>\n",
       "      <td>0.143026</td>\n",
       "      <td>0.108808</td>\n",
       "      <td>0.002861</td>\n",
       "      <td>-0.145262</td>\n",
       "      <td>-0.196710</td>\n",
       "      <td>0.174353</td>\n",
       "    </tr>\n",
       "    <tr>\n",
       "      <th>2000-02-11</th>\n",
       "      <td>-0.002789</td>\n",
       "      <td>0.007313</td>\n",
       "      <td>-0.010204</td>\n",
       "      <td>-0.143643</td>\n",
       "      <td>-0.163394</td>\n",
       "      <td>-0.079822</td>\n",
       "      <td>-0.065042</td>\n",
       "      <td>-0.193066</td>\n",
       "      <td>-0.010778</td>\n",
       "      <td>-0.165119</td>\n",
       "      <td>...</td>\n",
       "      <td>-0.171382</td>\n",
       "      <td>-0.199728</td>\n",
       "      <td>-0.217975</td>\n",
       "      <td>-0.152721</td>\n",
       "      <td>0.064052</td>\n",
       "      <td>0.155414</td>\n",
       "      <td>-0.174353</td>\n",
       "      <td>0.122035</td>\n",
       "      <td>0.169559</td>\n",
       "      <td>-0.171556</td>\n",
       "    </tr>\n",
       "    <tr>\n",
       "      <th>2000-03-03</th>\n",
       "      <td>0.002789</td>\n",
       "      <td>0.046272</td>\n",
       "      <td>-0.058064</td>\n",
       "      <td>0.082666</td>\n",
       "      <td>-0.020203</td>\n",
       "      <td>-0.059014</td>\n",
       "      <td>-0.167910</td>\n",
       "      <td>0.022884</td>\n",
       "      <td>-0.095775</td>\n",
       "      <td>-0.096029</td>\n",
       "      <td>...</td>\n",
       "      <td>0.122716</td>\n",
       "      <td>-0.038737</td>\n",
       "      <td>0.233089</td>\n",
       "      <td>0.215111</td>\n",
       "      <td>0.195014</td>\n",
       "      <td>0.145018</td>\n",
       "      <td>0.068993</td>\n",
       "      <td>-0.104491</td>\n",
       "      <td>0.223144</td>\n",
       "      <td>0.171556</td>\n",
       "    </tr>\n",
       "    <tr>\n",
       "      <th>2000-03-24</th>\n",
       "      <td>0.002782</td>\n",
       "      <td>-0.010490</td>\n",
       "      <td>0.282232</td>\n",
       "      <td>0.096942</td>\n",
       "      <td>0.020203</td>\n",
       "      <td>0.018073</td>\n",
       "      <td>-0.038903</td>\n",
       "      <td>0.224952</td>\n",
       "      <td>0.168887</td>\n",
       "      <td>0.099613</td>\n",
       "      <td>...</td>\n",
       "      <td>0.028462</td>\n",
       "      <td>0.097430</td>\n",
       "      <td>-0.231512</td>\n",
       "      <td>0.099699</td>\n",
       "      <td>0.070293</td>\n",
       "      <td>0.113258</td>\n",
       "      <td>-0.032261</td>\n",
       "      <td>0.080711</td>\n",
       "      <td>-0.291154</td>\n",
       "      <td>0.096379</td>\n",
       "    </tr>\n",
       "    <tr>\n",
       "      <th>2000-04-14</th>\n",
       "      <td>0.067139</td>\n",
       "      <td>0.061348</td>\n",
       "      <td>-0.072218</td>\n",
       "      <td>0.104409</td>\n",
       "      <td>0.048790</td>\n",
       "      <td>0.057987</td>\n",
       "      <td>-0.075508</td>\n",
       "      <td>0.015240</td>\n",
       "      <td>-0.057751</td>\n",
       "      <td>-0.045754</td>\n",
       "      <td>...</td>\n",
       "      <td>0.092523</td>\n",
       "      <td>0.047704</td>\n",
       "      <td>-0.502457</td>\n",
       "      <td>-0.140857</td>\n",
       "      <td>-0.438185</td>\n",
       "      <td>-0.285150</td>\n",
       "      <td>0.074225</td>\n",
       "      <td>-0.040933</td>\n",
       "      <td>-0.298929</td>\n",
       "      <td>-0.052644</td>\n",
       "    </tr>\n",
       "  </tbody>\n",
       "</table>\n",
       "<p>5 rows × 68 columns</p>\n",
       "</div>"
      ],
      "text/plain": [
       "               MAA.N     ESS.N   JBHT.OQ     DOV.N     VFC.N     PPL.N  \\\n",
       "2000-01-21 -0.008322  0.001837 -0.117219 -0.022285 -0.018928  0.032261   \n",
       "2000-02-11 -0.002789  0.007313 -0.010204 -0.143643 -0.163394 -0.079822   \n",
       "2000-03-03  0.002789  0.046272 -0.058064  0.082666 -0.020203 -0.059014   \n",
       "2000-03-24  0.002782 -0.010490  0.282232  0.096942  0.020203  0.018073   \n",
       "2000-04-14  0.067139  0.061348 -0.072218  0.104409  0.048790  0.057987   \n",
       "\n",
       "            CMCSA.OQ     PGR.N     CMA.N     MCD.N  ...       K.N      DE.N  \\\n",
       "2000-01-21  0.035901 -0.110120 -0.134488  0.018434  ... -0.209045  0.018559   \n",
       "2000-02-11 -0.065042 -0.193066 -0.010778 -0.165119  ... -0.171382 -0.199728   \n",
       "2000-03-03 -0.167910  0.022884 -0.095775 -0.096029  ...  0.122716 -0.038737   \n",
       "2000-03-24 -0.038903  0.224952  0.168887  0.099613  ...  0.028462  0.097430   \n",
       "2000-04-14 -0.075508  0.015240 -0.057751 -0.045754  ...  0.092523  0.047704   \n",
       "\n",
       "             BIIB.OQ   HSIC.OQ   KLAC.OQ   AMAT.OQ     UNP.N     NEM.N  \\\n",
       "2000-01-21  0.408006  0.089746  0.143026  0.108808  0.002861 -0.145262   \n",
       "2000-02-11 -0.217975 -0.152721  0.064052  0.155414 -0.174353  0.122035   \n",
       "2000-03-03  0.233089  0.215111  0.195014  0.145018  0.068993 -0.104491   \n",
       "2000-03-24 -0.231512  0.099699  0.070293  0.113258 -0.032261  0.080711   \n",
       "2000-04-14 -0.502457 -0.140857 -0.438185 -0.285150  0.074225 -0.040933   \n",
       "\n",
       "               EA.OQ      RE.N  \n",
       "2000-01-21 -0.196710  0.174353  \n",
       "2000-02-11  0.169559 -0.171556  \n",
       "2000-03-03  0.223144  0.171556  \n",
       "2000-03-24 -0.291154  0.096379  \n",
       "2000-04-14 -0.298929 -0.052644  \n",
       "\n",
       "[5 rows x 68 columns]"
      ]
     },
     "execution_count": 7,
     "metadata": {},
     "output_type": "execute_result"
    }
   ],
   "source": [
    "returns.head(5)"
   ]
  },
  {
   "cell_type": "code",
   "execution_count": 77,
   "id": "d641260e",
   "metadata": {
    "pycharm": {
     "name": "#%%\n"
    }
   },
   "outputs": [],
   "source": [
    "from sklearn.covariance import EmpiricalCovariance, empirical_covariance, LedoitWolf\n",
    "from models.unsupervised.pca import PcaHandler\n",
    "from models.stat_models.linearregression import MultiOutputLinearRegressionModel\n",
    "from sklearn.linear_model import LinearRegression\n",
    "import numpy as np\n",
    "import matplotlib.pyplot as plt"
   ]
  },
  {
   "cell_type": "code",
   "execution_count": 9,
   "id": "f55e0856",
   "metadata": {
    "scrolled": true,
    "pycharm": {
     "name": "#%%\n"
    }
   },
   "outputs": [
    {
     "name": "stdout",
     "output_type": "stream",
     "text": [
      "[ 5.06539255e-16  8.08869031e-16  1.39713002e-16  6.47051857e-16\n",
      "  6.32577758e-16  3.81801795e-16  6.83047369e-17  6.00268533e-16\n",
      "  7.48417983e-16  4.29994582e-16  1.66971200e-15  7.54279451e-16\n",
      " -4.30211422e-16  4.53304928e-16  3.38162658e-16  7.83227649e-16\n",
      "  2.97803232e-16  7.19557877e-16  5.94088580e-16  6.86787866e-16\n",
      "  4.81765235e-16  3.89608051e-16  3.14689681e-16  8.35269354e-16\n",
      "  5.68399765e-16 -2.58716388e-15  1.35812585e-15  1.82796486e-16\n",
      "  1.14123121e-15  7.56759564e-16 -1.32025416e-15  3.81639165e-16\n",
      "  1.13673177e-15  6.33689065e-16  1.07368541e-15  1.92174835e-16\n",
      "  5.16839176e-16  3.54697164e-16 -6.46401335e-16  5.89419735e-16\n",
      "  8.10793490e-16  1.24276674e-15  1.41520910e-15 -2.19388310e-16\n",
      " -6.07885053e-16  5.93925950e-16  3.27632344e-16  7.03538790e-16\n",
      "  7.40184823e-16  1.32283507e-15  8.11742167e-16 -3.40168432e-16\n",
      " -1.80084626e-15  4.21029585e-16  5.33632451e-16  4.13677339e-16\n",
      "  6.48949210e-16  3.91857770e-16  5.58350566e-16  9.99688613e-16\n",
      " -1.11371958e-15  4.56720165e-16 -1.20029312e-15 -9.01730947e-16\n",
      "  8.36814342e-16  3.92323638e-16 -6.49274471e-16  6.23877035e-16]\n"
     ]
    }
   ],
   "source": [
    "svd_model = PcaHandler(returns, method='svd', demean=True)\n",
    "# svd_model.set_benchmark_comp()\n",
    "svd_model.benchmark_test()"
   ]
  },
  {
   "cell_type": "code",
   "execution_count": 25,
   "id": "5aa19a38",
   "metadata": {
    "scrolled": true,
    "pycharm": {
     "name": "#%%\n"
    }
   },
   "outputs": [
    {
     "name": "stdout",
     "output_type": "stream",
     "text": [
      "[ 6.09592671e-16  3.57949347e-16  8.70885395e-17  4.69459541e-16\n",
      "  5.50341023e-16  2.85253592e-16 -4.65664833e-17  5.95389623e-16\n",
      "  6.69742175e-16  3.85054402e-16  1.41005914e-15  6.37348247e-16\n",
      " -7.83742645e-16  3.50956243e-16  2.51426484e-16  6.86408395e-16\n",
      "  2.22478286e-16  7.22214172e-16  5.50503653e-16  7.33083299e-16\n",
      "  4.93528829e-16  2.80645732e-16  2.84494650e-16  8.69096461e-16\n",
      "  5.68562396e-16 -3.17721381e-15  1.13488862e-15  1.14139384e-16\n",
      "  1.02061372e-15  7.01492358e-16 -1.69093018e-15  2.75983663e-16\n",
      "  9.58272090e-16  4.42218961e-16  8.37329338e-16  2.00577402e-17\n",
      "  3.75350792e-16  3.71387101e-16 -8.12040322e-16  5.59577070e-16\n",
      "  7.49346332e-16  1.20959015e-15  1.30082577e-15 -3.77248146e-16\n",
      " -8.12219893e-16  4.49618641e-16  2.58826164e-16  5.12393947e-16\n",
      "  6.43528199e-16  1.13136497e-15  6.36751936e-16 -6.45913444e-16\n",
      " -2.27845764e-15  4.29669321e-16  5.50039479e-16  2.93656158e-16\n",
      "  5.69748242e-16  3.92535397e-16  6.05892832e-16  8.59447062e-16\n",
      " -1.35369417e-15  4.50486003e-16 -1.57783942e-15 -1.31801037e-15\n",
      "  7.48587390e-16  3.53175470e-16 -8.61324087e-16  5.71699806e-16]\n"
     ]
    }
   ],
   "source": [
    "pca_model = PcaHandler(np.cov(returns.T), method='pca', demean=False)\n",
    "pca_model.benchmark_test()"
   ]
  },
  {
   "cell_type": "code",
   "execution_count": 39,
   "id": "64798591",
   "metadata": {
    "pycharm": {
     "name": "#%%\n"
    }
   },
   "outputs": [],
   "source": [
    "ledoit_wolf = lambda x: LedoitWolf().fit(x).covariance_"
   ]
  },
  {
   "cell_type": "code",
   "execution_count": 40,
   "id": "c8d8d682",
   "metadata": {
    "pycharm": {
     "name": "#%%\n"
    }
   },
   "outputs": [],
   "source": [
    "pca_model_lw = PcaHandler(X=ledoit_wolf(returns), method='pca', demean=False)"
   ]
  },
  {
   "cell_type": "code",
   "execution_count": 75,
   "id": "1844e196",
   "metadata": {
    "pycharm": {
     "name": "#%%\n"
    }
   },
   "outputs": [
    {
     "data": {
      "text/plain": [
       "(361, 68)"
      ]
     },
     "execution_count": 75,
     "metadata": {},
     "output_type": "execute_result"
    }
   ],
   "source": [
    "returns.shape"
   ]
  },
  {
   "cell_type": "code",
   "execution_count": 79,
   "id": "245710b5",
   "metadata": {
    "pycharm": {
     "name": "#%%\n"
    }
   },
   "outputs": [
    {
     "data": {
      "text/plain": [
       "(200, 68)"
      ]
     },
     "execution_count": 79,
     "metadata": {},
     "output_type": "execute_result"
    }
   ],
   "source": [
    "data_.shape"
   ]
  },
  {
   "cell_type": "code",
   "execution_count": 90,
   "id": "91be7e4e",
   "metadata": {
    "pycharm": {
     "name": "#%%\n"
    }
   },
   "outputs": [
    {
     "data": {
      "text/plain": [
       "(361, 5)"
      ]
     },
     "execution_count": 90,
     "metadata": {},
     "output_type": "execute_result"
    }
   ],
   "source": [
    "svd_model.components(5).shape"
   ]
  },
  {
   "cell_type": "code",
   "execution_count": 89,
   "id": "5fac2593",
   "metadata": {
    "pycharm": {
     "name": "#%%\n"
    }
   },
   "outputs": [
    {
     "data": {
      "text/plain": [
       "(68, 5)"
      ]
     },
     "execution_count": 89,
     "metadata": {},
     "output_type": "execute_result"
    }
   ],
   "source": [
    "pca_model.components(5).shape"
   ]
  },
  {
   "cell_type": "code",
   "execution_count": 85,
   "id": "0e116ee2",
   "metadata": {
    "pycharm": {
     "name": "#%%\n"
    }
   },
   "outputs": [
    {
     "ename": "AxisError",
     "evalue": "axis 1 is out of bounds for array of dimension 1",
     "output_type": "error",
     "traceback": [
      "\u001B[1;31m---------------------------------------------------------------------------\u001B[0m",
      "\u001B[1;31mAxisError\u001B[0m                                 Traceback (most recent call last)",
      "Cell \u001B[1;32mIn[85], line 1\u001B[0m\n\u001B[1;32m----> 1\u001B[0m \u001B[43mnp\u001B[49m\u001B[38;5;241;43m.\u001B[39;49m\u001B[43minsert\u001B[49m\u001B[43m(\u001B[49m\u001B[43mpca_model\u001B[49m\u001B[38;5;241;43m.\u001B[39;49m\u001B[43mcomponents\u001B[49m\u001B[43m(\u001B[49m\u001B[38;5;241;43m5\u001B[39;49m\u001B[43m)\u001B[49m\u001B[38;5;241;43m.\u001B[39;49m\u001B[43mshape\u001B[49m\u001B[43m,\u001B[49m\u001B[43m \u001B[49m\u001B[38;5;241;43m0\u001B[39;49m\u001B[43m,\u001B[49m\u001B[43m \u001B[49m\u001B[38;5;241;43m1\u001B[39;49m\u001B[43m,\u001B[49m\u001B[43m \u001B[49m\u001B[43maxis\u001B[49m\u001B[38;5;241;43m=\u001B[39;49m\u001B[38;5;241;43m1\u001B[39;49m\u001B[43m)\u001B[49m\n",
      "File \u001B[1;32m<__array_function__ internals>:5\u001B[0m, in \u001B[0;36minsert\u001B[1;34m(*args, **kwargs)\u001B[0m\n",
      "File \u001B[1;32m~\\anaconda3\\envs\\volatilityModels\\lib\\site-packages\\numpy\\lib\\function_base.py:4673\u001B[0m, in \u001B[0;36minsert\u001B[1;34m(arr, obj, values, axis)\u001B[0m\n\u001B[0;32m   4671\u001B[0m     axis \u001B[38;5;241m=\u001B[39m ndim \u001B[38;5;241m-\u001B[39m \u001B[38;5;241m1\u001B[39m\n\u001B[0;32m   4672\u001B[0m \u001B[38;5;28;01melse\u001B[39;00m:\n\u001B[1;32m-> 4673\u001B[0m     axis \u001B[38;5;241m=\u001B[39m \u001B[43mnormalize_axis_index\u001B[49m\u001B[43m(\u001B[49m\u001B[43maxis\u001B[49m\u001B[43m,\u001B[49m\u001B[43m \u001B[49m\u001B[43mndim\u001B[49m\u001B[43m)\u001B[49m\n\u001B[0;32m   4674\u001B[0m slobj \u001B[38;5;241m=\u001B[39m [\u001B[38;5;28mslice\u001B[39m(\u001B[38;5;28;01mNone\u001B[39;00m)]\u001B[38;5;241m*\u001B[39mndim\n\u001B[0;32m   4675\u001B[0m N \u001B[38;5;241m=\u001B[39m arr\u001B[38;5;241m.\u001B[39mshape[axis]\n",
      "\u001B[1;31mAxisError\u001B[0m: axis 1 is out of bounds for array of dimension 1"
     ]
    }
   ],
   "source": [
    "np.insert(pca_model.components(5).shape, 0, 1, axis=1)"
   ]
  },
  {
   "cell_type": "code",
   "execution_count": 88,
   "id": "0e9f75d0",
   "metadata": {
    "pycharm": {
     "name": "#%%\n"
    }
   },
   "outputs": [
    {
     "name": "stdout",
     "output_type": "stream",
     "text": [
      "0\n",
      "1\n",
      "2\n",
      "3\n",
      "4\n",
      "5\n",
      "6\n",
      "7\n",
      "8\n",
      "9\n",
      "10\n",
      "11\n",
      "12\n",
      "13\n",
      "14\n",
      "15\n",
      "16\n",
      "17\n",
      "18\n",
      "19\n",
      "20\n",
      "21\n",
      "22\n",
      "23\n",
      "24\n",
      "25\n",
      "26\n",
      "27\n",
      "28\n",
      "29\n",
      "30\n",
      "31\n",
      "32\n",
      "33\n",
      "34\n",
      "35\n",
      "36\n",
      "37\n",
      "38\n",
      "39\n",
      "40\n",
      "41\n",
      "42\n",
      "43\n",
      "44\n",
      "45\n",
      "46\n",
      "47\n",
      "48\n",
      "49\n",
      "50\n",
      "51\n",
      "52\n",
      "53\n",
      "54\n",
      "55\n",
      "56\n",
      "57\n",
      "58\n",
      "59\n",
      "60\n",
      "61\n",
      "62\n",
      "63\n",
      "64\n",
      "65\n",
      "66\n",
      "67\n",
      "68\n",
      "69\n",
      "70\n",
      "71\n",
      "72\n",
      "73\n",
      "74\n",
      "75\n",
      "76\n",
      "77\n",
      "78\n",
      "79\n",
      "80\n",
      "81\n",
      "82\n",
      "83\n",
      "84\n",
      "85\n",
      "86\n",
      "87\n",
      "88\n",
      "89\n",
      "90\n",
      "91\n",
      "92\n",
      "93\n",
      "94\n",
      "95\n",
      "96\n",
      "97\n",
      "98\n",
      "99\n",
      "100\n",
      "101\n",
      "102\n",
      "103\n",
      "104\n",
      "105\n",
      "106\n",
      "107\n",
      "108\n",
      "109\n",
      "110\n",
      "111\n",
      "112\n",
      "113\n",
      "114\n",
      "115\n",
      "116\n",
      "117\n",
      "118\n",
      "119\n",
      "120\n",
      "121\n",
      "122\n",
      "123\n",
      "124\n",
      "125\n",
      "126\n",
      "127\n",
      "128\n",
      "129\n",
      "130\n",
      "131\n",
      "132\n",
      "133\n",
      "134\n",
      "135\n",
      "136\n",
      "137\n",
      "138\n",
      "139\n",
      "140\n",
      "141\n",
      "142\n",
      "143\n",
      "144\n",
      "145\n",
      "146\n",
      "147\n",
      "148\n",
      "149\n",
      "150\n",
      "151\n",
      "152\n",
      "153\n",
      "154\n",
      "155\n",
      "156\n",
      "157\n",
      "158\n",
      "159\n",
      "160\n"
     ]
    }
   ],
   "source": [
    "betas_lw = []\n",
    "betas_mle = []\n",
    "for i in range(returns.shape[0]-200):\n",
    "    data_ = returns.iloc[i:i+200, :]\n",
    "    pca_model_mle = PcaHandler(X=np.cov(returns.T), method='pca', demean=False)\n",
    "    ols_mle = MultiOutputLinearRegressionModel(data_.T, pca_model_mle.components(5), add_intercept=False)\n",
    "    ols_mle.fit()\n",
    "    betas_lw.append(ols_mle.beta[:,-1])\n",
    "    \n",
    "    pca_model_mle = PcaHandler(X=ledoit_wolf(returns), method='pca', demean=False)\n",
    "    ols_lw = MultiOutputLinearRegressionModel(data_.T, pca_model_lw.components(5), add_intercept=False)\n",
    "    ols_lw.fit()\n",
    "    betas_mle.append(ols_lw.beta[:,-1])\n",
    "    "
   ]
  },
  {
   "cell_type": "code",
   "execution_count": null,
   "id": "a8c53f3b",
   "metadata": {
    "pycharm": {
     "name": "#%%\n"
    }
   },
   "outputs": [],
   "source": []
  },
  {
   "cell_type": "code",
   "execution_count": 74,
   "id": "c31f1c5f",
   "metadata": {
    "pycharm": {
     "name": "#%%\n"
    }
   },
   "outputs": [
    {
     "ename": "NameError",
     "evalue": "name 'plt' is not defined",
     "output_type": "error",
     "traceback": [
      "\u001B[1;31m---------------------------------------------------------------------------\u001B[0m",
      "\u001B[1;31mNameError\u001B[0m                                 Traceback (most recent call last)",
      "Cell \u001B[1;32mIn[74], line 1\u001B[0m\n\u001B[1;32m----> 1\u001B[0m \u001B[43mplt\u001B[49m\u001B[38;5;241m.\u001B[39mplot(betas_mle)\n",
      "\u001B[1;31mNameError\u001B[0m: name 'plt' is not defined"
     ]
    }
   ],
   "source": []
  },
  {
   "cell_type": "code",
   "execution_count": null,
   "id": "18b67114",
   "metadata": {
    "pycharm": {
     "name": "#%%\n"
    }
   },
   "outputs": [],
   "source": []
  },
  {
   "cell_type": "code",
   "execution_count": 29,
   "id": "b97c01bd",
   "metadata": {
    "pycharm": {
     "name": "#%%\n"
    }
   },
   "outputs": [
    {
     "data": {
      "image/png": "[encoded data removed]",
      "text/plain": [
       "<Figure size 800x600 with 1 Axes>"
      ]
     },
     "metadata": {},
     "output_type": "display_data"
    }
   ],
   "source": [
    "pca_model.plot(5)"
   ]
  }
 ],
 "metadata": {
  "kernelspec": {
   "display_name": "Python [conda env:volatilityModels] *",
   "language": "python",
   "name": "conda-env-volatilityModels-py"
  },
  "language_info": {
   "codemirror_mode": {
    "name": "ipython",
    "version": 3
   },
   "file_extension": ".py",
   "mimetype": "text/x-python",
   "name": "python",
   "nbconvert_exporter": "python",
   "pygments_lexer": "ipython3",
   "version": "3.9.7"
  }
 },
 "nbformat": 4,
 "nbformat_minor": 5
}
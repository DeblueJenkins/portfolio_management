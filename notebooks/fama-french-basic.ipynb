{
 "cells": [
  {
   "cell_type": "code",
   "execution_count": 1,
   "id": "fb51ed87",
   "metadata": {
    "pycharm": {
     "name": "#%%\n"
    }
   },
   "outputs": [],
   "source": [
    "import eikon as ek\n",
    "import pandas as pd\n",
    "import numpy as np\n",
    "from statsmodels.graphics.tsaplots import plot_acf, plot_pacf\n",
    "import matplotlib.pyplot as plt\n",
    "import datetime as dt\n",
    "from IPython.display import display, HTML\n",
    "import os\n",
    "# from sklearn.linear_model import LinearRegression\n",
    "from statsmodels.regression.linear_model import OLS\n",
    "from statsmodels.regression.rolling import RollingOLS\n",
    "from statsmodels.tools.tools import add_constant\n",
    "import seaborn as sns\n",
    "from scipy import stats\n",
    "import time"
   ]
  },
  {
   "cell_type": "code",
   "execution_count": 2,
   "id": "a8b2e141",
   "metadata": {
    "scrolled": true,
    "pycharm": {
     "name": "#%%\n"
    }
   },
   "outputs": [
    {
     "data": {
      "text/html": [
       "<style>.container { width:100% !important; }</style>"
      ],
      "text/plain": [
       "<IPython.core.display.HTML object>"
      ]
     },
     "metadata": {},
     "output_type": "display_data"
    },
    {
     "data": {
      "text/html": [
       "<style>.output_result { max-width:100% !important; }</style>"
      ],
      "text/plain": [
       "<IPython.core.display.HTML object>"
      ]
     },
     "metadata": {},
     "output_type": "display_data"
    }
   ],
   "source": [
    "display(HTML(\"<style>.container { width:100% !important; }</style>\"))\n",
    "display(HTML(\"<style>.output_result { max-width:100% !important; }</style>\"))"
   ]
  },
  {
   "cell_type": "code",
   "execution_count": 3,
   "id": "61a4e4d4",
   "metadata": {
    "pycharm": {
     "name": "#%%\n"
    }
   },
   "outputs": [],
   "source": [
    "%run paths.ipynb"
   ]
  },
  {
   "cell_type": "code",
   "execution_count": 4,
   "id": "7a96d243",
   "metadata": {
    "pycharm": {
     "name": "#%%\n"
    }
   },
   "outputs": [],
   "source": [
    "%run funcs.ipynb"
   ]
  },
  {
   "cell_type": "code",
   "execution_count": 5,
   "id": "2d4c5ac3",
   "metadata": {
    "pycharm": {
     "name": "#%%\n"
    }
   },
   "outputs": [],
   "source": [
    "file = 'Developed_5_Factors_Daily.csv'"
   ]
  },
  {
   "cell_type": "code",
   "execution_count": 6,
   "id": "5dae451e",
   "metadata": {
    "pycharm": {
     "name": "#%%\n"
    }
   },
   "outputs": [
    {
     "data": {
      "text/plain": [
       "'C:\\\\Users\\\\serge\\\\OneDrive\\\\Documents'"
      ]
     },
     "execution_count": 6,
     "metadata": {},
     "output_type": "execute_result"
    }
   ],
   "source": [
    "path_apikeys"
   ]
  },
  {
   "cell_type": "code",
   "execution_count": 7,
   "id": "101d6dfd",
   "metadata": {
    "pycharm": {
     "name": "#%%\n"
    }
   },
   "outputs": [],
   "source": [
    "eikon_api = Eikon()\n"
   ]
  },
  {
   "cell_type": "code",
   "execution_count": null,
   "id": "9450e5e6",
   "metadata": {
    "pycharm": {
     "name": "#%%\n"
    }
   },
   "outputs": [],
   "source": [
    "load_data = False"
   ]
  },
  {
   "cell_type": "code",
   "execution_count": 8,
   "id": "56387489",
   "metadata": {
    "pycharm": {
     "name": "#%%\n"
    }
   },
   "outputs": [],
   "source": [
    "indices_rics = ['LVMH.PA', 'ASML.AS', 'NESN.S', 'LIN',\n",
    "                'NOVOb.CO', 'AAPL.O', 'ROG.S', 'UNH',\n",
    "                'SAPG.DE', 'MSFT.O']\n",
    "# indices_rics = eikon_api.get_index_constituents(ek, '.GDAXI')\n",
    "# indices_rics"
   ]
  },
  {
   "cell_type": "code",
   "execution_count": 9,
   "id": "bc6eb9d5",
   "metadata": {
    "pycharm": {
     "name": "#%%\n"
    }
   },
   "outputs": [],
   "source": [
    "# end_row = 402\n",
    "fm = FamaFrenchFactors()\n",
    "df_factors = fm.get_data(file)"
   ]
  },
  {
   "cell_type": "code",
   "execution_count": 10,
   "id": "1b50370e",
   "metadata": {
    "pycharm": {
     "name": "#%%\n"
    }
   },
   "outputs": [
    {
     "data": {
      "text/html": [
       "<div>\n",
       "<style scoped>\n",
       "    .dataframe tbody tr th:only-of-type {\n",
       "        vertical-align: middle;\n",
       "    }\n",
       "\n",
       "    .dataframe tbody tr th {\n",
       "        vertical-align: top;\n",
       "    }\n",
       "\n",
       "    .dataframe thead th {\n",
       "        text-align: right;\n",
       "    }\n",
       "</style>\n",
       "<table border=\"1\" class=\"dataframe\">\n",
       "  <thead>\n",
       "    <tr style=\"text-align: right;\">\n",
       "      <th></th>\n",
       "      <th>Mkt-RF</th>\n",
       "      <th>SMB</th>\n",
       "      <th>HML</th>\n",
       "      <th>RMW</th>\n",
       "      <th>CMA</th>\n",
       "      <th>RF</th>\n",
       "    </tr>\n",
       "  </thead>\n",
       "  <tbody>\n",
       "    <tr>\n",
       "      <th>2023-04-24</th>\n",
       "      <td>0.0014</td>\n",
       "      <td>-0.0004</td>\n",
       "      <td>0.0021</td>\n",
       "      <td>0.0018</td>\n",
       "      <td>0.0029</td>\n",
       "      <td>0.0002</td>\n",
       "    </tr>\n",
       "    <tr>\n",
       "      <th>2023-04-25</th>\n",
       "      <td>-0.0138</td>\n",
       "      <td>0.0000</td>\n",
       "      <td>0.0012</td>\n",
       "      <td>0.0015</td>\n",
       "      <td>0.0061</td>\n",
       "      <td>0.0002</td>\n",
       "    </tr>\n",
       "    <tr>\n",
       "      <th>2023-04-26</th>\n",
       "      <td>-0.0038</td>\n",
       "      <td>0.0003</td>\n",
       "      <td>-0.0025</td>\n",
       "      <td>0.0014</td>\n",
       "      <td>-0.0002</td>\n",
       "      <td>0.0002</td>\n",
       "    </tr>\n",
       "    <tr>\n",
       "      <th>2023-04-27</th>\n",
       "      <td>0.0123</td>\n",
       "      <td>-0.0062</td>\n",
       "      <td>-0.0044</td>\n",
       "      <td>0.0023</td>\n",
       "      <td>-0.0033</td>\n",
       "      <td>0.0002</td>\n",
       "    </tr>\n",
       "    <tr>\n",
       "      <th>2023-04-28</th>\n",
       "      <td>0.0056</td>\n",
       "      <td>0.0001</td>\n",
       "      <td>0.0002</td>\n",
       "      <td>0.0012</td>\n",
       "      <td>0.0009</td>\n",
       "      <td>0.0002</td>\n",
       "    </tr>\n",
       "  </tbody>\n",
       "</table>\n",
       "</div>"
      ],
      "text/plain": [
       "            Mkt-RF     SMB     HML     RMW     CMA      RF\n",
       "2023-04-24  0.0014 -0.0004  0.0021  0.0018  0.0029  0.0002\n",
       "2023-04-25 -0.0138  0.0000  0.0012  0.0015  0.0061  0.0002\n",
       "2023-04-26 -0.0038  0.0003 -0.0025  0.0014 -0.0002  0.0002\n",
       "2023-04-27  0.0123 -0.0062 -0.0044  0.0023 -0.0033  0.0002\n",
       "2023-04-28  0.0056  0.0001  0.0002  0.0012  0.0009  0.0002"
      ]
     },
     "execution_count": 10,
     "metadata": {},
     "output_type": "execute_result"
    }
   ],
   "source": [
    "df_factors.tail()"
   ]
  },
  {
   "cell_type": "code",
   "execution_count": 11,
   "id": "a26683f3",
   "metadata": {
    "pycharm": {
     "name": "#%%\n"
    }
   },
   "outputs": [],
   "source": [
    "# for f in df_factors.columns:\n",
    "#     plot_acf(df_factors[f])\n",
    "#     plt.show()"
   ]
  },
  {
   "cell_type": "code",
   "execution_count": null,
   "outputs": [],
   "source": [],
   "metadata": {
    "collapsed": false,
    "pycharm": {
     "name": "#%%\n"
    }
   }
  },
  {
   "cell_type": "code",
   "execution_count": 12,
   "id": "42643217",
   "metadata": {
    "pycharm": {
     "name": "#%%\n"
    }
   },
   "outputs": [
    {
     "name": "stdout",
     "output_type": "stream",
     "text": [
      "LVMH.PA\n",
      "Done\n",
      "ASML.AS\n",
      "Done\n",
      "NESN.S\n",
      "Done\n",
      "LIN\n",
      "Done\n",
      "NOVOb.CO\n",
      "Done\n",
      "AAPL.O\n"
     ]
    },
    {
     "name": "stderr",
     "output_type": "stream",
     "text": [
      "2023-06-16 17:27:47,580 P[10768] [MainThread 15672] Error code 504 | Server Error: {\"code\":504,\"message\":\"A remote server did not reply in a timely fashion. Please refer to the Data API Proxy logs for further details.\",\"statusMessage\":\"Gateway Timeout\"}\n",
      "2023-06-16 17:27:47,581 P[10768] [MainThread 15672] HTTP request failed: EikonError-Server Error: {\"code\":504,\"message\":\"A remote server did not reply in a timely fashion. Please refer to the Data API Proxy logs for further details.\",\"statusMessage\":\"Gateway Timeout\"}\n"
     ]
    },
    {
     "name": "stdout",
     "output_type": "stream",
     "text": [
      "Error code 504 | Server Error: {\"code\":504,\"message\":\"A remote server did not reply in a timely fashion. Please refer to the Data API Proxy logs for further details.\",\"statusMessage\":\"Gateway Timeout\"}\n",
      "ROG.S\n",
      "Done\n",
      "UNH\n",
      "Done\n",
      "SAPG.DE\n",
      "Done\n",
      "MSFT.O\n"
     ]
    },
    {
     "name": "stderr",
     "output_type": "stream",
     "text": [
      "2023-06-16 17:30:21,706 P[10768] [MainThread 15672] Error code 504 | Server Error: {\"code\":504,\"message\":\"A remote server did not reply in a timely fashion. Please refer to the Data API Proxy logs for further details.\",\"statusMessage\":\"Gateway Timeout\"}\n",
      "2023-06-16 17:30:21,707 P[10768] [MainThread 15672] HTTP request failed: EikonError-Server Error: {\"code\":504,\"message\":\"A remote server did not reply in a timely fashion. Please refer to the Data API Proxy logs for further details.\",\"statusMessage\":\"Gateway Timeout\"}\n",
      "C:\\Users\\serge\\anaconda3\\envs\\volatilityModels\\lib\\site-packages\\pandas\\core\\internals\\construction.py:540: VisibleDeprecationWarning: Creating an ndarray from ragged nested sequences (which is a list-or-tuple of lists-or-tuples-or ndarrays with different lengths or shapes) is deprecated. If you meant to do this, you must specify 'dtype=object' when creating the ndarray.\n",
      "  values = np.array([convert(v) for v in values])\n"
     ]
    },
    {
     "name": "stdout",
     "output_type": "stream",
     "text": [
      "Error code 504 | Server Error: {\"code\":504,\"message\":\"A remote server did not reply in a timely fashion. Please refer to the Data API Proxy logs for further details.\",\"statusMessage\":\"Gateway Timeout\"}\n"
     ]
    },
    {
     "data": {
      "text/html": [
       "<div>\n",
       "<style scoped>\n",
       "    .dataframe tbody tr th:only-of-type {\n",
       "        vertical-align: middle;\n",
       "    }\n",
       "\n",
       "    .dataframe tbody tr th {\n",
       "        vertical-align: top;\n",
       "    }\n",
       "\n",
       "    .dataframe thead th {\n",
       "        text-align: right;\n",
       "    }\n",
       "</style>\n",
       "<table border=\"1\" class=\"dataframe\">\n",
       "  <thead>\n",
       "    <tr style=\"text-align: right;\">\n",
       "      <th></th>\n",
       "      <th>0</th>\n",
       "    </tr>\n",
       "  </thead>\n",
       "  <tbody>\n",
       "    <tr>\n",
       "      <th>LVMH.PA</th>\n",
       "      <td>Instrument  Price Close  Calc Date  Month...</td>\n",
       "    </tr>\n",
       "    <tr>\n",
       "      <th>ASML.AS</th>\n",
       "      <td>Instrument  Price Close  Calc Date  Month...</td>\n",
       "    </tr>\n",
       "    <tr>\n",
       "      <th>NESN.S</th>\n",
       "      <td>Instrument  Price Close  Calc Date  Month...</td>\n",
       "    </tr>\n",
       "    <tr>\n",
       "      <th>LIN</th>\n",
       "      <td>Instrument  Price Close  Calc Date  Month...</td>\n",
       "    </tr>\n",
       "    <tr>\n",
       "      <th>NOVOb.CO</th>\n",
       "      <td>Instrument  Price Close  Calc Date  Month...</td>\n",
       "    </tr>\n",
       "    <tr>\n",
       "      <th>ROG.S</th>\n",
       "      <td>Instrument  Price Close  Calc Date  Month...</td>\n",
       "    </tr>\n",
       "    <tr>\n",
       "      <th>UNH</th>\n",
       "      <td>Instrument  Price Close  Calc Date  Month...</td>\n",
       "    </tr>\n",
       "    <tr>\n",
       "      <th>SAPG.DE</th>\n",
       "      <td>Instrument  Price Close  Calc Date  Month...</td>\n",
       "    </tr>\n",
       "  </tbody>\n",
       "</table>\n",
       "</div>"
      ],
      "text/plain": [
       "                                                          0\n",
       "LVMH.PA        Instrument  Price Close  Calc Date  Month...\n",
       "ASML.AS        Instrument  Price Close  Calc Date  Month...\n",
       "NESN.S         Instrument  Price Close  Calc Date  Month...\n",
       "LIN            Instrument  Price Close  Calc Date  Month...\n",
       "NOVOb.CO       Instrument  Price Close  Calc Date  Month...\n",
       "ROG.S          Instrument  Price Close  Calc Date  Month...\n",
       "UNH            Instrument  Price Close  Calc Date  Month...\n",
       "SAPG.DE        Instrument  Price Close  Calc Date  Month..."
      ]
     },
     "execution_count": 12,
     "metadata": {},
     "output_type": "execute_result"
    }
   ],
   "source": [
    "params = {\n",
    "    'SDate':'1999-12-31',\n",
    "    'EDate': '2021-06-04',\n",
    "    'Curn':'Native',\n",
    "}\n",
    "\n",
    "if load_data:\n",
    "    eikon_api.get_timeseries(rics=indices_rics, params=params)\n",
    "    price_data = eikon_api.data\n",
    "    price.to_csv(fr'{data_path}\\reuters_sample_data.csv')    \n",
    "else:\n",
    "    price_data = pd.read_csv(fr'{data_path}\\reuters_sample_data.csv')\n",
    "    "
   ]
  },
  {
   "cell_type": "code",
   "execution_count": 19,
   "id": "b1903ed1",
   "metadata": {
    "pycharm": {
     "name": "#%%\n"
    }
   },
   "outputs": [],
   "source": [
    "df = pd.DataFrame(index=eikon_api.data.iloc[0].values[0]['Calc Date'], columns=indices_rics)"
   ]
  },
  {
   "cell_type": "code",
   "execution_count": 23,
   "id": "fdd009cd",
   "metadata": {
    "pycharm": {
     "name": "#%%\n"
    }
   },
   "outputs": [
    {
     "data": {
      "text/html": [
       "<div>\n",
       "<style scoped>\n",
       "    .dataframe tbody tr th:only-of-type {\n",
       "        vertical-align: middle;\n",
       "    }\n",
       "\n",
       "    .dataframe tbody tr th {\n",
       "        vertical-align: top;\n",
       "    }\n",
       "\n",
       "    .dataframe thead th {\n",
       "        text-align: right;\n",
       "    }\n",
       "</style>\n",
       "<table border=\"1\" class=\"dataframe\">\n",
       "  <thead>\n",
       "    <tr style=\"text-align: right;\">\n",
       "      <th></th>\n",
       "      <th>Instrument</th>\n",
       "      <th>Price Close</th>\n",
       "      <th>Calc Date</th>\n",
       "      <th>Month</th>\n",
       "      <th>Year</th>\n",
       "      <th>DailyLogReturns</th>\n",
       "    </tr>\n",
       "  </thead>\n",
       "  <tbody>\n",
       "    <tr>\n",
       "      <th>0</th>\n",
       "      <td>LVMH.PA</td>\n",
       "      <td>80.028958</td>\n",
       "      <td>2000-01-03</td>\n",
       "      <td>1</td>\n",
       "      <td>2000</td>\n",
       "      <td>&lt;NA&gt;</td>\n",
       "    </tr>\n",
       "    <tr>\n",
       "      <th>1</th>\n",
       "      <td>LVMH.PA</td>\n",
       "      <td>72.458651</td>\n",
       "      <td>2000-01-04</td>\n",
       "      <td>1</td>\n",
       "      <td>2000</td>\n",
       "      <td>-0.099372</td>\n",
       "    </tr>\n",
       "    <tr>\n",
       "      <th>2</th>\n",
       "      <td>LVMH.PA</td>\n",
       "      <td>70.007313</td>\n",
       "      <td>2000-01-05</td>\n",
       "      <td>1</td>\n",
       "      <td>2000</td>\n",
       "      <td>-0.034416</td>\n",
       "    </tr>\n",
       "    <tr>\n",
       "      <th>3</th>\n",
       "      <td>LVMH.PA</td>\n",
       "      <td>69.214234</td>\n",
       "      <td>2000-01-06</td>\n",
       "      <td>1</td>\n",
       "      <td>2000</td>\n",
       "      <td>-0.011393</td>\n",
       "    </tr>\n",
       "    <tr>\n",
       "      <th>4</th>\n",
       "      <td>LVMH.PA</td>\n",
       "      <td>69.214234</td>\n",
       "      <td>2000-01-07</td>\n",
       "      <td>1</td>\n",
       "      <td>2000</td>\n",
       "      <td>0.0</td>\n",
       "    </tr>\n",
       "    <tr>\n",
       "      <th>...</th>\n",
       "      <td>...</td>\n",
       "      <td>...</td>\n",
       "      <td>...</td>\n",
       "      <td>...</td>\n",
       "      <td>...</td>\n",
       "      <td>...</td>\n",
       "    </tr>\n",
       "    <tr>\n",
       "      <th>5473</th>\n",
       "      <td>LVMH.PA</td>\n",
       "      <td>652.0</td>\n",
       "      <td>2021-05-31</td>\n",
       "      <td>5</td>\n",
       "      <td>2021</td>\n",
       "      <td>-0.005811</td>\n",
       "    </tr>\n",
       "    <tr>\n",
       "      <th>5474</th>\n",
       "      <td>LVMH.PA</td>\n",
       "      <td>657.1</td>\n",
       "      <td>2021-06-01</td>\n",
       "      <td>6</td>\n",
       "      <td>2021</td>\n",
       "      <td>0.007792</td>\n",
       "    </tr>\n",
       "    <tr>\n",
       "      <th>5475</th>\n",
       "      <td>LVMH.PA</td>\n",
       "      <td>661.0</td>\n",
       "      <td>2021-06-02</td>\n",
       "      <td>6</td>\n",
       "      <td>2021</td>\n",
       "      <td>0.005918</td>\n",
       "    </tr>\n",
       "    <tr>\n",
       "      <th>5476</th>\n",
       "      <td>LVMH.PA</td>\n",
       "      <td>654.3</td>\n",
       "      <td>2021-06-03</td>\n",
       "      <td>6</td>\n",
       "      <td>2021</td>\n",
       "      <td>-0.010188</td>\n",
       "    </tr>\n",
       "    <tr>\n",
       "      <th>5477</th>\n",
       "      <td>LVMH.PA</td>\n",
       "      <td>651.2</td>\n",
       "      <td>2021-06-04</td>\n",
       "      <td>6</td>\n",
       "      <td>2021</td>\n",
       "      <td>-0.004749</td>\n",
       "    </tr>\n",
       "  </tbody>\n",
       "</table>\n",
       "<p>5478 rows × 6 columns</p>\n",
       "</div>"
      ],
      "text/plain": [
       "     Instrument  Price Close  Calc Date  Month  Year  DailyLogReturns\n",
       "0       LVMH.PA    80.028958 2000-01-03      1  2000             <NA>\n",
       "1       LVMH.PA    72.458651 2000-01-04      1  2000        -0.099372\n",
       "2       LVMH.PA    70.007313 2000-01-05      1  2000        -0.034416\n",
       "3       LVMH.PA    69.214234 2000-01-06      1  2000        -0.011393\n",
       "4       LVMH.PA    69.214234 2000-01-07      1  2000              0.0\n",
       "...         ...          ...        ...    ...   ...              ...\n",
       "5473    LVMH.PA        652.0 2021-05-31      5  2021        -0.005811\n",
       "5474    LVMH.PA        657.1 2021-06-01      6  2021         0.007792\n",
       "5475    LVMH.PA        661.0 2021-06-02      6  2021         0.005918\n",
       "5476    LVMH.PA        654.3 2021-06-03      6  2021        -0.010188\n",
       "5477    LVMH.PA        651.2 2021-06-04      6  2021        -0.004749\n",
       "\n",
       "[5478 rows x 6 columns]"
      ]
     },
     "execution_count": 23,
     "metadata": {},
     "output_type": "execute_result"
    }
   ],
   "source": [
    "eikon_api.data.iloc[0].values[0]"
   ]
  },
  {
   "cell_type": "code",
   "execution_count": 29,
   "id": "525b42d3",
   "metadata": {
    "scrolled": false,
    "pycharm": {
     "name": "#%%\n"
    }
   },
   "outputs": [
    {
     "name": "stderr",
     "output_type": "stream",
     "text": [
      "C:\\Users\\serge\\AppData\\Local\\Temp\\ipykernel_10768\\834411842.py:6: FutureWarning: Passing 'suffixes' which cause duplicate columns {'DailyLogReturns_x'} in the result is deprecated and will raise a MergeError in a future version.\n",
      "  df = pd.merge(df, df2, on='Calc Date')\n"
     ]
    },
    {
     "data": {
      "text/html": [
       "<div>\n",
       "<style scoped>\n",
       "    .dataframe tbody tr th:only-of-type {\n",
       "        vertical-align: middle;\n",
       "    }\n",
       "\n",
       "    .dataframe tbody tr th {\n",
       "        vertical-align: top;\n",
       "    }\n",
       "\n",
       "    .dataframe thead th {\n",
       "        text-align: right;\n",
       "    }\n",
       "</style>\n",
       "<table border=\"1\" class=\"dataframe\">\n",
       "  <thead>\n",
       "    <tr style=\"text-align: right;\">\n",
       "      <th></th>\n",
       "      <th>Calc Date</th>\n",
       "      <th>DailyLogReturns_x</th>\n",
       "      <th>DailyLogReturns_y</th>\n",
       "      <th>DailyLogReturns_x</th>\n",
       "      <th>DailyLogReturns_y</th>\n",
       "      <th>DailyLogReturns_x</th>\n",
       "      <th>DailyLogReturns_y</th>\n",
       "      <th>DailyLogReturns_x</th>\n",
       "      <th>DailyLogReturns_y</th>\n",
       "    </tr>\n",
       "  </thead>\n",
       "  <tbody>\n",
       "    <tr>\n",
       "      <th>0</th>\n",
       "      <td>2000-01-04</td>\n",
       "      <td>-0.099372</td>\n",
       "      <td>-0.049205</td>\n",
       "      <td>&lt;NA&gt;</td>\n",
       "      <td>-0.017722</td>\n",
       "      <td>-0.020305</td>\n",
       "      <td>&lt;NA&gt;</td>\n",
       "      <td>-0.012873</td>\n",
       "      <td>-0.048639</td>\n",
       "    </tr>\n",
       "    <tr>\n",
       "      <th>1</th>\n",
       "      <td>2000-01-05</td>\n",
       "      <td>-0.034416</td>\n",
       "      <td>-0.100228</td>\n",
       "      <td>-0.007168</td>\n",
       "      <td>0.017722</td>\n",
       "      <td>-0.023872</td>\n",
       "      <td>-0.025162</td>\n",
       "      <td>-0.002358</td>\n",
       "      <td>-0.128605</td>\n",
       "    </tr>\n",
       "    <tr>\n",
       "      <th>2</th>\n",
       "      <td>2000-01-06</td>\n",
       "      <td>-0.011393</td>\n",
       "      <td>-0.072511</td>\n",
       "      <td>0.04088</td>\n",
       "      <td>0.071416</td>\n",
       "      <td>0.023872</td>\n",
       "      <td>0.010141</td>\n",
       "      <td>0.035946</td>\n",
       "      <td>0.031926</td>\n",
       "    </tr>\n",
       "    <tr>\n",
       "      <th>3</th>\n",
       "      <td>2000-01-07</td>\n",
       "      <td>0.0</td>\n",
       "      <td>0.072004</td>\n",
       "      <td>0.019491</td>\n",
       "      <td>0.001168</td>\n",
       "      <td>0.020305</td>\n",
       "      <td>0.05507</td>\n",
       "      <td>0.110926</td>\n",
       "      <td>0.192664</td>\n",
       "    </tr>\n",
       "    <tr>\n",
       "      <th>4</th>\n",
       "      <td>2000-01-10</td>\n",
       "      <td>0.041322</td>\n",
       "      <td>0.069534</td>\n",
       "      <td>-0.010211</td>\n",
       "      <td>0.001166</td>\n",
       "      <td>0.072671</td>\n",
       "      <td>0.012128</td>\n",
       "      <td>-0.017481</td>\n",
       "      <td>0.040036</td>\n",
       "    </tr>\n",
       "    <tr>\n",
       "      <th>...</th>\n",
       "      <td>...</td>\n",
       "      <td>...</td>\n",
       "      <td>...</td>\n",
       "      <td>...</td>\n",
       "      <td>...</td>\n",
       "      <td>...</td>\n",
       "      <td>...</td>\n",
       "      <td>...</td>\n",
       "      <td>...</td>\n",
       "    </tr>\n",
       "    <tr>\n",
       "      <th>5194</th>\n",
       "      <td>2021-05-28</td>\n",
       "      <td>0.011348</td>\n",
       "      <td>0.015142</td>\n",
       "      <td>0.004691</td>\n",
       "      <td>-0.000599</td>\n",
       "      <td>0.003217</td>\n",
       "      <td>0.007793</td>\n",
       "      <td>-0.001892</td>\n",
       "      <td>0.010479</td>\n",
       "    </tr>\n",
       "    <tr>\n",
       "      <th>5195</th>\n",
       "      <td>2021-06-01</td>\n",
       "      <td>0.007792</td>\n",
       "      <td>0.007102</td>\n",
       "      <td>0.000722</td>\n",
       "      <td>0.005507</td>\n",
       "      <td>0.000519</td>\n",
       "      <td>-0.00032</td>\n",
       "      <td>-0.012704</td>\n",
       "      <td>0.003517</td>\n",
       "    </tr>\n",
       "    <tr>\n",
       "      <th>5196</th>\n",
       "      <td>2021-06-02</td>\n",
       "      <td>0.005918</td>\n",
       "      <td>0.007232</td>\n",
       "      <td>0.006658</td>\n",
       "      <td>-0.007905</td>\n",
       "      <td>-0.000727</td>\n",
       "      <td>-0.00048</td>\n",
       "      <td>-0.002141</td>\n",
       "      <td>0.001754</td>\n",
       "    </tr>\n",
       "    <tr>\n",
       "      <th>5197</th>\n",
       "      <td>2021-06-03</td>\n",
       "      <td>-0.010188</td>\n",
       "      <td>-0.010322</td>\n",
       "      <td>0.002686</td>\n",
       "      <td>-0.005216</td>\n",
       "      <td>0.011981</td>\n",
       "      <td>0.01114</td>\n",
       "      <td>0.005185</td>\n",
       "      <td>-0.005448</td>\n",
       "    </tr>\n",
       "    <tr>\n",
       "      <th>5198</th>\n",
       "      <td>2021-06-04</td>\n",
       "      <td>-0.004749</td>\n",
       "      <td>0.015711</td>\n",
       "      <td>0.009612</td>\n",
       "      <td>0.005149</td>\n",
       "      <td>0.0093</td>\n",
       "      <td>0.012424</td>\n",
       "      <td>-0.005703</td>\n",
       "      <td>0.011389</td>\n",
       "    </tr>\n",
       "  </tbody>\n",
       "</table>\n",
       "<p>5199 rows × 9 columns</p>\n",
       "</div>"
      ],
      "text/plain": [
       "      Calc Date  DailyLogReturns_x  DailyLogReturns_y  DailyLogReturns_x  \\\n",
       "0    2000-01-04          -0.099372          -0.049205               <NA>   \n",
       "1    2000-01-05          -0.034416          -0.100228          -0.007168   \n",
       "2    2000-01-06          -0.011393          -0.072511            0.04088   \n",
       "3    2000-01-07                0.0           0.072004           0.019491   \n",
       "4    2000-01-10           0.041322           0.069534          -0.010211   \n",
       "...         ...                ...                ...                ...   \n",
       "5194 2021-05-28           0.011348           0.015142           0.004691   \n",
       "5195 2021-06-01           0.007792           0.007102           0.000722   \n",
       "5196 2021-06-02           0.005918           0.007232           0.006658   \n",
       "5197 2021-06-03          -0.010188          -0.010322           0.002686   \n",
       "5198 2021-06-04          -0.004749           0.015711           0.009612   \n",
       "\n",
       "      DailyLogReturns_y  DailyLogReturns_x  DailyLogReturns_y  \\\n",
       "0             -0.017722          -0.020305               <NA>   \n",
       "1              0.017722          -0.023872          -0.025162   \n",
       "2              0.071416           0.023872           0.010141   \n",
       "3              0.001168           0.020305            0.05507   \n",
       "4              0.001166           0.072671           0.012128   \n",
       "...                 ...                ...                ...   \n",
       "5194          -0.000599           0.003217           0.007793   \n",
       "5195           0.005507           0.000519           -0.00032   \n",
       "5196          -0.007905          -0.000727           -0.00048   \n",
       "5197          -0.005216           0.011981            0.01114   \n",
       "5198           0.005149             0.0093           0.012424   \n",
       "\n",
       "      DailyLogReturns_x  DailyLogReturns_y  \n",
       "0             -0.012873          -0.048639  \n",
       "1             -0.002358          -0.128605  \n",
       "2              0.035946           0.031926  \n",
       "3              0.110926           0.192664  \n",
       "4             -0.017481           0.040036  \n",
       "...                 ...                ...  \n",
       "5194          -0.001892           0.010479  \n",
       "5195          -0.012704           0.003517  \n",
       "5196          -0.002141           0.001754  \n",
       "5197           0.005185          -0.005448  \n",
       "5198          -0.005703           0.011389  \n",
       "\n",
       "[5199 rows x 9 columns]"
      ]
     },
     "execution_count": 29,
     "metadata": {},
     "output_type": "execute_result"
    }
   ],
   "source": [
    "df = eikon_api.data.iloc[0].values[0][['Calc Date', 'DailyLogReturns']]\n",
    "df = df.rename({'DailyLogReturns': 0})\n",
    "for i in range(1, len(eikon_api.data)):\n",
    "    df2 = eikon_api.data.iloc[i].values[0][['Calc Date', 'DailyLogReturns']]\n",
    "    df2 = df2.rename({'DailyLogReturns': i})\n",
    "    df = pd.merge(df, df2, on='Calc Date')\n"
   ]
  },
  {
   "cell_type": "code",
   "execution_count": 31,
   "id": "43dd1e24",
   "metadata": {
    "pycharm": {
     "name": "#%%\n"
    }
   },
   "outputs": [],
   "source": [
    "df.set_index('Calc Date', inplace=True)"
   ]
  },
  {
   "cell_type": "code",
   "execution_count": 32,
   "id": "ac751e0c",
   "metadata": {
    "pycharm": {
     "name": "#%%\n"
    }
   },
   "outputs": [
    {
     "data": {
      "text/plain": [
       "<AxesSubplot:xlabel='Calc Date'>"
      ]
     },
     "execution_count": 32,
     "metadata": {},
     "output_type": "execute_result"
    },
    {
     "data": {
      "image/png": "[encoded data removed]",
      "text/plain": [
       "<Figure size 640x480 with 1 Axes>"
      ]
     },
     "metadata": {},
     "output_type": "display_data"
    }
   ],
   "source": [
    "df.plot()"
   ]
  },
  {
   "cell_type": "code",
   "execution_count": 13,
   "id": "0e102402",
   "metadata": {
    "pycharm": {
     "name": "#%%\n"
    }
   },
   "outputs": [],
   "source": [
    "price_data = eikon_api.data\n",
    "price.to_csv(fr'{data_path}\\reuters_sample_data.csv')    "
   ]
  },
  {
   "cell_type": "code",
   "execution_count": 14,
   "id": "8d32c03d",
   "metadata": {
    "pycharm": {
     "name": "#%%\n"
    }
   },
   "outputs": [
    {
     "name": "stdout",
     "output_type": "stream",
     "text": [
      "ASML.AS\n"
     ]
    },
    {
     "ename": "NameError",
     "evalue": "name 'data_dict' is not defined",
     "output_type": "error",
     "traceback": [
      "\u001B[1;31m---------------------------------------------------------------------------\u001B[0m",
      "\u001B[1;31mNameError\u001B[0m                                 Traceback (most recent call last)",
      "Cell \u001B[1;32mIn[14], line 3\u001B[0m\n\u001B[0;32m      1\u001B[0m ric \u001B[38;5;241m=\u001B[39m indices_rics[\u001B[38;5;241m1\u001B[39m]\n\u001B[0;32m      2\u001B[0m \u001B[38;5;28mprint\u001B[39m(ric)\n\u001B[1;32m----> 3\u001B[0m df \u001B[38;5;241m=\u001B[39m \u001B[43mdata_dict\u001B[49m[ric]\n\u001B[0;32m      4\u001B[0m df \u001B[38;5;241m=\u001B[39m pd\u001B[38;5;241m.\u001B[39mmerge(df, df_factors, left_on\u001B[38;5;241m=\u001B[39m\u001B[38;5;124m'\u001B[39m\u001B[38;5;124mCalc Date\u001B[39m\u001B[38;5;124m'\u001B[39m, right_index\u001B[38;5;241m=\u001B[39m\u001B[38;5;28;01mTrue\u001B[39;00m, how\u001B[38;5;241m=\u001B[39m\u001B[38;5;124m'\u001B[39m\u001B[38;5;124mleft\u001B[39m\u001B[38;5;124m'\u001B[39m)\n\u001B[0;32m      5\u001B[0m df\u001B[38;5;241m.\u001B[39mhead()\n",
      "\u001B[1;31mNameError\u001B[0m: name 'data_dict' is not defined"
     ]
    }
   ],
   "source": [
    "ric = indices_rics[1]\n",
    "print(ric)\n",
    "df = data_dict[ric]\n",
    "df = pd.merge(df, df_factors, left_on='Calc Date', right_index=True, how='left')\n",
    "df.head()"
   ]
  },
  {
   "cell_type": "code",
   "execution_count": null,
   "id": "f5e488c1",
   "metadata": {
    "pycharm": {
     "name": "#%%\n"
    }
   },
   "outputs": [],
   "source": [
    "factors = ['Mkt-RF', 'SMB', 'HML', 'RMW', 'CMA']\n",
    "for f in factors:\n",
    "    print(f\"{f}: {df.loc[:, ['DailyLogReturns', f]].iloc[0,1]}\")"
   ]
  },
  {
   "cell_type": "code",
   "execution_count": null,
   "id": "df4a28b0",
   "metadata": {
    "pycharm": {
     "name": "#%%\n"
    }
   },
   "outputs": [],
   "source": [
    "X = df.loc[:, factors].astype(float)\n",
    "X = add_constant(X)\n",
    "y = df.loc[:, 'DailyLogReturns'].astype(float)"
   ]
  },
  {
   "cell_type": "code",
   "execution_count": null,
   "id": "d94349c2",
   "metadata": {
    "pycharm": {
     "name": "#%%\n"
    }
   },
   "outputs": [],
   "source": [
    "model = OLS(\n",
    "    endog=y,\n",
    "    exog=X,\n",
    "    missing='drop',\n",
    "    hasconst=True,\n",
    ")\n",
    "results = model.fit()"
   ]
  },
  {
   "cell_type": "code",
   "execution_count": null,
   "id": "95344d7d",
   "metadata": {
    "pycharm": {
     "name": "#%%\n"
    }
   },
   "outputs": [],
   "source": [
    "results.params"
   ]
  },
  {
   "cell_type": "code",
   "execution_count": null,
   "id": "b84484e1",
   "metadata": {
    "pycharm": {
     "name": "#%%\n"
    }
   },
   "outputs": [],
   "source": [
    "results.pvalues"
   ]
  },
  {
   "cell_type": "code",
   "execution_count": null,
   "id": "34fb243b",
   "metadata": {
    "pycharm": {
     "name": "#%%\n"
    }
   },
   "outputs": [],
   "source": [
    "sns.histplot(y)"
   ]
  },
  {
   "cell_type": "code",
   "execution_count": null,
   "id": "d4a6159d",
   "metadata": {
    "pycharm": {
     "name": "#%%\n"
    }
   },
   "outputs": [],
   "source": [
    "sns.histplot(results.resid)"
   ]
  },
  {
   "cell_type": "code",
   "execution_count": null,
   "id": "629e9d46",
   "metadata": {
    "pycharm": {
     "name": "#%%\n"
    }
   },
   "outputs": [],
   "source": [
    "stats.kstat(results.resid)"
   ]
  },
  {
   "cell_type": "code",
   "execution_count": null,
   "id": "b8bd3b62",
   "metadata": {
    "pycharm": {
     "name": "#%%\n"
    }
   },
   "outputs": [],
   "source": [
    "stats.jarque_bera(results.resid)"
   ]
  },
  {
   "cell_type": "code",
   "execution_count": null,
   "id": "7d533f1e",
   "metadata": {
    "pycharm": {
     "name": "#%%\n"
    }
   },
   "outputs": [],
   "source": [
    "model_roll = RollingOLS(\n",
    "    endog=y,\n",
    "    exog=X,\n",
    "    missing='drop',\n",
    "    window=1500 # this is approx. 5 years\n",
    ")\n",
    "results_roll = model_roll.fit()"
   ]
  },
  {
   "cell_type": "code",
   "execution_count": null,
   "id": "6f130637",
   "metadata": {
    "pycharm": {
     "name": "#%%\n"
    }
   },
   "outputs": [],
   "source": [
    "results_roll.params.join(df['Calc Date']).set_index('Calc Date').plot()"
   ]
  },
  {
   "cell_type": "code",
   "execution_count": null,
   "id": "62576e4f",
   "metadata": {
    "pycharm": {
     "name": "#%%\n"
    }
   },
   "outputs": [],
   "source": [
    "df"
   ]
  },
  {
   "cell_type": "code",
   "execution_count": null,
   "id": "b69fd821",
   "metadata": {
    "pycharm": {
     "name": "#%%\n"
    }
   },
   "outputs": [],
   "source": []
  }
 ],
 "metadata": {
  "kernelspec": {
   "display_name": "volatility_models_kernel",
   "language": "python",
   "name": "volatility_models_kernel"
  },
  "language_info": {
   "codemirror_mode": {
    "name": "ipython",
    "version": 3
   },
   "file_extension": ".py",
   "mimetype": "text/x-python",
   "name": "python",
   "nbconvert_exporter": "python",
   "pygments_lexer": "ipython3",
   "version": "3.9.7"
  }
 },
 "nbformat": 4,
 "nbformat_minor": 5
}
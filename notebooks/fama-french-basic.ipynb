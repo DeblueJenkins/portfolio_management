{
 "cells": [
  {
   "cell_type": "code",
   "execution_count": 1,
   "id": "fb51ed87",
   "metadata": {
    "pycharm": {
     "name": "#%%\n"
    }
   },
   "outputs": [],
   "source": [
    "import eikon as ek\n",
    "import pandas as pd\n",
    "import numpy as np\n",
    "from statsmodels.graphics.tsaplots import plot_acf, plot_pacf\n",
    "import matplotlib.pyplot as plt\n",
    "import datetime as dt\n",
    "from IPython.display import display, HTML\n",
    "import os\n",
    "# from sklearn.linear_model import LinearRegression\n",
    "from statsmodels.regression.linear_model import OLS\n",
    "from statsmodels.regression.rolling import RollingOLS\n",
    "from statsmodels.tools.tools import add_constant\n",
    "import seaborn as sns\n",
    "from scipy import stats\n",
    "import time"
   ]
  },
  {
   "cell_type": "code",
   "execution_count": null,
   "id": "a8b2e141",
   "metadata": {
    "pycharm": {
     "name": "#%%\n"
    },
    "scrolled": true
   },
   "outputs": [],
   "source": [
    "display(HTML(\"<style>.container { width:100% !important; }</style>\"))\n",
    "display(HTML(\"<style>.output_result { max-width:100% !important; }</style>\"))"
   ]
  },
  {
   "cell_type": "code",
   "execution_count": 2,
   "id": "61a4e4d4",
   "metadata": {
    "pycharm": {
     "name": "#%%\n"
    }
   },
   "outputs": [],
   "source": [
    "%run paths.ipynb"
   ]
  },
  {
   "cell_type": "code",
   "execution_count": 3,
   "id": "7a96d243",
   "metadata": {
    "pycharm": {
     "name": "#%%\n"
    }
   },
   "outputs": [
    {
     "ename": "IndentationError",
     "evalue": "unindent does not match any outer indentation level (<tokenize>, line 27)",
     "output_type": "error",
     "traceback": [
      "\u001B[1;36m  File \u001B[1;32m<tokenize>:27\u001B[1;36m\u001B[0m\n\u001B[1;33m    self.data = data_dict\u001B[0m\n\u001B[1;37m    ^\u001B[0m\n\u001B[1;31mIndentationError\u001B[0m\u001B[1;31m:\u001B[0m unindent does not match any outer indentation level\n"
     ]
    },
    {
     "ename": "IndentationError",
     "evalue": "unindent does not match any outer indentation level (<tokenize>, line 27)",
     "output_type": "error",
     "traceback": [
      "Traceback \u001B[1;36m(most recent call last)\u001B[0m:\n",
      "\u001B[0m  File \u001B[0;32m~\\anaconda3\\envs\\volatilityModels\\lib\\site-packages\\IPython\\core\\interactiveshell.py:3442\u001B[0m in \u001B[0;35mrun_code\u001B[0m\n    exec(code_obj, self.user_global_ns, self.user_ns)\u001B[0m\n",
      "\u001B[0m  Cell \u001B[0;32mIn[3], line 1\u001B[0m\n    get_ipython().run_line_magic('run', 'funcs.ipynb')\u001B[0m\n",
      "\u001B[0m  File \u001B[0;32m~\\anaconda3\\envs\\volatilityModels\\lib\\site-packages\\IPython\\core\\interactiveshell.py:2369\u001B[0m in \u001B[0;35mrun_line_magic\u001B[0m\n    result = fn(*args, **kwargs)\u001B[0m\n",
      "\u001B[0m  File \u001B[0;32m~\\anaconda3\\envs\\volatilityModels\\lib\\site-packages\\IPython\\core\\magics\\execution.py:717\u001B[0m in \u001B[0;35mrun\u001B[0m\n    self.shell.safe_execfile_ipy(filename, raise_exceptions=True)\u001B[0m\n",
      "\u001B[0m  File \u001B[0;32m~\\anaconda3\\envs\\volatilityModels\\lib\\site-packages\\IPython\\core\\interactiveshell.py:2875\u001B[0m in \u001B[0;35msafe_execfile_ipy\u001B[0m\n    result.raise_error()\u001B[0m\n",
      "\u001B[0m  File \u001B[0;32m~\\anaconda3\\envs\\volatilityModels\\lib\\site-packages\\IPython\\core\\interactiveshell.py:264\u001B[0m in \u001B[0;35mraise_error\u001B[0m\n    raise self.error_before_exec\u001B[0m\n",
      "\u001B[0m  File \u001B[0;32m~\\anaconda3\\envs\\volatilityModels\\lib\\site-packages\\IPython\\core\\interactiveshell.py:2968\u001B[0m in \u001B[0;35m_run_cell\u001B[0m\n    transformed_cell = self.transform_cell(raw_cell)\u001B[0m\n",
      "\u001B[0m  File \u001B[0;32m~\\anaconda3\\envs\\volatilityModels\\lib\\site-packages\\IPython\\core\\interactiveshell.py:3236\u001B[0m in \u001B[0;35mtransform_cell\u001B[0m\n    cell = self.input_transformer_manager.transform_cell(raw_cell)\u001B[0m\n",
      "\u001B[0m  File \u001B[0;32m~\\anaconda3\\envs\\volatilityModels\\lib\\site-packages\\IPython\\core\\inputtransformer2.py:639\u001B[0m in \u001B[0;35mtransform_cell\u001B[0m\n    lines = self.do_token_transforms(lines)\u001B[0m\n",
      "\u001B[0m  File \u001B[0;32m~\\anaconda3\\envs\\volatilityModels\\lib\\site-packages\\IPython\\core\\inputtransformer2.py:624\u001B[0m in \u001B[0;35mdo_token_transforms\u001B[0m\n    changed, lines = self.do_one_token_transform(lines)\u001B[0m\n",
      "\u001B[0m  File \u001B[0;32m~\\anaconda3\\envs\\volatilityModels\\lib\\site-packages\\IPython\\core\\inputtransformer2.py:604\u001B[0m in \u001B[0;35mdo_one_token_transform\u001B[0m\n    tokens_by_line = make_tokens_by_line(lines)\u001B[0m\n",
      "\u001B[0m  File \u001B[0;32m~\\anaconda3\\envs\\volatilityModels\\lib\\site-packages\\IPython\\core\\inputtransformer2.py:514\u001B[0m in \u001B[0;35mmake_tokens_by_line\u001B[0m\n    for token in tokenize.generate_tokens(iter(lines).__next__):\u001B[0m\n",
      "\u001B[1;36m  File \u001B[1;32m~\\anaconda3\\envs\\volatilityModels\\lib\\tokenize.py:512\u001B[1;36m in \u001B[1;35m_tokenize\u001B[1;36m\n\u001B[1;33m    raise IndentationError(\u001B[1;36m\n",
      "\u001B[1;36m  File \u001B[1;32m<tokenize>:27\u001B[1;36m\u001B[0m\n\u001B[1;33m    self.data = data_dict\u001B[0m\n\u001B[1;37m    ^\u001B[0m\n\u001B[1;31mIndentationError\u001B[0m\u001B[1;31m:\u001B[0m unindent does not match any outer indentation level\n"
     ]
    }
   ],
   "source": [
    "%run funcs.ipynb"
   ]
  },
  {
   "cell_type": "code",
   "execution_count": null,
   "id": "2d4c5ac3",
   "metadata": {
    "pycharm": {
     "name": "#%%\n"
    }
   },
   "outputs": [],
   "source": [
    "file = 'Developed_5_Factors_Daily.csv'"
   ]
  },
  {
   "cell_type": "code",
   "execution_count": null,
   "id": "5dae451e",
   "metadata": {
    "pycharm": {
     "name": "#%%\n"
    }
   },
   "outputs": [],
   "source": [
    "path_apikeys"
   ]
  },
  {
   "cell_type": "code",
   "execution_count": null,
   "id": "101d6dfd",
   "metadata": {
    "pycharm": {
     "name": "#%%\n"
    }
   },
   "outputs": [],
   "source": [
    "eikon_api = Eikon()\n"
   ]
  },
  {
   "cell_type": "code",
   "execution_count": null,
   "id": "9450e5e6",
   "metadata": {
    "pycharm": {
     "name": "#%%\n"
    }
   },
   "outputs": [],
   "source": [
    "load_data = False"
   ]
  },
  {
   "cell_type": "code",
   "execution_count": null,
   "id": "56387489",
   "metadata": {
    "pycharm": {
     "name": "#%%\n"
    }
   },
   "outputs": [],
   "source": [
    "indices_rics = ['LVMH.PA', 'ASML.AS', 'NESN.S', 'LIN',\n",
    "                'NOVOb.CO', 'AAPL.O', 'ROG.S', 'UNH',\n",
    "                'SAPG.DE', 'MSFT.O']\n",
    "# indices_rics = eikon_api.get_index_constituents(ek, '.GDAXI')\n",
    "# indices_rics"
   ]
  },
  {
   "cell_type": "code",
   "execution_count": null,
   "id": "bc6eb9d5",
   "metadata": {
    "pycharm": {
     "name": "#%%\n"
    }
   },
   "outputs": [],
   "source": [
    "# end_row = 402\n",
    "fm = FamaFrenchFactors()\n",
    "df_factors = fm.get_data(file)"
   ]
  },
  {
   "cell_type": "code",
   "execution_count": null,
   "id": "1b50370e",
   "metadata": {
    "pycharm": {
     "name": "#%%\n"
    }
   },
   "outputs": [],
   "source": [
    "df_factors.tail()"
   ]
  },
  {
   "cell_type": "code",
   "execution_count": null,
   "id": "a26683f3",
   "metadata": {
    "pycharm": {
     "name": "#%%\n"
    }
   },
   "outputs": [],
   "source": [
    "# for f in df_factors.columns:\n",
    "#     plot_acf(df_factors[f])\n",
    "#     plt.show()"
   ]
  },
  {
   "cell_type": "code",
   "execution_count": null,
   "id": "db76ce42",
   "metadata": {
    "pycharm": {
     "name": "#%%\n"
    }
   },
   "outputs": [],
   "source": []
  },
  {
   "cell_type": "code",
   "execution_count": null,
   "id": "42643217",
   "metadata": {
    "pycharm": {
     "name": "#%%\n"
    }
   },
   "outputs": [],
   "source": [
    "params = {\n",
    "    'SDate':'1999-12-31',\n",
    "    'EDate': '2021-06-04',\n",
    "    'Curn':'Native',\n",
    "}\n",
    "\n",
    "if load_data:\n",
    "    eikon_api.get_timeseries(rics=indices_rics, params=params)\n",
    "    price_data = eikon_api.data\n",
    "    price.to_csv(fr'{data_path}\\reuters_sample_data.csv')    \n",
    "else:\n",
    "    price_data = pd.read_csv(fr'{data_path}\\reuters_sample_data.csv')\n",
    "    "
   ]
  },
  {
   "cell_type": "code",
   "execution_count": null,
   "id": "b1903ed1",
   "metadata": {
    "pycharm": {
     "name": "#%%\n"
    }
   },
   "outputs": [],
   "source": [
    "df = pd.DataFrame(index=eikon_api.data.iloc[0].values[0]['Calc Date'], columns=indices_rics)"
   ]
  },
  {
   "cell_type": "code",
   "execution_count": null,
   "id": "fdd009cd",
   "metadata": {
    "pycharm": {
     "name": "#%%\n"
    }
   },
   "outputs": [],
   "source": [
    "eikon_api.data.iloc[0].values[0]"
   ]
  },
  {
   "cell_type": "code",
   "execution_count": null,
   "id": "525b42d3",
   "metadata": {
    "pycharm": {
     "name": "#%%\n"
    },
    "scrolled": false
   },
   "outputs": [],
   "source": [
    "df = eikon_api.data.iloc[0].values[0][['Calc Date', 'DailyLogReturns']]\n",
    "df = df.rename({'DailyLogReturns': 0})\n",
    "for i in range(1, len(eikon_api.data)):\n",
    "    df2 = eikon_api.data.iloc[i].values[0][['Calc Date', 'DailyLogReturns']]\n",
    "    df2 = df2.rename({'DailyLogReturns': i})\n",
    "    df = pd.merge(df, df2, on='Calc Date')\n"
   ]
  },
  {
   "cell_type": "code",
   "execution_count": null,
   "id": "43dd1e24",
   "metadata": {
    "pycharm": {
     "name": "#%%\n"
    }
   },
   "outputs": [],
   "source": [
    "df.set_index('Calc Date', inplace=True)"
   ]
  },
  {
   "cell_type": "code",
   "execution_count": null,
   "id": "ac751e0c",
   "metadata": {
    "pycharm": {
     "name": "#%%\n"
    }
   },
   "outputs": [],
   "source": [
    "df.plot()"
   ]
  },
  {
   "cell_type": "code",
   "execution_count": null,
   "id": "0e102402",
   "metadata": {
    "pycharm": {
     "name": "#%%\n"
    }
   },
   "outputs": [],
   "source": [
    "price_data = eikon_api.data\n",
    "price.to_csv(fr'{data_path}\\reuters_sample_data.csv')    "
   ]
  },
  {
   "cell_type": "code",
   "execution_count": null,
   "id": "8d32c03d",
   "metadata": {
    "pycharm": {
     "name": "#%%\n"
    }
   },
   "outputs": [],
   "source": [
    "ric = indices_rics[1]\n",
    "print(ric)\n",
    "df = data_dict[ric]\n",
    "df = pd.merge(df, df_factors, left_on='Calc Date', right_index=True, how='left')\n",
    "df.head()"
   ]
  },
  {
   "cell_type": "code",
   "execution_count": null,
   "id": "f5e488c1",
   "metadata": {
    "pycharm": {
     "name": "#%%\n"
    }
   },
   "outputs": [],
   "source": [
    "factors = ['Mkt-RF', 'SMB', 'HML', 'RMW', 'CMA']\n",
    "for f in factors:\n",
    "    print(f\"{f}: {df.loc[:, ['DailyLogReturns', f]].iloc[0,1]}\")"
   ]
  },
  {
   "cell_type": "code",
   "execution_count": null,
   "id": "df4a28b0",
   "metadata": {
    "pycharm": {
     "name": "#%%\n"
    }
   },
   "outputs": [],
   "source": [
    "X = df.loc[:, factors].astype(float)\n",
    "X = add_constant(X)\n",
    "y = df.loc[:, 'DailyLogReturns'].astype(float)"
   ]
  },
  {
   "cell_type": "code",
   "execution_count": null,
   "id": "d94349c2",
   "metadata": {
    "pycharm": {
     "name": "#%%\n"
    }
   },
   "outputs": [],
   "source": [
    "model = OLS(\n",
    "    endog=y,\n",
    "    exog=X,\n",
    "    missing='drop',\n",
    "    hasconst=True,\n",
    ")\n",
    "results = model.fit()"
   ]
  },
  {
   "cell_type": "code",
   "execution_count": null,
   "id": "95344d7d",
   "metadata": {
    "pycharm": {
     "name": "#%%\n"
    }
   },
   "outputs": [],
   "source": [
    "results.params"
   ]
  },
  {
   "cell_type": "code",
   "execution_count": null,
   "id": "b84484e1",
   "metadata": {
    "pycharm": {
     "name": "#%%\n"
    }
   },
   "outputs": [],
   "source": [
    "results.pvalues"
   ]
  },
  {
   "cell_type": "code",
   "execution_count": null,
   "id": "34fb243b",
   "metadata": {
    "pycharm": {
     "name": "#%%\n"
    }
   },
   "outputs": [],
   "source": [
    "sns.histplot(y)"
   ]
  },
  {
   "cell_type": "code",
   "execution_count": null,
   "id": "d4a6159d",
   "metadata": {
    "pycharm": {
     "name": "#%%\n"
    }
   },
   "outputs": [],
   "source": [
    "sns.histplot(results.resid)"
   ]
  },
  {
   "cell_type": "code",
   "execution_count": null,
   "id": "629e9d46",
   "metadata": {
    "pycharm": {
     "name": "#%%\n"
    }
   },
   "outputs": [],
   "source": [
    "stats.kstat(results.resid)"
   ]
  },
  {
   "cell_type": "code",
   "execution_count": null,
   "id": "b8bd3b62",
   "metadata": {
    "pycharm": {
     "name": "#%%\n"
    }
   },
   "outputs": [],
   "source": [
    "stats.jarque_bera(results.resid)"
   ]
  },
  {
   "cell_type": "code",
   "execution_count": null,
   "id": "7d533f1e",
   "metadata": {
    "pycharm": {
     "name": "#%%\n"
    }
   },
   "outputs": [],
   "source": [
    "model_roll = RollingOLS(\n",
    "    endog=y,\n",
    "    exog=X,\n",
    "    missing='drop',\n",
    "    window=1500 # this is approx. 5 years\n",
    ")\n",
    "results_roll = model_roll.fit()"
   ]
  },
  {
   "cell_type": "code",
   "execution_count": null,
   "id": "6f130637",
   "metadata": {
    "pycharm": {
     "name": "#%%\n"
    }
   },
   "outputs": [],
   "source": [
    "results_roll.params.join(df['Calc Date']).set_index('Calc Date').plot()"
   ]
  },
  {
   "cell_type": "code",
   "execution_count": null,
   "id": "62576e4f",
   "metadata": {
    "pycharm": {
     "name": "#%%\n"
    }
   },
   "outputs": [],
   "source": [
    "df"
   ]
  },
  {
   "cell_type": "code",
   "execution_count": null,
   "id": "b69fd821",
   "metadata": {
    "pycharm": {
     "name": "#%%\n"
    }
   },
   "outputs": [],
   "source": []
  }
 ],
 "metadata": {
  "kernelspec": {
   "display_name": "volatility_models_kernel",
   "language": "python",
   "name": "volatility_models_kernel"
  },
  "language_info": {
   "codemirror_mode": {
    "name": "ipython",
    "version": 3
   },
   "file_extension": ".py",
   "mimetype": "text/x-python",
   "name": "python",
   "nbconvert_exporter": "python",
   "pygments_lexer": "ipython3",
   "version": "3.9.7"
  }
 },
 "nbformat": 4,
 "nbformat_minor": 5
}
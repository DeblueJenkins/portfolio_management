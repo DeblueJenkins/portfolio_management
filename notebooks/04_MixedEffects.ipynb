{
 "cells": [
  {
   "cell_type": "code",
   "execution_count": 1,
   "metadata": {
    "collapsed": true,
    "ExecuteTime": {
     "end_time": "2024-10-24T18:09:36.690224300Z",
     "start_time": "2024-10-24T18:09:35.200777100Z"
    }
   },
   "outputs": [],
   "source": [
    "import statsmodels.api as sm\n",
    "import statsmodels.formula.api as smf"
   ]
  },
  {
   "cell_type": "markdown",
   "source": [
    "### Mixed Effects statsmodels example"
   ],
   "metadata": {
    "collapsed": false
   }
  },
  {
   "cell_type": "code",
   "execution_count": 2,
   "outputs": [],
   "source": [
    "data = sm.datasets.get_rdataset(\"dietox\", \"geepack\").data"
   ],
   "metadata": {
    "collapsed": false,
    "ExecuteTime": {
     "end_time": "2024-10-24T18:09:37.891538700Z",
     "start_time": "2024-10-24T18:09:36.690224300Z"
    }
   }
  },
  {
   "cell_type": "code",
   "execution_count": 3,
   "outputs": [
    {
     "data": {
      "text/plain": "    Pig     Evit     Cu  Litter  Start    Weight       Feed  Time\n0  4601  Evit000  Cu000       1   26.5  26.50000        NaN     1\n1  4601  Evit000  Cu000       1   26.5  27.59999   5.200005     2\n2  4601  Evit000  Cu000       1   26.5  36.50000  17.600000     3\n3  4601  Evit000  Cu000       1   26.5  40.29999  28.500000     4\n4  4601  Evit000  Cu000       1   26.5  49.09998  45.200001     5",
      "text/html": "<div>\n<style scoped>\n    .dataframe tbody tr th:only-of-type {\n        vertical-align: middle;\n    }\n\n    .dataframe tbody tr th {\n        vertical-align: top;\n    }\n\n    .dataframe thead th {\n        text-align: right;\n    }\n</style>\n<table border=\"1\" class=\"dataframe\">\n  <thead>\n    <tr style=\"text-align: right;\">\n      <th></th>\n      <th>Pig</th>\n      <th>Evit</th>\n      <th>Cu</th>\n      <th>Litter</th>\n      <th>Start</th>\n      <th>Weight</th>\n      <th>Feed</th>\n      <th>Time</th>\n    </tr>\n  </thead>\n  <tbody>\n    <tr>\n      <th>0</th>\n      <td>4601</td>\n      <td>Evit000</td>\n      <td>Cu000</td>\n      <td>1</td>\n      <td>26.5</td>\n      <td>26.50000</td>\n      <td>NaN</td>\n      <td>1</td>\n    </tr>\n    <tr>\n      <th>1</th>\n      <td>4601</td>\n      <td>Evit000</td>\n      <td>Cu000</td>\n      <td>1</td>\n      <td>26.5</td>\n      <td>27.59999</td>\n      <td>5.200005</td>\n      <td>2</td>\n    </tr>\n    <tr>\n      <th>2</th>\n      <td>4601</td>\n      <td>Evit000</td>\n      <td>Cu000</td>\n      <td>1</td>\n      <td>26.5</td>\n      <td>36.50000</td>\n      <td>17.600000</td>\n      <td>3</td>\n    </tr>\n    <tr>\n      <th>3</th>\n      <td>4601</td>\n      <td>Evit000</td>\n      <td>Cu000</td>\n      <td>1</td>\n      <td>26.5</td>\n      <td>40.29999</td>\n      <td>28.500000</td>\n      <td>4</td>\n    </tr>\n    <tr>\n      <th>4</th>\n      <td>4601</td>\n      <td>Evit000</td>\n      <td>Cu000</td>\n      <td>1</td>\n      <td>26.5</td>\n      <td>49.09998</td>\n      <td>45.200001</td>\n      <td>5</td>\n    </tr>\n  </tbody>\n</table>\n</div>"
     },
     "execution_count": 3,
     "metadata": {},
     "output_type": "execute_result"
    }
   ],
   "source": [
    "data.head()"
   ],
   "metadata": {
    "collapsed": false,
    "ExecuteTime": {
     "end_time": "2024-10-24T18:09:37.932332400Z",
     "start_time": "2024-10-24T18:09:37.898926900Z"
    }
   }
  },
  {
   "cell_type": "code",
   "execution_count": 6,
   "outputs": [
    {
     "data": {
      "text/plain": "Pig\n4601    12\n4602    12\n4603    12\n4605    12\n4641    12\n        ..\n8271    12\n8273    12\n8437    12\n8439    12\n8442    12\nName: Time, Length: 72, dtype: int64"
     },
     "execution_count": 6,
     "metadata": {},
     "output_type": "execute_result"
    }
   ],
   "source": [
    "data.groupby('Pig').count()['Time']"
   ],
   "metadata": {
    "collapsed": false,
    "ExecuteTime": {
     "end_time": "2024-10-24T18:10:10.135619100Z",
     "start_time": "2024-10-24T18:10:10.074041600Z"
    }
   }
  },
  {
   "cell_type": "code",
   "execution_count": 4,
   "outputs": [
    {
     "data": {
      "text/plain": "Pig\n4601    12\n4602    12\n4603    12\n4605    12\n4641    12\n        ..\n8271    12\n8273    12\n8437    12\n8439    12\n8442    12\nName: Weight, Length: 72, dtype: int64"
     },
     "execution_count": 4,
     "metadata": {},
     "output_type": "execute_result"
    }
   ],
   "source": [
    "data.groupby('Pig').count()['Weight']"
   ],
   "metadata": {
    "collapsed": false,
    "ExecuteTime": {
     "end_time": "2024-10-24T18:09:37.966264900Z",
     "start_time": "2024-10-24T18:09:37.918963500Z"
    }
   }
  },
  {
   "cell_type": "code",
   "execution_count": 5,
   "outputs": [],
   "source": [
    "md = smf.mixedlm(\"Weight ~ Time\", data, groups=data[\"Pig\"])\n",
    "mdf = md.fit()"
   ],
   "metadata": {
    "collapsed": false,
    "ExecuteTime": {
     "end_time": "2024-10-24T18:09:38.211607600Z",
     "start_time": "2024-10-24T18:09:37.956986800Z"
    }
   }
  },
  {
   "cell_type": "markdown",
   "source": [
    "### Mixed Effects with Financial Data\n"
   ],
   "metadata": {
    "collapsed": false
   }
  },
  {
   "cell_type": "code",
   "execution_count": 5,
   "outputs": [],
   "source": [],
   "metadata": {
    "collapsed": false,
    "ExecuteTime": {
     "end_time": "2024-10-24T18:09:38.223144700Z",
     "start_time": "2024-10-24T18:09:38.211607600Z"
    }
   }
  }
 ],
 "metadata": {
  "kernelspec": {
   "display_name": "Python 3",
   "language": "python",
   "name": "python3"
  },
  "language_info": {
   "codemirror_mode": {
    "name": "ipython",
    "version": 2
   },
   "file_extension": ".py",
   "mimetype": "text/x-python",
   "name": "python",
   "nbconvert_exporter": "python",
   "pygments_lexer": "ipython2",
   "version": "2.7.6"
  }
 },
 "nbformat": 4,
 "nbformat_minor": 0
}

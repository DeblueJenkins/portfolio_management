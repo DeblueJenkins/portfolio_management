{
 "cells": [
  {
   "cell_type": "code",
   "execution_count": 5,
   "metadata": {
    "collapsed": true,
    "ExecuteTime": {
     "end_time": "2024-09-18T18:34:46.222784700Z",
     "start_time": "2024-09-18T18:34:46.055509300Z"
    }
   },
   "outputs": [],
   "source": [
    "from models.data.source import Eikon, load_fed_rates_from_excel\n",
    "from portfolios.equity import EquityPortfolio\n",
    "import os\n",
    "from pathlib import Path\n",
    "\n",
    "PATH_API_KEYS = r'C:\\Users\\serge\\OneDrive\\reuters\\apikeys.csv'\n",
    "\n",
    "\n",
    "api = Eikon(PATH_API_KEYS)"
   ]
  },
  {
   "cell_type": "code",
   "execution_count": 10,
   "outputs": [],
   "source": [
    "# _tenors = [\n",
    "#     'ON', 'TN', '1W', '1M', '2M', '3M', '6M', '9M', '1Y', '2Y', '3Y', '4Y', '5Y',\n",
    "# ]\n",
    "\n",
    "_tenors = [\n",
    "    'ON', 'TN', '1W', '1M', '2M', '3M', '6M', '9M', '1Y'\n",
    "]"
   ],
   "metadata": {
    "collapsed": false,
    "ExecuteTime": {
     "end_time": "2024-09-18T19:10:05.739934800Z",
     "start_time": "2024-09-18T19:10:05.720145200Z"
    }
   }
  },
  {
   "cell_type": "code",
   "execution_count": null,
   "outputs": [],
   "source": [],
   "metadata": {
    "collapsed": false
   }
  },
  {
   "cell_type": "code",
   "execution_count": 11,
   "outputs": [],
   "source": [
    "_zero_curves = {\n",
    "    'Hungary': [f'HUF{_}Z=R' for _ in _tenors],\n",
    "    'Malaysia': [f'MYRNDIRS{_}Z=R' for _ in _tenors]\n",
    "}"
   ],
   "metadata": {
    "collapsed": false,
    "ExecuteTime": {
     "end_time": "2024-09-18T19:10:07.539985700Z",
     "start_time": "2024-09-18T19:10:07.523799600Z"
    }
   }
  },
  {
   "cell_type": "code",
   "execution_count": 7,
   "outputs": [],
   "source": [
    "params = {\n",
    "    'rics': list(_zero_curves.values()),\n",
    "    # 'field': ['TR.PriceClose', 'Price Close'],\n",
    "    'field': ['TR.PriceClose', 'Price Close'],\n",
    "    'date_field': ['TR.PriceClose.calcdate', 'Calc Date'],\n",
    "    # 'load_path': os.path.join(PATH_DATA, r'csv\\prices')\n",
    "    'save_config': {'save': True, 'path': r'C:\\Users\\serge\\IdeaProjects\\portfolio_management\\models\\data\\csv\\yield_curves'},\n",
    "    'params': {\n",
    "        'SDate':'2000-12-31',\n",
    "        'EDate': '2024-08-29',\n",
    "    }\n",
    "}"
   ],
   "metadata": {
    "collapsed": false,
    "ExecuteTime": {
     "end_time": "2024-09-18T18:34:46.266245Z",
     "start_time": "2024-09-18T18:34:46.251097200Z"
    }
   }
  },
  {
   "cell_type": "code",
   "execution_count": null,
   "outputs": [],
   "source": [],
   "metadata": {
    "collapsed": false
   }
  },
  {
   "cell_type": "code",
   "execution_count": 8,
   "outputs": [
    {
     "name": "stdout",
     "output_type": "stream",
     "text": [
      "0#HUFZ=R\n",
      "Exception occurred\n",
      "'Calc Date'\n",
      "0#MYRNDIRSZ=R\n",
      "Exception occurred\n",
      "'Calc Date'\n"
     ]
    },
    {
     "ename": "KeyError",
     "evalue": "\"None of [Index(['Calc Date', '0#HUFZ=R'], dtype='object')] are in the [columns]\"",
     "output_type": "error",
     "traceback": [
      "\u001B[1;31m---------------------------------------------------------------------------\u001B[0m",
      "\u001B[1;31mKeyError\u001B[0m                                  Traceback (most recent call last)",
      "Cell \u001B[1;32mIn[8], line 1\u001B[0m\n\u001B[1;32m----> 1\u001B[0m data \u001B[38;5;241m=\u001B[39m api\u001B[38;5;241m.\u001B[39mdownload_timeseries(\u001B[38;5;241m*\u001B[39m\u001B[38;5;241m*\u001B[39mparams, out\u001B[38;5;241m=\u001B[39m\u001B[38;5;28;01mTrue\u001B[39;00m)\n",
      "File \u001B[1;32m~\\IdeaProjects\\portfolio_management\\models\\data\\source.py:151\u001B[0m, in \u001B[0;36mEikon.download_timeseries\u001B[1;34m(self, rics, field, date_field, params, save_config, out, set_as_data_data_attribute)\u001B[0m\n\u001B[0;32m    148\u001B[0m         \u001B[38;5;28mprint\u001B[39m(\u001B[38;5;124m'\u001B[39m\u001B[38;5;124mException occurred\u001B[39m\u001B[38;5;124m'\u001B[39m)\n\u001B[0;32m    149\u001B[0m         \u001B[38;5;28mprint\u001B[39m(e)\n\u001B[1;32m--> 151\u001B[0m data \u001B[38;5;241m=\u001B[39m \u001B[38;5;28;43mself\u001B[39;49m\u001B[38;5;241;43m.\u001B[39;49m\u001B[43m_merge_individual_timeseries\u001B[49m\u001B[43m(\u001B[49m\u001B[43mdata_dict\u001B[49m\u001B[43m,\u001B[49m\u001B[43mfield\u001B[49m\u001B[43m[\u001B[49m\u001B[38;5;241;43m1\u001B[39;49m\u001B[43m]\u001B[49m\u001B[43m,\u001B[49m\u001B[43m \u001B[49m\u001B[43mdate_field\u001B[49m\u001B[43m[\u001B[49m\u001B[38;5;241;43m1\u001B[39;49m\u001B[43m]\u001B[49m\u001B[43m)\u001B[49m\n\u001B[0;32m    152\u001B[0m \u001B[38;5;28;01mif\u001B[39;00m set_as_data_data_attribute:\n\u001B[0;32m    153\u001B[0m     \u001B[38;5;28mself\u001B[39m\u001B[38;5;241m.\u001B[39mdata_dict \u001B[38;5;241m=\u001B[39m data_dict\n",
      "File \u001B[1;32m~\\IdeaProjects\\portfolio_management\\models\\data\\source.py:180\u001B[0m, in \u001B[0;36mEikon._merge_individual_timeseries\u001B[1;34m(self, data_dict, field_alias, date_field_alias)\u001B[0m\n\u001B[0;32m    178\u001B[0m _df1 \u001B[38;5;241m=\u001B[39m \u001B[38;5;28mlist\u001B[39m(data_dict\u001B[38;5;241m.\u001B[39mvalues())[\u001B[38;5;241m0\u001B[39m]\n\u001B[0;32m    179\u001B[0m df_all \u001B[38;5;241m=\u001B[39m _df1\u001B[38;5;241m.\u001B[39mrename(columns\u001B[38;5;241m=\u001B[39m{field_alias: first_ric})\n\u001B[1;32m--> 180\u001B[0m df_all \u001B[38;5;241m=\u001B[39m \u001B[43mdf_all\u001B[49m\u001B[43m[\u001B[49m\u001B[43m[\u001B[49m\u001B[43mdate_field_alias\u001B[49m\u001B[43m,\u001B[49m\u001B[43m \u001B[49m\u001B[43mfirst_ric\u001B[49m\u001B[43m]\u001B[49m\u001B[43m]\u001B[49m\n\u001B[0;32m    182\u001B[0m \u001B[38;5;28;01mfor\u001B[39;00m i, (ric, df) \u001B[38;5;129;01min\u001B[39;00m \u001B[38;5;28menumerate\u001B[39m(data_dict\u001B[38;5;241m.\u001B[39mitems()):\n\u001B[0;32m    183\u001B[0m     \u001B[38;5;28;01mtry\u001B[39;00m:\n",
      "File \u001B[1;32m~\\IdeaProjects\\volatility_models\\venv\\lib\\site-packages\\pandas\\core\\frame.py:4108\u001B[0m, in \u001B[0;36mDataFrame.__getitem__\u001B[1;34m(self, key)\u001B[0m\n\u001B[0;32m   4106\u001B[0m     \u001B[38;5;28;01mif\u001B[39;00m is_iterator(key):\n\u001B[0;32m   4107\u001B[0m         key \u001B[38;5;241m=\u001B[39m \u001B[38;5;28mlist\u001B[39m(key)\n\u001B[1;32m-> 4108\u001B[0m     indexer \u001B[38;5;241m=\u001B[39m \u001B[38;5;28;43mself\u001B[39;49m\u001B[38;5;241;43m.\u001B[39;49m\u001B[43mcolumns\u001B[49m\u001B[38;5;241;43m.\u001B[39;49m\u001B[43m_get_indexer_strict\u001B[49m\u001B[43m(\u001B[49m\u001B[43mkey\u001B[49m\u001B[43m,\u001B[49m\u001B[43m \u001B[49m\u001B[38;5;124;43m\"\u001B[39;49m\u001B[38;5;124;43mcolumns\u001B[39;49m\u001B[38;5;124;43m\"\u001B[39;49m\u001B[43m)\u001B[49m[\u001B[38;5;241m1\u001B[39m]\n\u001B[0;32m   4110\u001B[0m \u001B[38;5;66;03m# take() does not accept boolean indexers\u001B[39;00m\n\u001B[0;32m   4111\u001B[0m \u001B[38;5;28;01mif\u001B[39;00m \u001B[38;5;28mgetattr\u001B[39m(indexer, \u001B[38;5;124m\"\u001B[39m\u001B[38;5;124mdtype\u001B[39m\u001B[38;5;124m\"\u001B[39m, \u001B[38;5;28;01mNone\u001B[39;00m) \u001B[38;5;241m==\u001B[39m \u001B[38;5;28mbool\u001B[39m:\n",
      "File \u001B[1;32m~\\IdeaProjects\\volatility_models\\venv\\lib\\site-packages\\pandas\\core\\indexes\\base.py:6200\u001B[0m, in \u001B[0;36mIndex._get_indexer_strict\u001B[1;34m(self, key, axis_name)\u001B[0m\n\u001B[0;32m   6197\u001B[0m \u001B[38;5;28;01melse\u001B[39;00m:\n\u001B[0;32m   6198\u001B[0m     keyarr, indexer, new_indexer \u001B[38;5;241m=\u001B[39m \u001B[38;5;28mself\u001B[39m\u001B[38;5;241m.\u001B[39m_reindex_non_unique(keyarr)\n\u001B[1;32m-> 6200\u001B[0m \u001B[38;5;28;43mself\u001B[39;49m\u001B[38;5;241;43m.\u001B[39;49m\u001B[43m_raise_if_missing\u001B[49m\u001B[43m(\u001B[49m\u001B[43mkeyarr\u001B[49m\u001B[43m,\u001B[49m\u001B[43m \u001B[49m\u001B[43mindexer\u001B[49m\u001B[43m,\u001B[49m\u001B[43m \u001B[49m\u001B[43maxis_name\u001B[49m\u001B[43m)\u001B[49m\n\u001B[0;32m   6202\u001B[0m keyarr \u001B[38;5;241m=\u001B[39m \u001B[38;5;28mself\u001B[39m\u001B[38;5;241m.\u001B[39mtake(indexer)\n\u001B[0;32m   6203\u001B[0m \u001B[38;5;28;01mif\u001B[39;00m \u001B[38;5;28misinstance\u001B[39m(key, Index):\n\u001B[0;32m   6204\u001B[0m     \u001B[38;5;66;03m# GH 42790 - Preserve name from an Index\u001B[39;00m\n",
      "File \u001B[1;32m~\\IdeaProjects\\volatility_models\\venv\\lib\\site-packages\\pandas\\core\\indexes\\base.py:6249\u001B[0m, in \u001B[0;36mIndex._raise_if_missing\u001B[1;34m(self, key, indexer, axis_name)\u001B[0m\n\u001B[0;32m   6247\u001B[0m \u001B[38;5;28;01mif\u001B[39;00m nmissing:\n\u001B[0;32m   6248\u001B[0m     \u001B[38;5;28;01mif\u001B[39;00m nmissing \u001B[38;5;241m==\u001B[39m \u001B[38;5;28mlen\u001B[39m(indexer):\n\u001B[1;32m-> 6249\u001B[0m         \u001B[38;5;28;01mraise\u001B[39;00m \u001B[38;5;167;01mKeyError\u001B[39;00m(\u001B[38;5;124mf\u001B[39m\u001B[38;5;124m\"\u001B[39m\u001B[38;5;124mNone of [\u001B[39m\u001B[38;5;132;01m{\u001B[39;00mkey\u001B[38;5;132;01m}\u001B[39;00m\u001B[38;5;124m] are in the [\u001B[39m\u001B[38;5;132;01m{\u001B[39;00maxis_name\u001B[38;5;132;01m}\u001B[39;00m\u001B[38;5;124m]\u001B[39m\u001B[38;5;124m\"\u001B[39m)\n\u001B[0;32m   6251\u001B[0m     not_found \u001B[38;5;241m=\u001B[39m \u001B[38;5;28mlist\u001B[39m(ensure_index(key)[missing_mask\u001B[38;5;241m.\u001B[39mnonzero()[\u001B[38;5;241m0\u001B[39m]]\u001B[38;5;241m.\u001B[39munique())\n\u001B[0;32m   6252\u001B[0m     \u001B[38;5;28;01mraise\u001B[39;00m \u001B[38;5;167;01mKeyError\u001B[39;00m(\u001B[38;5;124mf\u001B[39m\u001B[38;5;124m\"\u001B[39m\u001B[38;5;132;01m{\u001B[39;00mnot_found\u001B[38;5;132;01m}\u001B[39;00m\u001B[38;5;124m not in index\u001B[39m\u001B[38;5;124m\"\u001B[39m)\n",
      "\u001B[1;31mKeyError\u001B[0m: \"None of [Index(['Calc Date', '0#HUFZ=R'], dtype='object')] are in the [columns]\""
     ]
    }
   ],
   "source": [
    "data = api.download_timeseries(**params, out=True)"
   ],
   "metadata": {
    "collapsed": false,
    "ExecuteTime": {
     "end_time": "2024-09-18T18:34:49.642008Z",
     "start_time": "2024-09-18T18:34:46.256241300Z"
    }
   }
  }
 ],
 "metadata": {
  "kernelspec": {
   "display_name": "Python 3",
   "language": "python",
   "name": "python3"
  },
  "language_info": {
   "codemirror_mode": {
    "name": "ipython",
    "version": 2
   },
   "file_extension": ".py",
   "mimetype": "text/x-python",
   "name": "python",
   "nbconvert_exporter": "python",
   "pygments_lexer": "ipython2",
   "version": "2.7.6"
  }
 },
 "nbformat": 4,
 "nbformat_minor": 0
}

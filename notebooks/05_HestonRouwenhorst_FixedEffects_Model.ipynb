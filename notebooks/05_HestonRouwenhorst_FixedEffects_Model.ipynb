{
 "cells": [
  {
   "cell_type": "code",
   "execution_count": 34,
   "metadata": {
    "collapsed": true,
    "ExecuteTime": {
     "end_time": "2024-10-23T16:55:12.780722800Z",
     "start_time": "2024-10-23T16:55:12.637880200Z"
    }
   },
   "outputs": [],
   "source": [
    "from models.data.source import FamaFrenchData\n",
    "from models.data.source import Eikon\n",
    "import pickle\n",
    "import numpy as np\n",
    "import pandas as pd\n",
    "from statsmodels.regression.linear_model import OLS\n",
    "from models.stat_models.linearregression import MultiOutputLinearRegressionModel, IterativelyWeightedLeastSquares\n"
   ]
  },
  {
   "cell_type": "code",
   "execution_count": 35,
   "outputs": [],
   "source": [
    "data_path = r'C:\\Users\\serge\\IdeaProjects\\portfolio_management\\models\\data\\csv\\fama-french-factors'\n",
    "filenames = ['Developed_5_Factors_Daily', 'Developed_MOM_Factor_Daily',\n",
    "             '5_Industry_Portfolios_Daily']\n",
    "\n",
    "PATH_API_KEYS = r'C:\\Users\\serge\\OneDrive\\reuters\\apikeys.csv'"
   ],
   "metadata": {
    "collapsed": false,
    "ExecuteTime": {
     "end_time": "2024-10-23T16:55:12.780722800Z",
     "start_time": "2024-10-23T16:55:12.656787200Z"
    }
   }
  },
  {
   "cell_type": "code",
   "execution_count": 36,
   "outputs": [
    {
     "name": "stderr",
     "output_type": "stream",
     "text": [
      "2024-10-23 18:55:18,805 P[18152] [MainThread 19140] Error: no proxy address identified.\n",
      "Check if Eikon Desktop or Eikon API Proxy is running.\n",
      "2024-10-23 18:55:18,807 P[18152] [MainThread 19140] Error on handshake url http://127.0.0.1:None/api/handshake : InvalidURL(\"Invalid port: 'None'\")\n",
      "2024-10-23 18:55:18,809 P[18152] [MainThread 19140] Error on handshake url http://127.0.0.1:None/api/handshake : InvalidURL(\"Invalid port: 'None'\")\n",
      "2024-10-23 18:55:18,809 P[18152] [MainThread 19140] Port number was not identified, cannot send any request\n"
     ]
    }
   ],
   "source": [
    "api = Eikon(PATH_API_KEYS)\n",
    "# cons = api.get_index_constituents('.SP500', date='20240915')\n",
    "cons = pickle.load(open(r'C:\\Users\\serge\\IdeaProjects\\portfolio_management\\models\\data\\rics_of_SPX.pkl', 'rb'))"
   ],
   "metadata": {
    "collapsed": false,
    "ExecuteTime": {
     "end_time": "2024-10-23T16:55:18.964402900Z",
     "start_time": "2024-10-23T16:55:12.685438800Z"
    }
   }
  },
  {
   "cell_type": "code",
   "execution_count": 37,
   "outputs": [
    {
     "name": "stdout",
     "output_type": "stream",
     "text": [
      "[Errno 2] No such file or directory: 'C:\\\\Users\\\\serge\\\\IdeaProjects\\\\portfolio_management\\\\models\\\\data\\\\csv\\\\prices\\\\WM.N.csv'\n",
      "[Errno 2] No such file or directory: 'C:\\\\Users\\\\serge\\\\IdeaProjects\\\\portfolio_management\\\\models\\\\data\\\\csv\\\\prices\\\\LIN.N.csv'\n",
      "[Errno 2] No such file or directory: 'C:\\\\Users\\\\serge\\\\IdeaProjects\\\\portfolio_management\\\\models\\\\data\\\\csv\\\\prices\\\\REG.OQ.csv'\n",
      "[Errno 2] No such file or directory: 'C:\\\\Users\\\\serge\\\\IdeaProjects\\\\portfolio_management\\\\models\\\\data\\\\csv\\\\prices\\\\BIO.N.csv'\n",
      "[Errno 2] No such file or directory: 'C:\\\\Users\\\\serge\\\\IdeaProjects\\\\portfolio_management\\\\models\\\\data\\\\csv\\\\prices\\\\IVZ.N.csv'\n",
      "[Errno 2] No such file or directory: 'C:\\\\Users\\\\serge\\\\IdeaProjects\\\\portfolio_management\\\\models\\\\data\\\\csv\\\\prices\\\\EXPD.OQ.csv'\n",
      "[Errno 2] No such file or directory: 'C:\\\\Users\\\\serge\\\\IdeaProjects\\\\portfolio_management\\\\models\\\\data\\\\csv\\\\prices\\\\EXPE.OQ.csv'\n",
      "[Errno 2] No such file or directory: 'C:\\\\Users\\\\serge\\\\IdeaProjects\\\\portfolio_management\\\\models\\\\data\\\\csv\\\\prices\\\\GEN.OQ.csv'\n",
      "[Errno 2] No such file or directory: 'C:\\\\Users\\\\serge\\\\IdeaProjects\\\\portfolio_management\\\\models\\\\data\\\\csv\\\\prices\\\\CDAY.N.csv'\n",
      "[Errno 2] No such file or directory: 'C:\\\\Users\\\\serge\\\\IdeaProjects\\\\portfolio_management\\\\models\\\\data\\\\csv\\\\prices\\\\GRMN.N.csv'\n",
      "[Errno 2] No such file or directory: 'C:\\\\Users\\\\serge\\\\IdeaProjects\\\\portfolio_management\\\\models\\\\data\\\\csv\\\\prices\\\\NWL.OQ.csv'\n",
      "[Errno 2] No such file or directory: 'C:\\\\Users\\\\serge\\\\IdeaProjects\\\\portfolio_management\\\\models\\\\data\\\\csv\\\\prices\\\\SEE.N.csv'\n",
      "[Errno 2] No such file or directory: 'C:\\\\Users\\\\serge\\\\IdeaProjects\\\\portfolio_management\\\\models\\\\data\\\\csv\\\\prices\\\\SEDG.OQ.csv'\n",
      "[Errno 2] No such file or directory: 'C:\\\\Users\\\\serge\\\\IdeaProjects\\\\portfolio_management\\\\models\\\\data\\\\csv\\\\prices\\\\RL.N.csv'\n",
      "[Errno 2] No such file or directory: 'C:\\\\Users\\\\serge\\\\IdeaProjects\\\\portfolio_management\\\\models\\\\data\\\\csv\\\\prices\\\\GNRC.N.csv'\n",
      "[Errno 2] No such file or directory: 'C:\\\\Users\\\\serge\\\\IdeaProjects\\\\portfolio_management\\\\models\\\\data\\\\csv\\\\prices\\\\COO.N.csv'\n",
      "[Errno 2] No such file or directory: 'C:\\\\Users\\\\serge\\\\IdeaProjects\\\\portfolio_management\\\\models\\\\data\\\\csv\\\\prices\\\\SNA.N.csv'\n",
      "[Errno 2] No such file or directory: 'C:\\\\Users\\\\serge\\\\IdeaProjects\\\\portfolio_management\\\\models\\\\data\\\\csv\\\\prices\\\\DPZ.N.csv'\n",
      "[Errno 2] No such file or directory: 'C:\\\\Users\\\\serge\\\\IdeaProjects\\\\portfolio_management\\\\models\\\\data\\\\csv\\\\prices\\\\HPQ.N.csv'\n",
      "[Errno 2] No such file or directory: 'C:\\\\Users\\\\serge\\\\IdeaProjects\\\\portfolio_management\\\\models\\\\data\\\\csv\\\\prices\\\\ABC.N.csv'\n",
      "[Errno 2] No such file or directory: 'C:\\\\Users\\\\serge\\\\IdeaProjects\\\\portfolio_management\\\\models\\\\data\\\\csv\\\\prices\\\\TMO.N.csv'\n",
      "[Errno 2] No such file or directory: 'C:\\\\Users\\\\serge\\\\IdeaProjects\\\\portfolio_management\\\\models\\\\data\\\\csv\\\\prices\\\\BLK.N.csv'\n",
      "[Errno 2] No such file or directory: 'C:\\\\Users\\\\serge\\\\IdeaProjects\\\\portfolio_management\\\\models\\\\data\\\\csv\\\\prices\\\\CMA.N.csv'\n",
      "[Errno 2] No such file or directory: 'C:\\\\Users\\\\serge\\\\IdeaProjects\\\\portfolio_management\\\\models\\\\data\\\\csv\\\\prices\\\\PNW.N.csv'\n",
      "[Errno 2] No such file or directory: 'C:\\\\Users\\\\serge\\\\IdeaProjects\\\\portfolio_management\\\\models\\\\data\\\\csv\\\\prices\\\\PKG.N.csv'\n",
      "[Errno 2] No such file or directory: 'C:\\\\Users\\\\serge\\\\IdeaProjects\\\\portfolio_management\\\\models\\\\data\\\\csv\\\\prices\\\\FLT.N.csv'\n",
      "[Errno 2] No such file or directory: 'C:\\\\Users\\\\serge\\\\IdeaProjects\\\\portfolio_management\\\\models\\\\data\\\\csv\\\\prices\\\\IT.N.csv'\n",
      "[Errno 2] No such file or directory: 'C:\\\\Users\\\\serge\\\\IdeaProjects\\\\portfolio_management\\\\models\\\\data\\\\csv\\\\prices\\\\CF.N.csv'\n",
      "[Errno 2] No such file or directory: 'C:\\\\Users\\\\serge\\\\IdeaProjects\\\\portfolio_management\\\\models\\\\data\\\\csv\\\\prices\\\\ILMN.OQ.csv'\n",
      "[Errno 2] No such file or directory: 'C:\\\\Users\\\\serge\\\\IdeaProjects\\\\portfolio_management\\\\models\\\\data\\\\csv\\\\prices\\\\RHI.N.csv'\n",
      "[Errno 2] No such file or directory: 'C:\\\\Users\\\\serge\\\\IdeaProjects\\\\portfolio_management\\\\models\\\\data\\\\csv\\\\prices\\\\AAP.N.csv'\n",
      "[Errno 2] No such file or directory: 'C:\\\\Users\\\\serge\\\\IdeaProjects\\\\portfolio_management\\\\models\\\\data\\\\csv\\\\prices\\\\AXP.N.csv'\n",
      "[Errno 2] No such file or directory: 'C:\\\\Users\\\\serge\\\\IdeaProjects\\\\portfolio_management\\\\models\\\\data\\\\csv\\\\prices\\\\CLX.N.csv'\n",
      "[Errno 2] No such file or directory: 'C:\\\\Users\\\\serge\\\\IdeaProjects\\\\portfolio_management\\\\models\\\\data\\\\csv\\\\prices\\\\DOV.N.csv'\n",
      "[Errno 2] No such file or directory: 'C:\\\\Users\\\\serge\\\\IdeaProjects\\\\portfolio_management\\\\models\\\\data\\\\csv\\\\prices\\\\MTB.N.csv'\n",
      "[Errno 2] No such file or directory: 'C:\\\\Users\\\\serge\\\\IdeaProjects\\\\portfolio_management\\\\models\\\\data\\\\csv\\\\prices\\\\JKHY.OQ.csv'\n",
      "[Errno 2] No such file or directory: 'C:\\\\Users\\\\serge\\\\IdeaProjects\\\\portfolio_management\\\\models\\\\data\\\\csv\\\\prices\\\\O.N.csv'\n",
      "[Errno 2] No such file or directory: 'C:\\\\Users\\\\serge\\\\IdeaProjects\\\\portfolio_management\\\\models\\\\data\\\\csv\\\\prices\\\\MLM.N.csv'\n",
      "[Errno 2] No such file or directory: 'C:\\\\Users\\\\serge\\\\IdeaProjects\\\\portfolio_management\\\\models\\\\data\\\\csv\\\\prices\\\\RVTY.N.csv'\n",
      "[Errno 2] No such file or directory: 'C:\\\\Users\\\\serge\\\\IdeaProjects\\\\portfolio_management\\\\models\\\\data\\\\csv\\\\prices\\\\L.N.csv'\n",
      "[Errno 2] No such file or directory: 'C:\\\\Users\\\\serge\\\\IdeaProjects\\\\portfolio_management\\\\models\\\\data\\\\csv\\\\prices\\\\QCOM.OQ.csv'\n",
      "[Errno 2] No such file or directory: 'C:\\\\Users\\\\serge\\\\IdeaProjects\\\\portfolio_management\\\\models\\\\data\\\\csv\\\\prices\\\\IPG.N.csv'\n",
      "[Errno 2] No such file or directory: 'C:\\\\Users\\\\serge\\\\IdeaProjects\\\\portfolio_management\\\\models\\\\data\\\\csv\\\\prices\\\\ANSS.OQ.csv'\n",
      "[Errno 2] No such file or directory: 'C:\\\\Users\\\\serge\\\\IdeaProjects\\\\portfolio_management\\\\models\\\\data\\\\csv\\\\prices\\\\ULTA.OQ.csv'\n",
      "[Errno 2] No such file or directory: 'C:\\\\Users\\\\serge\\\\IdeaProjects\\\\portfolio_management\\\\models\\\\data\\\\csv\\\\prices\\\\WMT.N.csv'\n",
      "[Errno 2] No such file or directory: 'C:\\\\Users\\\\serge\\\\IdeaProjects\\\\portfolio_management\\\\models\\\\data\\\\csv\\\\prices\\\\PXD.N.csv'\n",
      "[Errno 2] No such file or directory: 'C:\\\\Users\\\\serge\\\\IdeaProjects\\\\portfolio_management\\\\models\\\\data\\\\csv\\\\prices\\\\XRAY.OQ.csv'\n",
      "[Errno 2] No such file or directory: 'C:\\\\Users\\\\serge\\\\IdeaProjects\\\\portfolio_management\\\\models\\\\data\\\\csv\\\\prices\\\\TDG.N.csv'\n",
      "[Errno 2] No such file or directory: 'C:\\\\Users\\\\serge\\\\IdeaProjects\\\\portfolio_management\\\\models\\\\data\\\\csv\\\\prices\\\\ROP.N.csv'\n",
      "[Errno 2] No such file or directory: 'C:\\\\Users\\\\serge\\\\IdeaProjects\\\\portfolio_management\\\\models\\\\data\\\\csv\\\\prices\\\\OGN.N.csv'\n",
      "[Errno 2] No such file or directory: 'C:\\\\Users\\\\serge\\\\IdeaProjects\\\\portfolio_management\\\\models\\\\data\\\\csv\\\\prices\\\\EQIX.OQ.csv'\n",
      "[Errno 2] No such file or directory: 'C:\\\\Users\\\\serge\\\\IdeaProjects\\\\portfolio_management\\\\models\\\\data\\\\csv\\\\prices\\\\UHS.N.csv'\n",
      "[Errno 2] No such file or directory: 'C:\\\\Users\\\\serge\\\\IdeaProjects\\\\portfolio_management\\\\models\\\\data\\\\csv\\\\prices\\\\LKQ.OQ.csv'\n",
      "[Errno 2] No such file or directory: 'C:\\\\Users\\\\serge\\\\IdeaProjects\\\\portfolio_management\\\\models\\\\data\\\\csv\\\\prices\\\\BG.N.csv'\n",
      "[Errno 2] No such file or directory: 'C:\\\\Users\\\\serge\\\\IdeaProjects\\\\portfolio_management\\\\models\\\\data\\\\csv\\\\prices\\\\HES.N.csv'\n",
      "[Errno 2] No such file or directory: 'C:\\\\Users\\\\serge\\\\IdeaProjects\\\\portfolio_management\\\\models\\\\data\\\\csv\\\\prices\\\\EOG.N.csv'\n",
      "[Errno 2] No such file or directory: 'C:\\\\Users\\\\serge\\\\IdeaProjects\\\\portfolio_management\\\\models\\\\data\\\\csv\\\\prices\\\\MAR.OQ.csv'\n",
      "[Errno 2] No such file or directory: 'C:\\\\Users\\\\serge\\\\IdeaProjects\\\\portfolio_management\\\\models\\\\data\\\\csv\\\\prices\\\\TJX.N.csv'\n",
      "[Errno 2] No such file or directory: 'C:\\\\Users\\\\serge\\\\IdeaProjects\\\\portfolio_management\\\\models\\\\data\\\\csv\\\\prices\\\\MNST.OQ.csv'\n",
      "[Errno 2] No such file or directory: 'C:\\\\Users\\\\serge\\\\IdeaProjects\\\\portfolio_management\\\\models\\\\data\\\\csv\\\\prices\\\\VMC.N.csv'\n",
      "[Errno 2] No such file or directory: 'C:\\\\Users\\\\serge\\\\IdeaProjects\\\\portfolio_management\\\\models\\\\data\\\\csv\\\\prices\\\\EW.N.csv'\n",
      "[Errno 2] No such file or directory: 'C:\\\\Users\\\\serge\\\\IdeaProjects\\\\portfolio_management\\\\models\\\\data\\\\csv\\\\prices\\\\FRC.N^E23.csv'\n",
      "[Errno 2] No such file or directory: 'C:\\\\Users\\\\serge\\\\IdeaProjects\\\\portfolio_management\\\\models\\\\data\\\\csv\\\\prices\\\\ALL.N.csv'\n",
      "[Errno 2] No such file or directory: 'C:\\\\Users\\\\serge\\\\IdeaProjects\\\\portfolio_management\\\\models\\\\data\\\\csv\\\\prices\\\\BMY.N.csv'\n",
      "[Errno 2] No such file or directory: 'C:\\\\Users\\\\serge\\\\IdeaProjects\\\\portfolio_management\\\\models\\\\data\\\\csv\\\\prices\\\\APH.N.csv'\n",
      "[Errno 2] No such file or directory: 'C:\\\\Users\\\\serge\\\\IdeaProjects\\\\portfolio_management\\\\models\\\\data\\\\csv\\\\prices\\\\HON.OQ.csv'\n",
      "[Errno 2] No such file or directory: 'C:\\\\Users\\\\serge\\\\IdeaProjects\\\\portfolio_management\\\\models\\\\data\\\\csv\\\\prices\\\\GPC.N.csv'\n",
      "[Errno 2] No such file or directory: 'C:\\\\Users\\\\serge\\\\IdeaProjects\\\\portfolio_management\\\\models\\\\data\\\\csv\\\\prices\\\\MHK.N.csv'\n",
      "[Errno 2] No such file or directory: 'C:\\\\Users\\\\serge\\\\IdeaProjects\\\\portfolio_management\\\\models\\\\data\\\\csv\\\\prices\\\\MCHP.OQ.csv'\n",
      "[Errno 2] No such file or directory: 'C:\\\\Users\\\\serge\\\\IdeaProjects\\\\portfolio_management\\\\models\\\\data\\\\csv\\\\prices\\\\CAT.N.csv'\n",
      "[Errno 2] No such file or directory: 'C:\\\\Users\\\\serge\\\\IdeaProjects\\\\portfolio_management\\\\models\\\\data\\\\csv\\\\prices\\\\PG.N.csv'\n",
      "[Errno 2] No such file or directory: 'C:\\\\Users\\\\serge\\\\IdeaProjects\\\\portfolio_management\\\\models\\\\data\\\\csv\\\\prices\\\\ZTS.N.csv'\n",
      "[Errno 2] No such file or directory: 'C:\\\\Users\\\\serge\\\\IdeaProjects\\\\portfolio_management\\\\models\\\\data\\\\csv\\\\prices\\\\STE.N.csv'\n",
      "[Errno 2] No such file or directory: 'C:\\\\Users\\\\serge\\\\IdeaProjects\\\\portfolio_management\\\\models\\\\data\\\\csv\\\\prices\\\\BKR.OQ.csv'\n",
      "[Errno 2] No such file or directory: 'C:\\\\Users\\\\serge\\\\IdeaProjects\\\\portfolio_management\\\\models\\\\data\\\\csv\\\\prices\\\\AFL.N.csv'\n",
      "[Errno 2] No such file or directory: 'C:\\\\Users\\\\serge\\\\IdeaProjects\\\\portfolio_management\\\\models\\\\data\\\\csv\\\\prices\\\\CPB.N.csv'\n",
      "[Errno 2] No such file or directory: 'C:\\\\Users\\\\serge\\\\IdeaProjects\\\\portfolio_management\\\\models\\\\data\\\\csv\\\\prices\\\\PTC.OQ.csv'\n",
      "[Errno 2] No such file or directory: 'C:\\\\Users\\\\serge\\\\IdeaProjects\\\\portfolio_management\\\\models\\\\data\\\\csv\\\\prices\\\\FITB.OQ.csv'\n",
      "[Errno 2] No such file or directory: 'C:\\\\Users\\\\serge\\\\IdeaProjects\\\\portfolio_management\\\\models\\\\data\\\\csv\\\\prices\\\\MSI.N.csv'\n",
      "[Errno 2] No such file or directory: 'C:\\\\Users\\\\serge\\\\IdeaProjects\\\\portfolio_management\\\\models\\\\data\\\\csv\\\\prices\\\\XEL.OQ.csv'\n",
      "[Errno 2] No such file or directory: 'C:\\\\Users\\\\serge\\\\IdeaProjects\\\\portfolio_management\\\\models\\\\data\\\\csv\\\\prices\\\\HSIC.OQ.csv'\n",
      "[Errno 2] No such file or directory: 'C:\\\\Users\\\\serge\\\\IdeaProjects\\\\portfolio_management\\\\models\\\\data\\\\csv\\\\prices\\\\ITW.N.csv'\n",
      "[Errno 2] No such file or directory: 'C:\\\\Users\\\\serge\\\\IdeaProjects\\\\portfolio_management\\\\models\\\\data\\\\csv\\\\prices\\\\WST.N.csv'\n",
      "[Errno 2] No such file or directory: 'C:\\\\Users\\\\serge\\\\IdeaProjects\\\\portfolio_management\\\\models\\\\data\\\\csv\\\\prices\\\\ALK.N.csv'\n",
      "[Errno 2] No such file or directory: 'C:\\\\Users\\\\serge\\\\IdeaProjects\\\\portfolio_management\\\\models\\\\data\\\\csv\\\\prices\\\\DFS.N.csv'\n",
      "[Errno 2] No such file or directory: 'C:\\\\Users\\\\serge\\\\IdeaProjects\\\\portfolio_management\\\\models\\\\data\\\\csv\\\\prices\\\\APTV.N.csv'\n",
      "[Errno 2] No such file or directory: 'C:\\\\Users\\\\serge\\\\IdeaProjects\\\\portfolio_management\\\\models\\\\data\\\\csv\\\\prices\\\\MPC.N.csv'\n",
      "[Errno 2] No such file or directory: 'C:\\\\Users\\\\serge\\\\IdeaProjects\\\\portfolio_management\\\\models\\\\data\\\\csv\\\\prices\\\\PGR.N.csv'\n",
      "[Errno 2] No such file or directory: 'C:\\\\Users\\\\serge\\\\IdeaProjects\\\\portfolio_management\\\\models\\\\data\\\\csv\\\\prices\\\\ZION.OQ.csv'\n",
      "[Errno 2] No such file or directory: 'C:\\\\Users\\\\serge\\\\IdeaProjects\\\\portfolio_management\\\\models\\\\data\\\\csv\\\\prices\\\\ICE.N.csv'\n",
      "[Errno 2] No such file or directory: 'C:\\\\Users\\\\serge\\\\IdeaProjects\\\\portfolio_management\\\\models\\\\data\\\\csv\\\\prices\\\\KMB.N.csv'\n",
      "[Errno 2] No such file or directory: 'C:\\\\Users\\\\serge\\\\IdeaProjects\\\\portfolio_management\\\\models\\\\data\\\\csv\\\\prices\\\\SWKS.OQ.csv'\n",
      "[Errno 2] No such file or directory: 'C:\\\\Users\\\\serge\\\\IdeaProjects\\\\portfolio_management\\\\models\\\\data\\\\csv\\\\prices\\\\EL.N.csv'\n",
      "[Errno 2] No such file or directory: 'C:\\\\Users\\\\serge\\\\IdeaProjects\\\\portfolio_management\\\\models\\\\data\\\\csv\\\\prices\\\\TSLA.OQ.csv'\n",
      "[Errno 2] No such file or directory: 'C:\\\\Users\\\\serge\\\\IdeaProjects\\\\portfolio_management\\\\models\\\\data\\\\csv\\\\prices\\\\EXR.N.csv'\n",
      "[Errno 2] No such file or directory: 'C:\\\\Users\\\\serge\\\\IdeaProjects\\\\portfolio_management\\\\models\\\\data\\\\csv\\\\prices\\\\SPGI.N.csv'\n",
      "[Errno 2] No such file or directory: 'C:\\\\Users\\\\serge\\\\IdeaProjects\\\\portfolio_management\\\\models\\\\data\\\\csv\\\\prices\\\\ADBE.OQ.csv'\n",
      "[Errno 2] No such file or directory: 'C:\\\\Users\\\\serge\\\\IdeaProjects\\\\portfolio_management\\\\models\\\\data\\\\csv\\\\prices\\\\ADSK.OQ.csv'\n",
      "[Errno 2] No such file or directory: 'C:\\\\Users\\\\serge\\\\IdeaProjects\\\\portfolio_management\\\\models\\\\data\\\\csv\\\\prices\\\\WRK.N.csv'\n",
      "[Errno 2] No such file or directory: 'C:\\\\Users\\\\serge\\\\IdeaProjects\\\\portfolio_management\\\\models\\\\data\\\\csv\\\\prices\\\\WHR.N.csv'\n",
      "[Errno 2] No such file or directory: 'C:\\\\Users\\\\serge\\\\IdeaProjects\\\\portfolio_management\\\\models\\\\data\\\\csv\\\\prices\\\\FOXA.OQ.csv'\n",
      "[Errno 2] No such file or directory: 'C:\\\\Users\\\\serge\\\\IdeaProjects\\\\portfolio_management\\\\models\\\\data\\\\csv\\\\prices\\\\TT.N.csv'\n",
      "[Errno 2] No such file or directory: 'C:\\\\Users\\\\serge\\\\IdeaProjects\\\\portfolio_management\\\\models\\\\data\\\\csv\\\\prices\\\\TSN.N.csv'\n",
      "[Errno 2] No such file or directory: 'C:\\\\Users\\\\serge\\\\IdeaProjects\\\\portfolio_management\\\\models\\\\data\\\\csv\\\\prices\\\\AKAM.OQ.csv'\n",
      "[Errno 2] No such file or directory: 'C:\\\\Users\\\\serge\\\\IdeaProjects\\\\portfolio_management\\\\models\\\\data\\\\csv\\\\prices\\\\LUV.N.csv'\n",
      "[Errno 2] No such file or directory: 'C:\\\\Users\\\\serge\\\\IdeaProjects\\\\portfolio_management\\\\models\\\\data\\\\csv\\\\prices\\\\INVH.N.csv'\n",
      "[Errno 2] No such file or directory: 'C:\\\\Users\\\\serge\\\\IdeaProjects\\\\portfolio_management\\\\models\\\\data\\\\csv\\\\prices\\\\TSCO.OQ.csv'\n",
      "[Errno 2] No such file or directory: 'C:\\\\Users\\\\serge\\\\IdeaProjects\\\\portfolio_management\\\\models\\\\data\\\\csv\\\\prices\\\\AON.N.csv'\n",
      "[Errno 2] No such file or directory: 'C:\\\\Users\\\\serge\\\\IdeaProjects\\\\portfolio_management\\\\models\\\\data\\\\csv\\\\prices\\\\AMZN.OQ.csv'\n",
      "[Errno 2] No such file or directory: 'C:\\\\Users\\\\serge\\\\IdeaProjects\\\\portfolio_management\\\\models\\\\data\\\\csv\\\\prices\\\\MS.N.csv'\n",
      "[Errno 2] No such file or directory: 'C:\\\\Users\\\\serge\\\\IdeaProjects\\\\portfolio_management\\\\models\\\\data\\\\csv\\\\prices\\\\BRKb.N.csv'\n",
      "[Errno 2] No such file or directory: 'C:\\\\Users\\\\serge\\\\IdeaProjects\\\\portfolio_management\\\\models\\\\data\\\\csv\\\\prices\\\\GOOG.OQ.csv'\n",
      "[Errno 2] No such file or directory: 'C:\\\\Users\\\\serge\\\\IdeaProjects\\\\portfolio_management\\\\models\\\\data\\\\csv\\\\prices\\\\KR.N.csv'\n",
      "[Errno 2] No such file or directory: 'C:\\\\Users\\\\serge\\\\IdeaProjects\\\\portfolio_management\\\\models\\\\data\\\\csv\\\\prices\\\\BKNG.OQ.csv'\n",
      "[Errno 2] No such file or directory: 'C:\\\\Users\\\\serge\\\\IdeaProjects\\\\portfolio_management\\\\models\\\\data\\\\csv\\\\prices\\\\STZ.N.csv'\n",
      "[Errno 2] No such file or directory: 'C:\\\\Users\\\\serge\\\\IdeaProjects\\\\portfolio_management\\\\models\\\\data\\\\csv\\\\prices\\\\WBD.OQ.csv'\n",
      "[Errno 2] No such file or directory: 'C:\\\\Users\\\\serge\\\\IdeaProjects\\\\portfolio_management\\\\models\\\\data\\\\csv\\\\prices\\\\ABBV.N.csv'\n",
      "[Errno 2] No such file or directory: 'C:\\\\Users\\\\serge\\\\IdeaProjects\\\\portfolio_management\\\\models\\\\data\\\\csv\\\\prices\\\\STLD.OQ.csv'\n",
      "[Errno 2] No such file or directory: 'C:\\\\Users\\\\serge\\\\IdeaProjects\\\\portfolio_management\\\\models\\\\data\\\\csv\\\\prices\\\\MA.N.csv'\n",
      "[Errno 2] No such file or directory: 'C:\\\\Users\\\\serge\\\\IdeaProjects\\\\portfolio_management\\\\models\\\\data\\\\csv\\\\prices\\\\XOM.N.csv'\n",
      "[Errno 2] No such file or directory: 'C:\\\\Users\\\\serge\\\\IdeaProjects\\\\portfolio_management\\\\models\\\\data\\\\csv\\\\prices\\\\SWK.N.csv'\n",
      "[Errno 2] No such file or directory: 'C:\\\\Users\\\\serge\\\\IdeaProjects\\\\portfolio_management\\\\models\\\\data\\\\csv\\\\prices\\\\FICO.N.csv'\n",
      "[Errno 2] No such file or directory: 'C:\\\\Users\\\\serge\\\\IdeaProjects\\\\portfolio_management\\\\models\\\\data\\\\csv\\\\prices\\\\HRL.N.csv'\n",
      "[Errno 2] No such file or directory: 'C:\\\\Users\\\\serge\\\\IdeaProjects\\\\portfolio_management\\\\models\\\\data\\\\csv\\\\prices\\\\INTC.OQ.csv'\n",
      "[Errno 2] No such file or directory: 'C:\\\\Users\\\\serge\\\\IdeaProjects\\\\portfolio_management\\\\models\\\\data\\\\csv\\\\prices\\\\TRMB.OQ.csv'\n",
      "[Errno 2] No such file or directory: 'C:\\\\Users\\\\serge\\\\IdeaProjects\\\\portfolio_management\\\\models\\\\data\\\\csv\\\\prices\\\\WBA.OQ.csv'\n",
      "[Errno 2] No such file or directory: 'C:\\\\Users\\\\serge\\\\IdeaProjects\\\\portfolio_management\\\\models\\\\data\\\\csv\\\\prices\\\\OMC.N.csv'\n",
      "[Errno 2] No such file or directory: 'C:\\\\Users\\\\serge\\\\IdeaProjects\\\\portfolio_management\\\\models\\\\data\\\\csv\\\\prices\\\\GLW.N.csv'\n",
      "[Errno 2] No such file or directory: 'C:\\\\Users\\\\serge\\\\IdeaProjects\\\\portfolio_management\\\\models\\\\data\\\\csv\\\\prices\\\\CRM.N.csv'\n",
      "[Errno 2] No such file or directory: 'C:\\\\Users\\\\serge\\\\IdeaProjects\\\\portfolio_management\\\\models\\\\data\\\\csv\\\\prices\\\\SBUX.OQ.csv'\n",
      "[Errno 2] No such file or directory: 'C:\\\\Users\\\\serge\\\\IdeaProjects\\\\portfolio_management\\\\models\\\\data\\\\csv\\\\prices\\\\ATO.N.csv'\n",
      "[Errno 2] No such file or directory: 'C:\\\\Users\\\\serge\\\\IdeaProjects\\\\portfolio_management\\\\models\\\\data\\\\csv\\\\prices\\\\ETR.N.csv'\n",
      "[Errno 2] No such file or directory: 'C:\\\\Users\\\\serge\\\\IdeaProjects\\\\portfolio_management\\\\models\\\\data\\\\csv\\\\prices\\\\HAL.N.csv'\n",
      "[Errno 2] No such file or directory: 'C:\\\\Users\\\\serge\\\\IdeaProjects\\\\portfolio_management\\\\models\\\\data\\\\csv\\\\prices\\\\TFC.N.csv'\n",
      "[Errno 2] No such file or directory: 'C:\\\\Users\\\\serge\\\\IdeaProjects\\\\portfolio_management\\\\models\\\\data\\\\csv\\\\prices\\\\ATVI.OQ.csv'\n",
      "[Errno 2] No such file or directory: 'C:\\\\Users\\\\serge\\\\IdeaProjects\\\\portfolio_management\\\\models\\\\data\\\\csv\\\\prices\\\\TAP.N.csv'\n",
      "[Errno 2] No such file or directory: 'C:\\\\Users\\\\serge\\\\IdeaProjects\\\\portfolio_management\\\\models\\\\data\\\\csv\\\\prices\\\\ABT.N.csv'\n",
      "[Errno 2] No such file or directory: 'C:\\\\Users\\\\serge\\\\IdeaProjects\\\\portfolio_management\\\\models\\\\data\\\\csv\\\\prices\\\\V.N.csv'\n",
      "[Errno 2] No such file or directory: 'C:\\\\Users\\\\serge\\\\IdeaProjects\\\\portfolio_management\\\\models\\\\data\\\\csv\\\\prices\\\\YUM.N.csv'\n",
      "[Errno 2] No such file or directory: 'C:\\\\Users\\\\serge\\\\IdeaProjects\\\\portfolio_management\\\\models\\\\data\\\\csv\\\\prices\\\\LYV.N.csv'\n",
      "[Errno 2] No such file or directory: 'C:\\\\Users\\\\serge\\\\IdeaProjects\\\\portfolio_management\\\\models\\\\data\\\\csv\\\\prices\\\\JNPR.N.csv'\n",
      "[Errno 2] No such file or directory: 'C:\\\\Users\\\\serge\\\\IdeaProjects\\\\portfolio_management\\\\models\\\\data\\\\csv\\\\prices\\\\RE.N.csv'\n",
      "[Errno 2] No such file or directory: 'C:\\\\Users\\\\serge\\\\IdeaProjects\\\\portfolio_management\\\\models\\\\data\\\\csv\\\\prices\\\\FTNT.OQ.csv'\n",
      "[Errno 2] No such file or directory: 'C:\\\\Users\\\\serge\\\\IdeaProjects\\\\portfolio_management\\\\models\\\\data\\\\csv\\\\prices\\\\DTE.N.csv'\n",
      "[Errno 2] No such file or directory: 'C:\\\\Users\\\\serge\\\\IdeaProjects\\\\portfolio_management\\\\models\\\\data\\\\csv\\\\prices\\\\HST.OQ.csv'\n",
      "[Errno 2] No such file or directory: 'C:\\\\Users\\\\serge\\\\IdeaProjects\\\\portfolio_management\\\\models\\\\data\\\\csv\\\\prices\\\\IRM.N.csv'\n",
      "[Errno 2] No such file or directory: 'C:\\\\Users\\\\serge\\\\IdeaProjects\\\\portfolio_management\\\\models\\\\data\\\\csv\\\\prices\\\\PEAK.N.csv'\n",
      "[Errno 2] No such file or directory: 'C:\\\\Users\\\\serge\\\\IdeaProjects\\\\portfolio_management\\\\models\\\\data\\\\csv\\\\prices\\\\FIS.N.csv'\n",
      "[Errno 2] No such file or directory: 'C:\\\\Users\\\\serge\\\\IdeaProjects\\\\portfolio_management\\\\models\\\\data\\\\csv\\\\prices\\\\DAL.N.csv'\n",
      "[Errno 2] No such file or directory: 'C:\\\\Users\\\\serge\\\\IdeaProjects\\\\portfolio_management\\\\models\\\\data\\\\csv\\\\prices\\\\ROK.N.csv'\n",
      "[Errno 2] No such file or directory: 'C:\\\\Users\\\\serge\\\\IdeaProjects\\\\portfolio_management\\\\models\\\\data\\\\csv\\\\prices\\\\DOW.N.csv'\n",
      "[Errno 2] No such file or directory: 'C:\\\\Users\\\\serge\\\\IdeaProjects\\\\portfolio_management\\\\models\\\\data\\\\csv\\\\prices\\\\PPL.N.csv'\n",
      "[Errno 2] No such file or directory: 'C:\\\\Users\\\\serge\\\\IdeaProjects\\\\portfolio_management\\\\models\\\\data\\\\csv\\\\prices\\\\NTRS.OQ.csv'\n",
      "[Errno 2] No such file or directory: 'C:\\\\Users\\\\serge\\\\IdeaProjects\\\\portfolio_management\\\\models\\\\data\\\\csv\\\\prices\\\\VFC.N.csv'\n",
      "[Errno 2] No such file or directory: 'C:\\\\Users\\\\serge\\\\IdeaProjects\\\\portfolio_management\\\\models\\\\data\\\\csv\\\\prices\\\\ETN.N.csv'\n",
      "[Errno 2] No such file or directory: 'C:\\\\Users\\\\serge\\\\IdeaProjects\\\\portfolio_management\\\\models\\\\data\\\\csv\\\\prices\\\\CVX.N.csv'\n",
      "[Errno 2] No such file or directory: 'C:\\\\Users\\\\serge\\\\IdeaProjects\\\\portfolio_management\\\\models\\\\data\\\\csv\\\\prices\\\\LNC.N.csv'\n",
      "[Errno 2] No such file or directory: 'C:\\\\Users\\\\serge\\\\IdeaProjects\\\\portfolio_management\\\\models\\\\data\\\\csv\\\\prices\\\\CI.N.csv'\n",
      "[Errno 2] No such file or directory: 'C:\\\\Users\\\\serge\\\\IdeaProjects\\\\portfolio_management\\\\models\\\\data\\\\csv\\\\prices\\\\ACN.N.csv'\n",
      "[Errno 2] No such file or directory: 'C:\\\\Users\\\\serge\\\\IdeaProjects\\\\portfolio_management\\\\models\\\\data\\\\csv\\\\prices\\\\XYL.N.csv'\n",
      "[Errno 2] No such file or directory: 'C:\\\\Users\\\\serge\\\\IdeaProjects\\\\portfolio_management\\\\models\\\\data\\\\csv\\\\prices\\\\HAS.OQ.csv'\n",
      "[Errno 2] No such file or directory: 'C:\\\\Users\\\\serge\\\\IdeaProjects\\\\portfolio_management\\\\models\\\\data\\\\csv\\\\prices\\\\ENPH.OQ.csv'\n",
      "[Errno 2] No such file or directory: 'C:\\\\Users\\\\serge\\\\IdeaProjects\\\\portfolio_management\\\\models\\\\data\\\\csv\\\\prices\\\\SO.N.csv'\n",
      "[Errno 2] No such file or directory: 'C:\\\\Users\\\\serge\\\\IdeaProjects\\\\portfolio_management\\\\models\\\\data\\\\csv\\\\prices\\\\CTLT.N.csv'\n",
      "[Errno 2] No such file or directory: 'C:\\\\Users\\\\serge\\\\IdeaProjects\\\\portfolio_management\\\\models\\\\data\\\\csv\\\\prices\\\\DISH.OQ.csv'\n",
      "[Errno 2] No such file or directory: 'C:\\\\Users\\\\serge\\\\IdeaProjects\\\\portfolio_management\\\\models\\\\data\\\\csv\\\\prices\\\\EQT.N.csv'\n",
      "[Errno 2] No such file or directory: 'C:\\\\Users\\\\serge\\\\IdeaProjects\\\\portfolio_management\\\\models\\\\data\\\\csv\\\\prices\\\\NRG.N.csv'\n",
      "[Errno 2] No such file or directory: 'C:\\\\Users\\\\serge\\\\IdeaProjects\\\\portfolio_management\\\\models\\\\data\\\\csv\\\\prices\\\\MKTX.OQ.csv'\n",
      "[Errno 2] No such file or directory: 'C:\\\\Users\\\\serge\\\\IdeaProjects\\\\portfolio_management\\\\models\\\\data\\\\csv\\\\prices\\\\LMT.N.csv'\n",
      "[Errno 2] No such file or directory: 'C:\\\\Users\\\\serge\\\\IdeaProjects\\\\portfolio_management\\\\models\\\\data\\\\csv\\\\prices\\\\DLR.N.csv'\n",
      "[Errno 2] No such file or directory: 'C:\\\\Users\\\\serge\\\\IdeaProjects\\\\portfolio_management\\\\models\\\\data\\\\csv\\\\prices\\\\PSX.N.csv'\n",
      "[Errno 2] No such file or directory: 'C:\\\\Users\\\\serge\\\\IdeaProjects\\\\portfolio_management\\\\models\\\\data\\\\csv\\\\prices\\\\SCHW.N.csv'\n",
      "[Errno 2] No such file or directory: 'C:\\\\Users\\\\serge\\\\IdeaProjects\\\\portfolio_management\\\\models\\\\data\\\\csv\\\\prices\\\\DXC.N.csv'\n",
      "[Errno 2] No such file or directory: 'C:\\\\Users\\\\serge\\\\IdeaProjects\\\\portfolio_management\\\\models\\\\data\\\\csv\\\\prices\\\\SNPS.OQ.csv'\n",
      "[Errno 2] No such file or directory: 'C:\\\\Users\\\\serge\\\\IdeaProjects\\\\portfolio_management\\\\models\\\\data\\\\csv\\\\prices\\\\J.N.csv'\n",
      "[Errno 2] No such file or directory: 'C:\\\\Users\\\\serge\\\\IdeaProjects\\\\portfolio_management\\\\models\\\\data\\\\csv\\\\prices\\\\AVY.N.csv'\n"
     ]
    }
   ],
   "source": [
    "params = {\n",
    "    'rics': cons,\n",
    "    # 'field': ['TR.PriceClose', 'Price Close'],\n",
    "    'field': ['TR.PriceClose', 'Price Close'],\n",
    "    'date_field': ['TR.PriceClose.calcdate', 'Calc Date'],\n",
    "    'load_path': r'C:\\Users\\serge\\IdeaProjects\\portfolio_management\\models\\data\\csv\\prices',\n",
    "    # 'save_config': {'save': True, 'path': r'C:\\Users\\serge\\IdeaProjects\\portfolio_management\\models\\data\\csv\\prices' },\n",
    "    # 'params': {\n",
    "    #     'SDate':'2000-12-31',\n",
    "    # 'EDate': '2024-08-29',\n",
    "    # }\n",
    "}\n",
    "\n",
    "data = api.load_timeseries(**params, out=True)\n",
    "data.set_index('Calc Date', inplace=True)\n",
    "\n",
    "\n",
    "# industry and region\n",
    "\n",
    "params = {\n",
    "    'rics': cons,\n",
    "    # 'fields': {'GICS Sector Name': 'TR.GICSSector'},\n",
    "    'fields': ['GICS Sector Name'],\n",
    "    'load_path': r'C:\\Users\\serge\\IdeaProjects\\portfolio_management\\models\\data\\csv\\fixed_factors\\industry.csv',\n",
    "}"
   ],
   "metadata": {
    "collapsed": false,
    "ExecuteTime": {
     "end_time": "2024-10-23T16:55:31.314736300Z",
     "start_time": "2024-10-23T16:55:18.964402900Z"
    }
   }
  },
  {
   "cell_type": "code",
   "execution_count": 37,
   "outputs": [],
   "source": [],
   "metadata": {
    "collapsed": false,
    "ExecuteTime": {
     "end_time": "2024-10-23T16:55:31.325854400Z",
     "start_time": "2024-10-23T16:55:31.314736300Z"
    }
   }
  },
  {
   "cell_type": "code",
   "execution_count": 38,
   "outputs": [],
   "source": [
    "data_industry = api.load_fixed_time_drivers(**params, out=True)\n",
    "fm = FamaFrenchData(path_to_input_folder=data_path, filenames=filenames)\n",
    "\n",
    "\n",
    "n_horizon = 21\n",
    "ff = (1 + fm.data).rolling(n_horizon).apply(lambda x: x.prod()) - 1\n",
    "returns = np.log(data / data.shift(n_horizon))[::n_horizon]\n",
    "\n",
    "# returns.dropna(inplace=True, how='any', axis=0)\n",
    "# returns.dropna(inplace=True, how='any', axis=1)\n",
    "# returns.dropna(inplace=True, how='any', axis=1)\n",
    "\n",
    "# returns = returns[returns.index > '2023-01-01']\n",
    "# returns = returns.iloc[:, :100]"
   ],
   "metadata": {
    "collapsed": false,
    "ExecuteTime": {
     "end_time": "2024-10-23T16:55:44.172665200Z",
     "start_time": "2024-10-23T16:55:31.337084100Z"
    }
   }
  },
  {
   "cell_type": "code",
   "execution_count": 39,
   "outputs": [],
   "source": [
    "returns = returns.iloc[1:,:].dropna(axis=1, how='any')"
   ],
   "metadata": {
    "collapsed": false,
    "ExecuteTime": {
     "end_time": "2024-10-23T16:55:44.203935Z",
     "start_time": "2024-10-23T16:55:44.172665200Z"
    }
   }
  },
  {
   "cell_type": "code",
   "execution_count": 40,
   "outputs": [],
   "source": [
    "indices = returns.T.index[1:]"
   ],
   "metadata": {
    "collapsed": false,
    "ExecuteTime": {
     "end_time": "2024-10-23T16:55:44.260505Z",
     "start_time": "2024-10-23T16:55:44.220301900Z"
    }
   }
  },
  {
   "cell_type": "code",
   "execution_count": 41,
   "outputs": [],
   "source": [
    "data_industry.dropna(inplace=True)\n",
    "indices = [x for x in indices if x in data_industry.index]\n",
    "data_industry = data_industry.loc[indices]\n",
    "returns = returns[indices]"
   ],
   "metadata": {
    "collapsed": false,
    "ExecuteTime": {
     "end_time": "2024-10-23T16:55:44.266675Z",
     "start_time": "2024-10-23T16:55:44.255530400Z"
    }
   }
  },
  {
   "cell_type": "code",
   "execution_count": 42,
   "outputs": [],
   "source": [
    "unique_industries = list(set(list(data_industry.values.flatten())))\n",
    "N_i = len(unique_industries)"
   ],
   "metadata": {
    "collapsed": false,
    "ExecuteTime": {
     "end_time": "2024-10-23T16:55:44.284614100Z",
     "start_time": "2024-10-23T16:55:44.266675Z"
    }
   }
  },
  {
   "cell_type": "code",
   "execution_count": 43,
   "outputs": [],
   "source": [
    "T, M = returns.shape"
   ],
   "metadata": {
    "collapsed": false,
    "ExecuteTime": {
     "end_time": "2024-10-23T16:55:44.543403700Z",
     "start_time": "2024-10-23T16:55:44.284614100Z"
    }
   }
  },
  {
   "cell_type": "code",
   "execution_count": 44,
   "outputs": [
    {
     "data": {
      "text/plain": "             CHRW.OQ     AJG.N     CNP.N      BA.N      WY.N     MCD.N  \\\nCalc Date                                                                \n2001-01-30 -0.124766 -0.167733 -0.147305 -0.161628  0.024909 -0.143667   \n2001-02-28  0.073786 -0.052272  0.116772  0.102328  0.032337 -0.001699   \n2001-03-29 -0.126978  0.031614  0.041041 -0.105897 -0.062184 -0.104227   \n2001-04-27  0.040134 -0.016068  0.100964  0.096366  0.067196  0.023135   \n2001-05-28  0.087680  0.021744 -0.047150  0.027535  0.047370  0.118152   \n...              ...       ...       ...       ...       ...       ...   \n2024-04-05 -0.010899 -0.018798 -0.008873 -0.093054  0.000868 -0.093847   \n2024-05-06  0.101066 -0.004025  0.044281 -0.026503 -0.107000  0.009739   \n2024-06-05  0.106959  0.040643  0.037159  0.062486 -0.053871 -0.035183   \n2024-07-08 -0.011707  0.044247 -0.003621 -0.021348 -0.065241 -0.047819   \n2024-08-06  0.135406  0.061251 -0.162597 -0.118698  0.136969  0.085820   \n\n                HD.N     SPG.N   HBAN.OQ   QRVO.OQ  ...   ACGL.OQ   NDSN.OQ  \\\nCalc Date                                           ...                       \n2001-01-30  0.006817  0.090374 -0.035367 -0.255554  ...  0.000000  0.174941   \n2001-02-28 -0.079137 -0.025445 -0.044997 -0.647162  ...  0.064539 -0.083650   \n2001-03-29  0.003758 -0.007053 -0.072661  0.011173  ...  0.003899 -0.133851   \n2001-04-27  0.120020  0.038192  0.076169  0.837344  ... -0.013318  0.161127   \n2001-05-28  0.083332  0.026887 -0.004011  0.137803  ...  0.027996 -0.092250   \n...              ...       ...       ...       ...  ...       ...       ...   \n2024-04-05 -0.053242 -0.014349  0.003683 -0.006927  ...  0.066212  0.022190   \n2024-05-06 -0.044511 -0.038771  0.023257 -0.179181  ...  0.023330 -0.001772   \n2024-06-05 -0.035778  0.060511 -0.035836  0.035030  ...  0.025812 -0.169553   \n2024-07-08  0.027888 -0.043827 -0.033311  0.192738  ... -0.014348 -0.008484   \n2024-08-06  0.041274  0.057355  0.031821 -0.159379  ... -0.016624  0.040195   \n\n               AMT.N     CAG.N     TFX.N     WAT.N   INCY.OQ   LRCX.OQ  \\\nCalc Date                                                                \n2001-01-30 -0.041097 -0.090093 -0.065161 -0.161463  0.129440  0.566978   \n2001-02-28 -0.227969 -0.188401  0.036756 -0.075853 -0.521181 -0.173073   \n2001-03-29 -0.407714 -0.089787 -0.035308 -0.389797 -0.167473  0.180382   \n2001-04-27  0.280775  0.141283  0.177244  0.101204  0.075162  0.119895   \n2001-05-28  0.012088 -0.021957 -0.014857  0.118166  0.429314  0.046113   \n...              ...       ...       ...       ...       ...       ...   \n2024-04-05 -0.080006  0.106469 -0.035083 -0.038139 -0.070247 -0.013618   \n2024-05-06 -0.062266 -0.029375 -0.075731 -0.049049 -0.021223 -0.046535   \n2024-06-05  0.103574 -0.014010  0.069159 -0.040417  0.087581  0.049771   \n2024-07-08 -0.010245 -0.047112 -0.016953 -0.072979 -0.014676  0.125460   \n2024-08-06  0.151066  0.052472  0.086370  0.147299  0.051921 -0.357917   \n\n             IDXX.OQ     PPG.N  \nCalc Date                       \n2001-01-30  0.016902 -0.011128  \n2001-02-28  0.051712  0.109500  \n2001-03-29 -0.118115 -0.096916  \n2001-04-27  0.249096  0.146731  \n2001-05-28  0.102527  0.037816  \n...              ...       ...  \n2024-04-05 -0.070447 -0.007738  \n2024-05-06 -0.085700 -0.044112  \n2024-06-05  0.039009  0.001277  \n2024-07-08 -0.024726 -0.047740  \n2024-08-06 -0.030136 -0.064560  \n\n[284 rows x 237 columns]",
      "text/html": "<div>\n<style scoped>\n    .dataframe tbody tr th:only-of-type {\n        vertical-align: middle;\n    }\n\n    .dataframe tbody tr th {\n        vertical-align: top;\n    }\n\n    .dataframe thead th {\n        text-align: right;\n    }\n</style>\n<table border=\"1\" class=\"dataframe\">\n  <thead>\n    <tr style=\"text-align: right;\">\n      <th></th>\n      <th>CHRW.OQ</th>\n      <th>AJG.N</th>\n      <th>CNP.N</th>\n      <th>BA.N</th>\n      <th>WY.N</th>\n      <th>MCD.N</th>\n      <th>HD.N</th>\n      <th>SPG.N</th>\n      <th>HBAN.OQ</th>\n      <th>QRVO.OQ</th>\n      <th>...</th>\n      <th>ACGL.OQ</th>\n      <th>NDSN.OQ</th>\n      <th>AMT.N</th>\n      <th>CAG.N</th>\n      <th>TFX.N</th>\n      <th>WAT.N</th>\n      <th>INCY.OQ</th>\n      <th>LRCX.OQ</th>\n      <th>IDXX.OQ</th>\n      <th>PPG.N</th>\n    </tr>\n    <tr>\n      <th>Calc Date</th>\n      <th></th>\n      <th></th>\n      <th></th>\n      <th></th>\n      <th></th>\n      <th></th>\n      <th></th>\n      <th></th>\n      <th></th>\n      <th></th>\n      <th></th>\n      <th></th>\n      <th></th>\n      <th></th>\n      <th></th>\n      <th></th>\n      <th></th>\n      <th></th>\n      <th></th>\n      <th></th>\n      <th></th>\n    </tr>\n  </thead>\n  <tbody>\n    <tr>\n      <th>2001-01-30</th>\n      <td>-0.124766</td>\n      <td>-0.167733</td>\n      <td>-0.147305</td>\n      <td>-0.161628</td>\n      <td>0.024909</td>\n      <td>-0.143667</td>\n      <td>0.006817</td>\n      <td>0.090374</td>\n      <td>-0.035367</td>\n      <td>-0.255554</td>\n      <td>...</td>\n      <td>0.000000</td>\n      <td>0.174941</td>\n      <td>-0.041097</td>\n      <td>-0.090093</td>\n      <td>-0.065161</td>\n      <td>-0.161463</td>\n      <td>0.129440</td>\n      <td>0.566978</td>\n      <td>0.016902</td>\n      <td>-0.011128</td>\n    </tr>\n    <tr>\n      <th>2001-02-28</th>\n      <td>0.073786</td>\n      <td>-0.052272</td>\n      <td>0.116772</td>\n      <td>0.102328</td>\n      <td>0.032337</td>\n      <td>-0.001699</td>\n      <td>-0.079137</td>\n      <td>-0.025445</td>\n      <td>-0.044997</td>\n      <td>-0.647162</td>\n      <td>...</td>\n      <td>0.064539</td>\n      <td>-0.083650</td>\n      <td>-0.227969</td>\n      <td>-0.188401</td>\n      <td>0.036756</td>\n      <td>-0.075853</td>\n      <td>-0.521181</td>\n      <td>-0.173073</td>\n      <td>0.051712</td>\n      <td>0.109500</td>\n    </tr>\n    <tr>\n      <th>2001-03-29</th>\n      <td>-0.126978</td>\n      <td>0.031614</td>\n      <td>0.041041</td>\n      <td>-0.105897</td>\n      <td>-0.062184</td>\n      <td>-0.104227</td>\n      <td>0.003758</td>\n      <td>-0.007053</td>\n      <td>-0.072661</td>\n      <td>0.011173</td>\n      <td>...</td>\n      <td>0.003899</td>\n      <td>-0.133851</td>\n      <td>-0.407714</td>\n      <td>-0.089787</td>\n      <td>-0.035308</td>\n      <td>-0.389797</td>\n      <td>-0.167473</td>\n      <td>0.180382</td>\n      <td>-0.118115</td>\n      <td>-0.096916</td>\n    </tr>\n    <tr>\n      <th>2001-04-27</th>\n      <td>0.040134</td>\n      <td>-0.016068</td>\n      <td>0.100964</td>\n      <td>0.096366</td>\n      <td>0.067196</td>\n      <td>0.023135</td>\n      <td>0.120020</td>\n      <td>0.038192</td>\n      <td>0.076169</td>\n      <td>0.837344</td>\n      <td>...</td>\n      <td>-0.013318</td>\n      <td>0.161127</td>\n      <td>0.280775</td>\n      <td>0.141283</td>\n      <td>0.177244</td>\n      <td>0.101204</td>\n      <td>0.075162</td>\n      <td>0.119895</td>\n      <td>0.249096</td>\n      <td>0.146731</td>\n    </tr>\n    <tr>\n      <th>2001-05-28</th>\n      <td>0.087680</td>\n      <td>0.021744</td>\n      <td>-0.047150</td>\n      <td>0.027535</td>\n      <td>0.047370</td>\n      <td>0.118152</td>\n      <td>0.083332</td>\n      <td>0.026887</td>\n      <td>-0.004011</td>\n      <td>0.137803</td>\n      <td>...</td>\n      <td>0.027996</td>\n      <td>-0.092250</td>\n      <td>0.012088</td>\n      <td>-0.021957</td>\n      <td>-0.014857</td>\n      <td>0.118166</td>\n      <td>0.429314</td>\n      <td>0.046113</td>\n      <td>0.102527</td>\n      <td>0.037816</td>\n    </tr>\n    <tr>\n      <th>...</th>\n      <td>...</td>\n      <td>...</td>\n      <td>...</td>\n      <td>...</td>\n      <td>...</td>\n      <td>...</td>\n      <td>...</td>\n      <td>...</td>\n      <td>...</td>\n      <td>...</td>\n      <td>...</td>\n      <td>...</td>\n      <td>...</td>\n      <td>...</td>\n      <td>...</td>\n      <td>...</td>\n      <td>...</td>\n      <td>...</td>\n      <td>...</td>\n      <td>...</td>\n      <td>...</td>\n    </tr>\n    <tr>\n      <th>2024-04-05</th>\n      <td>-0.010899</td>\n      <td>-0.018798</td>\n      <td>-0.008873</td>\n      <td>-0.093054</td>\n      <td>0.000868</td>\n      <td>-0.093847</td>\n      <td>-0.053242</td>\n      <td>-0.014349</td>\n      <td>0.003683</td>\n      <td>-0.006927</td>\n      <td>...</td>\n      <td>0.066212</td>\n      <td>0.022190</td>\n      <td>-0.080006</td>\n      <td>0.106469</td>\n      <td>-0.035083</td>\n      <td>-0.038139</td>\n      <td>-0.070247</td>\n      <td>-0.013618</td>\n      <td>-0.070447</td>\n      <td>-0.007738</td>\n    </tr>\n    <tr>\n      <th>2024-05-06</th>\n      <td>0.101066</td>\n      <td>-0.004025</td>\n      <td>0.044281</td>\n      <td>-0.026503</td>\n      <td>-0.107000</td>\n      <td>0.009739</td>\n      <td>-0.044511</td>\n      <td>-0.038771</td>\n      <td>0.023257</td>\n      <td>-0.179181</td>\n      <td>...</td>\n      <td>0.023330</td>\n      <td>-0.001772</td>\n      <td>-0.062266</td>\n      <td>-0.029375</td>\n      <td>-0.075731</td>\n      <td>-0.049049</td>\n      <td>-0.021223</td>\n      <td>-0.046535</td>\n      <td>-0.085700</td>\n      <td>-0.044112</td>\n    </tr>\n    <tr>\n      <th>2024-06-05</th>\n      <td>0.106959</td>\n      <td>0.040643</td>\n      <td>0.037159</td>\n      <td>0.062486</td>\n      <td>-0.053871</td>\n      <td>-0.035183</td>\n      <td>-0.035778</td>\n      <td>0.060511</td>\n      <td>-0.035836</td>\n      <td>0.035030</td>\n      <td>...</td>\n      <td>0.025812</td>\n      <td>-0.169553</td>\n      <td>0.103574</td>\n      <td>-0.014010</td>\n      <td>0.069159</td>\n      <td>-0.040417</td>\n      <td>0.087581</td>\n      <td>0.049771</td>\n      <td>0.039009</td>\n      <td>0.001277</td>\n    </tr>\n    <tr>\n      <th>2024-07-08</th>\n      <td>-0.011707</td>\n      <td>0.044247</td>\n      <td>-0.003621</td>\n      <td>-0.021348</td>\n      <td>-0.065241</td>\n      <td>-0.047819</td>\n      <td>0.027888</td>\n      <td>-0.043827</td>\n      <td>-0.033311</td>\n      <td>0.192738</td>\n      <td>...</td>\n      <td>-0.014348</td>\n      <td>-0.008484</td>\n      <td>-0.010245</td>\n      <td>-0.047112</td>\n      <td>-0.016953</td>\n      <td>-0.072979</td>\n      <td>-0.014676</td>\n      <td>0.125460</td>\n      <td>-0.024726</td>\n      <td>-0.047740</td>\n    </tr>\n    <tr>\n      <th>2024-08-06</th>\n      <td>0.135406</td>\n      <td>0.061251</td>\n      <td>-0.162597</td>\n      <td>-0.118698</td>\n      <td>0.136969</td>\n      <td>0.085820</td>\n      <td>0.041274</td>\n      <td>0.057355</td>\n      <td>0.031821</td>\n      <td>-0.159379</td>\n      <td>...</td>\n      <td>-0.016624</td>\n      <td>0.040195</td>\n      <td>0.151066</td>\n      <td>0.052472</td>\n      <td>0.086370</td>\n      <td>0.147299</td>\n      <td>0.051921</td>\n      <td>-0.357917</td>\n      <td>-0.030136</td>\n      <td>-0.064560</td>\n    </tr>\n  </tbody>\n</table>\n<p>284 rows × 237 columns</p>\n</div>"
     },
     "execution_count": 44,
     "metadata": {},
     "output_type": "execute_result"
    }
   ],
   "source": [
    "returns"
   ],
   "metadata": {
    "collapsed": false,
    "ExecuteTime": {
     "end_time": "2024-10-23T16:55:44.559657200Z",
     "start_time": "2024-10-23T16:55:44.509066700Z"
    }
   }
  },
  {
   "cell_type": "code",
   "execution_count": 45,
   "outputs": [
    {
     "name": "stdout",
     "output_type": "stream",
     "text": [
      "11\n",
      "284\n",
      "237\n"
     ]
    }
   ],
   "source": [
    "print(N_i)\n",
    "print(T)\n",
    "print(M)"
   ],
   "metadata": {
    "collapsed": false,
    "ExecuteTime": {
     "end_time": "2024-10-23T16:55:44.637912400Z",
     "start_time": "2024-10-23T16:55:44.559657200Z"
    }
   }
  },
  {
   "cell_type": "code",
   "execution_count": 81,
   "outputs": [],
   "source": [
    "# remove 1 dummy\n",
    "D = pd.get_dummies(data_industry).astype(float).iloc[:,1:]\n",
    "D['intercept'] = np.ones(D.shape[0])\n",
    "D = D.iloc[:, ::-1]"
   ],
   "metadata": {
    "collapsed": false,
    "ExecuteTime": {
     "end_time": "2024-10-23T17:17:56.492165800Z",
     "start_time": "2024-10-23T17:17:56.401087900Z"
    }
   }
  },
  {
   "cell_type": "code",
   "execution_count": 82,
   "outputs": [
    {
     "data": {
      "text/plain": "            intercept  GICS Sector Name_Utilities  \\\nInstrument                                          \nCHRW.OQ           1.0                         0.0   \nAJG.N             1.0                         0.0   \nCNP.N             1.0                         1.0   \nBA.N              1.0                         0.0   \nWY.N              1.0                         0.0   \n...               ...                         ...   \nWAT.N             1.0                         0.0   \nINCY.OQ           1.0                         0.0   \nLRCX.OQ           1.0                         0.0   \nIDXX.OQ           1.0                         0.0   \nPPG.N             1.0                         0.0   \n\n            GICS Sector Name_Real Estate  GICS Sector Name_Materials  \\\nInstrument                                                             \nCHRW.OQ                              0.0                         0.0   \nAJG.N                                0.0                         0.0   \nCNP.N                                0.0                         0.0   \nBA.N                                 0.0                         0.0   \nWY.N                                 1.0                         0.0   \n...                                  ...                         ...   \nWAT.N                                0.0                         0.0   \nINCY.OQ                              0.0                         0.0   \nLRCX.OQ                              0.0                         0.0   \nIDXX.OQ                              0.0                         0.0   \nPPG.N                                0.0                         1.0   \n\n            GICS Sector Name_Information Technology  \\\nInstrument                                            \nCHRW.OQ                                         0.0   \nAJG.N                                           0.0   \nCNP.N                                           0.0   \nBA.N                                            0.0   \nWY.N                                            0.0   \n...                                             ...   \nWAT.N                                           0.0   \nINCY.OQ                                         0.0   \nLRCX.OQ                                         1.0   \nIDXX.OQ                                         0.0   \nPPG.N                                           0.0   \n\n            GICS Sector Name_Industrials  GICS Sector Name_Health Care  \\\nInstrument                                                               \nCHRW.OQ                              1.0                           0.0   \nAJG.N                                0.0                           0.0   \nCNP.N                                0.0                           0.0   \nBA.N                                 1.0                           0.0   \nWY.N                                 0.0                           0.0   \n...                                  ...                           ...   \nWAT.N                                0.0                           1.0   \nINCY.OQ                              0.0                           1.0   \nLRCX.OQ                              0.0                           0.0   \nIDXX.OQ                              0.0                           1.0   \nPPG.N                                0.0                           0.0   \n\n            GICS Sector Name_Financials  GICS Sector Name_Energy  \\\nInstrument                                                         \nCHRW.OQ                             0.0                      0.0   \nAJG.N                               1.0                      0.0   \nCNP.N                               0.0                      0.0   \nBA.N                                0.0                      0.0   \nWY.N                                0.0                      0.0   \n...                                 ...                      ...   \nWAT.N                               0.0                      0.0   \nINCY.OQ                             0.0                      0.0   \nLRCX.OQ                             0.0                      0.0   \nIDXX.OQ                             0.0                      0.0   \nPPG.N                               0.0                      0.0   \n\n            GICS Sector Name_Consumer Staples  \\\nInstrument                                      \nCHRW.OQ                                   0.0   \nAJG.N                                     0.0   \nCNP.N                                     0.0   \nBA.N                                      0.0   \nWY.N                                      0.0   \n...                                       ...   \nWAT.N                                     0.0   \nINCY.OQ                                   0.0   \nLRCX.OQ                                   0.0   \nIDXX.OQ                                   0.0   \nPPG.N                                     0.0   \n\n            GICS Sector Name_Consumer Discretionary  \nInstrument                                           \nCHRW.OQ                                         0.0  \nAJG.N                                           0.0  \nCNP.N                                           0.0  \nBA.N                                            0.0  \nWY.N                                            0.0  \n...                                             ...  \nWAT.N                                           0.0  \nINCY.OQ                                         0.0  \nLRCX.OQ                                         0.0  \nIDXX.OQ                                         0.0  \nPPG.N                                           0.0  \n\n[237 rows x 11 columns]",
      "text/html": "<div>\n<style scoped>\n    .dataframe tbody tr th:only-of-type {\n        vertical-align: middle;\n    }\n\n    .dataframe tbody tr th {\n        vertical-align: top;\n    }\n\n    .dataframe thead th {\n        text-align: right;\n    }\n</style>\n<table border=\"1\" class=\"dataframe\">\n  <thead>\n    <tr style=\"text-align: right;\">\n      <th></th>\n      <th>intercept</th>\n      <th>GICS Sector Name_Utilities</th>\n      <th>GICS Sector Name_Real Estate</th>\n      <th>GICS Sector Name_Materials</th>\n      <th>GICS Sector Name_Information Technology</th>\n      <th>GICS Sector Name_Industrials</th>\n      <th>GICS Sector Name_Health Care</th>\n      <th>GICS Sector Name_Financials</th>\n      <th>GICS Sector Name_Energy</th>\n      <th>GICS Sector Name_Consumer Staples</th>\n      <th>GICS Sector Name_Consumer Discretionary</th>\n    </tr>\n    <tr>\n      <th>Instrument</th>\n      <th></th>\n      <th></th>\n      <th></th>\n      <th></th>\n      <th></th>\n      <th></th>\n      <th></th>\n      <th></th>\n      <th></th>\n      <th></th>\n      <th></th>\n    </tr>\n  </thead>\n  <tbody>\n    <tr>\n      <th>CHRW.OQ</th>\n      <td>1.0</td>\n      <td>0.0</td>\n      <td>0.0</td>\n      <td>0.0</td>\n      <td>0.0</td>\n      <td>1.0</td>\n      <td>0.0</td>\n      <td>0.0</td>\n      <td>0.0</td>\n      <td>0.0</td>\n      <td>0.0</td>\n    </tr>\n    <tr>\n      <th>AJG.N</th>\n      <td>1.0</td>\n      <td>0.0</td>\n      <td>0.0</td>\n      <td>0.0</td>\n      <td>0.0</td>\n      <td>0.0</td>\n      <td>0.0</td>\n      <td>1.0</td>\n      <td>0.0</td>\n      <td>0.0</td>\n      <td>0.0</td>\n    </tr>\n    <tr>\n      <th>CNP.N</th>\n      <td>1.0</td>\n      <td>1.0</td>\n      <td>0.0</td>\n      <td>0.0</td>\n      <td>0.0</td>\n      <td>0.0</td>\n      <td>0.0</td>\n      <td>0.0</td>\n      <td>0.0</td>\n      <td>0.0</td>\n      <td>0.0</td>\n    </tr>\n    <tr>\n      <th>BA.N</th>\n      <td>1.0</td>\n      <td>0.0</td>\n      <td>0.0</td>\n      <td>0.0</td>\n      <td>0.0</td>\n      <td>1.0</td>\n      <td>0.0</td>\n      <td>0.0</td>\n      <td>0.0</td>\n      <td>0.0</td>\n      <td>0.0</td>\n    </tr>\n    <tr>\n      <th>WY.N</th>\n      <td>1.0</td>\n      <td>0.0</td>\n      <td>1.0</td>\n      <td>0.0</td>\n      <td>0.0</td>\n      <td>0.0</td>\n      <td>0.0</td>\n      <td>0.0</td>\n      <td>0.0</td>\n      <td>0.0</td>\n      <td>0.0</td>\n    </tr>\n    <tr>\n      <th>...</th>\n      <td>...</td>\n      <td>...</td>\n      <td>...</td>\n      <td>...</td>\n      <td>...</td>\n      <td>...</td>\n      <td>...</td>\n      <td>...</td>\n      <td>...</td>\n      <td>...</td>\n      <td>...</td>\n    </tr>\n    <tr>\n      <th>WAT.N</th>\n      <td>1.0</td>\n      <td>0.0</td>\n      <td>0.0</td>\n      <td>0.0</td>\n      <td>0.0</td>\n      <td>0.0</td>\n      <td>1.0</td>\n      <td>0.0</td>\n      <td>0.0</td>\n      <td>0.0</td>\n      <td>0.0</td>\n    </tr>\n    <tr>\n      <th>INCY.OQ</th>\n      <td>1.0</td>\n      <td>0.0</td>\n      <td>0.0</td>\n      <td>0.0</td>\n      <td>0.0</td>\n      <td>0.0</td>\n      <td>1.0</td>\n      <td>0.0</td>\n      <td>0.0</td>\n      <td>0.0</td>\n      <td>0.0</td>\n    </tr>\n    <tr>\n      <th>LRCX.OQ</th>\n      <td>1.0</td>\n      <td>0.0</td>\n      <td>0.0</td>\n      <td>0.0</td>\n      <td>1.0</td>\n      <td>0.0</td>\n      <td>0.0</td>\n      <td>0.0</td>\n      <td>0.0</td>\n      <td>0.0</td>\n      <td>0.0</td>\n    </tr>\n    <tr>\n      <th>IDXX.OQ</th>\n      <td>1.0</td>\n      <td>0.0</td>\n      <td>0.0</td>\n      <td>0.0</td>\n      <td>0.0</td>\n      <td>0.0</td>\n      <td>1.0</td>\n      <td>0.0</td>\n      <td>0.0</td>\n      <td>0.0</td>\n      <td>0.0</td>\n    </tr>\n    <tr>\n      <th>PPG.N</th>\n      <td>1.0</td>\n      <td>0.0</td>\n      <td>0.0</td>\n      <td>1.0</td>\n      <td>0.0</td>\n      <td>0.0</td>\n      <td>0.0</td>\n      <td>0.0</td>\n      <td>0.0</td>\n      <td>0.0</td>\n      <td>0.0</td>\n    </tr>\n  </tbody>\n</table>\n<p>237 rows × 11 columns</p>\n</div>"
     },
     "execution_count": 82,
     "metadata": {},
     "output_type": "execute_result"
    }
   ],
   "source": [
    "D"
   ],
   "metadata": {
    "collapsed": false,
    "ExecuteTime": {
     "end_time": "2024-10-23T17:17:58.228891400Z",
     "start_time": "2024-10-23T17:17:58.197560600Z"
    }
   }
  },
  {
   "cell_type": "code",
   "execution_count": 83,
   "outputs": [],
   "source": [
    "Y = returns"
   ],
   "metadata": {
    "collapsed": false,
    "ExecuteTime": {
     "end_time": "2024-10-23T17:18:09.608597300Z",
     "start_time": "2024-10-23T17:18:09.584385Z"
    }
   }
  },
  {
   "cell_type": "code",
   "execution_count": 84,
   "outputs": [],
   "source": [
    "# _industry_map = {j:i for i,j in zip(range(n_industry), unique_industries)}\n",
    "# returns = returns.reset_index().rename({'Calc Date': 'time'})\n",
    "# design_matrix = returns.T.join(data_industry, how='left')\n",
    "# design_matrix.dropna(inplace=True, how='any', axis=0)\n",
    "# design_matrix = design_matrix.replace({'GICS Sector Name': _industry_map})"
   ],
   "metadata": {
    "collapsed": false,
    "ExecuteTime": {
     "end_time": "2024-10-23T17:18:10.387257500Z",
     "start_time": "2024-10-23T17:18:10.355562800Z"
    }
   }
  },
  {
   "cell_type": "code",
   "execution_count": 85,
   "outputs": [
    {
     "data": {
      "text/plain": "(284, 237)"
     },
     "execution_count": 85,
     "metadata": {},
     "output_type": "execute_result"
    }
   ],
   "source": [
    "Y.shape"
   ],
   "metadata": {
    "collapsed": false,
    "ExecuteTime": {
     "end_time": "2024-10-23T17:18:10.810950900Z",
     "start_time": "2024-10-23T17:18:10.786675100Z"
    }
   }
  },
  {
   "cell_type": "code",
   "execution_count": 86,
   "outputs": [
    {
     "data": {
      "text/plain": "(237, 11)"
     },
     "execution_count": 86,
     "metadata": {},
     "output_type": "execute_result"
    }
   ],
   "source": [
    "D.shape"
   ],
   "metadata": {
    "collapsed": false,
    "ExecuteTime": {
     "end_time": "2024-10-23T17:18:12.019877Z",
     "start_time": "2024-10-23T17:18:11.956763900Z"
    }
   }
  },
  {
   "cell_type": "code",
   "execution_count": 87,
   "outputs": [],
   "source": [
    "model = MultiOutputLinearRegressionModel(x=D.astype(float),\n",
    "                                 y=Y.T,\n",
    "                                 method='ols')\n",
    "\n",
    "model.fit()"
   ],
   "metadata": {
    "collapsed": false,
    "ExecuteTime": {
     "end_time": "2024-10-23T17:18:12.722746Z",
     "start_time": "2024-10-23T17:18:12.445544200Z"
    }
   }
  },
  {
   "cell_type": "code",
   "execution_count": 89,
   "outputs": [
    {
     "data": {
      "text/plain": "array([ 0.00022734,  0.05851961, -0.14744827, -0.00841246, -0.05479188,\n        0.17656935, -0.03668805, -0.09217377, -0.04441366, -0.11081272,\n       -0.05051471,  0.01917949])"
     },
     "execution_count": 89,
     "metadata": {},
     "output_type": "execute_result"
    }
   ],
   "source": [
    "model.betas[:,0]"
   ],
   "metadata": {
    "collapsed": false,
    "ExecuteTime": {
     "end_time": "2024-10-23T17:18:27.552262400Z",
     "start_time": "2024-10-23T17:18:27.505375Z"
    }
   }
  },
  {
   "cell_type": "code",
   "execution_count": 62,
   "outputs": [
    {
     "data": {
      "text/plain": "(284,)"
     },
     "execution_count": 62,
     "metadata": {},
     "output_type": "execute_result"
    }
   ],
   "source": [
    "returns.iloc[:,0].shape"
   ],
   "metadata": {
    "collapsed": false,
    "ExecuteTime": {
     "end_time": "2024-10-23T17:13:56.169686900Z",
     "start_time": "2024-10-23T17:13:56.090970700Z"
    }
   }
  },
  {
   "cell_type": "code",
   "execution_count": 90,
   "outputs": [],
   "source": [
    "m = OLS(endog=returns.iloc[0,:], exog=D, hasconst=True)\n",
    "res = m.fit()"
   ],
   "metadata": {
    "collapsed": false,
    "ExecuteTime": {
     "end_time": "2024-10-23T17:18:38.497725Z",
     "start_time": "2024-10-23T17:18:38.466491600Z"
    }
   }
  },
  {
   "cell_type": "code",
   "execution_count": 97,
   "outputs": [
    {
     "data": {
      "text/plain": "intercept                                  0.041274\nGICS Sector Name_Utilities                -0.147448\nGICS Sector Name_Real Estate              -0.008412\nGICS Sector Name_Materials                -0.054792\nGICS Sector Name_Information Technology    0.176569\nGICS Sector Name_Industrials              -0.036688\nGICS Sector Name_Health Care              -0.092174\nGICS Sector Name_Financials               -0.044414\nGICS Sector Name_Energy                   -0.110813\nGICS Sector Name_Consumer Staples         -0.050515\nGICS Sector Name_Consumer Discretionary    0.019179\ndtype: float64"
     },
     "execution_count": 97,
     "metadata": {},
     "output_type": "execute_result"
    }
   ],
   "source": [
    "res.params"
   ],
   "metadata": {
    "collapsed": false,
    "ExecuteTime": {
     "end_time": "2024-10-23T17:20:29.604951500Z",
     "start_time": "2024-10-23T17:20:29.557643600Z"
    }
   }
  },
  {
   "cell_type": "code",
   "execution_count": 67,
   "outputs": [
    {
     "data": {
      "text/plain": "GICS Sector Name_Communication Services    0.041274\ndtype: float64"
     },
     "execution_count": 67,
     "metadata": {},
     "output_type": "execute_result"
    }
   ],
   "source": [],
   "metadata": {
    "collapsed": false,
    "ExecuteTime": {
     "end_time": "2024-10-23T17:14:43.889336100Z",
     "start_time": "2024-10-23T17:14:43.842447300Z"
    }
   }
  },
  {
   "cell_type": "code",
   "execution_count": null,
   "outputs": [],
   "source": [],
   "metadata": {
    "collapsed": false
   }
  },
  {
   "cell_type": "code",
   "execution_count": 10,
   "outputs": [],
   "source": [
    "X = design_matrix.join(indicators, how='left')"
   ],
   "metadata": {
    "collapsed": false,
    "ExecuteTime": {
     "end_time": "2024-10-23T00:23:27.365481500Z",
     "start_time": "2024-10-23T00:23:27.286938Z"
    }
   }
  },
  {
   "cell_type": "code",
   "execution_count": 12,
   "outputs": [
    {
     "data": {
      "text/plain": "    POOL.OQ   CHRW.OQ     AJG.N     CNP.N      BA.N      WY.N     MCD.N  \\\n0    0.0683 -0.124766 -0.167733 -0.147305 -0.161628  0.024909 -0.143667   \n1  0.032477  0.073786 -0.052272  0.116772  0.102328  0.032337 -0.001699   \n2 -0.064037 -0.126978  0.031614  0.041041 -0.105897 -0.062184 -0.104227   \n3   0.01314  0.040134 -0.016068  0.100964  0.096366  0.067196  0.023135   \n4  0.105044   0.08768  0.021744  -0.04715  0.027535   0.04737  0.118152   \n\n       HD.N     SPG.N   HBAN.OQ  ...   ACGL.OQ   NDSN.OQ     AMT.N     CAG.N  \\\n0  0.006817  0.090374 -0.035367  ...       0.0  0.174941 -0.041097 -0.090093   \n1 -0.079137 -0.025445 -0.044997  ...  0.064539  -0.08365 -0.227969 -0.188401   \n2  0.003758 -0.007053 -0.072661  ...  0.003899 -0.133851 -0.407714 -0.089787   \n3   0.12002  0.038192  0.076169  ... -0.013318  0.161127  0.280775  0.141283   \n4  0.083332  0.026887 -0.004011  ...  0.027996  -0.09225  0.012088 -0.021957   \n\n      TFX.N     WAT.N   INCY.OQ   LRCX.OQ   IDXX.OQ     PPG.N  \n0 -0.065161 -0.161463   0.12944  0.566978  0.016902 -0.011128  \n1  0.036756 -0.075853 -0.521181 -0.173073  0.051712    0.1095  \n2 -0.035308 -0.389797 -0.167473  0.180382 -0.118115 -0.096916  \n3  0.177244  0.101204  0.075162  0.119895  0.249096  0.146731  \n4 -0.014857  0.118166  0.429314  0.046113  0.102527  0.037816  \n\n[5 rows x 238 columns]",
      "text/html": "<div>\n<style scoped>\n    .dataframe tbody tr th:only-of-type {\n        vertical-align: middle;\n    }\n\n    .dataframe tbody tr th {\n        vertical-align: top;\n    }\n\n    .dataframe thead th {\n        text-align: right;\n    }\n</style>\n<table border=\"1\" class=\"dataframe\">\n  <thead>\n    <tr style=\"text-align: right;\">\n      <th></th>\n      <th>POOL.OQ</th>\n      <th>CHRW.OQ</th>\n      <th>AJG.N</th>\n      <th>CNP.N</th>\n      <th>BA.N</th>\n      <th>WY.N</th>\n      <th>MCD.N</th>\n      <th>HD.N</th>\n      <th>SPG.N</th>\n      <th>HBAN.OQ</th>\n      <th>...</th>\n      <th>ACGL.OQ</th>\n      <th>NDSN.OQ</th>\n      <th>AMT.N</th>\n      <th>CAG.N</th>\n      <th>TFX.N</th>\n      <th>WAT.N</th>\n      <th>INCY.OQ</th>\n      <th>LRCX.OQ</th>\n      <th>IDXX.OQ</th>\n      <th>PPG.N</th>\n    </tr>\n  </thead>\n  <tbody>\n    <tr>\n      <th>0</th>\n      <td>0.0683</td>\n      <td>-0.124766</td>\n      <td>-0.167733</td>\n      <td>-0.147305</td>\n      <td>-0.161628</td>\n      <td>0.024909</td>\n      <td>-0.143667</td>\n      <td>0.006817</td>\n      <td>0.090374</td>\n      <td>-0.035367</td>\n      <td>...</td>\n      <td>0.0</td>\n      <td>0.174941</td>\n      <td>-0.041097</td>\n      <td>-0.090093</td>\n      <td>-0.065161</td>\n      <td>-0.161463</td>\n      <td>0.12944</td>\n      <td>0.566978</td>\n      <td>0.016902</td>\n      <td>-0.011128</td>\n    </tr>\n    <tr>\n      <th>1</th>\n      <td>0.032477</td>\n      <td>0.073786</td>\n      <td>-0.052272</td>\n      <td>0.116772</td>\n      <td>0.102328</td>\n      <td>0.032337</td>\n      <td>-0.001699</td>\n      <td>-0.079137</td>\n      <td>-0.025445</td>\n      <td>-0.044997</td>\n      <td>...</td>\n      <td>0.064539</td>\n      <td>-0.08365</td>\n      <td>-0.227969</td>\n      <td>-0.188401</td>\n      <td>0.036756</td>\n      <td>-0.075853</td>\n      <td>-0.521181</td>\n      <td>-0.173073</td>\n      <td>0.051712</td>\n      <td>0.1095</td>\n    </tr>\n    <tr>\n      <th>2</th>\n      <td>-0.064037</td>\n      <td>-0.126978</td>\n      <td>0.031614</td>\n      <td>0.041041</td>\n      <td>-0.105897</td>\n      <td>-0.062184</td>\n      <td>-0.104227</td>\n      <td>0.003758</td>\n      <td>-0.007053</td>\n      <td>-0.072661</td>\n      <td>...</td>\n      <td>0.003899</td>\n      <td>-0.133851</td>\n      <td>-0.407714</td>\n      <td>-0.089787</td>\n      <td>-0.035308</td>\n      <td>-0.389797</td>\n      <td>-0.167473</td>\n      <td>0.180382</td>\n      <td>-0.118115</td>\n      <td>-0.096916</td>\n    </tr>\n    <tr>\n      <th>3</th>\n      <td>0.01314</td>\n      <td>0.040134</td>\n      <td>-0.016068</td>\n      <td>0.100964</td>\n      <td>0.096366</td>\n      <td>0.067196</td>\n      <td>0.023135</td>\n      <td>0.12002</td>\n      <td>0.038192</td>\n      <td>0.076169</td>\n      <td>...</td>\n      <td>-0.013318</td>\n      <td>0.161127</td>\n      <td>0.280775</td>\n      <td>0.141283</td>\n      <td>0.177244</td>\n      <td>0.101204</td>\n      <td>0.075162</td>\n      <td>0.119895</td>\n      <td>0.249096</td>\n      <td>0.146731</td>\n    </tr>\n    <tr>\n      <th>4</th>\n      <td>0.105044</td>\n      <td>0.08768</td>\n      <td>0.021744</td>\n      <td>-0.04715</td>\n      <td>0.027535</td>\n      <td>0.04737</td>\n      <td>0.118152</td>\n      <td>0.083332</td>\n      <td>0.026887</td>\n      <td>-0.004011</td>\n      <td>...</td>\n      <td>0.027996</td>\n      <td>-0.09225</td>\n      <td>0.012088</td>\n      <td>-0.021957</td>\n      <td>-0.014857</td>\n      <td>0.118166</td>\n      <td>0.429314</td>\n      <td>0.046113</td>\n      <td>0.102527</td>\n      <td>0.037816</td>\n    </tr>\n  </tbody>\n</table>\n<p>5 rows × 238 columns</p>\n</div>"
     },
     "execution_count": 12,
     "metadata": {},
     "output_type": "execute_result"
    }
   ],
   "source": [
    "X.T.head()"
   ],
   "metadata": {
    "collapsed": false,
    "ExecuteTime": {
     "end_time": "2024-10-23T00:24:04.216613700Z",
     "start_time": "2024-10-23T00:24:04.169303800Z"
    }
   }
  },
  {
   "cell_type": "code",
   "execution_count": null,
   "outputs": [],
   "source": [
    "model = OLS(X.iloc[0,:], X.iloc[0,:][_cols_ind], hasconst=False)"
   ],
   "metadata": {
    "collapsed": false
   }
  },
  {
   "cell_type": "code",
   "execution_count": null,
   "outputs": [],
   "source": [
    "X.iloc[0,:][_cols_ind]"
   ],
   "metadata": {
    "collapsed": false
   }
  },
  {
   "cell_type": "code",
   "execution_count": null,
   "outputs": [],
   "source": [],
   "metadata": {
    "collapsed": false
   }
  }
 ],
 "metadata": {
  "kernelspec": {
   "display_name": "Python 3",
   "language": "python",
   "name": "python3"
  },
  "language_info": {
   "codemirror_mode": {
    "name": "ipython",
    "version": 2
   },
   "file_extension": ".py",
   "mimetype": "text/x-python",
   "name": "python",
   "nbconvert_exporter": "python",
   "pygments_lexer": "ipython2",
   "version": "2.7.6"
  }
 },
 "nbformat": 4,
 "nbformat_minor": 0
}

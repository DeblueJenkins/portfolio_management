{
 "cells": [
  {
   "cell_type": "markdown",
   "source": [
    "\n",
    "\n",
    "### Problem specification\n",
    "\n",
    "\n",
    "\n",
    "Let $y_{i,t} \\sim D(\\mu_{i,t}, \\sigma_{i,t})$ be the return of an asset $i$ at time $t$ and let $w_{i,t}$  be the weight of an asset in a portfolio.  We could describe our portfolio by its MLE estimates of mean and variances, i.e.,\n",
    "\n",
    "$$\n",
    "\\mu_{p,t} = \\sum_{i}^{N}w_{i,t}\\mu_{i,t} = \\mathbf{w}_{t}^{T}\\mathbf{\\mu}_{t} \\\\\n",
    "\\sigma_{p,t} = \\sum_{i}^{N}\\sum_{j}^{N}w_{i,t}w_{j,t}\\sigma_{i,j,t} = \\mathbf{w}_{t}^{T}\\mathbf{\\Sigma}_{t}\\mathbf{w}_{t}\n",
    "$$\n",
    "\n",
    "Assume also that the asset returns are governed by some linear factors $x_{t,j}$ and a random noise term $\\epsilon_{i,t+1}$:\n",
    "\n",
    "$$\n",
    "y_{i,t+1} = \\sum_{j}^{M+1}\\beta_{i,j}y_{t,j} + \\epsilon_{i,t+1}\n",
    "$$\n",
    "\n",
    "Written more compactly:\n",
    "\n",
    "$$\n",
    "\\mathbf{Y} = \\mathbf{X}\\mathbf{\\beta} + \\mathbf{\\Epsilon}\n",
    "$$\n",
    "\n",
    "where,\n",
    "\n",
    "- $\\mathbf{Y}$ is a $(T,N)$ matrix of $T$ monthly returns of $N$ assets\n",
    "- $\\mathbf{X}$ is a $(T,M)$ matrix of $T$ monthly factors of $M$ number of factors\n",
    "- $\\beta$ is a $(M,N)$ matrix of time-invariant parameters explaining the effect of $M$ factors on $N$ assets. We will use interchangebly the terms 'factor loadings' and 'betas'.\n",
    "- $\\mathbf{\\Epsilon}$ is a $(T,N)$ matrix of $T$ monthly error terms of $N$ assets, i.e., $E \\sim N(0,\\Sigma_{\\epsilon})$\n",
    "\n",
    "Using such factor model, we could estimate the mean and the variance as:\n",
    "\n",
    "$$\n",
    "\\mathbb{E}_{t}[\\mathbf{Y}] = \\mathbf{\\mu}_{t} = \\mathbf{X}\\mathbf{\\beta} \\\\\n",
    "\\mathbb{V}_{t}[\\mathbf{Y}] = \\mathbf{\\Sigma}_{t} = \\mathbf{X}\\Sigma_{\\beta}\\mathbf{X}^{T} + \\Sigma_{\\epsilon}\n",
    "$$\n",
    "\n",
    "This is a time-series factor model, i.e., the factor loading are akin to estimating correlations through time (in a univarite setting, $\\hat{\\beta} = \\frac{\\text{Cov}(y_{i,t}, x_{t})}{\\text{Var}(x_{t})}$, while in multivariate the partial effect is adjusted by the interdependency of the predictors).\n",
    "\n",
    "Our goal is to optimize an arbitrary metric that depends on the distributional moment of $\\mathbf{Y}$. This could be anything, but for simplicity, let's start with the Sharpe ratio.\n",
    "\n",
    "$$\n",
    "SR_{t} = \\frac{\\mathbb{E}[\\mathbf{y}_{t+1}|\\mathbf{x}_{t}] - rf_{t}}{\\mathbb{V}[\\mathbf{y_{t+1}|\\mathbf{x_{t}}]}\n",
    "$$\n",
    "\n",
    "\n",
    "### Factors\n",
    "\n",
    "##### Principal Components\n",
    "\n",
    "Firstly, we assume that the common factors are principal components derived from the $\\mathbf{Y}$ matrix. There's a few ways of doing this.\n",
    "\n",
    "- Perform a SVD on the $\\mathbf{Y}$ matrix\n",
    "- Perform a PCA on the empirical covariance matrix, i.e., $\\text{cov}(\\mathbf{Y})$, i.e., $(\\mathbf{Y}-\\bar{\\mathbf{Y}})^{T}(\\mathbf{Y}-\\bar{\\mathbf{Y}})/(T-1)$\n",
    "- Perform a SVD on the $\\mathbf{Y}-\\mathbf{\\bar{Y}}$, which is the equivalent as the one above\n",
    "\n",
    "All three are supported by the library. Note that in the last case, the empirical covariance can be retrieved:\n",
    "\n",
    "$$\n",
    "\\mathbf{\\tilde{Y}} = \\mathbf{Y}-\\mathbf{\\bar{Y}} \\\\\n",
    "\\mathbf{\\tilde{Y}} = \\mathbf{U}\\mathbf{S}\\mathbf{V^{T}} \\\\\n",
    "\\mathbf{L} = \\text{diag}(\\mathbf{S}) | \\mathbf{0} \\\\\n",
    "\\text{cov}(\\mathbf{Y}) = \\mathbf{V^{T}}\\mathbf{L}\\mathbf{V} / (T-1)\n",
    "$$\n",
    "\n",
    "where, $\\mathbf{L}$ is constructed by concatenating the singular values with a zero matrix such that the dimesions match (recall that otherwise $\\mathbf{S}$ is rectangular)\n",
    "\n",
    "#### Stability of factors\n",
    "\n",
    "One of the assumptions\n",
    "\n",
    "#### Testing choices:\n",
    "\n",
    "1. stabilit of factors\n",
    "2. stability of factor loadings\n",
    "3. choice of time-period for PCA (based on what? error term?)\n"
   ],
   "metadata": {
    "collapsed": false
   }
  },
  {
   "cell_type": "code",
   "execution_count": 5,
   "outputs": [],
   "source": [
    "assets = ['CHRW.OQ', 'MCD.N', 'BAX.N', 'AMAT.OQ', 'UPS.N']"
   ],
   "metadata": {
    "collapsed": false,
    "ExecuteTime": {
     "end_time": "2025-01-04T14:13:14.941963400Z",
     "start_time": "2025-01-04T14:13:14.910704600Z"
    }
   }
  },
  {
   "cell_type": "code",
   "execution_count": 14,
   "outputs": [],
   "source": [
    "import os\n",
    "import numpy as np\n",
    "import datetime as dt\n",
    "from examples.example_executor_mvp_v3 import Executor\n",
    "import matplotlib.pyplot as plt\n",
    "import pandas as pd\n",
    "from models.unsupervised.pca import PcaHandler"
   ],
   "metadata": {
    "collapsed": false,
    "ExecuteTime": {
     "end_time": "2025-01-04T14:29:17.157015500Z",
     "start_time": "2025-01-04T14:29:17.078542100Z"
    }
   }
  },
  {
   "cell_type": "code",
   "execution_count": 7,
   "outputs": [],
   "source": [
    "START_DATE = '2005-12-31'\n",
    "\n",
    "PATH_DATA = r'C:\\Users\\serge\\OneDrive\\portfolio_management\\data\\csv'\n",
    "PATH_API_KEYS = r'C:\\Users\\serge\\OneDrive\\reuters\\apikeys.csv'\n",
    "PATH_SAVE_PLOTS = os.path.join(r'results\\figures')\n",
    "PATH_CONFIG = r'C:\\Users\\serge\\IdeaProjects\\portfolio_management\\notebooks\\examples\\config_example.yaml'"
   ],
   "metadata": {
    "collapsed": false,
    "ExecuteTime": {
     "end_time": "2025-01-04T14:13:15.004500900Z",
     "start_time": "2025-01-04T14:13:14.941963400Z"
    }
   }
  },
  {
   "cell_type": "code",
   "execution_count": 24,
   "outputs": [
    {
     "name": "stdout",
     "output_type": "stream",
     "text": [
      "[Errno 2] No such file or directory: 'C:\\\\Users\\\\serge\\\\OneDrive\\\\portfolio_management\\\\data\\\\csv\\\\prices\\\\WM.N.csv'\n",
      "[Errno 2] No such file or directory: 'C:\\\\Users\\\\serge\\\\OneDrive\\\\portfolio_management\\\\data\\\\csv\\\\prices\\\\REG.OQ.csv'\n",
      "[Errno 2] No such file or directory: 'C:\\\\Users\\\\serge\\\\OneDrive\\\\portfolio_management\\\\data\\\\csv\\\\prices\\\\BIO.N.csv'\n",
      "[Errno 2] No such file or directory: 'C:\\\\Users\\\\serge\\\\OneDrive\\\\portfolio_management\\\\data\\\\csv\\\\prices\\\\IVZ.N.csv'\n",
      "[Errno 2] No such file or directory: 'C:\\\\Users\\\\serge\\\\OneDrive\\\\portfolio_management\\\\data\\\\csv\\\\prices\\\\EXPE.OQ.csv'\n",
      "[Errno 2] No such file or directory: 'C:\\\\Users\\\\serge\\\\OneDrive\\\\portfolio_management\\\\data\\\\csv\\\\prices\\\\GEN.OQ.csv'\n",
      "[Errno 2] No such file or directory: 'C:\\\\Users\\\\serge\\\\OneDrive\\\\portfolio_management\\\\data\\\\csv\\\\prices\\\\DAY.N.csv'\n",
      "[Errno 2] No such file or directory: 'C:\\\\Users\\\\serge\\\\OneDrive\\\\portfolio_management\\\\data\\\\csv\\\\prices\\\\GRMN.N.csv'\n",
      "[Errno 2] No such file or directory: 'C:\\\\Users\\\\serge\\\\OneDrive\\\\portfolio_management\\\\data\\\\csv\\\\prices\\\\RL.N.csv'\n",
      "[Errno 2] No such file or directory: 'C:\\\\Users\\\\serge\\\\OneDrive\\\\portfolio_management\\\\data\\\\csv\\\\prices\\\\GNRC.N.csv'\n",
      "[Errno 2] No such file or directory: 'C:\\\\Users\\\\serge\\\\OneDrive\\\\portfolio_management\\\\data\\\\csv\\\\prices\\\\SNA.N.csv'\n",
      "[Errno 2] No such file or directory: 'C:\\\\Users\\\\serge\\\\OneDrive\\\\portfolio_management\\\\data\\\\csv\\\\prices\\\\DPZ.N.csv'\n",
      "[Errno 2] No such file or directory: 'C:\\\\Users\\\\serge\\\\OneDrive\\\\portfolio_management\\\\data\\\\csv\\\\prices\\\\HPQ.N.csv'\n",
      "[Errno 2] No such file or directory: 'C:\\\\Users\\\\serge\\\\OneDrive\\\\portfolio_management\\\\data\\\\csv\\\\prices\\\\TMO.N.csv'\n",
      "[Errno 2] No such file or directory: 'C:\\\\Users\\\\serge\\\\OneDrive\\\\portfolio_management\\\\data\\\\csv\\\\prices\\\\BLK.N.csv'\n",
      "[Errno 2] No such file or directory: 'C:\\\\Users\\\\serge\\\\OneDrive\\\\portfolio_management\\\\data\\\\csv\\\\prices\\\\CMA.N.csv'\n",
      "[Errno 2] No such file or directory: 'C:\\\\Users\\\\serge\\\\OneDrive\\\\portfolio_management\\\\data\\\\csv\\\\prices\\\\PNW.N.csv'\n",
      "[Errno 2] No such file or directory: 'C:\\\\Users\\\\serge\\\\OneDrive\\\\portfolio_management\\\\data\\\\csv\\\\prices\\\\PKG.N.csv'\n",
      "[Errno 2] No such file or directory: 'C:\\\\Users\\\\serge\\\\OneDrive\\\\portfolio_management\\\\data\\\\csv\\\\prices\\\\IT.N.csv'\n",
      "[Errno 2] No such file or directory: 'C:\\\\Users\\\\serge\\\\OneDrive\\\\portfolio_management\\\\data\\\\csv\\\\prices\\\\CF.N.csv'\n",
      "[Errno 2] No such file or directory: 'C:\\\\Users\\\\serge\\\\OneDrive\\\\portfolio_management\\\\data\\\\csv\\\\prices\\\\ILMN.OQ.csv'\n",
      "[Errno 2] No such file or directory: 'C:\\\\Users\\\\serge\\\\OneDrive\\\\portfolio_management\\\\data\\\\csv\\\\prices\\\\RHI.N.csv'\n",
      "[Errno 2] No such file or directory: 'C:\\\\Users\\\\serge\\\\OneDrive\\\\portfolio_management\\\\data\\\\csv\\\\prices\\\\AXP.N.csv'\n",
      "[Errno 2] No such file or directory: 'C:\\\\Users\\\\serge\\\\OneDrive\\\\portfolio_management\\\\data\\\\csv\\\\prices\\\\CLX.N.csv'\n",
      "[Errno 2] No such file or directory: 'C:\\\\Users\\\\serge\\\\OneDrive\\\\portfolio_management\\\\data\\\\csv\\\\prices\\\\DOV.N.csv'\n",
      "[Errno 2] No such file or directory: 'C:\\\\Users\\\\serge\\\\OneDrive\\\\portfolio_management\\\\data\\\\csv\\\\prices\\\\MTB.N.csv'\n",
      "[Errno 2] No such file or directory: 'C:\\\\Users\\\\serge\\\\OneDrive\\\\portfolio_management\\\\data\\\\csv\\\\prices\\\\JKHY.OQ.csv'\n",
      "[Errno 2] No such file or directory: 'C:\\\\Users\\\\serge\\\\OneDrive\\\\portfolio_management\\\\data\\\\csv\\\\prices\\\\O.N.csv'\n",
      "[Errno 2] No such file or directory: 'C:\\\\Users\\\\serge\\\\OneDrive\\\\portfolio_management\\\\data\\\\csv\\\\prices\\\\MLM.N.csv'\n",
      "[Errno 2] No such file or directory: 'C:\\\\Users\\\\serge\\\\OneDrive\\\\portfolio_management\\\\data\\\\csv\\\\prices\\\\RVTY.N.csv'\n",
      "[Errno 2] No such file or directory: 'C:\\\\Users\\\\serge\\\\OneDrive\\\\portfolio_management\\\\data\\\\csv\\\\prices\\\\L.N.csv'\n",
      "[Errno 2] No such file or directory: 'C:\\\\Users\\\\serge\\\\OneDrive\\\\portfolio_management\\\\data\\\\csv\\\\prices\\\\QCOM.OQ.csv'\n",
      "[Errno 2] No such file or directory: 'C:\\\\Users\\\\serge\\\\OneDrive\\\\portfolio_management\\\\data\\\\csv\\\\prices\\\\IPG.N.csv'\n",
      "[Errno 2] No such file or directory: 'C:\\\\Users\\\\serge\\\\OneDrive\\\\portfolio_management\\\\data\\\\csv\\\\prices\\\\ANSS.OQ.csv'\n",
      "[Errno 2] No such file or directory: 'C:\\\\Users\\\\serge\\\\OneDrive\\\\portfolio_management\\\\data\\\\csv\\\\prices\\\\ULTA.OQ.csv'\n",
      "[Errno 2] No such file or directory: 'C:\\\\Users\\\\serge\\\\OneDrive\\\\portfolio_management\\\\data\\\\csv\\\\prices\\\\WMT.N.csv'\n",
      "[Errno 2] No such file or directory: 'C:\\\\Users\\\\serge\\\\OneDrive\\\\portfolio_management\\\\data\\\\csv\\\\prices\\\\PXD.N^E24.csv'\n",
      "[Errno 2] No such file or directory: 'C:\\\\Users\\\\serge\\\\OneDrive\\\\portfolio_management\\\\data\\\\csv\\\\prices\\\\TDG.N.csv'\n",
      "[Errno 2] No such file or directory: 'C:\\\\Users\\\\serge\\\\OneDrive\\\\portfolio_management\\\\data\\\\csv\\\\prices\\\\EQIX.OQ.csv'\n",
      "[Errno 2] No such file or directory: 'C:\\\\Users\\\\serge\\\\OneDrive\\\\portfolio_management\\\\data\\\\csv\\\\prices\\\\UHS.N.csv'\n",
      "[Errno 2] No such file or directory: 'C:\\\\Users\\\\serge\\\\OneDrive\\\\portfolio_management\\\\data\\\\csv\\\\prices\\\\LKQ.OQ.csv'\n",
      "[Errno 2] No such file or directory: 'C:\\\\Users\\\\serge\\\\OneDrive\\\\portfolio_management\\\\data\\\\csv\\\\prices\\\\BG.N.csv'\n",
      "[Errno 2] No such file or directory: 'C:\\\\Users\\\\serge\\\\OneDrive\\\\portfolio_management\\\\data\\\\csv\\\\prices\\\\HES.N.csv'\n",
      "[Errno 2] No such file or directory: 'C:\\\\Users\\\\serge\\\\OneDrive\\\\portfolio_management\\\\data\\\\csv\\\\prices\\\\EOG.N.csv'\n",
      "[Errno 2] No such file or directory: 'C:\\\\Users\\\\serge\\\\OneDrive\\\\portfolio_management\\\\data\\\\csv\\\\prices\\\\MAR.OQ.csv'\n",
      "[Errno 2] No such file or directory: 'C:\\\\Users\\\\serge\\\\OneDrive\\\\portfolio_management\\\\data\\\\csv\\\\prices\\\\TJX.N.csv'\n",
      "[Errno 2] No such file or directory: 'C:\\\\Users\\\\serge\\\\OneDrive\\\\portfolio_management\\\\data\\\\csv\\\\prices\\\\MNST.OQ.csv'\n",
      "[Errno 2] No such file or directory: 'C:\\\\Users\\\\serge\\\\OneDrive\\\\portfolio_management\\\\data\\\\csv\\\\prices\\\\VMC.N.csv'\n",
      "[Errno 2] No such file or directory: 'C:\\\\Users\\\\serge\\\\OneDrive\\\\portfolio_management\\\\data\\\\csv\\\\prices\\\\EW.N.csv'\n",
      "[Errno 2] No such file or directory: 'C:\\\\Users\\\\serge\\\\OneDrive\\\\portfolio_management\\\\data\\\\csv\\\\prices\\\\ALL.N.csv'\n",
      "[Errno 2] No such file or directory: 'C:\\\\Users\\\\serge\\\\OneDrive\\\\portfolio_management\\\\data\\\\csv\\\\prices\\\\BMY.N.csv'\n",
      "[Errno 2] No such file or directory: 'C:\\\\Users\\\\serge\\\\OneDrive\\\\portfolio_management\\\\data\\\\csv\\\\prices\\\\APH.N.csv'\n",
      "[Errno 2] No such file or directory: 'C:\\\\Users\\\\serge\\\\OneDrive\\\\portfolio_management\\\\data\\\\csv\\\\prices\\\\HON.OQ.csv'\n",
      "[Errno 2] No such file or directory: 'C:\\\\Users\\\\serge\\\\OneDrive\\\\portfolio_management\\\\data\\\\csv\\\\prices\\\\GPC.N.csv'\n",
      "[Errno 2] No such file or directory: 'C:\\\\Users\\\\serge\\\\OneDrive\\\\portfolio_management\\\\data\\\\csv\\\\prices\\\\MHK.N.csv'\n",
      "[Errno 2] No such file or directory: 'C:\\\\Users\\\\serge\\\\OneDrive\\\\portfolio_management\\\\data\\\\csv\\\\prices\\\\MCHP.OQ.csv'\n",
      "[Errno 2] No such file or directory: 'C:\\\\Users\\\\serge\\\\OneDrive\\\\portfolio_management\\\\data\\\\csv\\\\prices\\\\CAT.N.csv'\n",
      "[Errno 2] No such file or directory: 'C:\\\\Users\\\\serge\\\\OneDrive\\\\portfolio_management\\\\data\\\\csv\\\\prices\\\\PG.N.csv'\n",
      "[Errno 2] No such file or directory: 'C:\\\\Users\\\\serge\\\\OneDrive\\\\portfolio_management\\\\data\\\\csv\\\\prices\\\\ZTS.N.csv'\n",
      "[Errno 2] No such file or directory: 'C:\\\\Users\\\\serge\\\\OneDrive\\\\portfolio_management\\\\data\\\\csv\\\\prices\\\\STE.N.csv'\n",
      "[Errno 2] No such file or directory: 'C:\\\\Users\\\\serge\\\\OneDrive\\\\portfolio_management\\\\data\\\\csv\\\\prices\\\\BKR.OQ.csv'\n",
      "[Errno 2] No such file or directory: 'C:\\\\Users\\\\serge\\\\OneDrive\\\\portfolio_management\\\\data\\\\csv\\\\prices\\\\AFL.N.csv'\n",
      "[Errno 2] No such file or directory: 'C:\\\\Users\\\\serge\\\\OneDrive\\\\portfolio_management\\\\data\\\\csv\\\\prices\\\\CPB.N.csv'\n",
      "[Errno 2] No such file or directory: 'C:\\\\Users\\\\serge\\\\OneDrive\\\\portfolio_management\\\\data\\\\csv\\\\prices\\\\PTC.OQ.csv'\n",
      "[Errno 2] No such file or directory: 'C:\\\\Users\\\\serge\\\\OneDrive\\\\portfolio_management\\\\data\\\\csv\\\\prices\\\\FITB.OQ.csv'\n",
      "[Errno 2] No such file or directory: 'C:\\\\Users\\\\serge\\\\OneDrive\\\\portfolio_management\\\\data\\\\csv\\\\prices\\\\MSI.N.csv'\n",
      "[Errno 2] No such file or directory: 'C:\\\\Users\\\\serge\\\\OneDrive\\\\portfolio_management\\\\data\\\\csv\\\\prices\\\\XEL.OQ.csv'\n",
      "[Errno 2] No such file or directory: 'C:\\\\Users\\\\serge\\\\OneDrive\\\\portfolio_management\\\\data\\\\csv\\\\prices\\\\HSIC.OQ.csv'\n",
      "[Errno 2] No such file or directory: 'C:\\\\Users\\\\serge\\\\OneDrive\\\\portfolio_management\\\\data\\\\csv\\\\prices\\\\ITW.N.csv'\n",
      "[Errno 2] No such file or directory: 'C:\\\\Users\\\\serge\\\\OneDrive\\\\portfolio_management\\\\data\\\\csv\\\\prices\\\\WST.N.csv'\n",
      "[Errno 2] No such file or directory: 'C:\\\\Users\\\\serge\\\\OneDrive\\\\portfolio_management\\\\data\\\\csv\\\\prices\\\\DFS.N.csv'\n",
      "[Errno 2] No such file or directory: 'C:\\\\Users\\\\serge\\\\OneDrive\\\\portfolio_management\\\\data\\\\csv\\\\prices\\\\APTV.N.csv'\n",
      "[Errno 2] No such file or directory: 'C:\\\\Users\\\\serge\\\\OneDrive\\\\portfolio_management\\\\data\\\\csv\\\\prices\\\\MPC.N.csv'\n",
      "[Errno 2] No such file or directory: 'C:\\\\Users\\\\serge\\\\OneDrive\\\\portfolio_management\\\\data\\\\csv\\\\prices\\\\PGR.N.csv'\n",
      "[Errno 2] No such file or directory: 'C:\\\\Users\\\\serge\\\\OneDrive\\\\portfolio_management\\\\data\\\\csv\\\\prices\\\\ICE.N.csv'\n",
      "[Errno 2] No such file or directory: 'C:\\\\Users\\\\serge\\\\OneDrive\\\\portfolio_management\\\\data\\\\csv\\\\prices\\\\KMB.N.csv'\n",
      "[Errno 2] No such file or directory: 'C:\\\\Users\\\\serge\\\\OneDrive\\\\portfolio_management\\\\data\\\\csv\\\\prices\\\\SWKS.OQ.csv'\n",
      "[Errno 2] No such file or directory: 'C:\\\\Users\\\\serge\\\\OneDrive\\\\portfolio_management\\\\data\\\\csv\\\\prices\\\\ABNB.OQ.csv'\n",
      "[Errno 2] No such file or directory: 'C:\\\\Users\\\\serge\\\\OneDrive\\\\portfolio_management\\\\data\\\\csv\\\\prices\\\\EL.N.csv'\n",
      "[Errno 2] No such file or directory: 'C:\\\\Users\\\\serge\\\\OneDrive\\\\portfolio_management\\\\data\\\\csv\\\\prices\\\\TSLA.OQ.csv'\n",
      "[Errno 2] No such file or directory: 'C:\\\\Users\\\\serge\\\\OneDrive\\\\portfolio_management\\\\data\\\\csv\\\\prices\\\\EXR.N.csv'\n",
      "[Errno 2] No such file or directory: 'C:\\\\Users\\\\serge\\\\OneDrive\\\\portfolio_management\\\\data\\\\csv\\\\prices\\\\SPGI.N.csv'\n",
      "[Errno 2] No such file or directory: 'C:\\\\Users\\\\serge\\\\OneDrive\\\\portfolio_management\\\\data\\\\csv\\\\prices\\\\ADBE.OQ.csv'\n",
      "[Errno 2] No such file or directory: 'C:\\\\Users\\\\serge\\\\OneDrive\\\\portfolio_management\\\\data\\\\csv\\\\prices\\\\ADSK.OQ.csv'\n",
      "[Errno 2] No such file or directory: 'C:\\\\Users\\\\serge\\\\OneDrive\\\\portfolio_management\\\\data\\\\csv\\\\prices\\\\WRK.N.csv'\n",
      "[Errno 2] No such file or directory: 'C:\\\\Users\\\\serge\\\\OneDrive\\\\portfolio_management\\\\data\\\\csv\\\\prices\\\\FOXA.OQ.csv'\n",
      "[Errno 2] No such file or directory: 'C:\\\\Users\\\\serge\\\\OneDrive\\\\portfolio_management\\\\data\\\\csv\\\\prices\\\\TT.N.csv'\n",
      "[Errno 2] No such file or directory: 'C:\\\\Users\\\\serge\\\\OneDrive\\\\portfolio_management\\\\data\\\\csv\\\\prices\\\\TSN.N.csv'\n",
      "[Errno 2] No such file or directory: 'C:\\\\Users\\\\serge\\\\OneDrive\\\\portfolio_management\\\\data\\\\csv\\\\prices\\\\AKAM.OQ.csv'\n",
      "[Errno 2] No such file or directory: 'C:\\\\Users\\\\serge\\\\OneDrive\\\\portfolio_management\\\\data\\\\csv\\\\prices\\\\LUV.N.csv'\n",
      "[Errno 2] No such file or directory: 'C:\\\\Users\\\\serge\\\\OneDrive\\\\portfolio_management\\\\data\\\\csv\\\\prices\\\\INVH.N.csv'\n",
      "[Errno 2] No such file or directory: 'C:\\\\Users\\\\serge\\\\OneDrive\\\\portfolio_management\\\\data\\\\csv\\\\prices\\\\TSCO.OQ.csv'\n",
      "[Errno 2] No such file or directory: 'C:\\\\Users\\\\serge\\\\OneDrive\\\\portfolio_management\\\\data\\\\csv\\\\prices\\\\AON.N.csv'\n",
      "[Errno 2] No such file or directory: 'C:\\\\Users\\\\serge\\\\OneDrive\\\\portfolio_management\\\\data\\\\csv\\\\prices\\\\AMZN.OQ.csv'\n",
      "[Errno 2] No such file or directory: 'C:\\\\Users\\\\serge\\\\OneDrive\\\\portfolio_management\\\\data\\\\csv\\\\prices\\\\MS.N.csv'\n",
      "[Errno 2] No such file or directory: 'C:\\\\Users\\\\serge\\\\OneDrive\\\\portfolio_management\\\\data\\\\csv\\\\prices\\\\BRKb.N.csv'\n",
      "[Errno 2] No such file or directory: 'C:\\\\Users\\\\serge\\\\OneDrive\\\\portfolio_management\\\\data\\\\csv\\\\prices\\\\GOOG.OQ.csv'\n",
      "[Errno 2] No such file or directory: 'C:\\\\Users\\\\serge\\\\OneDrive\\\\portfolio_management\\\\data\\\\csv\\\\prices\\\\KR.N.csv'\n",
      "[Errno 2] No such file or directory: 'C:\\\\Users\\\\serge\\\\OneDrive\\\\portfolio_management\\\\data\\\\csv\\\\prices\\\\BKNG.OQ.csv'\n",
      "[Errno 2] No such file or directory: 'C:\\\\Users\\\\serge\\\\OneDrive\\\\portfolio_management\\\\data\\\\csv\\\\prices\\\\STZ.N.csv'\n",
      "[Errno 2] No such file or directory: 'C:\\\\Users\\\\serge\\\\OneDrive\\\\portfolio_management\\\\data\\\\csv\\\\prices\\\\WBD.OQ.csv'\n",
      "[Errno 2] No such file or directory: 'C:\\\\Users\\\\serge\\\\OneDrive\\\\portfolio_management\\\\data\\\\csv\\\\prices\\\\ABBV.N.csv'\n",
      "[Errno 2] No such file or directory: 'C:\\\\Users\\\\serge\\\\OneDrive\\\\portfolio_management\\\\data\\\\csv\\\\prices\\\\STLD.OQ.csv'\n",
      "[Errno 2] No such file or directory: 'C:\\\\Users\\\\serge\\\\OneDrive\\\\portfolio_management\\\\data\\\\csv\\\\prices\\\\MA.N.csv'\n",
      "[Errno 2] No such file or directory: 'C:\\\\Users\\\\serge\\\\OneDrive\\\\portfolio_management\\\\data\\\\csv\\\\prices\\\\XOM.N.csv'\n",
      "[Errno 2] No such file or directory: 'C:\\\\Users\\\\serge\\\\OneDrive\\\\portfolio_management\\\\data\\\\csv\\\\prices\\\\SWK.N.csv'\n",
      "[Errno 2] No such file or directory: 'C:\\\\Users\\\\serge\\\\OneDrive\\\\portfolio_management\\\\data\\\\csv\\\\prices\\\\FICO.N.csv'\n",
      "[Errno 2] No such file or directory: 'C:\\\\Users\\\\serge\\\\OneDrive\\\\portfolio_management\\\\data\\\\csv\\\\prices\\\\HRL.N.csv'\n",
      "[Errno 2] No such file or directory: 'C:\\\\Users\\\\serge\\\\OneDrive\\\\portfolio_management\\\\data\\\\csv\\\\prices\\\\INTC.OQ.csv'\n",
      "[Errno 2] No such file or directory: 'C:\\\\Users\\\\serge\\\\OneDrive\\\\portfolio_management\\\\data\\\\csv\\\\prices\\\\TRMB.OQ.csv'\n",
      "[Errno 2] No such file or directory: 'C:\\\\Users\\\\serge\\\\OneDrive\\\\portfolio_management\\\\data\\\\csv\\\\prices\\\\WBA.OQ.csv'\n",
      "[Errno 2] No such file or directory: 'C:\\\\Users\\\\serge\\\\OneDrive\\\\portfolio_management\\\\data\\\\csv\\\\prices\\\\OMC.N.csv'\n",
      "[Errno 2] No such file or directory: 'C:\\\\Users\\\\serge\\\\OneDrive\\\\portfolio_management\\\\data\\\\csv\\\\prices\\\\GLW.N.csv'\n",
      "[Errno 2] No such file or directory: 'C:\\\\Users\\\\serge\\\\OneDrive\\\\portfolio_management\\\\data\\\\csv\\\\prices\\\\CRM.N.csv'\n",
      "[Errno 2] No such file or directory: 'C:\\\\Users\\\\serge\\\\OneDrive\\\\portfolio_management\\\\data\\\\csv\\\\prices\\\\SBUX.OQ.csv'\n",
      "[Errno 2] No such file or directory: 'C:\\\\Users\\\\serge\\\\OneDrive\\\\portfolio_management\\\\data\\\\csv\\\\prices\\\\ATO.N.csv'\n",
      "[Errno 2] No such file or directory: 'C:\\\\Users\\\\serge\\\\OneDrive\\\\portfolio_management\\\\data\\\\csv\\\\prices\\\\ETR.N.csv'\n",
      "[Errno 2] No such file or directory: 'C:\\\\Users\\\\serge\\\\OneDrive\\\\portfolio_management\\\\data\\\\csv\\\\prices\\\\HAL.N.csv'\n",
      "[Errno 2] No such file or directory: 'C:\\\\Users\\\\serge\\\\OneDrive\\\\portfolio_management\\\\data\\\\csv\\\\prices\\\\TFC.N.csv'\n",
      "[Errno 2] No such file or directory: 'C:\\\\Users\\\\serge\\\\OneDrive\\\\portfolio_management\\\\data\\\\csv\\\\prices\\\\TAP.N.csv'\n",
      "[Errno 2] No such file or directory: 'C:\\\\Users\\\\serge\\\\OneDrive\\\\portfolio_management\\\\data\\\\csv\\\\prices\\\\ABT.N.csv'\n",
      "[Errno 2] No such file or directory: 'C:\\\\Users\\\\serge\\\\OneDrive\\\\portfolio_management\\\\data\\\\csv\\\\prices\\\\V.N.csv'\n",
      "[Errno 2] No such file or directory: 'C:\\\\Users\\\\serge\\\\OneDrive\\\\portfolio_management\\\\data\\\\csv\\\\prices\\\\YUM.N.csv'\n",
      "[Errno 2] No such file or directory: 'C:\\\\Users\\\\serge\\\\OneDrive\\\\portfolio_management\\\\data\\\\csv\\\\prices\\\\LYV.N.csv'\n",
      "[Errno 2] No such file or directory: 'C:\\\\Users\\\\serge\\\\OneDrive\\\\portfolio_management\\\\data\\\\csv\\\\prices\\\\JNPR.N.csv'\n",
      "[Errno 2] No such file or directory: 'C:\\\\Users\\\\serge\\\\OneDrive\\\\portfolio_management\\\\data\\\\csv\\\\prices\\\\EG.N.csv'\n",
      "[Errno 2] No such file or directory: 'C:\\\\Users\\\\serge\\\\OneDrive\\\\portfolio_management\\\\data\\\\csv\\\\prices\\\\FTNT.OQ.csv'\n",
      "[Errno 2] No such file or directory: 'C:\\\\Users\\\\serge\\\\OneDrive\\\\portfolio_management\\\\data\\\\csv\\\\prices\\\\DTE.N.csv'\n",
      "[Errno 2] No such file or directory: 'C:\\\\Users\\\\serge\\\\OneDrive\\\\portfolio_management\\\\data\\\\csv\\\\prices\\\\HST.OQ.csv'\n",
      "[Errno 2] No such file or directory: 'C:\\\\Users\\\\serge\\\\OneDrive\\\\portfolio_management\\\\data\\\\csv\\\\prices\\\\IRM.N.csv'\n",
      "[Errno 2] No such file or directory: 'C:\\\\Users\\\\serge\\\\OneDrive\\\\portfolio_management\\\\data\\\\csv\\\\prices\\\\DOC.N.csv'\n",
      "[Errno 2] No such file or directory: 'C:\\\\Users\\\\serge\\\\OneDrive\\\\portfolio_management\\\\data\\\\csv\\\\prices\\\\FIS.N.csv'\n",
      "[Errno 2] No such file or directory: 'C:\\\\Users\\\\serge\\\\OneDrive\\\\portfolio_management\\\\data\\\\csv\\\\prices\\\\DAL.N.csv'\n",
      "[Errno 2] No such file or directory: 'C:\\\\Users\\\\serge\\\\OneDrive\\\\portfolio_management\\\\data\\\\csv\\\\prices\\\\ROK.N.csv'\n",
      "[Errno 2] No such file or directory: 'C:\\\\Users\\\\serge\\\\OneDrive\\\\portfolio_management\\\\data\\\\csv\\\\prices\\\\DOW.N.csv'\n",
      "[Errno 2] No such file or directory: 'C:\\\\Users\\\\serge\\\\OneDrive\\\\portfolio_management\\\\data\\\\csv\\\\prices\\\\PPL.N.csv'\n",
      "[Errno 2] No such file or directory: 'C:\\\\Users\\\\serge\\\\OneDrive\\\\portfolio_management\\\\data\\\\csv\\\\prices\\\\NTRS.OQ.csv'\n",
      "[Errno 2] No such file or directory: 'C:\\\\Users\\\\serge\\\\OneDrive\\\\portfolio_management\\\\data\\\\csv\\\\prices\\\\ETN.N.csv'\n",
      "[Errno 2] No such file or directory: 'C:\\\\Users\\\\serge\\\\OneDrive\\\\portfolio_management\\\\data\\\\csv\\\\prices\\\\CVX.N.csv'\n",
      "[Errno 2] No such file or directory: 'C:\\\\Users\\\\serge\\\\OneDrive\\\\portfolio_management\\\\data\\\\csv\\\\prices\\\\CI.N.csv'\n",
      "[Errno 2] No such file or directory: 'C:\\\\Users\\\\serge\\\\OneDrive\\\\portfolio_management\\\\data\\\\csv\\\\prices\\\\ACN.N.csv'\n",
      "[Errno 2] No such file or directory: 'C:\\\\Users\\\\serge\\\\OneDrive\\\\portfolio_management\\\\data\\\\csv\\\\prices\\\\PANW.OQ.csv'\n",
      "[Errno 2] No such file or directory: 'C:\\\\Users\\\\serge\\\\OneDrive\\\\portfolio_management\\\\data\\\\csv\\\\prices\\\\XYL.N.csv'\n",
      "[Errno 2] No such file or directory: 'C:\\\\Users\\\\serge\\\\OneDrive\\\\portfolio_management\\\\data\\\\csv\\\\prices\\\\HAS.OQ.csv'\n",
      "[Errno 2] No such file or directory: 'C:\\\\Users\\\\serge\\\\OneDrive\\\\portfolio_management\\\\data\\\\csv\\\\prices\\\\ENPH.OQ.csv'\n",
      "[Errno 2] No such file or directory: 'C:\\\\Users\\\\serge\\\\OneDrive\\\\portfolio_management\\\\data\\\\csv\\\\prices\\\\SO.N.csv'\n",
      "[Errno 2] No such file or directory: 'C:\\\\Users\\\\serge\\\\OneDrive\\\\portfolio_management\\\\data\\\\csv\\\\prices\\\\CTLT.N.csv'\n",
      "[Errno 2] No such file or directory: 'C:\\\\Users\\\\serge\\\\OneDrive\\\\portfolio_management\\\\data\\\\csv\\\\prices\\\\EQT.N.csv'\n",
      "[Errno 2] No such file or directory: 'C:\\\\Users\\\\serge\\\\OneDrive\\\\portfolio_management\\\\data\\\\csv\\\\prices\\\\NRG.N.csv'\n",
      "[Errno 2] No such file or directory: 'C:\\\\Users\\\\serge\\\\OneDrive\\\\portfolio_management\\\\data\\\\csv\\\\prices\\\\MKTX.OQ.csv'\n",
      "[Errno 2] No such file or directory: 'C:\\\\Users\\\\serge\\\\OneDrive\\\\portfolio_management\\\\data\\\\csv\\\\prices\\\\LMT.N.csv'\n",
      "[Errno 2] No such file or directory: 'C:\\\\Users\\\\serge\\\\OneDrive\\\\portfolio_management\\\\data\\\\csv\\\\prices\\\\DLR.N.csv'\n",
      "[Errno 2] No such file or directory: 'C:\\\\Users\\\\serge\\\\OneDrive\\\\portfolio_management\\\\data\\\\csv\\\\prices\\\\PSX.N.csv'\n",
      "[Errno 2] No such file or directory: 'C:\\\\Users\\\\serge\\\\OneDrive\\\\portfolio_management\\\\data\\\\csv\\\\prices\\\\SCHW.N.csv'\n",
      "[Errno 2] No such file or directory: 'C:\\\\Users\\\\serge\\\\OneDrive\\\\portfolio_management\\\\data\\\\csv\\\\prices\\\\SNPS.OQ.csv'\n",
      "[Errno 2] No such file or directory: 'C:\\\\Users\\\\serge\\\\OneDrive\\\\portfolio_management\\\\data\\\\csv\\\\prices\\\\J.N.csv'\n",
      "[Errno 2] No such file or directory: 'C:\\\\Users\\\\serge\\\\OneDrive\\\\portfolio_management\\\\data\\\\csv\\\\prices\\\\AVY.N.csv'\n",
      "[Errno 2] No such file or directory: 'C:\\\\Users\\\\serge\\\\OneDrive\\\\portfolio_management\\\\data\\\\csv\\\\prices\\\\TTD.OQ.csv'\n",
      "[Errno 2] No such file or directory: 'C:\\\\Users\\\\serge\\\\OneDrive\\\\portfolio_management\\\\data\\\\csv\\\\prices\\\\MDB.OQ.csv'\n",
      "[Errno 2] No such file or directory: 'C:\\\\Users\\\\serge\\\\OneDrive\\\\portfolio_management\\\\data\\\\csv\\\\prices\\\\HON.OQ.csv'\n",
      "[Errno 2] No such file or directory: 'C:\\\\Users\\\\serge\\\\OneDrive\\\\portfolio_management\\\\data\\\\csv\\\\prices\\\\AZN.OQ.csv'\n",
      "[Errno 2] No such file or directory: 'C:\\\\Users\\\\serge\\\\OneDrive\\\\portfolio_management\\\\data\\\\csv\\\\prices\\\\DASH.OQ.csv'\n",
      "[Errno 2] No such file or directory: 'C:\\\\Users\\\\serge\\\\OneDrive\\\\portfolio_management\\\\data\\\\csv\\\\prices\\\\FTNT.OQ.csv'\n",
      "[Errno 2] No such file or directory: 'C:\\\\Users\\\\serge\\\\OneDrive\\\\portfolio_management\\\\data\\\\csv\\\\prices\\\\QCOM.OQ.csv'\n",
      "[Errno 2] No such file or directory: 'C:\\\\Users\\\\serge\\\\OneDrive\\\\portfolio_management\\\\data\\\\csv\\\\prices\\\\WBD.OQ.csv'\n",
      "[Errno 2] No such file or directory: 'C:\\\\Users\\\\serge\\\\OneDrive\\\\portfolio_management\\\\data\\\\csv\\\\prices\\\\TEAM.OQ.csv'\n",
      "[Errno 2] No such file or directory: 'C:\\\\Users\\\\serge\\\\OneDrive\\\\portfolio_management\\\\data\\\\csv\\\\prices\\\\ADBE.OQ.csv'\n",
      "[Errno 2] No such file or directory: 'C:\\\\Users\\\\serge\\\\OneDrive\\\\portfolio_management\\\\data\\\\csv\\\\prices\\\\XEL.OQ.csv'\n",
      "[Errno 2] No such file or directory: 'C:\\\\Users\\\\serge\\\\OneDrive\\\\portfolio_management\\\\data\\\\csv\\\\prices\\\\WDAY.OQ.csv'\n",
      "[Errno 2] No such file or directory: 'C:\\\\Users\\\\serge\\\\OneDrive\\\\portfolio_management\\\\data\\\\csv\\\\prices\\\\MCHP.OQ.csv'\n",
      "[Errno 2] No such file or directory: 'C:\\\\Users\\\\serge\\\\OneDrive\\\\portfolio_management\\\\data\\\\csv\\\\prices\\\\MAR.OQ.csv'\n",
      "[Errno 2] No such file or directory: 'C:\\\\Users\\\\serge\\\\OneDrive\\\\portfolio_management\\\\data\\\\csv\\\\prices\\\\SNPS.OQ.csv'\n",
      "[Errno 2] No such file or directory: 'C:\\\\Users\\\\serge\\\\OneDrive\\\\portfolio_management\\\\data\\\\csv\\\\prices\\\\ADSK.OQ.csv'\n",
      "[Errno 2] No such file or directory: 'C:\\\\Users\\\\serge\\\\OneDrive\\\\portfolio_management\\\\data\\\\csv\\\\prices\\\\CCEP.OQ.csv'\n",
      "[Errno 2] No such file or directory: 'C:\\\\Users\\\\serge\\\\OneDrive\\\\portfolio_management\\\\data\\\\csv\\\\prices\\\\SBUX.OQ.csv'\n",
      "[Errno 2] No such file or directory: 'C:\\\\Users\\\\serge\\\\OneDrive\\\\portfolio_management\\\\data\\\\csv\\\\prices\\\\INTC.OQ.csv'\n",
      "[Errno 2] No such file or directory: 'C:\\\\Users\\\\serge\\\\OneDrive\\\\portfolio_management\\\\data\\\\csv\\\\prices\\\\MRVL.OQ.csv'\n",
      "[Errno 2] No such file or directory: 'C:\\\\Users\\\\serge\\\\OneDrive\\\\portfolio_management\\\\data\\\\csv\\\\prices\\\\ANSS.OQ.csv'\n",
      "[Errno 2] No such file or directory: 'C:\\\\Users\\\\serge\\\\OneDrive\\\\portfolio_management\\\\data\\\\csv\\\\prices\\\\PDD.OQ.csv'\n",
      "[Errno 2] No such file or directory: 'C:\\\\Users\\\\serge\\\\OneDrive\\\\portfolio_management\\\\data\\\\csv\\\\prices\\\\BKNG.OQ.csv'\n",
      "[Errno 2] No such file or directory: 'C:\\\\Users\\\\serge\\\\OneDrive\\\\portfolio_management\\\\data\\\\csv\\\\prices\\\\ILMN.OQ.csv'\n",
      "[Errno 2] No such file or directory: 'C:\\\\Users\\\\serge\\\\OneDrive\\\\portfolio_management\\\\data\\\\csv\\\\prices\\\\GOOG.OQ.csv'\n",
      "[Errno 2] No such file or directory: 'C:\\\\Users\\\\serge\\\\OneDrive\\\\portfolio_management\\\\data\\\\csv\\\\prices\\\\MELI.OQ.csv'\n",
      "[Errno 2] No such file or directory: 'C:\\\\Users\\\\serge\\\\OneDrive\\\\portfolio_management\\\\data\\\\csv\\\\prices\\\\GFS.OQ.csv'\n",
      "[Errno 2] No such file or directory: 'C:\\\\Users\\\\serge\\\\OneDrive\\\\portfolio_management\\\\data\\\\csv\\\\prices\\\\CRWD.OQ.csv'\n",
      "[Errno 2] No such file or directory: 'C:\\\\Users\\\\serge\\\\OneDrive\\\\portfolio_management\\\\data\\\\csv\\\\prices\\\\WBA.OQ.csv'\n",
      "[Errno 2] No such file or directory: 'C:\\\\Users\\\\serge\\\\OneDrive\\\\portfolio_management\\\\data\\\\csv\\\\prices\\\\DDOG.OQ.csv'\n",
      "[Errno 2] No such file or directory: 'C:\\\\Users\\\\serge\\\\OneDrive\\\\portfolio_management\\\\data\\\\csv\\\\prices\\\\ZS.OQ.csv'\n",
      "[Errno 2] No such file or directory: 'C:\\\\Users\\\\serge\\\\OneDrive\\\\portfolio_management\\\\data\\\\csv\\\\prices\\\\SIRI.OQ.csv'\n",
      "[Errno 2] No such file or directory: 'C:\\\\Users\\\\serge\\\\OneDrive\\\\portfolio_management\\\\data\\\\csv\\\\prices\\\\ASML.OQ.csv'\n",
      "[Errno 2] No such file or directory: 'C:\\\\Users\\\\serge\\\\OneDrive\\\\portfolio_management\\\\data\\\\csv\\\\prices\\\\TSLA.OQ.csv'\n",
      "[Errno 2] No such file or directory: 'C:\\\\Users\\\\serge\\\\OneDrive\\\\portfolio_management\\\\data\\\\csv\\\\prices\\\\PANW.OQ.csv'\n",
      "[Errno 2] No such file or directory: 'C:\\\\Users\\\\serge\\\\OneDrive\\\\portfolio_management\\\\data\\\\csv\\\\prices\\\\ABNB.OQ.csv'\n",
      "[Errno 2] No such file or directory: 'C:\\\\Users\\\\serge\\\\OneDrive\\\\portfolio_management\\\\data\\\\csv\\\\prices\\\\BKR.OQ.csv'\n",
      "[Errno 2] No such file or directory: 'C:\\\\Users\\\\serge\\\\OneDrive\\\\portfolio_management\\\\data\\\\csv\\\\prices\\\\MNST.OQ.csv'\n",
      "[Errno 2] No such file or directory: 'C:\\\\Users\\\\serge\\\\OneDrive\\\\portfolio_management\\\\data\\\\csv\\\\prices\\\\AMZN.OQ.csv'\n",
      "[Errno 2] No such file or directory: 'C:\\\\Users\\\\serge\\\\OneDrive\\\\portfolio_management\\\\data\\\\csv\\\\prices\\\\INTC.OQ.csv'\n",
      "[Errno 2] No such file or directory: 'C:\\\\Users\\\\serge\\\\OneDrive\\\\portfolio_management\\\\data\\\\csv\\\\prices\\\\DOW.N.csv'\n",
      "[Errno 2] No such file or directory: 'C:\\\\Users\\\\serge\\\\OneDrive\\\\portfolio_management\\\\data\\\\csv\\\\prices\\\\CVX.N.csv'\n",
      "[Errno 2] No such file or directory: 'C:\\\\Users\\\\serge\\\\OneDrive\\\\portfolio_management\\\\data\\\\csv\\\\prices\\\\AXP.N.csv'\n",
      "[Errno 2] No such file or directory: 'C:\\\\Users\\\\serge\\\\OneDrive\\\\portfolio_management\\\\data\\\\csv\\\\prices\\\\AMZN.OQ.csv'\n",
      "[Errno 2] No such file or directory: 'C:\\\\Users\\\\serge\\\\OneDrive\\\\portfolio_management\\\\data\\\\csv\\\\prices\\\\HON.OQ.csv'\n",
      "[Errno 2] No such file or directory: 'C:\\\\Users\\\\serge\\\\OneDrive\\\\portfolio_management\\\\data\\\\csv\\\\prices\\\\CRM.N.csv'\n",
      "[Errno 2] No such file or directory: 'C:\\\\Users\\\\serge\\\\OneDrive\\\\portfolio_management\\\\data\\\\csv\\\\prices\\\\PG.N.csv'\n",
      "[Errno 2] No such file or directory: 'C:\\\\Users\\\\serge\\\\OneDrive\\\\portfolio_management\\\\data\\\\csv\\\\prices\\\\WMT.N.csv'\n",
      "[Errno 2] No such file or directory: 'C:\\\\Users\\\\serge\\\\OneDrive\\\\portfolio_management\\\\data\\\\csv\\\\prices\\\\CAT.N.csv'\n",
      "[Errno 2] No such file or directory: 'C:\\\\Users\\\\serge\\\\OneDrive\\\\portfolio_management\\\\data\\\\csv\\\\prices\\\\V.N.csv'\n",
      "[Errno 2] No such file or directory: 'C:\\\\Users\\\\serge\\\\OneDrive\\\\portfolio_management\\\\data\\\\csv\\\\prices\\\\DOV.N.csv'\n",
      "[Errno 2] No such file or directory: 'C:\\\\Users\\\\serge\\\\OneDrive\\\\portfolio_management\\\\data\\\\csv\\\\prices\\\\VFC.N.csv'\n",
      "[Errno 2] No such file or directory: 'C:\\\\Users\\\\serge\\\\OneDrive\\\\portfolio_management\\\\data\\\\csv\\\\prices\\\\PGR.N.csv'\n",
      "[Errno 2] No such file or directory: 'C:\\\\Users\\\\serge\\\\OneDrive\\\\portfolio_management\\\\data\\\\csv\\\\prices\\\\CMA.N.csv'\n",
      "[Errno 2] No such file or directory: 'C:\\\\Users\\\\serge\\\\OneDrive\\\\portfolio_management\\\\data\\\\csv\\\\prices\\\\MS.N.csv'\n",
      "[Errno 2] No such file or directory: 'C:\\\\Users\\\\serge\\\\OneDrive\\\\portfolio_management\\\\data\\\\csv\\\\prices\\\\ITW.N.csv'\n",
      "[Errno 2] No such file or directory: 'C:\\\\Users\\\\serge\\\\OneDrive\\\\portfolio_management\\\\data\\\\csv\\\\prices\\\\FICO.N.csv'\n",
      "[Errno 2] No such file or directory: 'C:\\\\Users\\\\serge\\\\OneDrive\\\\portfolio_management\\\\data\\\\csv\\\\prices\\\\XRAY.OQ.csv'\n",
      "[Errno 2] No such file or directory: 'C:\\\\Users\\\\serge\\\\OneDrive\\\\portfolio_management\\\\data\\\\csv\\\\prices\\\\CPB.N.csv'\n",
      "[Errno 2] No such file or directory: 'C:\\\\Users\\\\serge\\\\OneDrive\\\\portfolio_management\\\\data\\\\csv\\\\prices\\\\TJX.N.csv'\n",
      "[Errno 2] No such file or directory: 'C:\\\\Users\\\\serge\\\\OneDrive\\\\portfolio_management\\\\data\\\\csv\\\\prices\\\\MTB.N.csv'\n",
      "[Errno 2] No such file or directory: 'C:\\\\Users\\\\serge\\\\OneDrive\\\\portfolio_management\\\\data\\\\csv\\\\prices\\\\BLK.N.csv'\n",
      "[Errno 2] No such file or directory: 'C:\\\\Users\\\\serge\\\\OneDrive\\\\portfolio_management\\\\data\\\\csv\\\\prices\\\\NTRS.OQ.csv'\n",
      "[Errno 2] No such file or directory: 'C:\\\\Users\\\\serge\\\\OneDrive\\\\portfolio_management\\\\data\\\\csv\\\\prices\\\\ETN.N.csv'\n",
      "[Errno 2] No such file or directory: 'C:\\\\Users\\\\serge\\\\OneDrive\\\\portfolio_management\\\\data\\\\csv\\\\prices\\\\CLX.N.csv'\n",
      "[Errno 2] No such file or directory: 'C:\\\\Users\\\\serge\\\\OneDrive\\\\portfolio_management\\\\data\\\\csv\\\\prices\\\\MSI.N.csv'\n",
      "[Errno 2] No such file or directory: 'C:\\\\Users\\\\serge\\\\OneDrive\\\\portfolio_management\\\\data\\\\csv\\\\prices\\\\CI.N.csv'\n",
      "[Errno 2] No such file or directory: 'C:\\\\Users\\\\serge\\\\OneDrive\\\\portfolio_management\\\\data\\\\csv\\\\prices\\\\JKHY.OQ.csv'\n",
      "[Errno 2] No such file or directory: 'C:\\\\Users\\\\serge\\\\OneDrive\\\\portfolio_management\\\\data\\\\csv\\\\prices\\\\AON.N.csv'\n",
      "[Errno 2] No such file or directory: 'C:\\\\Users\\\\serge\\\\OneDrive\\\\portfolio_management\\\\data\\\\csv\\\\prices\\\\SNA.N.csv'\n",
      "[Errno 2] No such file or directory: 'C:\\\\Users\\\\serge\\\\OneDrive\\\\portfolio_management\\\\data\\\\csv\\\\prices\\\\ADSK.OQ.csv'\n",
      "[Errno 2] No such file or directory: 'C:\\\\Users\\\\serge\\\\OneDrive\\\\portfolio_management\\\\data\\\\csv\\\\prices\\\\PTC.OQ.csv'\n",
      "[Errno 2] No such file or directory: 'C:\\\\Users\\\\serge\\\\OneDrive\\\\portfolio_management\\\\data\\\\csv\\\\prices\\\\WMT.N.csv'\n",
      "[Errno 2] No such file or directory: 'C:\\\\Users\\\\serge\\\\OneDrive\\\\portfolio_management\\\\data\\\\csv\\\\prices\\\\ABT.N.csv'\n",
      "[Errno 2] No such file or directory: 'C:\\\\Users\\\\serge\\\\OneDrive\\\\portfolio_management\\\\data\\\\csv\\\\prices\\\\HSIC.OQ.csv'\n",
      "[Errno 2] No such file or directory: 'C:\\\\Users\\\\serge\\\\OneDrive\\\\portfolio_management\\\\data\\\\csv\\\\prices\\\\RE.N.csv'\n",
      "1.6488462677018655e-13\n"
     ]
    }
   ],
   "source": [
    "END_DATE = '2024-04-21'\n",
    "executor = Executor(START_DATE, END_DATE, PATH_DATA, PATH_API_KEYS, PATH_CONFIG)\n",
    "\n",
    "executor._load_data()\n",
    "executor._preprocess()"
   ],
   "metadata": {
    "collapsed": false
   }
  },
  {
   "cell_type": "code",
   "execution_count": 21,
   "outputs": [
    {
     "data": {
      "text/plain": "(324, 276)"
     },
     "execution_count": 21,
     "metadata": {},
     "output_type": "execute_result"
    }
   ],
   "source": [
    "Y = executor.returns\n",
    "Y.shape"
   ],
   "metadata": {
    "collapsed": false,
    "ExecuteTime": {
     "end_time": "2025-01-04T14:30:00.349029Z",
     "start_time": "2025-01-04T14:30:00.286330500Z"
    }
   }
  },
  {
   "cell_type": "code",
   "execution_count": null,
   "outputs": [],
   "source": [],
   "metadata": {
    "collapsed": false
   }
  },
  {
   "cell_type": "code",
   "execution_count": 22,
   "outputs": [],
   "source": [
    "pca = PcaHandler(Y, demean=True, method='svd')\n",
    "X = pca.components(n=10)"
   ],
   "metadata": {
    "collapsed": false,
    "ExecuteTime": {
     "end_time": "2025-01-04T14:30:06.717328700Z",
     "start_time": "2025-01-04T14:30:05.745548Z"
    }
   }
  },
  {
   "cell_type": "code",
   "execution_count": 23,
   "outputs": [
    {
     "data": {
      "text/plain": "(324, 10)"
     },
     "execution_count": 23,
     "metadata": {},
     "output_type": "execute_result"
    }
   ],
   "source": [
    "pc.shape"
   ],
   "metadata": {
    "collapsed": false,
    "ExecuteTime": {
     "end_time": "2025-01-04T14:30:07.358561700Z",
     "start_time": "2025-01-04T14:30:07.327300200Z"
    }
   }
  },
  {
   "cell_type": "markdown",
   "source": [
    "We are perWe will experiment with a two choices:\n",
    "\n",
    "1. Perform PCA on the matrix $\\mathbf{Y} = [\\mathbf{y}_{t}, \\mathbf{y}_{t+1}, ... \\mathbf{y}_{t+n}]$ using a moving window which shift $t$ by 1 at each iteration\n",
    "2. Perform PCA on the matrix"
   ],
   "metadata": {
    "collapsed": false
   }
  },
  {
   "cell_type": "code",
   "execution_count": null,
   "outputs": [],
   "source": [],
   "metadata": {
    "collapsed": false
   }
  },
  {
   "cell_type": "code",
   "execution_count": null,
   "outputs": [],
   "source": [],
   "metadata": {
    "collapsed": false
   }
  },
  {
   "cell_type": "code",
   "execution_count": 25,
   "outputs": [],
   "source": [
    "betas = {}\n",
    "\n",
    "while END_DATE < '2024-04-21':\n",
    "\n",
    "    print(END_DATE)\n",
    "\n",
    "    executor = Executor(START_DATE, END_DATE, PATH_DATA, PATH_API_KEYS, PATH_CONFIG)\n",
    "\n",
    "    executor._load_data()\n",
    "    executor._preprocess()\n",
    "    executor._fit_factor_model()\n",
    "\n",
    "    idx = np.isin(executor.linear_model.assets_estimated, assets)\n",
    "    idx = np.where(idx == True)[0]\n",
    "\n",
    "    _betas = executor.linear_model.factor_loadings[:,idx]\n",
    "\n",
    "    betas[END_DATE] = _betas\n",
    "\n",
    "    h = executor.portfolio.horizon\n",
    "    END_DATE = str((dt.datetime.strptime(END_DATE, '%Y-%m-%d') + dt.timedelta(days=h)).date())\n"
   ],
   "metadata": {
    "collapsed": false
   }
  },
  {
   "cell_type": "code",
   "execution_count": null,
   "outputs": [],
   "source": [
    "res = {}\n",
    "\n",
    "for a in range(len(assets)):\n",
    "    times = list(betas.keys())\n",
    "    _table = pd.DataFrame(\\\n",
    "        data=np.array([betas[i][:,a] for i in times]),\\\n",
    "        columns=['intercept', 'pc1', 'pc2', 'pc3']\\\n",
    "    )\n",
    "    _table['date'] = times\n",
    "    res[assets[a]] = _table"
   ],
   "metadata": {
    "collapsed": false
   }
  },
  {
   "cell_type": "markdown",
   "source": [],
   "metadata": {
    "collapsed": false
   }
  },
  {
   "cell_type": "code",
   "execution_count": null,
   "outputs": [],
   "source": [
    "fig, axs = plt.subplots(2, 2, figsize=(11,8))\n",
    "plt.suptitle(assets[0])\n",
    "axs[0,0].plot(res[assets[0]].iloc[:,-1],res[assets[0]].iloc[:,0],\n",
    "              marker='o', color='red')\n",
    "axs[0,1].plot(res[assets[0]].iloc[:,-1],res[assets[0]].iloc[:,1],\n",
    "              marker='o', color='red')\n",
    "axs[1,0].plot(res[assets[0]].iloc[:,-1],res[assets[0]].iloc[:,2],\n",
    "              marker='o', color='red')\n",
    "axs[1,1].plot(res[assets[0]].iloc[:,-1],res[assets[0]].iloc[:,3],\n",
    "              marker='o', color='red')\n"
   ],
   "metadata": {
    "collapsed": false
   }
  },
  {
   "cell_type": "code",
   "execution_count": null,
   "outputs": [],
   "source": [
    "fig, axs = plt.subplots(2, 2, figsize=(11,8))\n",
    "plt.suptitle(assets[0])\n",
    "axs[0,0].plot(res[assets[0]].iloc[:,-1],np.abs(res[assets[0]].iloc[:,0]),\n",
    "              marker='o', color='red')\n",
    "axs[0,1].plot(res[assets[0]].iloc[:,-1],np.abs(res[assets[0]].iloc[:,1]),\n",
    "              marker='o', color='red')\n",
    "axs[1,0].plot(res[assets[0]].iloc[:,-1],np.abs(res[assets[0]].iloc[:,2]),\n",
    "              marker='o', color='red')\n",
    "axs[1,1].plot(res[assets[0]].iloc[:,-1],np.abs(res[assets[0]].iloc[:,3]),\n",
    "              marker='o', color='red')\n",
    "\n",
    "res[assets[0]]"
   ],
   "metadata": {
    "collapsed": false
   }
  },
  {
   "cell_type": "code",
   "execution_count": null,
   "outputs": [],
   "source": [],
   "metadata": {
    "collapsed": false
   }
  }
 ],
 "metadata": {
  "kernelspec": {
   "display_name": "Python 3",
   "language": "python",
   "name": "python3"
  },
  "language_info": {
   "codemirror_mode": {
    "name": "ipython",
    "version": 2
   },
   "file_extension": ".py",
   "mimetype": "text/x-python",
   "name": "python",
   "nbconvert_exporter": "python",
   "pygments_lexer": "ipython2",
   "version": "2.7.6"
  }
 },
 "nbformat": 4,
 "nbformat_minor": 0
}

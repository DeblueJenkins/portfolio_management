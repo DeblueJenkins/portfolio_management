{
 "cells": [
  {
   "cell_type": "code",
   "execution_count": 3,
   "metadata": {
    "collapsed": true,
    "ExecuteTime": {
     "end_time": "2024-10-13T13:57:44.114788600Z",
     "start_time": "2024-10-13T13:57:43.628843100Z"
    }
   },
   "outputs": [],
   "source": [
    "from models.data.source import Eikon, load_fed_rates_from_excel\n",
    "from portfolios.equity import EquityPortfolio\n",
    "import os\n",
    "from pathlib import Path\n",
    "\n",
    "PATH_API_KEYS = r'C:\\Users\\serge\\OneDrive\\reuters\\apikeys.csv'\n",
    "\n",
    "\n",
    "api = Eikon(PATH_API_KEYS)"
   ]
  },
  {
   "cell_type": "markdown",
   "source": [],
   "metadata": {
    "collapsed": false
   }
  },
  {
   "cell_type": "code",
   "execution_count": 4,
   "outputs": [],
   "source": [
    "indices = [\n",
    "# '.ATX', # Austria\n",
    "# '.FCHI', # France\n",
    "# '.GDAXI', # Germany\n",
    "# '.BFX', # Belgium\n",
    "# '.CRBEX', # Croatia\n",
    "# '.BUX', # Hungary\n",
    "# '.WIG20', # Poland\n",
    "# '.IBEX', # Spain\n",
    "# '.SETI', # Thailand\n",
    "# '.STI', # Singapore\n",
    "# '.KLSE', # Malaysia\n",
    "# '.NSEI', # India\n",
    "# '.HSI', # Hong-Kong\n",
    "# '.EGX30', # Egypt\n",
    "# '.JSEJ.J', # South Africa\n",
    "'.SPX', # US\n",
    "]"
   ],
   "metadata": {
    "collapsed": false,
    "ExecuteTime": {
     "end_time": "2024-10-13T13:57:44.852737500Z",
     "start_time": "2024-10-13T13:57:44.826711200Z"
    }
   }
  },
  {
   "cell_type": "code",
   "execution_count": 4,
   "outputs": [],
   "source": [],
   "metadata": {
    "collapsed": false,
    "ExecuteTime": {
     "end_time": "2024-10-13T13:57:45.534762500Z",
     "start_time": "2024-10-13T13:57:45.524693700Z"
    }
   }
  },
  {
   "cell_type": "code",
   "execution_count": 5,
   "outputs": [
    {
     "name": "stdout",
     "output_type": "stream",
     "text": [
      "Retrieved 6.776081323623657\n"
     ]
    }
   ],
   "source": [
    "constituents = {}\n",
    "for ind in indices:\n",
    "    try:\n",
    "        constituents[ind] = api.get_index_constituents(ind, date='20240915')\n",
    "    except Exception as e:\n",
    "        print(e)\n",
    "        continue"
   ],
   "metadata": {
    "collapsed": false,
    "ExecuteTime": {
     "end_time": "2024-10-13T13:57:52.599171200Z",
     "start_time": "2024-10-13T13:57:45.812081700Z"
    }
   }
  },
  {
   "cell_type": "code",
   "execution_count": 3,
   "outputs": [],
   "source": [],
   "metadata": {
    "collapsed": false
   }
  },
  {
   "cell_type": "code",
   "execution_count": 6,
   "outputs": [
    {
     "name": "stdout",
     "output_type": "stream",
     "text": [
      "505\n"
     ]
    }
   ],
   "source": [
    "constituents_ls = []\n",
    "for k,v in constituents.items():\n",
    "    constituents_ls.extend(v)\n",
    "print(len(constituents_ls))"
   ],
   "metadata": {
    "collapsed": false,
    "ExecuteTime": {
     "end_time": "2024-10-13T13:57:54.710564400Z",
     "start_time": "2024-10-13T13:57:54.688548Z"
    }
   }
  },
  {
   "cell_type": "code",
   "execution_count": 9,
   "outputs": [],
   "source": [
    "PATH_DATA = r'C:\\Users\\serge\\IdeaProjects\\portfolio_management\\models\\data'\n",
    "params = {\n",
    "    'rics': constituents_ls,\n",
    "    # 'field': ['TR.PriceClose', 'Price Close'],\n",
    "    'field': ['TR.PriceClose', 'Price Close'],\n",
    "    'date_field': ['TR.PriceClose.calcdate', 'Calc Date'],\n",
    "    'load_path': os.path.join(PATH_DATA, r'csv\\prices'),\n",
    "    # 'save_config': {'save': True, 'path': r'C:\\Users\\serge\\IdeaProjects\\portfolio_management\\models\\data\\csv\\prices' },\n",
    "    # 'params': {\n",
    "    #     'SDate':'2000-12-31',\n",
    "    #     'EDate': '2024-08-29',\n",
    "    # }\n",
    "}"
   ],
   "metadata": {
    "collapsed": false,
    "ExecuteTime": {
     "end_time": "2024-10-13T13:58:23.036371600Z",
     "start_time": "2024-10-13T13:58:23.003862200Z"
    }
   }
  },
  {
   "cell_type": "code",
   "execution_count": 11,
   "outputs": [
    {
     "name": "stdout",
     "output_type": "stream",
     "text": [
      "[Errno 2] No such file or directory: 'C:\\\\Users\\\\serge\\\\IdeaProjects\\\\portfolio_management\\\\models\\\\data\\\\csv\\\\prices\\\\WM.N.csv'\n",
      "[Errno 2] No such file or directory: 'C:\\\\Users\\\\serge\\\\IdeaProjects\\\\portfolio_management\\\\models\\\\data\\\\csv\\\\prices\\\\REG.OQ.csv'\n",
      "[Errno 2] No such file or directory: 'C:\\\\Users\\\\serge\\\\IdeaProjects\\\\portfolio_management\\\\models\\\\data\\\\csv\\\\prices\\\\BIO.N.csv'\n",
      "[Errno 2] No such file or directory: 'C:\\\\Users\\\\serge\\\\IdeaProjects\\\\portfolio_management\\\\models\\\\data\\\\csv\\\\prices\\\\IVZ.N.csv'\n",
      "[Errno 2] No such file or directory: 'C:\\\\Users\\\\serge\\\\IdeaProjects\\\\portfolio_management\\\\models\\\\data\\\\csv\\\\prices\\\\EXPE.OQ.csv'\n",
      "[Errno 2] No such file or directory: 'C:\\\\Users\\\\serge\\\\IdeaProjects\\\\portfolio_management\\\\models\\\\data\\\\csv\\\\prices\\\\GEN.OQ.csv'\n",
      "[Errno 2] No such file or directory: 'C:\\\\Users\\\\serge\\\\IdeaProjects\\\\portfolio_management\\\\models\\\\data\\\\csv\\\\prices\\\\DAY.N.csv'\n",
      "[Errno 2] No such file or directory: 'C:\\\\Users\\\\serge\\\\IdeaProjects\\\\portfolio_management\\\\models\\\\data\\\\csv\\\\prices\\\\GRMN.N.csv'\n",
      "[Errno 2] No such file or directory: 'C:\\\\Users\\\\serge\\\\IdeaProjects\\\\portfolio_management\\\\models\\\\data\\\\csv\\\\prices\\\\RL.N.csv'\n",
      "[Errno 2] No such file or directory: 'C:\\\\Users\\\\serge\\\\IdeaProjects\\\\portfolio_management\\\\models\\\\data\\\\csv\\\\prices\\\\GNRC.N.csv'\n",
      "[Errno 2] No such file or directory: 'C:\\\\Users\\\\serge\\\\IdeaProjects\\\\portfolio_management\\\\models\\\\data\\\\csv\\\\prices\\\\SNA.N.csv'\n",
      "[Errno 2] No such file or directory: 'C:\\\\Users\\\\serge\\\\IdeaProjects\\\\portfolio_management\\\\models\\\\data\\\\csv\\\\prices\\\\DPZ.N.csv'\n",
      "[Errno 2] No such file or directory: 'C:\\\\Users\\\\serge\\\\IdeaProjects\\\\portfolio_management\\\\models\\\\data\\\\csv\\\\prices\\\\HPQ.N.csv'\n",
      "[Errno 2] No such file or directory: 'C:\\\\Users\\\\serge\\\\IdeaProjects\\\\portfolio_management\\\\models\\\\data\\\\csv\\\\prices\\\\TMO.N.csv'\n",
      "[Errno 2] No such file or directory: 'C:\\\\Users\\\\serge\\\\IdeaProjects\\\\portfolio_management\\\\models\\\\data\\\\csv\\\\prices\\\\BLK.N.csv'\n",
      "[Errno 2] No such file or directory: 'C:\\\\Users\\\\serge\\\\IdeaProjects\\\\portfolio_management\\\\models\\\\data\\\\csv\\\\prices\\\\PNW.N.csv'\n",
      "[Errno 2] No such file or directory: 'C:\\\\Users\\\\serge\\\\IdeaProjects\\\\portfolio_management\\\\models\\\\data\\\\csv\\\\prices\\\\PKG.N.csv'\n",
      "[Errno 2] No such file or directory: 'C:\\\\Users\\\\serge\\\\IdeaProjects\\\\portfolio_management\\\\models\\\\data\\\\csv\\\\prices\\\\IT.N.csv'\n",
      "[Errno 2] No such file or directory: 'C:\\\\Users\\\\serge\\\\IdeaProjects\\\\portfolio_management\\\\models\\\\data\\\\csv\\\\prices\\\\CF.N.csv'\n",
      "[Errno 2] No such file or directory: 'C:\\\\Users\\\\serge\\\\IdeaProjects\\\\portfolio_management\\\\models\\\\data\\\\csv\\\\prices\\\\AXP.N.csv'\n",
      "[Errno 2] No such file or directory: 'C:\\\\Users\\\\serge\\\\IdeaProjects\\\\portfolio_management\\\\models\\\\data\\\\csv\\\\prices\\\\CLX.N.csv'\n",
      "[Errno 2] No such file or directory: 'C:\\\\Users\\\\serge\\\\IdeaProjects\\\\portfolio_management\\\\models\\\\data\\\\csv\\\\prices\\\\DOV.N.csv'\n",
      "[Errno 2] No such file or directory: 'C:\\\\Users\\\\serge\\\\IdeaProjects\\\\portfolio_management\\\\models\\\\data\\\\csv\\\\prices\\\\MTB.N.csv'\n",
      "[Errno 2] No such file or directory: 'C:\\\\Users\\\\serge\\\\IdeaProjects\\\\portfolio_management\\\\models\\\\data\\\\csv\\\\prices\\\\JKHY.OQ.csv'\n",
      "[Errno 2] No such file or directory: 'C:\\\\Users\\\\serge\\\\IdeaProjects\\\\portfolio_management\\\\models\\\\data\\\\csv\\\\prices\\\\O.N.csv'\n",
      "[Errno 2] No such file or directory: 'C:\\\\Users\\\\serge\\\\IdeaProjects\\\\portfolio_management\\\\models\\\\data\\\\csv\\\\prices\\\\MLM.N.csv'\n",
      "[Errno 2] No such file or directory: 'C:\\\\Users\\\\serge\\\\IdeaProjects\\\\portfolio_management\\\\models\\\\data\\\\csv\\\\prices\\\\RVTY.N.csv'\n",
      "[Errno 2] No such file or directory: 'C:\\\\Users\\\\serge\\\\IdeaProjects\\\\portfolio_management\\\\models\\\\data\\\\csv\\\\prices\\\\L.N.csv'\n",
      "[Errno 2] No such file or directory: 'C:\\\\Users\\\\serge\\\\IdeaProjects\\\\portfolio_management\\\\models\\\\data\\\\csv\\\\prices\\\\QCOM.OQ.csv'\n",
      "[Errno 2] No such file or directory: 'C:\\\\Users\\\\serge\\\\IdeaProjects\\\\portfolio_management\\\\models\\\\data\\\\csv\\\\prices\\\\IPG.N.csv'\n",
      "[Errno 2] No such file or directory: 'C:\\\\Users\\\\serge\\\\IdeaProjects\\\\portfolio_management\\\\models\\\\data\\\\csv\\\\prices\\\\ANSS.OQ.csv'\n",
      "[Errno 2] No such file or directory: 'C:\\\\Users\\\\serge\\\\IdeaProjects\\\\portfolio_management\\\\models\\\\data\\\\csv\\\\prices\\\\ULTA.OQ.csv'\n",
      "[Errno 2] No such file or directory: 'C:\\\\Users\\\\serge\\\\IdeaProjects\\\\portfolio_management\\\\models\\\\data\\\\csv\\\\prices\\\\WMT.N.csv'\n",
      "[Errno 2] No such file or directory: 'C:\\\\Users\\\\serge\\\\IdeaProjects\\\\portfolio_management\\\\models\\\\data\\\\csv\\\\prices\\\\TDG.N.csv'\n",
      "[Errno 2] No such file or directory: 'C:\\\\Users\\\\serge\\\\IdeaProjects\\\\portfolio_management\\\\models\\\\data\\\\csv\\\\prices\\\\EQIX.OQ.csv'\n",
      "[Errno 2] No such file or directory: 'C:\\\\Users\\\\serge\\\\IdeaProjects\\\\portfolio_management\\\\models\\\\data\\\\csv\\\\prices\\\\UHS.N.csv'\n",
      "[Errno 2] No such file or directory: 'C:\\\\Users\\\\serge\\\\IdeaProjects\\\\portfolio_management\\\\models\\\\data\\\\csv\\\\prices\\\\LKQ.OQ.csv'\n",
      "[Errno 2] No such file or directory: 'C:\\\\Users\\\\serge\\\\IdeaProjects\\\\portfolio_management\\\\models\\\\data\\\\csv\\\\prices\\\\BG.N.csv'\n",
      "[Errno 2] No such file or directory: 'C:\\\\Users\\\\serge\\\\IdeaProjects\\\\portfolio_management\\\\models\\\\data\\\\csv\\\\prices\\\\HES.N.csv'\n",
      "[Errno 2] No such file or directory: 'C:\\\\Users\\\\serge\\\\IdeaProjects\\\\portfolio_management\\\\models\\\\data\\\\csv\\\\prices\\\\EOG.N.csv'\n",
      "[Errno 2] No such file or directory: 'C:\\\\Users\\\\serge\\\\IdeaProjects\\\\portfolio_management\\\\models\\\\data\\\\csv\\\\prices\\\\MAR.OQ.csv'\n",
      "[Errno 2] No such file or directory: 'C:\\\\Users\\\\serge\\\\IdeaProjects\\\\portfolio_management\\\\models\\\\data\\\\csv\\\\prices\\\\TJX.N.csv'\n",
      "[Errno 2] No such file or directory: 'C:\\\\Users\\\\serge\\\\IdeaProjects\\\\portfolio_management\\\\models\\\\data\\\\csv\\\\prices\\\\MNST.OQ.csv'\n",
      "[Errno 2] No such file or directory: 'C:\\\\Users\\\\serge\\\\IdeaProjects\\\\portfolio_management\\\\models\\\\data\\\\csv\\\\prices\\\\VMC.N.csv'\n",
      "[Errno 2] No such file or directory: 'C:\\\\Users\\\\serge\\\\IdeaProjects\\\\portfolio_management\\\\models\\\\data\\\\csv\\\\prices\\\\EW.N.csv'\n",
      "[Errno 2] No such file or directory: 'C:\\\\Users\\\\serge\\\\IdeaProjects\\\\portfolio_management\\\\models\\\\data\\\\csv\\\\prices\\\\ALL.N.csv'\n",
      "[Errno 2] No such file or directory: 'C:\\\\Users\\\\serge\\\\IdeaProjects\\\\portfolio_management\\\\models\\\\data\\\\csv\\\\prices\\\\BMY.N.csv'\n",
      "[Errno 2] No such file or directory: 'C:\\\\Users\\\\serge\\\\IdeaProjects\\\\portfolio_management\\\\models\\\\data\\\\csv\\\\prices\\\\VST.N.csv'\n",
      "[Errno 2] No such file or directory: 'C:\\\\Users\\\\serge\\\\IdeaProjects\\\\portfolio_management\\\\models\\\\data\\\\csv\\\\prices\\\\APH.N.csv'\n",
      "[Errno 2] No such file or directory: 'C:\\\\Users\\\\serge\\\\IdeaProjects\\\\portfolio_management\\\\models\\\\data\\\\csv\\\\prices\\\\HON.OQ.csv'\n",
      "[Errno 2] No such file or directory: 'C:\\\\Users\\\\serge\\\\IdeaProjects\\\\portfolio_management\\\\models\\\\data\\\\csv\\\\prices\\\\GPC.N.csv'\n",
      "[Errno 2] No such file or directory: 'C:\\\\Users\\\\serge\\\\IdeaProjects\\\\portfolio_management\\\\models\\\\data\\\\csv\\\\prices\\\\MHK.N.csv'\n",
      "[Errno 2] No such file or directory: 'C:\\\\Users\\\\serge\\\\IdeaProjects\\\\portfolio_management\\\\models\\\\data\\\\csv\\\\prices\\\\MCHP.OQ.csv'\n",
      "[Errno 2] No such file or directory: 'C:\\\\Users\\\\serge\\\\IdeaProjects\\\\portfolio_management\\\\models\\\\data\\\\csv\\\\prices\\\\CAT.N.csv'\n",
      "[Errno 2] No such file or directory: 'C:\\\\Users\\\\serge\\\\IdeaProjects\\\\portfolio_management\\\\models\\\\data\\\\csv\\\\prices\\\\PG.N.csv'\n",
      "[Errno 2] No such file or directory: 'C:\\\\Users\\\\serge\\\\IdeaProjects\\\\portfolio_management\\\\models\\\\data\\\\csv\\\\prices\\\\ZTS.N.csv'\n",
      "[Errno 2] No such file or directory: 'C:\\\\Users\\\\serge\\\\IdeaProjects\\\\portfolio_management\\\\models\\\\data\\\\csv\\\\prices\\\\STE.N.csv'\n",
      "[Errno 2] No such file or directory: 'C:\\\\Users\\\\serge\\\\IdeaProjects\\\\portfolio_management\\\\models\\\\data\\\\csv\\\\prices\\\\BKR.OQ.csv'\n",
      "[Errno 2] No such file or directory: 'C:\\\\Users\\\\serge\\\\IdeaProjects\\\\portfolio_management\\\\models\\\\data\\\\csv\\\\prices\\\\AFL.N.csv'\n",
      "[Errno 2] No such file or directory: 'C:\\\\Users\\\\serge\\\\IdeaProjects\\\\portfolio_management\\\\models\\\\data\\\\csv\\\\prices\\\\PTC.OQ.csv'\n",
      "[Errno 2] No such file or directory: 'C:\\\\Users\\\\serge\\\\IdeaProjects\\\\portfolio_management\\\\models\\\\data\\\\csv\\\\prices\\\\FITB.OQ.csv'\n",
      "[Errno 2] No such file or directory: 'C:\\\\Users\\\\serge\\\\IdeaProjects\\\\portfolio_management\\\\models\\\\data\\\\csv\\\\prices\\\\MSI.N.csv'\n",
      "[Errno 2] No such file or directory: 'C:\\\\Users\\\\serge\\\\IdeaProjects\\\\portfolio_management\\\\models\\\\data\\\\csv\\\\prices\\\\XEL.OQ.csv'\n",
      "[Errno 2] No such file or directory: 'C:\\\\Users\\\\serge\\\\IdeaProjects\\\\portfolio_management\\\\models\\\\data\\\\csv\\\\prices\\\\HSIC.OQ.csv'\n",
      "[Errno 2] No such file or directory: 'C:\\\\Users\\\\serge\\\\IdeaProjects\\\\portfolio_management\\\\models\\\\data\\\\csv\\\\prices\\\\ITW.N.csv'\n",
      "[Errno 2] No such file or directory: 'C:\\\\Users\\\\serge\\\\IdeaProjects\\\\portfolio_management\\\\models\\\\data\\\\csv\\\\prices\\\\WST.N.csv'\n",
      "[Errno 2] No such file or directory: 'C:\\\\Users\\\\serge\\\\IdeaProjects\\\\portfolio_management\\\\models\\\\data\\\\csv\\\\prices\\\\DFS.N.csv'\n",
      "[Errno 2] No such file or directory: 'C:\\\\Users\\\\serge\\\\IdeaProjects\\\\portfolio_management\\\\models\\\\data\\\\csv\\\\prices\\\\APTV.N.csv'\n",
      "[Errno 2] No such file or directory: 'C:\\\\Users\\\\serge\\\\IdeaProjects\\\\portfolio_management\\\\models\\\\data\\\\csv\\\\prices\\\\MPC.N.csv'\n",
      "[Errno 2] No such file or directory: 'C:\\\\Users\\\\serge\\\\IdeaProjects\\\\portfolio_management\\\\models\\\\data\\\\csv\\\\prices\\\\PGR.N.csv'\n",
      "[Errno 2] No such file or directory: 'C:\\\\Users\\\\serge\\\\IdeaProjects\\\\portfolio_management\\\\models\\\\data\\\\csv\\\\prices\\\\ICE.N.csv'\n",
      "[Errno 2] No such file or directory: 'C:\\\\Users\\\\serge\\\\IdeaProjects\\\\portfolio_management\\\\models\\\\data\\\\csv\\\\prices\\\\KMB.N.csv'\n",
      "[Errno 2] No such file or directory: 'C:\\\\Users\\\\serge\\\\IdeaProjects\\\\portfolio_management\\\\models\\\\data\\\\csv\\\\prices\\\\SWKS.OQ.csv'\n",
      "[Errno 2] No such file or directory: 'C:\\\\Users\\\\serge\\\\IdeaProjects\\\\portfolio_management\\\\models\\\\data\\\\csv\\\\prices\\\\ABNB.OQ.csv'\n",
      "[Errno 2] No such file or directory: 'C:\\\\Users\\\\serge\\\\IdeaProjects\\\\portfolio_management\\\\models\\\\data\\\\csv\\\\prices\\\\EL.N.csv'\n",
      "[Errno 2] No such file or directory: 'C:\\\\Users\\\\serge\\\\IdeaProjects\\\\portfolio_management\\\\models\\\\data\\\\csv\\\\prices\\\\TSLA.OQ.csv'\n",
      "[Errno 2] No such file or directory: 'C:\\\\Users\\\\serge\\\\IdeaProjects\\\\portfolio_management\\\\models\\\\data\\\\csv\\\\prices\\\\EXR.N.csv'\n",
      "[Errno 2] No such file or directory: 'C:\\\\Users\\\\serge\\\\IdeaProjects\\\\portfolio_management\\\\models\\\\data\\\\csv\\\\prices\\\\SPGI.N.csv'\n",
      "[Errno 2] No such file or directory: 'C:\\\\Users\\\\serge\\\\IdeaProjects\\\\portfolio_management\\\\models\\\\data\\\\csv\\\\prices\\\\KKR.N.csv'\n",
      "[Errno 2] No such file or directory: 'C:\\\\Users\\\\serge\\\\IdeaProjects\\\\portfolio_management\\\\models\\\\data\\\\csv\\\\prices\\\\ADBE.OQ.csv'\n",
      "[Errno 2] No such file or directory: 'C:\\\\Users\\\\serge\\\\IdeaProjects\\\\portfolio_management\\\\models\\\\data\\\\csv\\\\prices\\\\ADSK.OQ.csv'\n",
      "[Errno 2] No such file or directory: 'C:\\\\Users\\\\serge\\\\IdeaProjects\\\\portfolio_management\\\\models\\\\data\\\\csv\\\\prices\\\\FOXA.OQ.csv'\n",
      "[Errno 2] No such file or directory: 'C:\\\\Users\\\\serge\\\\IdeaProjects\\\\portfolio_management\\\\models\\\\data\\\\csv\\\\prices\\\\TT.N.csv'\n",
      "[Errno 2] No such file or directory: 'C:\\\\Users\\\\serge\\\\IdeaProjects\\\\portfolio_management\\\\models\\\\data\\\\csv\\\\prices\\\\TSN.N.csv'\n",
      "[Errno 2] No such file or directory: 'C:\\\\Users\\\\serge\\\\IdeaProjects\\\\portfolio_management\\\\models\\\\data\\\\csv\\\\prices\\\\AKAM.OQ.csv'\n",
      "[Errno 2] No such file or directory: 'C:\\\\Users\\\\serge\\\\IdeaProjects\\\\portfolio_management\\\\models\\\\data\\\\csv\\\\prices\\\\LUV.N.csv'\n",
      "[Errno 2] No such file or directory: 'C:\\\\Users\\\\serge\\\\IdeaProjects\\\\portfolio_management\\\\models\\\\data\\\\csv\\\\prices\\\\INVH.N.csv'\n",
      "[Errno 2] No such file or directory: 'C:\\\\Users\\\\serge\\\\IdeaProjects\\\\portfolio_management\\\\models\\\\data\\\\csv\\\\prices\\\\TSCO.OQ.csv'\n",
      "[Errno 2] No such file or directory: 'C:\\\\Users\\\\serge\\\\IdeaProjects\\\\portfolio_management\\\\models\\\\data\\\\csv\\\\prices\\\\AON.N.csv'\n",
      "[Errno 2] No such file or directory: 'C:\\\\Users\\\\serge\\\\IdeaProjects\\\\portfolio_management\\\\models\\\\data\\\\csv\\\\prices\\\\AMZN.OQ.csv'\n",
      "[Errno 2] No such file or directory: 'C:\\\\Users\\\\serge\\\\IdeaProjects\\\\portfolio_management\\\\models\\\\data\\\\csv\\\\prices\\\\MS.N.csv'\n",
      "[Errno 2] No such file or directory: 'C:\\\\Users\\\\serge\\\\IdeaProjects\\\\portfolio_management\\\\models\\\\data\\\\csv\\\\prices\\\\BRKb.N.csv'\n",
      "[Errno 2] No such file or directory: 'C:\\\\Users\\\\serge\\\\IdeaProjects\\\\portfolio_management\\\\models\\\\data\\\\csv\\\\prices\\\\GOOG.OQ.csv'\n",
      "[Errno 2] No such file or directory: 'C:\\\\Users\\\\serge\\\\IdeaProjects\\\\portfolio_management\\\\models\\\\data\\\\csv\\\\prices\\\\KR.N.csv'\n",
      "[Errno 2] No such file or directory: 'C:\\\\Users\\\\serge\\\\IdeaProjects\\\\portfolio_management\\\\models\\\\data\\\\csv\\\\prices\\\\BKNG.OQ.csv'\n",
      "[Errno 2] No such file or directory: 'C:\\\\Users\\\\serge\\\\IdeaProjects\\\\portfolio_management\\\\models\\\\data\\\\csv\\\\prices\\\\STZ.N.csv'\n",
      "[Errno 2] No such file or directory: 'C:\\\\Users\\\\serge\\\\IdeaProjects\\\\portfolio_management\\\\models\\\\data\\\\csv\\\\prices\\\\WBD.OQ.csv'\n",
      "[Errno 2] No such file or directory: 'C:\\\\Users\\\\serge\\\\IdeaProjects\\\\portfolio_management\\\\models\\\\data\\\\csv\\\\prices\\\\ABBV.N.csv'\n",
      "[Errno 2] No such file or directory: 'C:\\\\Users\\\\serge\\\\IdeaProjects\\\\portfolio_management\\\\models\\\\data\\\\csv\\\\prices\\\\STLD.OQ.csv'\n",
      "[Errno 2] No such file or directory: 'C:\\\\Users\\\\serge\\\\IdeaProjects\\\\portfolio_management\\\\models\\\\data\\\\csv\\\\prices\\\\MA.N.csv'\n",
      "[Errno 2] No such file or directory: 'C:\\\\Users\\\\serge\\\\IdeaProjects\\\\portfolio_management\\\\models\\\\data\\\\csv\\\\prices\\\\XOM.N.csv'\n",
      "[Errno 2] No such file or directory: 'C:\\\\Users\\\\serge\\\\IdeaProjects\\\\portfolio_management\\\\models\\\\data\\\\csv\\\\prices\\\\SWK.N.csv'\n",
      "[Errno 2] No such file or directory: 'C:\\\\Users\\\\serge\\\\IdeaProjects\\\\portfolio_management\\\\models\\\\data\\\\csv\\\\prices\\\\FICO.N.csv'\n",
      "[Errno 2] No such file or directory: 'C:\\\\Users\\\\serge\\\\IdeaProjects\\\\portfolio_management\\\\models\\\\data\\\\csv\\\\prices\\\\HRL.N.csv'\n",
      "[Errno 2] No such file or directory: 'C:\\\\Users\\\\serge\\\\IdeaProjects\\\\portfolio_management\\\\models\\\\data\\\\csv\\\\prices\\\\INTC.OQ.csv'\n",
      "[Errno 2] No such file or directory: 'C:\\\\Users\\\\serge\\\\IdeaProjects\\\\portfolio_management\\\\models\\\\data\\\\csv\\\\prices\\\\TRMB.OQ.csv'\n",
      "[Errno 2] No such file or directory: 'C:\\\\Users\\\\serge\\\\IdeaProjects\\\\portfolio_management\\\\models\\\\data\\\\csv\\\\prices\\\\WBA.OQ.csv'\n",
      "[Errno 2] No such file or directory: 'C:\\\\Users\\\\serge\\\\IdeaProjects\\\\portfolio_management\\\\models\\\\data\\\\csv\\\\prices\\\\OMC.N.csv'\n",
      "[Errno 2] No such file or directory: 'C:\\\\Users\\\\serge\\\\IdeaProjects\\\\portfolio_management\\\\models\\\\data\\\\csv\\\\prices\\\\GLW.N.csv'\n",
      "[Errno 2] No such file or directory: 'C:\\\\Users\\\\serge\\\\IdeaProjects\\\\portfolio_management\\\\models\\\\data\\\\csv\\\\prices\\\\CRM.N.csv'\n",
      "[Errno 2] No such file or directory: 'C:\\\\Users\\\\serge\\\\IdeaProjects\\\\portfolio_management\\\\models\\\\data\\\\csv\\\\prices\\\\SBUX.OQ.csv'\n",
      "[Errno 2] No such file or directory: 'C:\\\\Users\\\\serge\\\\IdeaProjects\\\\portfolio_management\\\\models\\\\data\\\\csv\\\\prices\\\\ATO.N.csv'\n",
      "[Errno 2] No such file or directory: 'C:\\\\Users\\\\serge\\\\IdeaProjects\\\\portfolio_management\\\\models\\\\data\\\\csv\\\\prices\\\\ETR.N.csv'\n",
      "[Errno 2] No such file or directory: 'C:\\\\Users\\\\serge\\\\IdeaProjects\\\\portfolio_management\\\\models\\\\data\\\\csv\\\\prices\\\\HAL.N.csv'\n",
      "[Errno 2] No such file or directory: 'C:\\\\Users\\\\serge\\\\IdeaProjects\\\\portfolio_management\\\\models\\\\data\\\\csv\\\\prices\\\\TFC.N.csv'\n",
      "[Errno 2] No such file or directory: 'C:\\\\Users\\\\serge\\\\IdeaProjects\\\\portfolio_management\\\\models\\\\data\\\\csv\\\\prices\\\\TAP.N.csv'\n",
      "[Errno 2] No such file or directory: 'C:\\\\Users\\\\serge\\\\IdeaProjects\\\\portfolio_management\\\\models\\\\data\\\\csv\\\\prices\\\\ABT.N.csv'\n",
      "[Errno 2] No such file or directory: 'C:\\\\Users\\\\serge\\\\IdeaProjects\\\\portfolio_management\\\\models\\\\data\\\\csv\\\\prices\\\\V.N.csv'\n",
      "[Errno 2] No such file or directory: 'C:\\\\Users\\\\serge\\\\IdeaProjects\\\\portfolio_management\\\\models\\\\data\\\\csv\\\\prices\\\\YUM.N.csv'\n",
      "[Errno 2] No such file or directory: 'C:\\\\Users\\\\serge\\\\IdeaProjects\\\\portfolio_management\\\\models\\\\data\\\\csv\\\\prices\\\\LYV.N.csv'\n",
      "[Errno 2] No such file or directory: 'C:\\\\Users\\\\serge\\\\IdeaProjects\\\\portfolio_management\\\\models\\\\data\\\\csv\\\\prices\\\\CPB.OQ.csv'\n",
      "[Errno 2] No such file or directory: 'C:\\\\Users\\\\serge\\\\IdeaProjects\\\\portfolio_management\\\\models\\\\data\\\\csv\\\\prices\\\\JNPR.N.csv'\n",
      "[Errno 2] No such file or directory: 'C:\\\\Users\\\\serge\\\\IdeaProjects\\\\portfolio_management\\\\models\\\\data\\\\csv\\\\prices\\\\EG.N.csv'\n",
      "[Errno 2] No such file or directory: 'C:\\\\Users\\\\serge\\\\IdeaProjects\\\\portfolio_management\\\\models\\\\data\\\\csv\\\\prices\\\\FTNT.OQ.csv'\n",
      "[Errno 2] No such file or directory: 'C:\\\\Users\\\\serge\\\\IdeaProjects\\\\portfolio_management\\\\models\\\\data\\\\csv\\\\prices\\\\DTE.N.csv'\n",
      "[Errno 2] No such file or directory: 'C:\\\\Users\\\\serge\\\\IdeaProjects\\\\portfolio_management\\\\models\\\\data\\\\csv\\\\prices\\\\HST.OQ.csv'\n",
      "[Errno 2] No such file or directory: 'C:\\\\Users\\\\serge\\\\IdeaProjects\\\\portfolio_management\\\\models\\\\data\\\\csv\\\\prices\\\\IRM.N.csv'\n",
      "[Errno 2] No such file or directory: 'C:\\\\Users\\\\serge\\\\IdeaProjects\\\\portfolio_management\\\\models\\\\data\\\\csv\\\\prices\\\\DOC.N.csv'\n",
      "[Errno 2] No such file or directory: 'C:\\\\Users\\\\serge\\\\IdeaProjects\\\\portfolio_management\\\\models\\\\data\\\\csv\\\\prices\\\\FIS.N.csv'\n",
      "[Errno 2] No such file or directory: 'C:\\\\Users\\\\serge\\\\IdeaProjects\\\\portfolio_management\\\\models\\\\data\\\\csv\\\\prices\\\\DAL.N.csv'\n",
      "[Errno 2] No such file or directory: 'C:\\\\Users\\\\serge\\\\IdeaProjects\\\\portfolio_management\\\\models\\\\data\\\\csv\\\\prices\\\\ROK.N.csv'\n",
      "[Errno 2] No such file or directory: 'C:\\\\Users\\\\serge\\\\IdeaProjects\\\\portfolio_management\\\\models\\\\data\\\\csv\\\\prices\\\\DOW.N.csv'\n",
      "[Errno 2] No such file or directory: 'C:\\\\Users\\\\serge\\\\IdeaProjects\\\\portfolio_management\\\\models\\\\data\\\\csv\\\\prices\\\\PPL.N.csv'\n",
      "[Errno 2] No such file or directory: 'C:\\\\Users\\\\serge\\\\IdeaProjects\\\\portfolio_management\\\\models\\\\data\\\\csv\\\\prices\\\\NTRS.OQ.csv'\n",
      "[Errno 2] No such file or directory: 'C:\\\\Users\\\\serge\\\\IdeaProjects\\\\portfolio_management\\\\models\\\\data\\\\csv\\\\prices\\\\ETN.N.csv'\n",
      "[Errno 2] No such file or directory: 'C:\\\\Users\\\\serge\\\\IdeaProjects\\\\portfolio_management\\\\models\\\\data\\\\csv\\\\prices\\\\CVX.N.csv'\n",
      "[Errno 2] No such file or directory: 'C:\\\\Users\\\\serge\\\\IdeaProjects\\\\portfolio_management\\\\models\\\\data\\\\csv\\\\prices\\\\CI.N.csv'\n",
      "[Errno 2] No such file or directory: 'C:\\\\Users\\\\serge\\\\IdeaProjects\\\\portfolio_management\\\\models\\\\data\\\\csv\\\\prices\\\\ACN.N.csv'\n",
      "[Errno 2] No such file or directory: 'C:\\\\Users\\\\serge\\\\IdeaProjects\\\\portfolio_management\\\\models\\\\data\\\\csv\\\\prices\\\\CRWD.OQ.csv'\n",
      "[Errno 2] No such file or directory: 'C:\\\\Users\\\\serge\\\\IdeaProjects\\\\portfolio_management\\\\models\\\\data\\\\csv\\\\prices\\\\PANW.OQ.csv'\n",
      "[Errno 2] No such file or directory: 'C:\\\\Users\\\\serge\\\\IdeaProjects\\\\portfolio_management\\\\models\\\\data\\\\csv\\\\prices\\\\XYL.N.csv'\n",
      "[Errno 2] No such file or directory: 'C:\\\\Users\\\\serge\\\\IdeaProjects\\\\portfolio_management\\\\models\\\\data\\\\csv\\\\prices\\\\HAS.OQ.csv'\n",
      "[Errno 2] No such file or directory: 'C:\\\\Users\\\\serge\\\\IdeaProjects\\\\portfolio_management\\\\models\\\\data\\\\csv\\\\prices\\\\ENPH.OQ.csv'\n",
      "[Errno 2] No such file or directory: 'C:\\\\Users\\\\serge\\\\IdeaProjects\\\\portfolio_management\\\\models\\\\data\\\\csv\\\\prices\\\\SO.N.csv'\n",
      "[Errno 2] No such file or directory: 'C:\\\\Users\\\\serge\\\\IdeaProjects\\\\portfolio_management\\\\models\\\\data\\\\csv\\\\prices\\\\CTLT.N.csv'\n",
      "[Errno 2] No such file or directory: 'C:\\\\Users\\\\serge\\\\IdeaProjects\\\\portfolio_management\\\\models\\\\data\\\\csv\\\\prices\\\\EQT.N.csv'\n",
      "[Errno 2] No such file or directory: 'C:\\\\Users\\\\serge\\\\IdeaProjects\\\\portfolio_management\\\\models\\\\data\\\\csv\\\\prices\\\\NRG.N.csv'\n",
      "[Errno 2] No such file or directory: 'C:\\\\Users\\\\serge\\\\IdeaProjects\\\\portfolio_management\\\\models\\\\data\\\\csv\\\\prices\\\\MKTX.OQ.csv'\n",
      "[Errno 2] No such file or directory: 'C:\\\\Users\\\\serge\\\\IdeaProjects\\\\portfolio_management\\\\models\\\\data\\\\csv\\\\prices\\\\LMT.N.csv'\n",
      "[Errno 2] No such file or directory: 'C:\\\\Users\\\\serge\\\\IdeaProjects\\\\portfolio_management\\\\models\\\\data\\\\csv\\\\prices\\\\DLR.N.csv'\n",
      "[Errno 2] No such file or directory: 'C:\\\\Users\\\\serge\\\\IdeaProjects\\\\portfolio_management\\\\models\\\\data\\\\csv\\\\prices\\\\PSX.N.csv'\n",
      "[Errno 2] No such file or directory: 'C:\\\\Users\\\\serge\\\\IdeaProjects\\\\portfolio_management\\\\models\\\\data\\\\csv\\\\prices\\\\SCHW.N.csv'\n",
      "[Errno 2] No such file or directory: 'C:\\\\Users\\\\serge\\\\IdeaProjects\\\\portfolio_management\\\\models\\\\data\\\\csv\\\\prices\\\\SNPS.OQ.csv'\n",
      "[Errno 2] No such file or directory: 'C:\\\\Users\\\\serge\\\\IdeaProjects\\\\portfolio_management\\\\models\\\\data\\\\csv\\\\prices\\\\J.N.csv'\n",
      "[Errno 2] No such file or directory: 'C:\\\\Users\\\\serge\\\\IdeaProjects\\\\portfolio_management\\\\models\\\\data\\\\csv\\\\prices\\\\AVY.N.csv'\n"
     ]
    }
   ],
   "source": [
    "data = api.load_timeseries(**params, out=True)\n"
   ],
   "metadata": {
    "collapsed": false,
    "ExecuteTime": {
     "end_time": "2024-10-13T13:58:38.054200Z",
     "start_time": "2024-10-13T13:58:29.648189100Z"
    }
   }
  },
  {
   "cell_type": "code",
   "execution_count": 12,
   "outputs": [],
   "source": [
    "# data = api.download_timeseries(**params, out=True, overwrite=False)"
   ],
   "metadata": {
    "collapsed": false,
    "ExecuteTime": {
     "end_time": "2024-10-13T13:58:47.318861900Z",
     "start_time": "2024-10-13T13:58:47.301859100Z"
    }
   }
  },
  {
   "cell_type": "code",
   "execution_count": 13,
   "outputs": [
    {
     "data": {
      "text/plain": "    Calc Date   POOL.OQ   CHRW.OQ     AJG.N      CNP.N  AMCR.N     BA.N  \\\n0  2001-01-01  8.907406  15.71875  31.81250  35.190172     NaN  66.0000   \n1  2001-01-02  8.592591  14.93750  31.43750  34.682377     NaN  62.0000   \n2  2001-01-03  8.555554  15.96875  30.37500  31.787947     NaN  62.5625   \n3  2001-01-04  8.370369  15.81250  27.56250  30.467681     NaN  61.0000   \n4  2001-01-05  8.444443  15.62500  28.09375  29.756769     NaN  58.7500   \n5  2001-01-08  8.481480  15.03125  28.56250  30.264563     NaN  59.0000   \n6  2001-01-09  8.444443  14.87500  26.87500  29.299753     NaN  58.9375   \n7  2001-01-10  8.592591  14.71875  27.96875  28.842738     NaN  60.3750   \n8  2001-01-11  8.333332  14.00000  26.43750  26.354544     NaN  59.1250   \n9  2001-01-12  8.777776  13.65625  23.93750  27.624031     NaN  60.6250   \n\n   FOX.OQ       WY.N    MCD.N  ...    AMT.N  PYPL.OQ      CAG.N    TFX.N  \\\n0     NaN  17.321525  34.0000  ...  37.8750      NaN  20.232498  44.1875   \n1     NaN  17.108206  33.5000  ...  36.2500      NaN  19.892047  41.8750   \n2     NaN  17.534844  33.6875  ...  39.0625      NaN  18.627516  43.0625   \n3     NaN  18.068142  33.0000  ...  39.5625      NaN  17.703436  42.6875   \n4     NaN  18.004146  32.9375  ...  36.2500      NaN  18.189794  41.5625   \n5     NaN  17.641504  33.0000  ...  36.0625      NaN  18.530245  41.2500   \n6     NaN  17.065542  33.0625  ...  35.6250      NaN  18.822059  40.8125   \n7     NaN  17.214865  33.1875  ...  37.1875      NaN  18.919331  40.5000   \n8     NaN  17.001546  32.6875  ...  41.0000      NaN  18.481609  40.5000   \n9     NaN  16.638903  33.6250  ...  40.0000      NaN  18.287066  41.0625   \n\n   SYF.N    WAT.N    INCY.OQ    LRCX.OQ   IDXX.OQ     PPG.N  \n0    NaN  83.5000  24.875000  14.500000  5.500000  23.15625  \n1    NaN  78.8750  22.562500  14.375000  5.562500  22.71875  \n2    NaN  74.5000  23.062500  17.250000  6.156250  22.75000  \n3    NaN  70.0000  22.765625  18.187500  5.562500  24.37500  \n4    NaN  66.6250  21.000000  18.312500  5.296875  24.00000  \n5    NaN  64.3750  21.812500  19.265625  5.312500  24.28125  \n6    NaN  65.8750  24.000000  18.937500  5.421875  23.40625  \n7    NaN  69.3125  23.500000  19.937500  5.687500  23.12500  \n8    NaN  69.5000  23.312500  21.937500  5.660156  22.43750  \n9    NaN  69.9375  24.625000  20.687500  5.750000  22.43750  \n\n[10 rows x 351 columns]",
      "text/html": "<div>\n<style scoped>\n    .dataframe tbody tr th:only-of-type {\n        vertical-align: middle;\n    }\n\n    .dataframe tbody tr th {\n        vertical-align: top;\n    }\n\n    .dataframe thead th {\n        text-align: right;\n    }\n</style>\n<table border=\"1\" class=\"dataframe\">\n  <thead>\n    <tr style=\"text-align: right;\">\n      <th></th>\n      <th>Calc Date</th>\n      <th>POOL.OQ</th>\n      <th>CHRW.OQ</th>\n      <th>AJG.N</th>\n      <th>CNP.N</th>\n      <th>AMCR.N</th>\n      <th>BA.N</th>\n      <th>FOX.OQ</th>\n      <th>WY.N</th>\n      <th>MCD.N</th>\n      <th>...</th>\n      <th>AMT.N</th>\n      <th>PYPL.OQ</th>\n      <th>CAG.N</th>\n      <th>TFX.N</th>\n      <th>SYF.N</th>\n      <th>WAT.N</th>\n      <th>INCY.OQ</th>\n      <th>LRCX.OQ</th>\n      <th>IDXX.OQ</th>\n      <th>PPG.N</th>\n    </tr>\n  </thead>\n  <tbody>\n    <tr>\n      <th>0</th>\n      <td>2001-01-01</td>\n      <td>8.907406</td>\n      <td>15.71875</td>\n      <td>31.81250</td>\n      <td>35.190172</td>\n      <td>NaN</td>\n      <td>66.0000</td>\n      <td>NaN</td>\n      <td>17.321525</td>\n      <td>34.0000</td>\n      <td>...</td>\n      <td>37.8750</td>\n      <td>NaN</td>\n      <td>20.232498</td>\n      <td>44.1875</td>\n      <td>NaN</td>\n      <td>83.5000</td>\n      <td>24.875000</td>\n      <td>14.500000</td>\n      <td>5.500000</td>\n      <td>23.15625</td>\n    </tr>\n    <tr>\n      <th>1</th>\n      <td>2001-01-02</td>\n      <td>8.592591</td>\n      <td>14.93750</td>\n      <td>31.43750</td>\n      <td>34.682377</td>\n      <td>NaN</td>\n      <td>62.0000</td>\n      <td>NaN</td>\n      <td>17.108206</td>\n      <td>33.5000</td>\n      <td>...</td>\n      <td>36.2500</td>\n      <td>NaN</td>\n      <td>19.892047</td>\n      <td>41.8750</td>\n      <td>NaN</td>\n      <td>78.8750</td>\n      <td>22.562500</td>\n      <td>14.375000</td>\n      <td>5.562500</td>\n      <td>22.71875</td>\n    </tr>\n    <tr>\n      <th>2</th>\n      <td>2001-01-03</td>\n      <td>8.555554</td>\n      <td>15.96875</td>\n      <td>30.37500</td>\n      <td>31.787947</td>\n      <td>NaN</td>\n      <td>62.5625</td>\n      <td>NaN</td>\n      <td>17.534844</td>\n      <td>33.6875</td>\n      <td>...</td>\n      <td>39.0625</td>\n      <td>NaN</td>\n      <td>18.627516</td>\n      <td>43.0625</td>\n      <td>NaN</td>\n      <td>74.5000</td>\n      <td>23.062500</td>\n      <td>17.250000</td>\n      <td>6.156250</td>\n      <td>22.75000</td>\n    </tr>\n    <tr>\n      <th>3</th>\n      <td>2001-01-04</td>\n      <td>8.370369</td>\n      <td>15.81250</td>\n      <td>27.56250</td>\n      <td>30.467681</td>\n      <td>NaN</td>\n      <td>61.0000</td>\n      <td>NaN</td>\n      <td>18.068142</td>\n      <td>33.0000</td>\n      <td>...</td>\n      <td>39.5625</td>\n      <td>NaN</td>\n      <td>17.703436</td>\n      <td>42.6875</td>\n      <td>NaN</td>\n      <td>70.0000</td>\n      <td>22.765625</td>\n      <td>18.187500</td>\n      <td>5.562500</td>\n      <td>24.37500</td>\n    </tr>\n    <tr>\n      <th>4</th>\n      <td>2001-01-05</td>\n      <td>8.444443</td>\n      <td>15.62500</td>\n      <td>28.09375</td>\n      <td>29.756769</td>\n      <td>NaN</td>\n      <td>58.7500</td>\n      <td>NaN</td>\n      <td>18.004146</td>\n      <td>32.9375</td>\n      <td>...</td>\n      <td>36.2500</td>\n      <td>NaN</td>\n      <td>18.189794</td>\n      <td>41.5625</td>\n      <td>NaN</td>\n      <td>66.6250</td>\n      <td>21.000000</td>\n      <td>18.312500</td>\n      <td>5.296875</td>\n      <td>24.00000</td>\n    </tr>\n    <tr>\n      <th>5</th>\n      <td>2001-01-08</td>\n      <td>8.481480</td>\n      <td>15.03125</td>\n      <td>28.56250</td>\n      <td>30.264563</td>\n      <td>NaN</td>\n      <td>59.0000</td>\n      <td>NaN</td>\n      <td>17.641504</td>\n      <td>33.0000</td>\n      <td>...</td>\n      <td>36.0625</td>\n      <td>NaN</td>\n      <td>18.530245</td>\n      <td>41.2500</td>\n      <td>NaN</td>\n      <td>64.3750</td>\n      <td>21.812500</td>\n      <td>19.265625</td>\n      <td>5.312500</td>\n      <td>24.28125</td>\n    </tr>\n    <tr>\n      <th>6</th>\n      <td>2001-01-09</td>\n      <td>8.444443</td>\n      <td>14.87500</td>\n      <td>26.87500</td>\n      <td>29.299753</td>\n      <td>NaN</td>\n      <td>58.9375</td>\n      <td>NaN</td>\n      <td>17.065542</td>\n      <td>33.0625</td>\n      <td>...</td>\n      <td>35.6250</td>\n      <td>NaN</td>\n      <td>18.822059</td>\n      <td>40.8125</td>\n      <td>NaN</td>\n      <td>65.8750</td>\n      <td>24.000000</td>\n      <td>18.937500</td>\n      <td>5.421875</td>\n      <td>23.40625</td>\n    </tr>\n    <tr>\n      <th>7</th>\n      <td>2001-01-10</td>\n      <td>8.592591</td>\n      <td>14.71875</td>\n      <td>27.96875</td>\n      <td>28.842738</td>\n      <td>NaN</td>\n      <td>60.3750</td>\n      <td>NaN</td>\n      <td>17.214865</td>\n      <td>33.1875</td>\n      <td>...</td>\n      <td>37.1875</td>\n      <td>NaN</td>\n      <td>18.919331</td>\n      <td>40.5000</td>\n      <td>NaN</td>\n      <td>69.3125</td>\n      <td>23.500000</td>\n      <td>19.937500</td>\n      <td>5.687500</td>\n      <td>23.12500</td>\n    </tr>\n    <tr>\n      <th>8</th>\n      <td>2001-01-11</td>\n      <td>8.333332</td>\n      <td>14.00000</td>\n      <td>26.43750</td>\n      <td>26.354544</td>\n      <td>NaN</td>\n      <td>59.1250</td>\n      <td>NaN</td>\n      <td>17.001546</td>\n      <td>32.6875</td>\n      <td>...</td>\n      <td>41.0000</td>\n      <td>NaN</td>\n      <td>18.481609</td>\n      <td>40.5000</td>\n      <td>NaN</td>\n      <td>69.5000</td>\n      <td>23.312500</td>\n      <td>21.937500</td>\n      <td>5.660156</td>\n      <td>22.43750</td>\n    </tr>\n    <tr>\n      <th>9</th>\n      <td>2001-01-12</td>\n      <td>8.777776</td>\n      <td>13.65625</td>\n      <td>23.93750</td>\n      <td>27.624031</td>\n      <td>NaN</td>\n      <td>60.6250</td>\n      <td>NaN</td>\n      <td>16.638903</td>\n      <td>33.6250</td>\n      <td>...</td>\n      <td>40.0000</td>\n      <td>NaN</td>\n      <td>18.287066</td>\n      <td>41.0625</td>\n      <td>NaN</td>\n      <td>69.9375</td>\n      <td>24.625000</td>\n      <td>20.687500</td>\n      <td>5.750000</td>\n      <td>22.43750</td>\n    </tr>\n  </tbody>\n</table>\n<p>10 rows × 351 columns</p>\n</div>"
     },
     "execution_count": 13,
     "metadata": {},
     "output_type": "execute_result"
    }
   ],
   "source": [
    "data.head(10)"
   ],
   "metadata": {
    "collapsed": false,
    "ExecuteTime": {
     "end_time": "2024-10-13T13:58:51.963238600Z",
     "start_time": "2024-10-13T13:58:51.937708100Z"
    }
   }
  },
  {
   "cell_type": "code",
   "execution_count": null,
   "outputs": [],
   "source": [],
   "metadata": {
    "collapsed": false
   }
  }
 ],
 "metadata": {
  "kernelspec": {
   "display_name": "Python 3",
   "language": "python",
   "name": "python3"
  },
  "language_info": {
   "codemirror_mode": {
    "name": "ipython",
    "version": 2
   },
   "file_extension": ".py",
   "mimetype": "text/x-python",
   "name": "python",
   "nbconvert_exporter": "python",
   "pygments_lexer": "ipython2",
   "version": "2.7.6"
  }
 },
 "nbformat": 4,
 "nbformat_minor": 0
}

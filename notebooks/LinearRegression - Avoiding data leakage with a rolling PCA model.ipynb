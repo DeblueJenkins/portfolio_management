{
 "cells": [
  {
   "cell_type": "code",
   "execution_count": null,
   "outputs": [],
   "source": [
    "import os\n",
    "import sys\n",
    "module_path = os.path.abspath(os.path.join('..'))\n",
    "prev_path = \"\\\\\".join(list(os.getcwd().split('\\\\')[0:-1]))\n",
    "if module_path not in sys.path: sys.path.append(prev_path)\n",
    "from models.rolling import RollingModel\n",
    "from models.data.handler import DataHandler\n",
    "from models.data.source import Eikon\n",
    "import numpy as np\n",
    "import matplotlib.pyplot as plt"
   ],
   "metadata": {
    "collapsed": false,
    "pycharm": {
     "name": "#%%\n"
    }
   }
  },
  {
   "cell_type": "code",
   "execution_count": null,
   "outputs": [],
   "source": [
    "data_path = r'C:\\Users\\serge\\IdeaProjects\\portfolio_manager\\data\\fama-french-factors'\n",
    "path_apikeys = r'C:\\Users\\serge\\OneDrive\\Documents\\apikeys.csv'\n",
    "\n",
    "rics_list = [\n",
    "    'LVMH.PA', 'ASML.AS', 'NESN.S', 'LIN',\n",
    "    'NOVOb.CO', 'AAPL.O', 'ROG.S', 'UNH',\n",
    "    'SAPG.DE', 'MSFT.O'\n",
    "]\n",
    "\n",
    "params = {\n",
    "    'rics': rics_list,\n",
    "    'field': ['TR.PriceClose', 'Price Close'],\n",
    "    'date_field': ['TR.PriceClose.calcdate', 'Calc Date'],\n",
    "    'load_path': r'C:\\Users\\serge\\IdeaProjects\\portfolio_manager\\portfolio_management\\models\\data\\csv'\n",
    "}\n",
    "\n",
    "config = {\n",
    "    'PCA': True,\n",
    "    'n_components': 5,\n",
    "    'OLS': True\n",
    "}\n",
    "\n",
    "HORIZON_IN_DAYS = 14"
   ],
   "metadata": {
    "collapsed": false,
    "pycharm": {
     "name": "#%%\n"
    }
   }
  },
  {
   "cell_type": "code",
   "execution_count": null,
   "outputs": [],
   "source": [
    "eikon_api = Eikon(path_apikeys)\n",
    "data = eikon_api.load_timeseries(**params)"
   ],
   "metadata": {
    "collapsed": false,
    "pycharm": {
     "name": "#%%\n"
    }
   }
  },
  {
   "cell_type": "code",
   "execution_count": null,
   "outputs": [],
   "source": [
    "data_handler = DataHandler(data=data, date_col=params['date_field'][1])\n",
    "returns = data_handler.get_returns(period=HORIZON_IN_DAYS, out=True)"
   ],
   "metadata": {
    "collapsed": false,
    "pycharm": {
     "name": "#%%\n"
    }
   }
  },
  {
   "cell_type": "code",
   "execution_count": null,
   "outputs": [],
   "source": [
    "returns.head(10)"
   ],
   "metadata": {
    "collapsed": false,
    "pycharm": {
     "name": "#%%\n"
    }
   }
  },
  {
   "cell_type": "code",
   "execution_count": null,
   "outputs": [],
   "source": [
    "rolling = RollingModel(rolling_window=200, data=returns, demean=True)\n",
    "rolling.estimate(config=config, RIC=rics_list[7])\n",
    "rolling.plot_resids()"
   ],
   "metadata": {
    "collapsed": false,
    "pycharm": {
     "name": "#%%\n"
    }
   }
  },
  {
   "cell_type": "code",
   "execution_count": null,
   "outputs": [],
   "source": [
    "rolling.eig_vecs['2011-07-07']"
   ],
   "metadata": {
    "collapsed": false,
    "pycharm": {
     "name": "#%%\n"
    }
   }
  },
  {
   "cell_type": "code",
   "execution_count": null,
   "outputs": [],
   "source": [
    "origin = np.array([[0, 0, 0],[0, 0, 0]]) # origin point\n",
    "for date, vectors in rolling.eig_vecs.items():\n",
    "    plt.quiver(*origin, vectors[:,0], scale=21)\n",
    "\n",
    "plt.show()"
   ],
   "metadata": {
    "collapsed": false,
    "pycharm": {
     "name": "#%%\n"
    }
   }
  },
  {
   "cell_type": "code",
   "execution_count": null,
   "id": "13e7a45f",
   "metadata": {},
   "outputs": [],
   "source": []
  }
 ],
 "metadata": {
  "kernelspec": {
   "display_name": "Python 3 (ipykernel)",
   "language": "python",
   "name": "python3"
  },
  "language_info": {
   "codemirror_mode": {
    "name": "ipython",
    "version": 3
   },
   "file_extension": ".py",
   "mimetype": "text/x-python",
   "name": "python",
   "nbconvert_exporter": "python",
   "pygments_lexer": "ipython3",
   "version": "3.9.7"
  }
 },
 "nbformat": 4,
 "nbformat_minor": 5
}
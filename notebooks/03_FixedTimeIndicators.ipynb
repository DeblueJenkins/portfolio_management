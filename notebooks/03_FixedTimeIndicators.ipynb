{
 "cells": [
  {
   "cell_type": "code",
   "execution_count": 1,
   "metadata": {
    "collapsed": true,
    "ExecuteTime": {
     "end_time": "2024-09-20T15:14:10.756860800Z",
     "start_time": "2024-09-20T15:14:09.211407300Z"
    }
   },
   "outputs": [],
   "source": [
    "from models.data.source import Eikon, load_fed_rates_from_excel\n",
    "\n",
    "PATH_API_KEYS = r'C:\\Users\\serge\\OneDrive\\reuters\\apikeys.csv'\n",
    "\n",
    "\n",
    "api = Eikon(PATH_API_KEYS)"
   ]
  },
  {
   "cell_type": "code",
   "execution_count": null,
   "outputs": [],
   "source": [
    "_field_industry = 'TR.GICSSector'\n",
    "_field_region = 'TR.HeadquartersCountry'\n",
    "_fields = [_field_region, _field_industry]"
   ],
   "metadata": {
    "collapsed": false,
    "ExecuteTime": {
     "start_time": "2024-09-20T15:17:23.523732Z"
    }
   }
  },
  {
   "cell_type": "code",
   "execution_count": 3,
   "outputs": [],
   "source": [
    "indices = [\n",
    "    # '.ATX', # Austria\n",
    "    # '.FCHI', # France\n",
    "    # '.GDAXI', # Germany\n",
    "    # '.BFX', # Belgium\n",
    "    # '.CRBEX', # Croatia\n",
    "    # '.BUX', # Hungary\n",
    "    # '.WIG20', # Poland\n",
    "    # '.IBEX', # Spain\n",
    "    # '.SETI', # Thailand\n",
    "    # '.STI', # Singapore\n",
    "    # '.KLSE', # Malaysia\n",
    "    # '.NSEI', # India\n",
    "    # '.HSI', # Hong-Kong\n",
    "    # '.EGX30', # Egypt\n",
    "    # '.JSEJ.J', # South Africa\n",
    "    '.SPX', # US\n",
    "]"
   ],
   "metadata": {
    "collapsed": false,
    "ExecuteTime": {
     "end_time": "2024-09-20T15:14:10.806270900Z",
     "start_time": "2024-09-20T15:14:10.776272Z"
    }
   }
  },
  {
   "cell_type": "code",
   "execution_count": 4,
   "outputs": [
    {
     "name": "stdout",
     "output_type": "stream",
     "text": [
      "Retrieved 5.12164568901062\n",
      "Retrieved 19.864180088043213\n",
      "Retrieved 20.90695810317993\n",
      "Retrieved 20.924131631851196\n",
      "Retrieved 19.727331161499023\n",
      "Retrieved 7.1753010749816895\n",
      "Retrieved 21.403401851654053\n",
      "Retrieved 19.668368339538574\n",
      "'Constituent RIC'\n",
      "Retrieved 22.728971481323242\n",
      "Retrieved 6.534539699554443\n",
      "Retrieved 6.858412504196167\n",
      "Retrieved 0.5746157169342041\n",
      "Retrieved 8.064605712890625\n",
      "Retrieved 5.0399391651153564\n",
      "Retrieved 5.1549224853515625\n",
      "'Constituent RIC'\n",
      "Retrieved 2.8700098991394043\n"
     ]
    }
   ],
   "source": [
    "constituents = {}\n",
    "for ind in indices:\n",
    "    try:\n",
    "        constituents[ind] = api.get_index_constituents(ind, date='20240915')\n",
    "    except Exception as e:\n",
    "        print(e)\n",
    "        continue"
   ],
   "metadata": {
    "collapsed": false,
    "ExecuteTime": {
     "end_time": "2024-09-20T15:17:23.465832400Z",
     "start_time": "2024-09-20T15:14:10.794958700Z"
    }
   }
  },
  {
   "cell_type": "code",
   "execution_count": 15,
   "outputs": [],
   "source": [
    "_instruments = []\n",
    "for k,v in constituents.items():\n",
    "    _instruments += v\n",
    "_instruments = [x for x in _instruments if isinstance(x, str)]"
   ],
   "metadata": {
    "collapsed": false,
    "ExecuteTime": {
     "end_time": "2024-09-20T15:25:56.741048600Z",
     "start_time": "2024-09-20T15:25:56.716400300Z"
    }
   }
  },
  {
   "cell_type": "code",
   "execution_count": 16,
   "outputs": [
    {
     "data": {
      "text/plain": "['TR.HeadquartersCountry', 'TR.GICSSector']"
     },
     "execution_count": 16,
     "metadata": {},
     "output_type": "execute_result"
    }
   ],
   "source": [
    "_fields"
   ],
   "metadata": {
    "collapsed": false,
    "ExecuteTime": {
     "end_time": "2024-09-20T15:25:58.184222900Z",
     "start_time": "2024-09-20T15:25:58.156596400Z"
    }
   }
  },
  {
   "cell_type": "code",
   "execution_count": 19,
   "outputs": [
    {
     "data": {
      "text/plain": "     Instrument Country of Headquarters GICS Sector Name\n0       BAWG.VI                 Austria       Financials\n1       CAIV.VI                 Austria      Real Estate\n2       RBIV.VI                 Austria       Financials\n3       WBSV.VI                 Austria        Materials\n4       SBOE.VI                 Austria           Energy\n...         ...                     ...              ...\n1034    CIEB.CA                   Egypt       Financials\n1035    ABUK.CA                   Egypt        Materials\n1036    TMGH.CA                   Egypt      Real Estate\n1037    CLHO.CA                   Egypt      Health Care\n1038    EMFD.CA                   Egypt      Real Estate\n\n[1039 rows x 3 columns]",
      "text/html": "<div>\n<style scoped>\n    .dataframe tbody tr th:only-of-type {\n        vertical-align: middle;\n    }\n\n    .dataframe tbody tr th {\n        vertical-align: top;\n    }\n\n    .dataframe thead th {\n        text-align: right;\n    }\n</style>\n<table border=\"1\" class=\"dataframe\">\n  <thead>\n    <tr style=\"text-align: right;\">\n      <th></th>\n      <th>Instrument</th>\n      <th>Country of Headquarters</th>\n      <th>GICS Sector Name</th>\n    </tr>\n  </thead>\n  <tbody>\n    <tr>\n      <th>0</th>\n      <td>BAWG.VI</td>\n      <td>Austria</td>\n      <td>Financials</td>\n    </tr>\n    <tr>\n      <th>1</th>\n      <td>CAIV.VI</td>\n      <td>Austria</td>\n      <td>Real Estate</td>\n    </tr>\n    <tr>\n      <th>2</th>\n      <td>RBIV.VI</td>\n      <td>Austria</td>\n      <td>Financials</td>\n    </tr>\n    <tr>\n      <th>3</th>\n      <td>WBSV.VI</td>\n      <td>Austria</td>\n      <td>Materials</td>\n    </tr>\n    <tr>\n      <th>4</th>\n      <td>SBOE.VI</td>\n      <td>Austria</td>\n      <td>Energy</td>\n    </tr>\n    <tr>\n      <th>...</th>\n      <td>...</td>\n      <td>...</td>\n      <td>...</td>\n    </tr>\n    <tr>\n      <th>1034</th>\n      <td>CIEB.CA</td>\n      <td>Egypt</td>\n      <td>Financials</td>\n    </tr>\n    <tr>\n      <th>1035</th>\n      <td>ABUK.CA</td>\n      <td>Egypt</td>\n      <td>Materials</td>\n    </tr>\n    <tr>\n      <th>1036</th>\n      <td>TMGH.CA</td>\n      <td>Egypt</td>\n      <td>Real Estate</td>\n    </tr>\n    <tr>\n      <th>1037</th>\n      <td>CLHO.CA</td>\n      <td>Egypt</td>\n      <td>Health Care</td>\n    </tr>\n    <tr>\n      <th>1038</th>\n      <td>EMFD.CA</td>\n      <td>Egypt</td>\n      <td>Real Estate</td>\n    </tr>\n  </tbody>\n</table>\n<p>1039 rows × 3 columns</p>\n</div>"
     },
     "execution_count": 19,
     "metadata": {},
     "output_type": "execute_result"
    }
   ],
   "source": [
    "api.api.get_data(instruments=_instruments, fields=_fields)[0]"
   ],
   "metadata": {
    "collapsed": false,
    "ExecuteTime": {
     "end_time": "2024-09-20T15:39:14.326106200Z",
     "start_time": "2024-09-20T15:39:13.100145400Z"
    }
   }
  },
  {
   "cell_type": "code",
   "execution_count": 7,
   "outputs": [
    {
     "data": {
      "text/plain": "{'.ATX': ['BAWG.VI',\n  'CAIV.VI',\n  'RBIV.VI',\n  'WBSV.VI',\n  'SBOE.VI',\n  'UNIQ.VI',\n  'EVNV.VI',\n  'ERST.VI',\n  'TELA.VI',\n  'POST.VI',\n  'VIGR.VI',\n  'VOES.VI',\n  'DOCO.VI',\n  'ATSV.VI',\n  'IMFI.VI',\n  'VERB.VI',\n  'OMVV.VI',\n  'LENV.VI',\n  'ANDR.VI',\n  'MMKV.VI'],\n '.FCHI': ['MICP.PA',\n  'LEGD.PA',\n  'BNPP.PA',\n  'MT.AS',\n  'PUBP.PA',\n  'BOUY.PA',\n  'VIE.PA',\n  'EDEN.PA',\n  'PRTP.PA',\n  'LVMH.PA',\n  'AXAF.PA',\n  'CAGR.PA',\n  'SOGN.PA',\n  'SCHN.PA',\n  'SASY.PA',\n  'RENA.PA',\n  'ENGIE.PA',\n  'TEPRF.PA',\n  'SAF.PA',\n  'ACCP.PA',\n  'HRMS.PA',\n  'DAST.PA',\n  'TTEF.PA',\n  'ESLX.PA',\n  'PERP.PA',\n  'VIV.PA',\n  'SGEF.PA',\n  'ORAN.PA',\n  'CAPP.PA',\n  'AIR.PA',\n  'EUFI.PA',\n  'URW.PA',\n  'AIRP.PA',\n  'STLAM.PA',\n  'STMPA.PA',\n  'OREP.PA',\n  'SGOB.PA',\n  'CARR.PA',\n  'TCFP.PA',\n  'DANO.PA'],\n '.GDAXI': ['BASFn.DE',\n  'IFXGn.DE',\n  'SIEGn.DE',\n  'EONGn.DE',\n  'DBKGn.DE',\n  'SATG_p.DE',\n  'SAPG.DE',\n  'BAYGn.DE',\n  'RWEG.DE',\n  '1COV.DE',\n  'HNKG_p.DE',\n  'ZALG.DE',\n  'DTEGn.DE',\n  'MRCG.DE',\n  'PSHG_p.DE',\n  'VOWG_p.DE',\n  'BMWG.DE',\n  'BEIG.DE',\n  'HEIG.DE',\n  'RHMG.DE',\n  'MTXGn.DE',\n  'FREG.DE',\n  'DHLn.DE',\n  'ALVG.DE',\n  'MUVGn.DE',\n  'CONG.DE',\n  'SHLG.DE',\n  'SY1G.DE',\n  'ADSGn.DE',\n  'HNRGn.DE',\n  'DTGGe.DE',\n  'ENR1n.DE',\n  'MBGn.DE',\n  'BNRGn.DE',\n  'CBKG.DE',\n  'AIRG.DE',\n  'VNAn.DE',\n  'DB1Gn.DE',\n  'QIA.DE',\n  'P911_p.DE'],\n '.BFX': ['SOLB.BR',\n  'ACKB.BR',\n  'SYENS.BR',\n  'ARGX.BR',\n  'ELI.BR',\n  'WDPP.BR',\n  'AOO.BR',\n  'MLXS.BR',\n  'GBLB.BR',\n  'AGES.BR',\n  'IETB.BR',\n  'COFB.BR',\n  'GLPG.AS',\n  'UMI.BR',\n  'AZE.BR',\n  'LOTB.BR',\n  'ABI.BR',\n  'SOF.BR',\n  'KBC.BR',\n  'UCB.BR'],\n '.CRBEX': ['HT.ZA',\n  'DLKV.ZA',\n  'ERNT.ZA',\n  'ADPL.ZA',\n  'ZBB.ZA',\n  'RIVP.ZA',\n  'VLEN.ZA',\n  'KODT.ZA',\n  'LAGP.ZA',\n  'MAIS.ZA',\n  'ATPL.ZA',\n  'PODR.ZA',\n  'ADGR_p.ZA',\n  'HPBZ.ZA',\n  'ULPL.ZA',\n  'KONL.ZA',\n  'CKML.ZA',\n  'INGR.ZA',\n  'ATGR.ZA',\n  'AREN.ZA',\n  'SPAN.ZA'],\n '.BUX': ['IGNY.BU',\n  'ALTS.BU',\n  'ANYB.BU',\n  'APPB.BU',\n  'AUTW.BU',\n  'BIFR.BU',\n  'CIGP.BU',\n  'DELTA.BU',\n  'GSPA.BU',\n  'MTEL.BU',\n  'MAST.BU',\n  'MOLB.BU',\n  'OPUSG.BU',\n  'OTPB.BU',\n  'PANP.BU',\n  'GDRB.BU',\n  'WABE.BU'],\n '.WIG20': ['KTY.WA',\n  'CDR.WA',\n  'ALEP.WA',\n  'KGH.WA',\n  'MBK.WA',\n  'ALRR.WA',\n  'OPL.WA',\n  'CPS.WA',\n  'PCOP.WA',\n  'PKN.WA',\n  'SPL1.WA',\n  'PEO.WA',\n  'PZU.WA',\n  'JSW.WA',\n  'KRU.WA',\n  'PGE.WA',\n  'BDXP.WA',\n  'PKO.WA',\n  'DNP.WA',\n  'LPPP.WA'],\n '.SETI': ['SPC.BK',\n  'TCC.BK',\n  'TPP.BK',\n  'KCG.BK',\n  'BEC.BK',\n  'LEE.BK',\n  'WICE.BK',\n  'EVER.BK',\n  'CM.BK',\n  'TNITY.BK',\n  'GLOCON.BK',\n  'SCC.BK',\n  'SKE.BK',\n  'MCOT.BK',\n  'SEAFCO.BK',\n  'S11.BK',\n  'HANA.BK',\n  'BCT.BK',\n  'TIPH.BK',\n  'AURA.BK',\n  'FPT.BK',\n  'PLANB.BK',\n  'CKP.BK',\n  'AJA.BK',\n  'AAV.BK',\n  'DIFu.BK',\n  'CMAN.BK',\n  'RSP.BK',\n  'KTC.BK',\n  'OSP.BK',\n  'GULF.BK',\n  'SAUCE.BK',\n  'EASTW.BK',\n  'TSC.BK',\n  'SCGP.BK',\n  'ACG.BK',\n  'CRANE.BK',\n  'SJWD.BK',\n  'VIH.BK',\n  'INETREITu.BK',\n  'CWT.BK',\n  'ILINK.BK',\n  'MICRO.BK',\n  'SST.BK',\n  'DTCI.BK',\n  'SSPFu.BK',\n  'PTT.BK',\n  'PAF.BK',\n  'ETC.BK',\n  'LNE.BK',\n  'SUPEREIFu.BK',\n  'SSF.BK',\n  'SAMTEL.BK',\n  'PLUS.BK',\n  'PTL.BK',\n  'M.BK',\n  'MENA.BK',\n  'SIS.BK',\n  'TRU.BK',\n  'ORI.BK',\n  'SC.BK',\n  'FE.BK',\n  'PRIME.BK',\n  'TVH.BK',\n  'ETL.BK',\n  'SCM.BK',\n  'ERW.BK',\n  'CPNCGu.BK',\n  'QTC.BK',\n  'TPOLY.BK',\n  'QHOPu.BK',\n  'ANAN.BK',\n  'SCAP.BK',\n  'KPNPFu.BK',\n  'PRAKIT.BK',\n  'NL.BK',\n  'WP.BK',\n  'AS.BK',\n  'PQS.BK',\n  'AYUD.BK',\n  'RT.BK',\n  'TEKA.BK',\n  '3BBIFu.BK',\n  'TPIPL.BK',\n  'STI.BK',\n  'CIVIL.BK',\n  'BLAND.BK',\n  'SIAM.BK',\n  'Q-CON.BK',\n  'TK.BK',\n  'MALEE.BK',\n  'DUSIT.BK',\n  'ASW.BK',\n  'SSSC.BK',\n  'TSI.BK',\n  'ADVANC.BK',\n  'SM.BK',\n  'MDX.BK',\n  'RML.BK',\n  'TTW.BK',\n  'AMATA.BK',\n  'TPBI.BK',\n  'UBE.BK',\n  'MK.BK',\n  'BR.BK',\n  'SPALI.BK',\n  'BH.BK',\n  'QHPFu.BK',\n  'MEGA.BK',\n  'SPI.BK',\n  'GENCO.BK',\n  'BBGI.BK',\n  'PROUD.BK',\n  'MNRFu.BK',\n  'TOP.BK',\n  'VPO.BK',\n  'SNNP.BK',\n  'POLY.BK',\n  'BKGI.BK',\n  'IRPC.BK',\n  'JCT.BK',\n  'BGC.BK',\n  'TQM.BK',\n  'LRH.BK',\n  'TR.BK',\n  'TFG.BK',\n  'COCOCO.BK',\n  'PYLON.BK',\n  'WHA.BK',\n  'MILL.BK',\n  'PB.BK',\n  'KSL.BK',\n  'SENA.BK',\n  'AE.BK',\n  'ASP.BK',\n  'IP.BK',\n  'SAWAD.BK',\n  'AIE.BK',\n  'SRICHA.BK',\n  'CHAYO.BK',\n  'WAVE.BK',\n  'UVAN.BK',\n  'BWG.BK',\n  'SAFE.BK',\n  'NEW.BK',\n  'SMIT.BK',\n  'BSRC.BK',\n  'APCS.BK',\n  'PCSGH.BK',\n  'SCI.BK',\n  'WACOAL.BK',\n  'DITTO.BK',\n  'MAJOR.BK',\n  'MIDA.BK',\n  'THE.BK',\n  'CPF.BK',\n  'SKY.BK',\n  'FM.BK',\n  'TASCO.BK',\n  'MOSHI.BK',\n  'PDJ.BK',\n  'SPCG.BK',\n  'AMR.BK',\n  'ALLA.BK',\n  'NATION.BK',\n  'ASEFA.BK',\n  'TIPCO.BK',\n  'EMC.BK',\n  'CSP.BK',\n  'ASAP.BK',\n  'POPFu.BK',\n  'SE.BK',\n  'PM.BK',\n  'AEONTS.BK',\n  'NVD.BK',\n  'PTG.BK',\n  'KUN.BK',\n  'TTB.BK',\n  'AFC.BK',\n  'IRC.BK',\n  'INGRS.BK',\n  'TCAP.BK',\n  'UTP.BK',\n  'KDH.BK',\n  'CPTGFu.BK',\n  'SAT.BK',\n  'AIMCGu.BK',\n  'AAI.BK',\n  'SIRI.BK',\n  'TVO.BK',\n  'MINT.BK',\n  'TTI.BK',\n  'BIG.BK',\n  'TU.BK',\n  'GREEN.BK',\n  'NCAP.BK',\n  'TSE.BK',\n  'GFPT.BK',\n  'MTI.BK',\n  'UAC.BK',\n  'STECH.BK',\n  'ROCK.BK',\n  'TYCN.BK',\n  'TC.BK',\n  'RABBIT.BK',\n  'SMPC.BK',\n  'SNC.BK',\n  'HUMAN.BK',\n  'NSL.BK',\n  'MNIT2u.BK',\n  'PAP.BK',\n  'AQUA.BK',\n  'TKT.BK',\n  'UMI.BK',\n  'GRAMMY.BK',\n  'SPACK.BK',\n  'JAS.BK',\n  'KISS.BK',\n  'KBANK.BK',\n  'SUC.BK',\n  'TOPP.BK',\n  'DEMCO.BK',\n  'CI.BK',\n  'TRUBB.BK',\n  'CK.BK',\n  'WFX.BK',\n  'BYD.BK',\n  'EP.BK',\n  'BKD.BK',\n  'STEC.BK',\n  'BCH.BK',\n  'JTS.BK',\n  'TFI.BK',\n  'BAREITu.BK',\n  'TTLPFu.BK',\n  'RATCH.BK',\n  'AI.BK',\n  'S.BK',\n  'FNS.BK',\n  'THG.BK',\n  'KWI.BK',\n  'SE-ED.BK',\n  'WIIK.BK',\n  'MODERN.BK',\n  'TWPC.BK',\n  'EPG.BK',\n  'PPP.BK',\n  'M-PATu.BK',\n  'TTCL.BK',\n  'JCK.BK',\n  'MST.BK',\n  'BSBM.BK',\n  'PATO.BK',\n  'OCC.BK',\n  'UPF.BK',\n  'BTSGIFu.BK',\n  'PF.BK',\n  'TGH.BK',\n  'PT.BK',\n  'NKI.BK',\n  'BUI.BK',\n  'PTTEP.BK',\n  'SAMCO.BK',\n  'TNR.BK',\n  'SVI.BK',\n  'DREITu.BK',\n  'LHFG.BK',\n  'CREDIT.BK',\n  'SKN.BK',\n  'DTCENT.BK',\n  'SITHAI.BK',\n  'INET.BK',\n  'AMARIN.BK',\n  'KYE.BK',\n  'APCO.BK',\n  'SRIPANWAu.BK',\n  'BTS.BK',\n  'BRR.BK',\n  'CCP.BK',\n  'SAK.BK',\n  'SCGD.BK',\n  'EA.BK',\n  'TOA.BK',\n  'BCPG.BK',\n  'ITC.BK',\n  'SPRIMEu.BK',\n  'BAY.BK',\n  'SCP.BK',\n  'VARO.BK',\n  'TGE.BK',\n  'CRC.BK',\n  'SMT.BK',\n  'UV.BK',\n  'GABLE.BK',\n  'PROSPECTu.BK',\n  'WPH.BK',\n  'MFEC.BK',\n  'STA.BK',\n  'THANI.BK',\n  'OGC.BK',\n  'BAM.BK',\n  'TCOAT.BK',\n  'LPN.BK',\n  'ONEE.BK',\n  'SPA.BK',\n  'UNIQ.BK',\n  'NYT.BK',\n  'AGE.BK',\n  'SPG.BK',\n  'KKP.BK',\n  'GROREITu.BK',\n  'SINO.BK',\n  'SUSCO.BK',\n  'SCN.BK',\n  'FND.BK',\n  'MFC.BK',\n  'PSP.BK',\n  'NV.BK',\n  'PSL.BK',\n  'PERM.BK',\n  'LHPFu.BK',\n  'QHHRREITu.BK',\n  'TKC.BK',\n  'AMANAH.BK',\n  'LOXLEY.BK',\n  'SHANG.BK',\n  'PCE.BK',\n  'CHAO.BK',\n  'PSH.BK',\n  'RBF.BK',\n  'EGATIFu.BK',\n  'LHK.BK',\n  'SUTHA.BK',\n  'TMT.BK',\n  'PR9.BK',\n  'ICC.BK',\n  'B-WORKu.BK',\n  'BEAUTY.BK',\n  'CCET.BK',\n  'SLP.BK',\n  'NER.BK',\n  'TFFIFu.BK',\n  'ASIA.BK',\n  'TAE.BK',\n  'TWP.BK',\n  'ANI.BK',\n  'BAFS.BK',\n  'PCC.BK',\n  'SKR.BK',\n  'RJH.BK',\n  'ASIMAR.BK',\n  'INTUCH.BK',\n  'OHTL.BK',\n  'TTT.BK',\n  'THREL.BK',\n  'TGPRO.BK',\n  '2S.BK',\n  'CPN.BK',\n  'CEN.BK',\n  'MITu.BK',\n  'LUXFu.BK',\n  'TEAMG.BK',\n  'GIFT.BK',\n  'TRC.BK',\n  'COM7.BK',\n  'THRE.BK',\n  'CHASE.BK',\n  'CGH.BK',\n  'ROH.BK',\n  'B52.BK',\n  'ROCTEC.BK',\n  'STGT.BK',\n  'M-STORu.BK',\n  'TMD.BK',\n  'GBX.BK',\n  'DCC.BK',\n  'KAMART.BK',\n  'PK.BK',\n  'AP.BK',\n  'HTECH.BK',\n  'AIT.BK',\n  'ECL.BK',\n  'GC.BK',\n  'TH.BK',\n  'SABINA.BK',\n  'SHR.BK',\n  'CENTEL.BK',\n  'SNJ.BK',\n  'TPCS.BK',\n  'STPI.BK',\n  'TNL.BK',\n  'SCG.BK',\n  'NFC.BK',\n  'SINGER.BK',\n  'LST.BK',\n  'BLC.BK',\n  'HPFu.BK',\n  'SIRIPu.BK',\n  'HFT.BK',\n  'TIF1u.BK',\n  'BTNC.BK',\n  'PRM.BK',\n  'SAMART.BK',\n  'SUN.BK',\n  'TKS.BK',\n  'BCP.BK',\n  'GJS.BK',\n  'SPREME.BK',\n  'ITEL.BK',\n  'SQ.BK',\n  'CPNREITu.BK',\n  'PTTGC.BK',\n  'GRAND.BK',\n  'MGC.BK',\n  'BDMS.BK',\n  'PL.BK',\n  'BGRIM.BK',\n  'KBSPIFu.BK',\n  'MATCH.BK',\n  'SGP.BK',\n  'FTREITu.BK',\n  'KTIS.BK',\n  'ZEN.BK',\n  'MBK.BK',\n  'EE.BK',\n  'CPT.BK',\n  'LHHOTELu.BK',\n  'GAHREITu.BK',\n  'DMT.BK',\n  'INSURE.BK',\n  'ZAA.BK',\n  'JMT.BK',\n  'MC.BK',\n  'AOT.BK',\n  'PEACE.BK',\n  'SSTRTu.BK',\n  'CV.BK',\n  'BKIH.BK',\n  'QH.BK',\n  'AMATARu.BK',\n  'TPAC.BK',\n  'AWC.BK',\n  'JMART.BK',\n  'SO.BK',\n  'WHAUP.BK',\n  'TPIPP.BK',\n  'ICN.BK',\n  'SFLEX.BK',\n  'MNITu.BK',\n  'NEO.BK',\n  'CHOTI.BK',\n  'TKN.BK',\n  'AJ.BK',\n  'SAWANG.BK',\n  'ILM.BK',\n  'BEM.BK',\n  'WINDOW.BK',\n  'THIP.BK',\n  'TLHPFu.BK',\n  'ROJNA.BK',\n  'IVL.BK',\n  'CBG.BK',\n  'EKH.BK',\n  'PTECH.BK',\n  'KBS.BK',\n  'PLE.BK',\n  'CSS.BK',\n  'DRT.BK',\n  'OR.BK',\n  'FN.BK',\n  'GVREITu.BK',\n  'UOBKH.BK',\n  'CPAXTT.BK',\n  'TOG.BK',\n  'PRINC.BK',\n  'RICHY.BK',\n  'SEAOIL.BK',\n  'PPPM.BK',\n  'GUNKUL.BK',\n  'GEL.BK',\n  'III.BK',\n  'LANNA.BK',\n  'EGCO.BK',\n  'LH.BK',\n  'IFS.BK',\n  'FUTUREPFu.BK',\n  'SABUY.BK',\n  'AMATAV.BK',\n  'ACE.BK',\n  'BKKCPu.BK',\n  'PIN.BK',\n  'THCOM.BK',\n  'PRECHA.BK',\n  'CPI.BK',\n  'TAN.BK',\n  'SSP.BK',\n  'CTW.BK',\n  'DDD.BK',\n  'CTARAFu.BK',\n  'MONO.BK',\n  'KCAR.BK',\n  'SORKON.BK',\n  'SAPPE.BK',\n  'RAM.BK',\n  'LALIN.BK',\n  'ALUCON.BK',\n  'BJCHI.BK',\n  'SISB.BK',\n  'W.BK',\n  'TTA.BK',\n  'MTC.BK',\n  'SGC.BK',\n  'AIMIRTu.BK',\n  'ICHI.BK',\n  'M-CHAI.BK',\n  'PREB.BK',\n  'INOX.BK',\n  'CPL.BK',\n  'HMPRO.BK',\n  'WIN.BK',\n  'FSX.BK',\n  'JR.BK',\n  'CFRESH.BK',\n  'BBL.BK',\n  'NTV.BK',\n  'CMR.BK',\n  'ADVICE.BK',\n  'NC.BK',\n  'SUPER.BK',\n  'CPALL.BK',\n  'DCON.BK',\n  'KTB.BK',\n  'NEP.BK',\n  'BIOTEC.BK',\n  'BEYOND.BK',\n  'KTBSTMRu.BK',\n  'TSTH.BK',\n  'GYT.BK',\n  'SYMC.BK',\n  'MANRIN.BK',\n  'MCS.BK',\n  'NOVA.BK',\n  'ORN.BK',\n  'AKR.BK',\n  'KWC.BK',\n  'BROCK.BK',\n  'PG.BK',\n  'ACC.BK',\n  'CHG.BK',\n  'J.BK',\n  'IMPACTu.BK',\n  'TEAM.BK',\n  'PRIN.BK',\n  'SYNTEC.BK',\n  'MATI.BK',\n  'NEX.BK',\n  'GLAND.BK',\n  'EASON.BK',\n  'TCMC.BK',\n  'SA.BK',\n  'NWR.BK',\n  'LHSCu.BK',\n  'IHL.BK',\n  'NRF.BK',\n  'RPC.BK',\n  'XPG.BK',\n  'PMTA.BK',\n  'TLI.BK',\n  'TCJ.BK',\n  'SYNEX.BK',\n  'MJD.BK',\n  'SVT.BK',\n  'SOLAR.BK',\n  'APURE.BK',\n  'KCE.BK',\n  'TIDLOR.BK',\n  'METCO.BK',\n  'VRANDA.BK',\n  'PJW.BK',\n  'TSTE.BK',\n  'BLA.BK',\n  'ML.BK',\n  'KEX.BK',\n  'ALT.BK',\n  'TEGH.BK',\n  'WHARTu.BK',\n  'GGC.BK',\n  'JDF.BK',\n  'WGE.BK',\n  'M-IIu.BK',\n  'INSET.BK',\n  'MSC.BK',\n  'UP.BK',\n  'ESTAR.BK',\n  'RCL.BK',\n  'PRTR.BK',\n  'BOFFICEu.BK',\n  'SDC.BK',\n  'KIAT.BK',\n  'NAM.BK',\n  'SBNEXT.BK',\n  'TISCO.BK',\n  'PORT.BK',\n  'B.BK',\n  'HTC.BK',\n  'CNT.BK',\n  'ASIAN.BK',\n  'CSC.BK',\n  'SSC.BK',\n  'IT.BK',\n  'SAV.BK',\n  'TWZ.BK',\n  'FANCY.BK',\n  'PHG.BK',\n  'FTI.BK',\n  'WORK.BK',\n  'RS.BK',\n  'BRI.BK',\n  'AH.BK',\n  'DELTA.BK',\n  'CITY.BK',\n  'NNCL.BK',\n  'TPA.BK',\n  'DOHOME.BK',\n  'BIZ.BK',\n  'SCCC.BK',\n  'TFMAMA.BK',\n  'NCH.BK',\n  'TFM.BK',\n  'TPRIMEu.BK',\n  'AMC.BK',\n  'FMT.BK',\n  'SCB.BK',\n  'CPW.BK',\n  'VGI.BK',\n  'NUSA.BK',\n  'GPSC.BK',\n  'VNG.BK',\n  'TRUE.BK',\n  'KGI.BK',\n  'UPOIC.BK',\n  'TNPC.BK',\n  'BANPU.BK',\n  'CIMBT.BK',\n  'SVOA.BK',\n  '3K-BAT.BK',\n  'CMC.BK',\n  'PLAT.BK',\n  'BA.BK',\n  'BRRGIFu.BK',\n  'TRITN.BK',\n  'RPH.BK',\n  'WHAIRu.BK',\n  'BTG.BK',\n  'TNPFu.BK',\n  'BJC.BK',\n  'MJLFu.BK',\n  'HYDROGENu.BK',\n  'FTE.BK',\n  'HENG.BK',\n  'GLOBAL.BK',\n  'SNP.BK',\n  'ITD.BK',\n  'VIBHA.BK',\n  'ASK.BK',\n  'STANLY.BK',\n  'KC.BK',\n  'MIPFu.BK',\n  'WHABTu.BK',\n  'SPRC.BK',\n  'TU-PFu.BK',\n  'ALLYu.BK',\n  'BPP.BK',\n  'AKS.BK',\n  'A.BK',\n  'NOBLE.BK',\n  'CHARAN.BK',\n  'GPI.BK',\n  'PRG.BK',\n  'LPH.BK',\n  'CGD.BK',\n  'AHC.BK',\n  'CSR.BK',\n  'CPH.BK',\n  'CH.BK',\n  'LPFu.BK',\n  'FORTH.BK'],\n '.STI': ['YAZG.SI',\n  'SGXL.SI',\n  'TBEV.SI',\n  'DBSM.SI',\n  'GENS.SI',\n  'CAPD.SI',\n  'CMLT.SI',\n  'JCYC.SI',\n  'DFIR.SI',\n  'KPLM.SI',\n  'UOBH.SI',\n  'SATS.SI',\n  'CTDM.SI',\n  'OCBC.SI',\n  'MACT.SI',\n  'SCIL.SI',\n  'MAPL.SI',\n  'JARD.SI',\n  'STEL.SI',\n  'HKLD.SI',\n  'FRAE.SI',\n  'CAPN.SI',\n  'UTOS.SI',\n  'STEG.SI',\n  'WLIL.SI',\n  'VENM.SI',\n  'MAPI.SI',\n  'FCRT.SI',\n  'SEAT.SI',\n  'SIAL.SI'],\n '.KLSE': ['KLKK.KL',\n  'MRDI.KL',\n  'PETR.KL',\n  'TENA.KL',\n  'SWAY.KL',\n  'SIME.KL',\n  'CELC.KL',\n  'HLBB.KL',\n  'TLMM.KL',\n  'IHHH.KL',\n  'PUBM.KL',\n  'MXSC.KL',\n  'YTLP.KL',\n  'PGAS.KL',\n  'CIMB.KL',\n  'NESM.KL',\n  'GENT.KL',\n  'AXIA.KL',\n  'PEPT.KL',\n  'MBBM.KL',\n  'SDGU.KL',\n  'MISC.KL',\n  'YTLS.KL',\n  'QRES.KL',\n  'HLCB.KL',\n  'PCGB.KL',\n  'IOIB.KL',\n  'RHBC.KL',\n  'GENM.KL',\n  'PMET.KL'],\n '.NSEI': [<NA>],\n '.HSI': ['2688.HK',\n  '2388.HK',\n  '2318.HK',\n  '9618.HK',\n  '0941.HK',\n  '9999.HK',\n  '2331.HK',\n  '0175.HK',\n  '6618.HK',\n  '0002.HK',\n  '0388.HK',\n  '0003.HK',\n  '9988.HK',\n  '1113.HK',\n  '0968.HK',\n  '1099.HK',\n  '0011.HK',\n  '2269.HK',\n  '0001.HK',\n  '0688.HK',\n  '6862.HK',\n  '0017.HK',\n  '9633.HK',\n  '0291.HK',\n  '0960.HK',\n  '1929.HK',\n  '9961.HK',\n  '1398.HK',\n  '1109.HK',\n  '2319.HK',\n  '3968.HK',\n  '0241.HK',\n  '2899.HK',\n  '0288.HK',\n  '2359.HK',\n  '1876.HK',\n  '2015.HK',\n  '0285.HK',\n  '1209.HK',\n  '1093.HK',\n  '0386.HK',\n  '0669.HK',\n  '0981.HK',\n  '1299.HK',\n  '0836.HK',\n  '3690.HK',\n  '6690.HK',\n  '0316.HK',\n  '0762.HK',\n  '0868.HK',\n  '1378.HK',\n  '0881.HK',\n  '0700.HK',\n  '1088.HK',\n  '2628.HK',\n  '1038.HK',\n  '1211.HK',\n  '1928.HK',\n  '1997.HK',\n  '0322.HK',\n  '0939.HK',\n  '2382.HK',\n  '2020.HK',\n  '0857.HK',\n  '0267.HK',\n  '0016.HK',\n  '0101.HK',\n  '1177.HK',\n  '1810.HK',\n  '3692.HK',\n  '0066.HK',\n  '2313.HK',\n  '0823.HK',\n  '0006.HK',\n  '9888.HK',\n  '1044.HK',\n  '0992.HK',\n  '3988.HK',\n  '0883.HK',\n  '0012.HK',\n  '0005.HK',\n  '0027.HK'],\n '.EGX30': ['BINV.CA',\n  'ETEL.CA',\n  'EKHOA.CA',\n  'MFPC.CA',\n  'MASR.CA',\n  'ORWE.CA',\n  'PHDC.CA',\n  'EKHO.CA',\n  'ALCN.CA',\n  'FWRY.CA',\n  'ESRS.CA',\n  'GBCO.CA',\n  'ADIB.CA',\n  'EFID.CA',\n  'FAIT.CA',\n  'BTFH.CA',\n  'AMOC.CA',\n  'EFIH.CA',\n  'HRHO.CA',\n  'SWDY.CA',\n  'EAST.CA',\n  'FAITA.CA',\n  'SKPC.CA',\n  'HELI.CA',\n  'ORAS.CA',\n  'COMI.CA',\n  'JUFO.CA',\n  'CIEB.CA',\n  'ABUK.CA',\n  'TMGH.CA',\n  'CLHO.CA',\n  'EMFD.CA'],\n '.SP500': [<NA>]}"
     },
     "execution_count": 7,
     "metadata": {},
     "output_type": "execute_result"
    }
   ],
   "source": [
    "constituents"
   ],
   "metadata": {
    "collapsed": false,
    "ExecuteTime": {
     "end_time": "2024-09-20T15:23:17.575865200Z",
     "start_time": "2024-09-20T15:23:17.527869600Z"
    }
   }
  },
  {
   "cell_type": "code",
   "execution_count": null,
   "outputs": [],
   "source": [],
   "metadata": {
    "collapsed": false
   }
  }
 ],
 "metadata": {
  "kernelspec": {
   "display_name": "Python 3",
   "language": "python",
   "name": "python3"
  },
  "language_info": {
   "codemirror_mode": {
    "name": "ipython",
    "version": 2
   },
   "file_extension": ".py",
   "mimetype": "text/x-python",
   "name": "python",
   "nbconvert_exporter": "python",
   "pygments_lexer": "ipython2",
   "version": "2.7.6"
  }
 },
 "nbformat": 4,
 "nbformat_minor": 0
}
